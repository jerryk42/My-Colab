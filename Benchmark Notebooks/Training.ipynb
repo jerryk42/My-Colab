{
  "nbformat": 4,
  "nbformat_minor": 0,
  "metadata": {
    "colab": {
      "provenance": [],
      "machine_shape": "hm",
      "gpuType": "L4",
      "authorship_tag": "ABX9TyMsj20ssGDhmLGl+2geVRaU",
      "include_colab_link": true
    },
    "kernelspec": {
      "name": "python3",
      "display_name": "Python 3"
    },
    "language_info": {
      "name": "python"
    },
    "accelerator": "GPU",
    "widgets": {
      "application/vnd.jupyter.widget-state+json": {
        "223286f02b0047b0a5af1936a3e6fa8e": {
          "model_module": "@jupyter-widgets/controls",
          "model_name": "HBoxModel",
          "model_module_version": "1.5.0",
          "state": {
            "_dom_classes": [],
            "_model_module": "@jupyter-widgets/controls",
            "_model_module_version": "1.5.0",
            "_model_name": "HBoxModel",
            "_view_count": null,
            "_view_module": "@jupyter-widgets/controls",
            "_view_module_version": "1.5.0",
            "_view_name": "HBoxView",
            "box_style": "",
            "children": [
              "IPY_MODEL_c7be00475eec4533a41f0266b31f2e4e",
              "IPY_MODEL_0a9d90e903db45dc995e6f1c6a7b867d",
              "IPY_MODEL_8a70f37091154f18a62c92e7d2411e94"
            ],
            "layout": "IPY_MODEL_e8bebd89bac748e7b701cfe9a0f1b87a"
          }
        },
        "c7be00475eec4533a41f0266b31f2e4e": {
          "model_module": "@jupyter-widgets/controls",
          "model_name": "HTMLModel",
          "model_module_version": "1.5.0",
          "state": {
            "_dom_classes": [],
            "_model_module": "@jupyter-widgets/controls",
            "_model_module_version": "1.5.0",
            "_model_name": "HTMLModel",
            "_view_count": null,
            "_view_module": "@jupyter-widgets/controls",
            "_view_module_version": "1.5.0",
            "_view_name": "HTMLView",
            "description": "",
            "description_tooltip": null,
            "layout": "IPY_MODEL_4f43f9e72b55446f889504d4158d03d4",
            "placeholder": "​",
            "style": "IPY_MODEL_1a0f4826392648f99f797856d9f7bedc",
            "value": "config.json: 100%"
          }
        },
        "0a9d90e903db45dc995e6f1c6a7b867d": {
          "model_module": "@jupyter-widgets/controls",
          "model_name": "FloatProgressModel",
          "model_module_version": "1.5.0",
          "state": {
            "_dom_classes": [],
            "_model_module": "@jupyter-widgets/controls",
            "_model_module_version": "1.5.0",
            "_model_name": "FloatProgressModel",
            "_view_count": null,
            "_view_module": "@jupyter-widgets/controls",
            "_view_module_version": "1.5.0",
            "_view_name": "ProgressView",
            "bar_style": "success",
            "description": "",
            "description_tooltip": null,
            "layout": "IPY_MODEL_39d1445e0b034d49822a64f027b47d80",
            "max": 313,
            "min": 0,
            "orientation": "horizontal",
            "style": "IPY_MODEL_88ae6f84d9e34bda99aa007f41cf5029",
            "value": 313
          }
        },
        "8a70f37091154f18a62c92e7d2411e94": {
          "model_module": "@jupyter-widgets/controls",
          "model_name": "HTMLModel",
          "model_module_version": "1.5.0",
          "state": {
            "_dom_classes": [],
            "_model_module": "@jupyter-widgets/controls",
            "_model_module_version": "1.5.0",
            "_model_name": "HTMLModel",
            "_view_count": null,
            "_view_module": "@jupyter-widgets/controls",
            "_view_module_version": "1.5.0",
            "_view_name": "HTMLView",
            "description": "",
            "description_tooltip": null,
            "layout": "IPY_MODEL_d7e05d0c9a324bc3827bb51c17d32eda",
            "placeholder": "​",
            "style": "IPY_MODEL_aca5114db061402c8f652e10668eff4f",
            "value": " 313/313 [00:00&lt;00:00, 26.6kB/s]"
          }
        },
        "e8bebd89bac748e7b701cfe9a0f1b87a": {
          "model_module": "@jupyter-widgets/base",
          "model_name": "LayoutModel",
          "model_module_version": "1.2.0",
          "state": {
            "_model_module": "@jupyter-widgets/base",
            "_model_module_version": "1.2.0",
            "_model_name": "LayoutModel",
            "_view_count": null,
            "_view_module": "@jupyter-widgets/base",
            "_view_module_version": "1.2.0",
            "_view_name": "LayoutView",
            "align_content": null,
            "align_items": null,
            "align_self": null,
            "border": null,
            "bottom": null,
            "display": null,
            "flex": null,
            "flex_flow": null,
            "grid_area": null,
            "grid_auto_columns": null,
            "grid_auto_flow": null,
            "grid_auto_rows": null,
            "grid_column": null,
            "grid_gap": null,
            "grid_row": null,
            "grid_template_areas": null,
            "grid_template_columns": null,
            "grid_template_rows": null,
            "height": null,
            "justify_content": null,
            "justify_items": null,
            "left": null,
            "margin": null,
            "max_height": null,
            "max_width": null,
            "min_height": null,
            "min_width": null,
            "object_fit": null,
            "object_position": null,
            "order": null,
            "overflow": null,
            "overflow_x": null,
            "overflow_y": null,
            "padding": null,
            "right": null,
            "top": null,
            "visibility": null,
            "width": null
          }
        },
        "4f43f9e72b55446f889504d4158d03d4": {
          "model_module": "@jupyter-widgets/base",
          "model_name": "LayoutModel",
          "model_module_version": "1.2.0",
          "state": {
            "_model_module": "@jupyter-widgets/base",
            "_model_module_version": "1.2.0",
            "_model_name": "LayoutModel",
            "_view_count": null,
            "_view_module": "@jupyter-widgets/base",
            "_view_module_version": "1.2.0",
            "_view_name": "LayoutView",
            "align_content": null,
            "align_items": null,
            "align_self": null,
            "border": null,
            "bottom": null,
            "display": null,
            "flex": null,
            "flex_flow": null,
            "grid_area": null,
            "grid_auto_columns": null,
            "grid_auto_flow": null,
            "grid_auto_rows": null,
            "grid_column": null,
            "grid_gap": null,
            "grid_row": null,
            "grid_template_areas": null,
            "grid_template_columns": null,
            "grid_template_rows": null,
            "height": null,
            "justify_content": null,
            "justify_items": null,
            "left": null,
            "margin": null,
            "max_height": null,
            "max_width": null,
            "min_height": null,
            "min_width": null,
            "object_fit": null,
            "object_position": null,
            "order": null,
            "overflow": null,
            "overflow_x": null,
            "overflow_y": null,
            "padding": null,
            "right": null,
            "top": null,
            "visibility": null,
            "width": null
          }
        },
        "1a0f4826392648f99f797856d9f7bedc": {
          "model_module": "@jupyter-widgets/controls",
          "model_name": "DescriptionStyleModel",
          "model_module_version": "1.5.0",
          "state": {
            "_model_module": "@jupyter-widgets/controls",
            "_model_module_version": "1.5.0",
            "_model_name": "DescriptionStyleModel",
            "_view_count": null,
            "_view_module": "@jupyter-widgets/base",
            "_view_module_version": "1.2.0",
            "_view_name": "StyleView",
            "description_width": ""
          }
        },
        "39d1445e0b034d49822a64f027b47d80": {
          "model_module": "@jupyter-widgets/base",
          "model_name": "LayoutModel",
          "model_module_version": "1.2.0",
          "state": {
            "_model_module": "@jupyter-widgets/base",
            "_model_module_version": "1.2.0",
            "_model_name": "LayoutModel",
            "_view_count": null,
            "_view_module": "@jupyter-widgets/base",
            "_view_module_version": "1.2.0",
            "_view_name": "LayoutView",
            "align_content": null,
            "align_items": null,
            "align_self": null,
            "border": null,
            "bottom": null,
            "display": null,
            "flex": null,
            "flex_flow": null,
            "grid_area": null,
            "grid_auto_columns": null,
            "grid_auto_flow": null,
            "grid_auto_rows": null,
            "grid_column": null,
            "grid_gap": null,
            "grid_row": null,
            "grid_template_areas": null,
            "grid_template_columns": null,
            "grid_template_rows": null,
            "height": null,
            "justify_content": null,
            "justify_items": null,
            "left": null,
            "margin": null,
            "max_height": null,
            "max_width": null,
            "min_height": null,
            "min_width": null,
            "object_fit": null,
            "object_position": null,
            "order": null,
            "overflow": null,
            "overflow_x": null,
            "overflow_y": null,
            "padding": null,
            "right": null,
            "top": null,
            "visibility": null,
            "width": null
          }
        },
        "88ae6f84d9e34bda99aa007f41cf5029": {
          "model_module": "@jupyter-widgets/controls",
          "model_name": "ProgressStyleModel",
          "model_module_version": "1.5.0",
          "state": {
            "_model_module": "@jupyter-widgets/controls",
            "_model_module_version": "1.5.0",
            "_model_name": "ProgressStyleModel",
            "_view_count": null,
            "_view_module": "@jupyter-widgets/base",
            "_view_module_version": "1.2.0",
            "_view_name": "StyleView",
            "bar_color": null,
            "description_width": ""
          }
        },
        "d7e05d0c9a324bc3827bb51c17d32eda": {
          "model_module": "@jupyter-widgets/base",
          "model_name": "LayoutModel",
          "model_module_version": "1.2.0",
          "state": {
            "_model_module": "@jupyter-widgets/base",
            "_model_module_version": "1.2.0",
            "_model_name": "LayoutModel",
            "_view_count": null,
            "_view_module": "@jupyter-widgets/base",
            "_view_module_version": "1.2.0",
            "_view_name": "LayoutView",
            "align_content": null,
            "align_items": null,
            "align_self": null,
            "border": null,
            "bottom": null,
            "display": null,
            "flex": null,
            "flex_flow": null,
            "grid_area": null,
            "grid_auto_columns": null,
            "grid_auto_flow": null,
            "grid_auto_rows": null,
            "grid_column": null,
            "grid_gap": null,
            "grid_row": null,
            "grid_template_areas": null,
            "grid_template_columns": null,
            "grid_template_rows": null,
            "height": null,
            "justify_content": null,
            "justify_items": null,
            "left": null,
            "margin": null,
            "max_height": null,
            "max_width": null,
            "min_height": null,
            "min_width": null,
            "object_fit": null,
            "object_position": null,
            "order": null,
            "overflow": null,
            "overflow_x": null,
            "overflow_y": null,
            "padding": null,
            "right": null,
            "top": null,
            "visibility": null,
            "width": null
          }
        },
        "aca5114db061402c8f652e10668eff4f": {
          "model_module": "@jupyter-widgets/controls",
          "model_name": "DescriptionStyleModel",
          "model_module_version": "1.5.0",
          "state": {
            "_model_module": "@jupyter-widgets/controls",
            "_model_module_version": "1.5.0",
            "_model_name": "DescriptionStyleModel",
            "_view_count": null,
            "_view_module": "@jupyter-widgets/base",
            "_view_module_version": "1.2.0",
            "_view_name": "StyleView",
            "description_width": ""
          }
        },
        "d7e3166f504a441c88afa14ca3b6e74d": {
          "model_module": "@jupyter-widgets/controls",
          "model_name": "HBoxModel",
          "model_module_version": "1.5.0",
          "state": {
            "_dom_classes": [],
            "_model_module": "@jupyter-widgets/controls",
            "_model_module_version": "1.5.0",
            "_model_name": "HBoxModel",
            "_view_count": null,
            "_view_module": "@jupyter-widgets/controls",
            "_view_module_version": "1.5.0",
            "_view_name": "HBoxView",
            "box_style": "",
            "children": [
              "IPY_MODEL_1cd062d0cb0d42ac96053de37f46e16b",
              "IPY_MODEL_ebf6ea4f044a4add83e9e33813f1ae2a",
              "IPY_MODEL_3e3fc26385d04fc195de606ffc7831ae"
            ],
            "layout": "IPY_MODEL_22858ac333e44f45ab64b26ed26fe445"
          }
        },
        "1cd062d0cb0d42ac96053de37f46e16b": {
          "model_module": "@jupyter-widgets/controls",
          "model_name": "HTMLModel",
          "model_module_version": "1.5.0",
          "state": {
            "_dom_classes": [],
            "_model_module": "@jupyter-widgets/controls",
            "_model_module_version": "1.5.0",
            "_model_name": "HTMLModel",
            "_view_count": null,
            "_view_module": "@jupyter-widgets/controls",
            "_view_module_version": "1.5.0",
            "_view_name": "HTMLView",
            "description": "",
            "description_tooltip": null,
            "layout": "IPY_MODEL_fa6f75a7deda4741be011a03dcffea5e",
            "placeholder": "​",
            "style": "IPY_MODEL_089e546e2ea542769be9f8afc13dbd12",
            "value": "vocab.txt: 100%"
          }
        },
        "ebf6ea4f044a4add83e9e33813f1ae2a": {
          "model_module": "@jupyter-widgets/controls",
          "model_name": "FloatProgressModel",
          "model_module_version": "1.5.0",
          "state": {
            "_dom_classes": [],
            "_model_module": "@jupyter-widgets/controls",
            "_model_module_version": "1.5.0",
            "_model_name": "FloatProgressModel",
            "_view_count": null,
            "_view_module": "@jupyter-widgets/controls",
            "_view_module_version": "1.5.0",
            "_view_name": "ProgressView",
            "bar_style": "success",
            "description": "",
            "description_tooltip": null,
            "layout": "IPY_MODEL_2bd94ccff3cc4237b804a2f4b232ce69",
            "max": 213450,
            "min": 0,
            "orientation": "horizontal",
            "style": "IPY_MODEL_54120521892a44968868303c5c01b900",
            "value": 213450
          }
        },
        "3e3fc26385d04fc195de606ffc7831ae": {
          "model_module": "@jupyter-widgets/controls",
          "model_name": "HTMLModel",
          "model_module_version": "1.5.0",
          "state": {
            "_dom_classes": [],
            "_model_module": "@jupyter-widgets/controls",
            "_model_module_version": "1.5.0",
            "_model_name": "HTMLModel",
            "_view_count": null,
            "_view_module": "@jupyter-widgets/controls",
            "_view_module_version": "1.5.0",
            "_view_name": "HTMLView",
            "description": "",
            "description_tooltip": null,
            "layout": "IPY_MODEL_0ca739e9e98e4a6692def152ab7d0bfe",
            "placeholder": "​",
            "style": "IPY_MODEL_e88a8157e24a4b2798d13b124e397fae",
            "value": " 213k/213k [00:00&lt;00:00, 11.2MB/s]"
          }
        },
        "22858ac333e44f45ab64b26ed26fe445": {
          "model_module": "@jupyter-widgets/base",
          "model_name": "LayoutModel",
          "model_module_version": "1.2.0",
          "state": {
            "_model_module": "@jupyter-widgets/base",
            "_model_module_version": "1.2.0",
            "_model_name": "LayoutModel",
            "_view_count": null,
            "_view_module": "@jupyter-widgets/base",
            "_view_module_version": "1.2.0",
            "_view_name": "LayoutView",
            "align_content": null,
            "align_items": null,
            "align_self": null,
            "border": null,
            "bottom": null,
            "display": null,
            "flex": null,
            "flex_flow": null,
            "grid_area": null,
            "grid_auto_columns": null,
            "grid_auto_flow": null,
            "grid_auto_rows": null,
            "grid_column": null,
            "grid_gap": null,
            "grid_row": null,
            "grid_template_areas": null,
            "grid_template_columns": null,
            "grid_template_rows": null,
            "height": null,
            "justify_content": null,
            "justify_items": null,
            "left": null,
            "margin": null,
            "max_height": null,
            "max_width": null,
            "min_height": null,
            "min_width": null,
            "object_fit": null,
            "object_position": null,
            "order": null,
            "overflow": null,
            "overflow_x": null,
            "overflow_y": null,
            "padding": null,
            "right": null,
            "top": null,
            "visibility": null,
            "width": null
          }
        },
        "fa6f75a7deda4741be011a03dcffea5e": {
          "model_module": "@jupyter-widgets/base",
          "model_name": "LayoutModel",
          "model_module_version": "1.2.0",
          "state": {
            "_model_module": "@jupyter-widgets/base",
            "_model_module_version": "1.2.0",
            "_model_name": "LayoutModel",
            "_view_count": null,
            "_view_module": "@jupyter-widgets/base",
            "_view_module_version": "1.2.0",
            "_view_name": "LayoutView",
            "align_content": null,
            "align_items": null,
            "align_self": null,
            "border": null,
            "bottom": null,
            "display": null,
            "flex": null,
            "flex_flow": null,
            "grid_area": null,
            "grid_auto_columns": null,
            "grid_auto_flow": null,
            "grid_auto_rows": null,
            "grid_column": null,
            "grid_gap": null,
            "grid_row": null,
            "grid_template_areas": null,
            "grid_template_columns": null,
            "grid_template_rows": null,
            "height": null,
            "justify_content": null,
            "justify_items": null,
            "left": null,
            "margin": null,
            "max_height": null,
            "max_width": null,
            "min_height": null,
            "min_width": null,
            "object_fit": null,
            "object_position": null,
            "order": null,
            "overflow": null,
            "overflow_x": null,
            "overflow_y": null,
            "padding": null,
            "right": null,
            "top": null,
            "visibility": null,
            "width": null
          }
        },
        "089e546e2ea542769be9f8afc13dbd12": {
          "model_module": "@jupyter-widgets/controls",
          "model_name": "DescriptionStyleModel",
          "model_module_version": "1.5.0",
          "state": {
            "_model_module": "@jupyter-widgets/controls",
            "_model_module_version": "1.5.0",
            "_model_name": "DescriptionStyleModel",
            "_view_count": null,
            "_view_module": "@jupyter-widgets/base",
            "_view_module_version": "1.2.0",
            "_view_name": "StyleView",
            "description_width": ""
          }
        },
        "2bd94ccff3cc4237b804a2f4b232ce69": {
          "model_module": "@jupyter-widgets/base",
          "model_name": "LayoutModel",
          "model_module_version": "1.2.0",
          "state": {
            "_model_module": "@jupyter-widgets/base",
            "_model_module_version": "1.2.0",
            "_model_name": "LayoutModel",
            "_view_count": null,
            "_view_module": "@jupyter-widgets/base",
            "_view_module_version": "1.2.0",
            "_view_name": "LayoutView",
            "align_content": null,
            "align_items": null,
            "align_self": null,
            "border": null,
            "bottom": null,
            "display": null,
            "flex": null,
            "flex_flow": null,
            "grid_area": null,
            "grid_auto_columns": null,
            "grid_auto_flow": null,
            "grid_auto_rows": null,
            "grid_column": null,
            "grid_gap": null,
            "grid_row": null,
            "grid_template_areas": null,
            "grid_template_columns": null,
            "grid_template_rows": null,
            "height": null,
            "justify_content": null,
            "justify_items": null,
            "left": null,
            "margin": null,
            "max_height": null,
            "max_width": null,
            "min_height": null,
            "min_width": null,
            "object_fit": null,
            "object_position": null,
            "order": null,
            "overflow": null,
            "overflow_x": null,
            "overflow_y": null,
            "padding": null,
            "right": null,
            "top": null,
            "visibility": null,
            "width": null
          }
        },
        "54120521892a44968868303c5c01b900": {
          "model_module": "@jupyter-widgets/controls",
          "model_name": "ProgressStyleModel",
          "model_module_version": "1.5.0",
          "state": {
            "_model_module": "@jupyter-widgets/controls",
            "_model_module_version": "1.5.0",
            "_model_name": "ProgressStyleModel",
            "_view_count": null,
            "_view_module": "@jupyter-widgets/base",
            "_view_module_version": "1.2.0",
            "_view_name": "StyleView",
            "bar_color": null,
            "description_width": ""
          }
        },
        "0ca739e9e98e4a6692def152ab7d0bfe": {
          "model_module": "@jupyter-widgets/base",
          "model_name": "LayoutModel",
          "model_module_version": "1.2.0",
          "state": {
            "_model_module": "@jupyter-widgets/base",
            "_model_module_version": "1.2.0",
            "_model_name": "LayoutModel",
            "_view_count": null,
            "_view_module": "@jupyter-widgets/base",
            "_view_module_version": "1.2.0",
            "_view_name": "LayoutView",
            "align_content": null,
            "align_items": null,
            "align_self": null,
            "border": null,
            "bottom": null,
            "display": null,
            "flex": null,
            "flex_flow": null,
            "grid_area": null,
            "grid_auto_columns": null,
            "grid_auto_flow": null,
            "grid_auto_rows": null,
            "grid_column": null,
            "grid_gap": null,
            "grid_row": null,
            "grid_template_areas": null,
            "grid_template_columns": null,
            "grid_template_rows": null,
            "height": null,
            "justify_content": null,
            "justify_items": null,
            "left": null,
            "margin": null,
            "max_height": null,
            "max_width": null,
            "min_height": null,
            "min_width": null,
            "object_fit": null,
            "object_position": null,
            "order": null,
            "overflow": null,
            "overflow_x": null,
            "overflow_y": null,
            "padding": null,
            "right": null,
            "top": null,
            "visibility": null,
            "width": null
          }
        },
        "e88a8157e24a4b2798d13b124e397fae": {
          "model_module": "@jupyter-widgets/controls",
          "model_name": "DescriptionStyleModel",
          "model_module_version": "1.5.0",
          "state": {
            "_model_module": "@jupyter-widgets/controls",
            "_model_module_version": "1.5.0",
            "_model_name": "DescriptionStyleModel",
            "_view_count": null,
            "_view_module": "@jupyter-widgets/base",
            "_view_module_version": "1.2.0",
            "_view_name": "StyleView",
            "description_width": ""
          }
        },
        "9078649102974d658162685329b2042b": {
          "model_module": "@jupyter-widgets/controls",
          "model_name": "HBoxModel",
          "model_module_version": "1.5.0",
          "state": {
            "_dom_classes": [],
            "_model_module": "@jupyter-widgets/controls",
            "_model_module_version": "1.5.0",
            "_model_name": "HBoxModel",
            "_view_count": null,
            "_view_module": "@jupyter-widgets/controls",
            "_view_module_version": "1.5.0",
            "_view_name": "HBoxView",
            "box_style": "",
            "children": [
              "IPY_MODEL_daf7e781ffbc47f995de7a5f4bb4fa47",
              "IPY_MODEL_65682b5198444b9ba749c5682fc2461c",
              "IPY_MODEL_e75337bf8b6d45daa096302b169baddc"
            ],
            "layout": "IPY_MODEL_b0abd600637a43d7af384dc731a5b04f"
          }
        },
        "daf7e781ffbc47f995de7a5f4bb4fa47": {
          "model_module": "@jupyter-widgets/controls",
          "model_name": "HTMLModel",
          "model_module_version": "1.5.0",
          "state": {
            "_dom_classes": [],
            "_model_module": "@jupyter-widgets/controls",
            "_model_module_version": "1.5.0",
            "_model_name": "HTMLModel",
            "_view_count": null,
            "_view_module": "@jupyter-widgets/controls",
            "_view_module_version": "1.5.0",
            "_view_name": "HTMLView",
            "description": "",
            "description_tooltip": null,
            "layout": "IPY_MODEL_081717ab6e7b41ed89d9236b4a385ce1",
            "placeholder": "​",
            "style": "IPY_MODEL_14cef1e7eb3e4e1eb9679367d6d9cf05",
            "value": "pytorch_model.bin: 100%"
          }
        },
        "65682b5198444b9ba749c5682fc2461c": {
          "model_module": "@jupyter-widgets/controls",
          "model_name": "FloatProgressModel",
          "model_module_version": "1.5.0",
          "state": {
            "_dom_classes": [],
            "_model_module": "@jupyter-widgets/controls",
            "_model_module_version": "1.5.0",
            "_model_name": "FloatProgressModel",
            "_view_count": null,
            "_view_module": "@jupyter-widgets/controls",
            "_view_module_version": "1.5.0",
            "_view_name": "ProgressView",
            "bar_style": "success",
            "description": "",
            "description_tooltip": null,
            "layout": "IPY_MODEL_ec0f5b0bfd6c445e95d9076057cfda67",
            "max": 435780550,
            "min": 0,
            "orientation": "horizontal",
            "style": "IPY_MODEL_651443de13bb4be3bc15829512b8f406",
            "value": 435780550
          }
        },
        "e75337bf8b6d45daa096302b169baddc": {
          "model_module": "@jupyter-widgets/controls",
          "model_name": "HTMLModel",
          "model_module_version": "1.5.0",
          "state": {
            "_dom_classes": [],
            "_model_module": "@jupyter-widgets/controls",
            "_model_module_version": "1.5.0",
            "_model_name": "HTMLModel",
            "_view_count": null,
            "_view_module": "@jupyter-widgets/controls",
            "_view_module_version": "1.5.0",
            "_view_name": "HTMLView",
            "description": "",
            "description_tooltip": null,
            "layout": "IPY_MODEL_7d2014fb443b43af991d841819584b67",
            "placeholder": "​",
            "style": "IPY_MODEL_8d6ea96a4b8e478db7a1b5e8d0f9674d",
            "value": " 436M/436M [00:01&lt;00:00, 218MB/s]"
          }
        },
        "b0abd600637a43d7af384dc731a5b04f": {
          "model_module": "@jupyter-widgets/base",
          "model_name": "LayoutModel",
          "model_module_version": "1.2.0",
          "state": {
            "_model_module": "@jupyter-widgets/base",
            "_model_module_version": "1.2.0",
            "_model_name": "LayoutModel",
            "_view_count": null,
            "_view_module": "@jupyter-widgets/base",
            "_view_module_version": "1.2.0",
            "_view_name": "LayoutView",
            "align_content": null,
            "align_items": null,
            "align_self": null,
            "border": null,
            "bottom": null,
            "display": null,
            "flex": null,
            "flex_flow": null,
            "grid_area": null,
            "grid_auto_columns": null,
            "grid_auto_flow": null,
            "grid_auto_rows": null,
            "grid_column": null,
            "grid_gap": null,
            "grid_row": null,
            "grid_template_areas": null,
            "grid_template_columns": null,
            "grid_template_rows": null,
            "height": null,
            "justify_content": null,
            "justify_items": null,
            "left": null,
            "margin": null,
            "max_height": null,
            "max_width": null,
            "min_height": null,
            "min_width": null,
            "object_fit": null,
            "object_position": null,
            "order": null,
            "overflow": null,
            "overflow_x": null,
            "overflow_y": null,
            "padding": null,
            "right": null,
            "top": null,
            "visibility": null,
            "width": null
          }
        },
        "081717ab6e7b41ed89d9236b4a385ce1": {
          "model_module": "@jupyter-widgets/base",
          "model_name": "LayoutModel",
          "model_module_version": "1.2.0",
          "state": {
            "_model_module": "@jupyter-widgets/base",
            "_model_module_version": "1.2.0",
            "_model_name": "LayoutModel",
            "_view_count": null,
            "_view_module": "@jupyter-widgets/base",
            "_view_module_version": "1.2.0",
            "_view_name": "LayoutView",
            "align_content": null,
            "align_items": null,
            "align_self": null,
            "border": null,
            "bottom": null,
            "display": null,
            "flex": null,
            "flex_flow": null,
            "grid_area": null,
            "grid_auto_columns": null,
            "grid_auto_flow": null,
            "grid_auto_rows": null,
            "grid_column": null,
            "grid_gap": null,
            "grid_row": null,
            "grid_template_areas": null,
            "grid_template_columns": null,
            "grid_template_rows": null,
            "height": null,
            "justify_content": null,
            "justify_items": null,
            "left": null,
            "margin": null,
            "max_height": null,
            "max_width": null,
            "min_height": null,
            "min_width": null,
            "object_fit": null,
            "object_position": null,
            "order": null,
            "overflow": null,
            "overflow_x": null,
            "overflow_y": null,
            "padding": null,
            "right": null,
            "top": null,
            "visibility": null,
            "width": null
          }
        },
        "14cef1e7eb3e4e1eb9679367d6d9cf05": {
          "model_module": "@jupyter-widgets/controls",
          "model_name": "DescriptionStyleModel",
          "model_module_version": "1.5.0",
          "state": {
            "_model_module": "@jupyter-widgets/controls",
            "_model_module_version": "1.5.0",
            "_model_name": "DescriptionStyleModel",
            "_view_count": null,
            "_view_module": "@jupyter-widgets/base",
            "_view_module_version": "1.2.0",
            "_view_name": "StyleView",
            "description_width": ""
          }
        },
        "ec0f5b0bfd6c445e95d9076057cfda67": {
          "model_module": "@jupyter-widgets/base",
          "model_name": "LayoutModel",
          "model_module_version": "1.2.0",
          "state": {
            "_model_module": "@jupyter-widgets/base",
            "_model_module_version": "1.2.0",
            "_model_name": "LayoutModel",
            "_view_count": null,
            "_view_module": "@jupyter-widgets/base",
            "_view_module_version": "1.2.0",
            "_view_name": "LayoutView",
            "align_content": null,
            "align_items": null,
            "align_self": null,
            "border": null,
            "bottom": null,
            "display": null,
            "flex": null,
            "flex_flow": null,
            "grid_area": null,
            "grid_auto_columns": null,
            "grid_auto_flow": null,
            "grid_auto_rows": null,
            "grid_column": null,
            "grid_gap": null,
            "grid_row": null,
            "grid_template_areas": null,
            "grid_template_columns": null,
            "grid_template_rows": null,
            "height": null,
            "justify_content": null,
            "justify_items": null,
            "left": null,
            "margin": null,
            "max_height": null,
            "max_width": null,
            "min_height": null,
            "min_width": null,
            "object_fit": null,
            "object_position": null,
            "order": null,
            "overflow": null,
            "overflow_x": null,
            "overflow_y": null,
            "padding": null,
            "right": null,
            "top": null,
            "visibility": null,
            "width": null
          }
        },
        "651443de13bb4be3bc15829512b8f406": {
          "model_module": "@jupyter-widgets/controls",
          "model_name": "ProgressStyleModel",
          "model_module_version": "1.5.0",
          "state": {
            "_model_module": "@jupyter-widgets/controls",
            "_model_module_version": "1.5.0",
            "_model_name": "ProgressStyleModel",
            "_view_count": null,
            "_view_module": "@jupyter-widgets/base",
            "_view_module_version": "1.2.0",
            "_view_name": "StyleView",
            "bar_color": null,
            "description_width": ""
          }
        },
        "7d2014fb443b43af991d841819584b67": {
          "model_module": "@jupyter-widgets/base",
          "model_name": "LayoutModel",
          "model_module_version": "1.2.0",
          "state": {
            "_model_module": "@jupyter-widgets/base",
            "_model_module_version": "1.2.0",
            "_model_name": "LayoutModel",
            "_view_count": null,
            "_view_module": "@jupyter-widgets/base",
            "_view_module_version": "1.2.0",
            "_view_name": "LayoutView",
            "align_content": null,
            "align_items": null,
            "align_self": null,
            "border": null,
            "bottom": null,
            "display": null,
            "flex": null,
            "flex_flow": null,
            "grid_area": null,
            "grid_auto_columns": null,
            "grid_auto_flow": null,
            "grid_auto_rows": null,
            "grid_column": null,
            "grid_gap": null,
            "grid_row": null,
            "grid_template_areas": null,
            "grid_template_columns": null,
            "grid_template_rows": null,
            "height": null,
            "justify_content": null,
            "justify_items": null,
            "left": null,
            "margin": null,
            "max_height": null,
            "max_width": null,
            "min_height": null,
            "min_width": null,
            "object_fit": null,
            "object_position": null,
            "order": null,
            "overflow": null,
            "overflow_x": null,
            "overflow_y": null,
            "padding": null,
            "right": null,
            "top": null,
            "visibility": null,
            "width": null
          }
        },
        "8d6ea96a4b8e478db7a1b5e8d0f9674d": {
          "model_module": "@jupyter-widgets/controls",
          "model_name": "DescriptionStyleModel",
          "model_module_version": "1.5.0",
          "state": {
            "_model_module": "@jupyter-widgets/controls",
            "_model_module_version": "1.5.0",
            "_model_name": "DescriptionStyleModel",
            "_view_count": null,
            "_view_module": "@jupyter-widgets/base",
            "_view_module_version": "1.2.0",
            "_view_name": "StyleView",
            "description_width": ""
          }
        }
      }
    }
  },
  "cells": [
    {
      "cell_type": "markdown",
      "metadata": {
        "id": "view-in-github",
        "colab_type": "text"
      },
      "source": [
        "<a href=\"https://colab.research.google.com/github/jerryk42/My-Colab/blob/main/Training.ipynb\" target=\"_parent\"><img src=\"https://colab.research.google.com/assets/colab-badge.svg\" alt=\"Open In Colab\"/></a>"
      ]
    },
    {
      "cell_type": "code",
      "execution_count": 4,
      "metadata": {
        "id": "-Uk4Hr3o6UHO",
        "colab": {
          "base_uri": "https://localhost:8080/"
        },
        "outputId": "2d26d0a4-8ff4-4580-cd82-8761d22fde27"
      },
      "outputs": [
        {
          "output_type": "stream",
          "name": "stdout",
          "text": [
            "Drive already mounted at /content/drive; to attempt to forcibly remount, call drive.mount(\"/content/drive\", force_remount=True).\n",
            "Cloning into 'My-Colab'...\n",
            "warning: You appear to have cloned an empty repository.\n"
          ]
        }
      ],
      "source": [
        "from google.colab import drive\n",
        "drive.mount('/content/drive')"
      ]
    },
    {
      "cell_type": "markdown",
      "source": [
        "sdfasfkjbddfkj"
      ],
      "metadata": {
        "id": "hb4ZyLDRKAbM"
      }
    },
    {
      "cell_type": "code",
      "execution_count": null,
      "metadata": {
        "id": "_tnUGj2aOD40"
      },
      "outputs": [],
      "source": [
        "import pandas as pd\n",
        "import re\n",
        "from sklearn.model_selection import train_test_split\n",
        "from sklearn.metrics import f1_score, classification_report\n",
        "import torch\n",
        "from transformers import AutoTokenizer, AutoModelForSequenceClassification\n",
        "from torch.utils.data import DataLoader, Dataset\n",
        "import torch.nn as nn\n",
        "import torch.optim as optim\n",
        "from sklearn.preprocessing import LabelEncoder\n",
        "from tqdm import tqdm  # Import tqdm for progress bars\n",
        "import matplotlib.pyplot as plt  # Import matplotlib for plotting\n"
      ]
    },
    {
      "cell_type": "code",
      "execution_count": null,
      "metadata": {
        "id": "mRqpDhY5OF0r"
      },
      "outputs": [],
      "source": [
        "config = {\n",
        "    'max_len': 256,\n",
        "    'batch_size': 16,\n",
        "    'learning_rate': 0.00005,\n",
        "    'epochs': 50,\n",
        "    'model_name': \"dmis-lab/biobert-base-cased-v1.1\"  # BioBERT model name\n",
        "}\n"
      ]
    },
    {
      "cell_type": "code",
      "source": [
        "# Set device for training\n",
        "device = torch.device('cuda' if torch.cuda.is_available() else 'cpu')\n",
        "print(f\"Using device: {device}\")\n"
      ],
      "metadata": {
        "id": "F8Z5Prdp5Xrb",
        "colab": {
          "base_uri": "https://localhost:8080/"
        },
        "outputId": "49d29710-96d7-4d1a-944c-be8fd84b9985"
      },
      "execution_count": null,
      "outputs": [
        {
          "output_type": "stream",
          "name": "stdout",
          "text": [
            "Using device: cuda\n"
          ]
        }
      ]
    },
    {
      "cell_type": "code",
      "execution_count": null,
      "metadata": {
        "colab": {
          "base_uri": "https://localhost:8080/"
        },
        "id": "YaxolIHS5SBH",
        "outputId": "7ffed3c1-c53e-4e6b-8dd8-c668d996d348",
        "collapsed": true
      },
      "outputs": [
        {
          "output_type": "stream",
          "name": "stdout",
          "text": [
            "   Unnamed: 0  year  month  day country                             title  \\\n",
            "0           0  1994      1    7      us  Recall Notification: FSIS-024-94   \n",
            "1           1  1994      3   10      us  Recall Notification: FSIS-033-94   \n",
            "2           2  1994      3   28      us  Recall Notification: FSIS-014-94   \n",
            "3           3  1994      4    3      us  Recall Notification: FSIS-009-94   \n",
            "4           4  1994      7    1      us  Recall Notification: FSIS-001-94   \n",
            "\n",
            "                                                text hazard-category  \\\n",
            "0  Case Number: 024-94   \\n            Date Opene...      biological   \n",
            "1  Case Number: 033-94   \\n            Date Opene...      biological   \n",
            "2  Case Number: 014-94   \\n            Date Opene...      biological   \n",
            "3  Case Number: 009-94   \\n            Date Opene...  foreign bodies   \n",
            "4  Case Number: 001-94   \\n            Date Opene...  foreign bodies   \n",
            "\n",
            "               product-category                  hazard  \\\n",
            "0  meat, egg and dairy products  listeria monocytogenes   \n",
            "1  meat, egg and dairy products            listeria spp   \n",
            "2  meat, egg and dairy products  listeria monocytogenes   \n",
            "3  meat, egg and dairy products        plastic fragment   \n",
            "4  meat, egg and dairy products        plastic fragment   \n",
            "\n",
            "                       product  \n",
            "0               smoked sausage  \n",
            "1                      sausage  \n",
            "2                   ham slices  \n",
            "3  thermal processed pork meat  \n",
            "4               chicken breast  \n"
          ]
        }
      ],
      "source": [
        "import pandas as pd\n",
        "\n",
        "# URL of the raw file\n",
        "url = \"https://raw.githubusercontent.com/food-hazard-detection-semeval-2025/food-hazard-detection-semeval-2025.github.io/refs/heads/main/data/incidents_train.csv\"\n",
        "\n",
        "# Read the CSV file into a DataFrame\n",
        "df = pd.read_csv(url)\n",
        "\n",
        "# Display the first few rows of the DataFrame\n",
        "print(df.head())\n"
      ]
    },
    {
      "cell_type": "code",
      "source": [
        "# Drop the first column\n",
        "df = df.drop(df.columns[0], axis=1)"
      ],
      "metadata": {
        "id": "Z6l4Gt-Y6EIH"
      },
      "execution_count": null,
      "outputs": []
    },
    {
      "cell_type": "code",
      "source": [
        "# Check the structure of the DataFrame\n",
        "print(df.info())"
      ],
      "metadata": {
        "colab": {
          "base_uri": "https://localhost:8080/"
        },
        "id": "IsoRrUZg5Xw6",
        "outputId": "fa9b083d-84e8-49c2-d830-0f9c04d28b29",
        "collapsed": true
      },
      "execution_count": null,
      "outputs": [
        {
          "output_type": "stream",
          "name": "stdout",
          "text": [
            "<class 'pandas.core.frame.DataFrame'>\n",
            "RangeIndex: 5082 entries, 0 to 5081\n",
            "Data columns (total 10 columns):\n",
            " #   Column            Non-Null Count  Dtype \n",
            "---  ------            --------------  ----- \n",
            " 0   year              5082 non-null   int64 \n",
            " 1   month             5082 non-null   int64 \n",
            " 2   day               5082 non-null   int64 \n",
            " 3   country           5082 non-null   object\n",
            " 4   title             5082 non-null   object\n",
            " 5   text              5082 non-null   object\n",
            " 6   hazard-category   5082 non-null   object\n",
            " 7   product-category  5082 non-null   object\n",
            " 8   hazard            5082 non-null   object\n",
            " 9   product           5082 non-null   object\n",
            "dtypes: int64(3), object(7)\n",
            "memory usage: 397.2+ KB\n",
            "None\n"
          ]
        }
      ]
    },
    {
      "cell_type": "code",
      "execution_count": null,
      "metadata": {
        "id": "WbqvZzJgOMmA"
      },
      "outputs": [],
      "source": [
        "# Custom Dataset for Text Data\n",
        "class TextDataset(Dataset):\n",
        "    def __init__(self, texts, labels, tokenizer, max_len):\n",
        "        self.texts = texts\n",
        "        self.labels = labels\n",
        "        self.tokenizer = tokenizer\n",
        "        self.max_len = max_len\n",
        "\n",
        "    def __len__(self):\n",
        "        return len(self.texts)\n",
        "\n",
        "    def __getitem__(self, item):\n",
        "        text = str(self.texts[item])\n",
        "        label = self.labels[item]\n",
        "        encoding = self.tokenizer.encode_plus(\n",
        "            text,\n",
        "            add_special_tokens=True,\n",
        "            max_length=self.max_len,\n",
        "            padding='max_length',\n",
        "            truncation=True,\n",
        "            return_tensors='pt'\n",
        "        )\n",
        "        return {\n",
        "            'input_ids': encoding['input_ids'].flatten(),\n",
        "            'attention_mask': encoding['attention_mask'].flatten(),\n",
        "            'label': torch.tensor(label, dtype=torch.long)\n",
        "        }\n"
      ]
    },
    {
      "cell_type": "code",
      "execution_count": null,
      "metadata": {
        "id": "KlHfuLKlOQmI"
      },
      "outputs": [],
      "source": [
        "# Function to clean text (title or text) and remove stopwords\n",
        "def clean_text(text):\n",
        "    text = re.sub(r'[^a-zA-Z0-9\\s]', '', text)\n",
        "    text = text.lower()\n",
        "    text = ' '.join(text.split())\n",
        "    return text\n"
      ]
    },
    {
      "cell_type": "code",
      "execution_count": null,
      "metadata": {
        "colab": {
          "base_uri": "https://localhost:8080/",
          "height": 185,
          "referenced_widgets": [
            "223286f02b0047b0a5af1936a3e6fa8e",
            "c7be00475eec4533a41f0266b31f2e4e",
            "0a9d90e903db45dc995e6f1c6a7b867d",
            "8a70f37091154f18a62c92e7d2411e94",
            "e8bebd89bac748e7b701cfe9a0f1b87a",
            "4f43f9e72b55446f889504d4158d03d4",
            "1a0f4826392648f99f797856d9f7bedc",
            "39d1445e0b034d49822a64f027b47d80",
            "88ae6f84d9e34bda99aa007f41cf5029",
            "d7e05d0c9a324bc3827bb51c17d32eda",
            "aca5114db061402c8f652e10668eff4f",
            "d7e3166f504a441c88afa14ca3b6e74d",
            "1cd062d0cb0d42ac96053de37f46e16b",
            "ebf6ea4f044a4add83e9e33813f1ae2a",
            "3e3fc26385d04fc195de606ffc7831ae",
            "22858ac333e44f45ab64b26ed26fe445",
            "fa6f75a7deda4741be011a03dcffea5e",
            "089e546e2ea542769be9f8afc13dbd12",
            "2bd94ccff3cc4237b804a2f4b232ce69",
            "54120521892a44968868303c5c01b900",
            "0ca739e9e98e4a6692def152ab7d0bfe",
            "e88a8157e24a4b2798d13b124e397fae"
          ]
        },
        "id": "J5f2YpcNOVs5",
        "outputId": "22225e4d-ec9e-4256-ad22-531712c0dc05"
      },
      "outputs": [
        {
          "output_type": "stream",
          "name": "stderr",
          "text": [
            "/usr/local/lib/python3.10/dist-packages/huggingface_hub/utils/_auth.py:94: UserWarning: \n",
            "The secret `HF_TOKEN` does not exist in your Colab secrets.\n",
            "To authenticate with the Hugging Face Hub, create a token in your settings tab (https://huggingface.co/settings/tokens), set it as secret in your Google Colab and restart your session.\n",
            "You will be able to reuse this secret in all of your notebooks.\n",
            "Please note that authentication is recommended but still optional to access public models or datasets.\n",
            "  warnings.warn(\n"
          ]
        },
        {
          "output_type": "display_data",
          "data": {
            "text/plain": [
              "config.json:   0%|          | 0.00/313 [00:00<?, ?B/s]"
            ],
            "application/vnd.jupyter.widget-view+json": {
              "version_major": 2,
              "version_minor": 0,
              "model_id": "223286f02b0047b0a5af1936a3e6fa8e"
            }
          },
          "metadata": {}
        },
        {
          "output_type": "display_data",
          "data": {
            "text/plain": [
              "vocab.txt:   0%|          | 0.00/213k [00:00<?, ?B/s]"
            ],
            "application/vnd.jupyter.widget-view+json": {
              "version_major": 2,
              "version_minor": 0,
              "model_id": "d7e3166f504a441c88afa14ca3b6e74d"
            }
          },
          "metadata": {}
        }
      ],
      "source": [
        "# Load tokenizer for Microsoft PubMedBERT model\n",
        "tokenizer = AutoTokenizer.from_pretrained(config['model_name'])\n",
        "\n",
        "# Assuming df is your DataFrame\n",
        "df['title'] = df['title'].apply(clean_text)\n",
        "df['text'] = df['text'].apply(clean_text)\n"
      ]
    },
    {
      "cell_type": "code",
      "execution_count": null,
      "metadata": {
        "id": "xe4fnbojOY-v"
      },
      "outputs": [],
      "source": [
        "# Define relevant features and targets\n",
        "features = ['year', 'month', 'day', 'country']\n",
        "targets_subtask1 = ['hazard-category','product-category']\n",
        "targets_subtask2 = ['hazard','product']\n"
      ]
    },
    {
      "cell_type": "code",
      "execution_count": null,
      "metadata": {
        "id": "b7B8EhUdOer2"
      },
      "outputs": [],
      "source": [
        "# Encode target labels to numeric values\n",
        "label_encoders = {}\n",
        "for target in targets_subtask1 + targets_subtask2:\n",
        "    le = LabelEncoder()\n",
        "    df[target] = le.fit_transform(df[target])\n",
        "    label_encoders[target] = le\n"
      ]
    },
    {
      "cell_type": "code",
      "execution_count": null,
      "metadata": {
        "id": "8a9dTrQ9Oh7Q"
      },
      "outputs": [],
      "source": [
        "# Prepare data for both title and text\n",
        "def prepare_data(text_column):\n",
        "    X = df[features + [text_column]]\n",
        "    y_subtask1 = df[targets_subtask1]\n",
        "    y_subtask2 = df[targets_subtask2]\n",
        "\n",
        "    data_splits = {}\n",
        "    for target in targets_subtask1 + targets_subtask2:\n",
        "        X_train, X_test, y_train, y_test = train_test_split(\n",
        "            X, df[target], test_size=0.2, random_state=42\n",
        "        )\n",
        "\n",
        "        # Reset indices to ensure matching\n",
        "        X_train = X_train.reset_index(drop=True)\n",
        "        y_train = y_train.reset_index(drop=True)\n",
        "        X_test = X_test.reset_index(drop=True)\n",
        "        y_test = y_test.reset_index(drop=True)\n",
        "\n",
        "        data_splits[target] = (X_train, X_test, y_train, y_test)\n",
        "\n",
        "    return data_splits\n"
      ]
    },
    {
      "cell_type": "code",
      "execution_count": null,
      "metadata": {
        "id": "Ffx_UagwOlb2"
      },
      "outputs": [],
      "source": [
        "# Prepare data for title and text\n",
        "title_splits = prepare_data('title')\n",
        "text_splits = prepare_data('text')\n"
      ]
    },
    {
      "cell_type": "code",
      "execution_count": null,
      "metadata": {
        "id": "RQYXs45FOoPz"
      },
      "outputs": [],
      "source": [
        "def train_and_evaluate_nn(data_splits, targets, model_type='title', early_stopping_patience=6, lr_reduce_factor=0.1):\n",
        "    f1_scores = []  # List to store F1 scores for each task\n",
        "\n",
        "    for target in targets:\n",
        "        print(f\"\\nStarting training for task: {target}\")  # Print task message\n",
        "\n",
        "        X_train, X_test, y_train, y_test = data_splits[target]\n",
        "\n",
        "        # Prepare text data using the tokenizer\n",
        "        if model_type == 'title':\n",
        "            texts_train = X_train['title'].values\n",
        "            texts_test = X_test['title'].values\n",
        "        else:\n",
        "            texts_train = X_train['text'].values\n",
        "            texts_test = X_test['text'].values\n",
        "\n",
        "        # Create DataLoader for training and testing\n",
        "        train_dataset = TextDataset(texts_train, y_train, tokenizer, config['max_len'])\n",
        "        test_dataset = TextDataset(texts_test, y_test, tokenizer, config['max_len'])\n",
        "\n",
        "        train_loader = DataLoader(train_dataset, batch_size=config['batch_size'], shuffle=True)\n",
        "        test_loader = DataLoader(test_dataset, batch_size=config['batch_size'], shuffle=False)\n",
        "\n",
        "        # Model setup\n",
        "        num_labels = len(label_encoders[target].classes_)\n",
        "        model = AutoModelForSequenceClassification.from_pretrained(config['model_name'], num_labels=num_labels).to(device)\n",
        "\n",
        "        optimizer = optim.Adam(model.parameters(), lr=config['learning_rate'])\n",
        "        scheduler = torch.optim.lr_scheduler.ReduceLROnPlateau(optimizer, mode='min', factor=lr_reduce_factor, patience=3, verbose=True)\n",
        "        criterion = nn.CrossEntropyLoss()\n",
        "\n",
        "        # Training process\n",
        "        model.train()\n",
        "        best_loss = float('inf')\n",
        "        early_stop_counter = 0\n",
        "\n",
        "        for epoch in range(config['epochs']):\n",
        "            print(f\"Epoch {epoch+1}/{config['epochs']} - Training: {target}\")\n",
        "            progress_bar = tqdm(train_loader, desc=f\"Training Epoch {epoch+1}\", total=len(train_loader), leave=True)\n",
        "            epoch_loss = 0.0\n",
        "\n",
        "            for batch in progress_bar:\n",
        "                optimizer.zero_grad()\n",
        "                input_ids = batch['input_ids'].squeeze(1).to(device)\n",
        "                attention_mask = batch['attention_mask'].squeeze(1).to(device)\n",
        "                labels = batch['label'].to(device)\n",
        "\n",
        "                outputs = model(input_ids, attention_mask=attention_mask)\n",
        "                loss = criterion(outputs.logits, labels)\n",
        "                loss.backward()\n",
        "                optimizer.step()\n",
        "                epoch_loss += loss.item()\n",
        "                progress_bar.set_postfix(loss=loss.item())\n",
        "\n",
        "            # Average loss for the epoch\n",
        "            avg_epoch_loss = epoch_loss / len(train_loader)\n",
        "            print(f\"Average Training Loss for Epoch {epoch+1}: {avg_epoch_loss}\")\n",
        "\n",
        "            # Evaluate on the test set to compute validation loss\n",
        "            val_loss = 0.0\n",
        "            model.eval()\n",
        "            with torch.no_grad():\n",
        "                for batch in test_loader:\n",
        "                    input_ids = batch['input_ids'].squeeze(1).to(device)\n",
        "                    attention_mask = batch['attention_mask'].squeeze(1).to(device)\n",
        "                    labels = batch['label'].to(device)\n",
        "\n",
        "                    outputs = model(input_ids, attention_mask=attention_mask)\n",
        "                    loss = criterion(outputs.logits, labels)\n",
        "                    val_loss += loss.item()\n",
        "\n",
        "            avg_val_loss = val_loss / len(test_loader)\n",
        "            print(f\"Validation Loss after Epoch {epoch+1}: {avg_val_loss}\")\n",
        "\n",
        "            # Step the scheduler with the validation loss\n",
        "            scheduler.step(avg_val_loss)\n",
        "\n",
        "            # Early stopping check\n",
        "            if avg_val_loss < best_loss:\n",
        "                best_loss = avg_val_loss\n",
        "                early_stop_counter = 0\n",
        "                torch.save(model.state_dict(), f\"best_model_{target}.pt\")  # Save the best model\n",
        "            else:\n",
        "                early_stop_counter += 1\n",
        "                print(f\"Early stopping counter: {early_stop_counter}/{early_stopping_patience}\")\n",
        "\n",
        "            if early_stop_counter >= early_stopping_patience:\n",
        "                print(\"Early stopping triggered.\")\n",
        "                break\n",
        "\n",
        "        # Load the best model for evaluation\n",
        "        model.load_state_dict(torch.load(f\"best_model_{target}.pt\"))\n",
        "\n",
        "        # Evaluation process\n",
        "        print(f\"Evaluating model for task: {target}\")\n",
        "        model.eval()\n",
        "        y_preds = []\n",
        "        y_true = []\n",
        "        with torch.no_grad():\n",
        "            for batch in tqdm(test_loader, desc=\"Evaluating\", total=len(test_loader), leave=True):\n",
        "                input_ids = batch['input_ids'].squeeze(1).to(device)\n",
        "                attention_mask = batch['attention_mask'].squeeze(1).to(device)\n",
        "                labels = batch['label'].to(device)\n",
        "                outputs = model(input_ids, attention_mask=attention_mask)\n",
        "                _, preds = torch.max(outputs.logits, dim=1)\n",
        "                y_preds.extend(preds.cpu().numpy())\n",
        "                y_true.extend(labels.cpu().numpy())\n",
        "\n",
        "        # Decode labels back to original categories using the label encoder\n",
        "        decoded_preds = label_encoders[target].inverse_transform(y_preds)\n",
        "        decoded_true = label_encoders[target].inverse_transform(y_true)\n",
        "\n",
        "        # Calculate F1 score for the task\n",
        "        f1 = f1_score(decoded_true, decoded_preds, average='weighted')\n",
        "        f1_scores.append(f1)\n",
        "        print(f\"F1-Score for {target}: {f1}\")\n",
        "\n",
        "        # Print classification report\n",
        "        print(f\"Classification Report for {target}:\\n\")\n",
        "        print(classification_report(decoded_true, decoded_preds, zero_division=0))\n",
        "\n",
        "    return f1_scores  # Return the list of F1 scores for plotting\n"
      ]
    },
    {
      "cell_type": "code",
      "execution_count": null,
      "metadata": {
        "colab": {
          "base_uri": "https://localhost:8080/",
          "height": 1000,
          "referenced_widgets": [
            "9078649102974d658162685329b2042b",
            "daf7e781ffbc47f995de7a5f4bb4fa47",
            "65682b5198444b9ba749c5682fc2461c",
            "e75337bf8b6d45daa096302b169baddc",
            "b0abd600637a43d7af384dc731a5b04f",
            "081717ab6e7b41ed89d9236b4a385ce1",
            "14cef1e7eb3e4e1eb9679367d6d9cf05",
            "ec0f5b0bfd6c445e95d9076057cfda67",
            "651443de13bb4be3bc15829512b8f406",
            "7d2014fb443b43af991d841819584b67",
            "8d6ea96a4b8e478db7a1b5e8d0f9674d"
          ]
        },
        "id": "OsSoAzzgOyct",
        "outputId": "17e78f09-bc6b-4a8a-ac3b-7961084ce9a8"
      },
      "outputs": [
        {
          "output_type": "stream",
          "name": "stdout",
          "text": [
            "\n",
            "Training and Evaluating for Title Tasks:\n",
            "\n",
            "Starting training for task: hazard-category\n"
          ]
        },
        {
          "output_type": "display_data",
          "data": {
            "text/plain": [
              "pytorch_model.bin:   0%|          | 0.00/436M [00:00<?, ?B/s]"
            ],
            "application/vnd.jupyter.widget-view+json": {
              "version_major": 2,
              "version_minor": 0,
              "model_id": "9078649102974d658162685329b2042b"
            }
          },
          "metadata": {}
        },
        {
          "output_type": "stream",
          "name": "stderr",
          "text": [
            "Some weights of BertForSequenceClassification were not initialized from the model checkpoint at dmis-lab/biobert-base-cased-v1.1 and are newly initialized: ['classifier.bias', 'classifier.weight']\n",
            "You should probably TRAIN this model on a down-stream task to be able to use it for predictions and inference.\n"
          ]
        },
        {
          "output_type": "stream",
          "name": "stdout",
          "text": [
            "Epoch 1/25 - Training: hazard-category\n"
          ]
        },
        {
          "output_type": "stream",
          "name": "stderr",
          "text": [
            "Training Epoch 1: 100%|██████████| 255/255 [01:12<00:00,  3.49it/s, loss=0.272]\n"
          ]
        },
        {
          "output_type": "stream",
          "name": "stdout",
          "text": [
            "Average Training Loss for Epoch 1: 0.855338263277914\n",
            "Validation Loss after Epoch 1: 0.6472745211794972\n",
            "Epoch 2/25 - Training: hazard-category\n"
          ]
        },
        {
          "output_type": "stream",
          "name": "stderr",
          "text": [
            "Training Epoch 2: 100%|██████████| 255/255 [01:13<00:00,  3.48it/s, loss=0.00513]\n"
          ]
        },
        {
          "output_type": "stream",
          "name": "stdout",
          "text": [
            "Average Training Loss for Epoch 2: 0.4958556231111288\n",
            "Validation Loss after Epoch 2: 0.6145218464080244\n",
            "Epoch 3/25 - Training: hazard-category\n"
          ]
        },
        {
          "output_type": "stream",
          "name": "stderr",
          "text": [
            "Training Epoch 3: 100%|██████████| 255/255 [01:12<00:00,  3.49it/s, loss=2.44]\n"
          ]
        },
        {
          "output_type": "stream",
          "name": "stdout",
          "text": [
            "Average Training Loss for Epoch 3: 0.33928195284862145\n",
            "Validation Loss after Epoch 3: 0.6001030334737152\n",
            "Epoch 4/25 - Training: hazard-category\n"
          ]
        },
        {
          "output_type": "stream",
          "name": "stderr",
          "text": [
            "Training Epoch 4: 100%|██████████| 255/255 [01:13<00:00,  3.49it/s, loss=0.0486]\n"
          ]
        },
        {
          "output_type": "stream",
          "name": "stdout",
          "text": [
            "Average Training Loss for Epoch 4: 0.2190404400631201\n",
            "Validation Loss after Epoch 4: 0.683858520234935\n",
            "Early stopping counter: 1/5\n",
            "Epoch 5/25 - Training: hazard-category\n"
          ]
        },
        {
          "output_type": "stream",
          "name": "stderr",
          "text": [
            "Training Epoch 5: 100%|██████████| 255/255 [01:13<00:00,  3.49it/s, loss=0.00739]\n"
          ]
        },
        {
          "output_type": "stream",
          "name": "stdout",
          "text": [
            "Average Training Loss for Epoch 5: 0.13618044207310853\n",
            "Validation Loss after Epoch 5: 0.6799268068280071\n",
            "Early stopping counter: 2/5\n",
            "Epoch 6/25 - Training: hazard-category\n"
          ]
        },
        {
          "output_type": "stream",
          "name": "stderr",
          "text": [
            "Training Epoch 6: 100%|██████████| 255/255 [01:13<00:00,  3.49it/s, loss=0.0203]\n"
          ]
        },
        {
          "output_type": "stream",
          "name": "stdout",
          "text": [
            "Average Training Loss for Epoch 6: 0.08468361487429515\n",
            "Validation Loss after Epoch 6: 0.7713596922694705\n",
            "Early stopping counter: 3/5\n",
            "Epoch 7/25 - Training: hazard-category\n"
          ]
        },
        {
          "output_type": "stream",
          "name": "stderr",
          "text": [
            "Training Epoch 7: 100%|██████████| 255/255 [01:13<00:00,  3.49it/s, loss=0.000711]\n"
          ]
        },
        {
          "output_type": "stream",
          "name": "stdout",
          "text": [
            "Average Training Loss for Epoch 7: 0.04122199397671091\n",
            "Validation Loss after Epoch 7: 0.7426563010085374\n",
            "Early stopping counter: 4/5\n",
            "Epoch 8/25 - Training: hazard-category\n"
          ]
        },
        {
          "output_type": "stream",
          "name": "stderr",
          "text": [
            "Training Epoch 8: 100%|██████████| 255/255 [01:13<00:00,  3.49it/s, loss=0.000636]\n"
          ]
        },
        {
          "output_type": "stream",
          "name": "stdout",
          "text": [
            "Average Training Loss for Epoch 8: 0.025054675095038965\n",
            "Validation Loss after Epoch 8: 0.7556469244591426\n",
            "Early stopping counter: 5/5\n",
            "Early stopping triggered.\n"
          ]
        },
        {
          "output_type": "stream",
          "name": "stderr",
          "text": [
            "<ipython-input-19-54c1aaee6c7a>:92: FutureWarning: You are using `torch.load` with `weights_only=False` (the current default value), which uses the default pickle module implicitly. It is possible to construct malicious pickle data which will execute arbitrary code during unpickling (See https://github.com/pytorch/pytorch/blob/main/SECURITY.md#untrusted-models for more details). In a future release, the default value for `weights_only` will be flipped to `True`. This limits the functions that could be executed during unpickling. Arbitrary objects will no longer be allowed to be loaded via this mode unless they are explicitly allowlisted by the user via `torch.serialization.add_safe_globals`. We recommend you start setting `weights_only=True` for any use case where you don't have full control of the loaded file. Please open an issue on GitHub for any issues related to this experimental feature.\n",
            "  model.load_state_dict(torch.load(f\"best_model_{target}.pt\"))\n"
          ]
        },
        {
          "output_type": "stream",
          "name": "stdout",
          "text": [
            "Evaluating model for task: hazard-category\n"
          ]
        },
        {
          "output_type": "stream",
          "name": "stderr",
          "text": [
            "Evaluating: 100%|██████████| 64/64 [00:05<00:00, 11.14it/s]\n"
          ]
        },
        {
          "output_type": "stream",
          "name": "stdout",
          "text": [
            "F1-Score for hazard-category: 0.8173977417121364\n",
            "Classification Report for hazard-category:\n",
            "\n",
            "                                precision    recall  f1-score   support\n",
            "\n",
            "                     allergens       0.90      0.89      0.89       377\n",
            "                    biological       0.81      0.94      0.87       339\n",
            "                      chemical       0.69      0.74      0.71        68\n",
            "food additives and flavourings       0.00      0.00      0.00         5\n",
            "                foreign bodies       0.82      0.72      0.77       111\n",
            "                         fraud       0.73      0.56      0.63        68\n",
            "                     migration       0.00      0.00      0.00         1\n",
            "          organoleptic aspects       0.38      0.30      0.33        10\n",
            "                  other hazard       0.71      0.44      0.55        27\n",
            "              packaging defect       0.75      0.27      0.40        11\n",
            "\n",
            "                      accuracy                           0.83      1017\n",
            "                     macro avg       0.58      0.49      0.52      1017\n",
            "                  weighted avg       0.82      0.83      0.82      1017\n",
            "\n",
            "\n",
            "Starting training for task: product-category\n"
          ]
        },
        {
          "output_type": "stream",
          "name": "stderr",
          "text": [
            "Some weights of BertForSequenceClassification were not initialized from the model checkpoint at dmis-lab/biobert-base-cased-v1.1 and are newly initialized: ['classifier.bias', 'classifier.weight']\n",
            "You should probably TRAIN this model on a down-stream task to be able to use it for predictions and inference.\n"
          ]
        },
        {
          "output_type": "stream",
          "name": "stdout",
          "text": [
            "Epoch 1/25 - Training: product-category\n"
          ]
        },
        {
          "output_type": "stream",
          "name": "stderr",
          "text": [
            "Training Epoch 1: 100%|██████████| 255/255 [01:14<00:00,  3.44it/s, loss=1.06]\n"
          ]
        },
        {
          "output_type": "stream",
          "name": "stdout",
          "text": [
            "Average Training Loss for Epoch 1: 1.945509958267212\n",
            "Validation Loss after Epoch 1: 1.330814472399652\n",
            "Epoch 2/25 - Training: product-category\n"
          ]
        },
        {
          "output_type": "stream",
          "name": "stderr",
          "text": [
            "Training Epoch 2: 100%|██████████| 255/255 [01:13<00:00,  3.49it/s, loss=0.0521]\n"
          ]
        },
        {
          "output_type": "stream",
          "name": "stdout",
          "text": [
            "Average Training Loss for Epoch 2: 1.0262521598268957\n",
            "Validation Loss after Epoch 2: 1.0367943863384426\n",
            "Epoch 3/25 - Training: product-category\n"
          ]
        },
        {
          "output_type": "stream",
          "name": "stderr",
          "text": [
            "Training Epoch 3: 100%|██████████| 255/255 [01:13<00:00,  3.49it/s, loss=0.307]\n"
          ]
        },
        {
          "output_type": "stream",
          "name": "stdout",
          "text": [
            "Average Training Loss for Epoch 3: 0.6208991337640613\n",
            "Validation Loss after Epoch 3: 0.9705143482424319\n",
            "Epoch 4/25 - Training: product-category\n"
          ]
        },
        {
          "output_type": "stream",
          "name": "stderr",
          "text": [
            "Training Epoch 4: 100%|██████████| 255/255 [01:13<00:00,  3.48it/s, loss=4.71]\n"
          ]
        },
        {
          "output_type": "stream",
          "name": "stdout",
          "text": [
            "Average Training Loss for Epoch 4: 0.35893641830805467\n",
            "Validation Loss after Epoch 4: 0.9697813126258552\n",
            "Epoch 5/25 - Training: product-category\n"
          ]
        },
        {
          "output_type": "stream",
          "name": "stderr",
          "text": [
            "Training Epoch 5: 100%|██████████| 255/255 [01:13<00:00,  3.49it/s, loss=0.0207]\n"
          ]
        },
        {
          "output_type": "stream",
          "name": "stdout",
          "text": [
            "Average Training Loss for Epoch 5: 0.19147846112940825\n",
            "Validation Loss after Epoch 5: 1.019515844527632\n",
            "Early stopping counter: 1/5\n",
            "Epoch 6/25 - Training: product-category\n"
          ]
        },
        {
          "output_type": "stream",
          "name": "stderr",
          "text": [
            "Training Epoch 6: 100%|██████████| 255/255 [01:13<00:00,  3.49it/s, loss=0.0137]\n"
          ]
        },
        {
          "output_type": "stream",
          "name": "stdout",
          "text": [
            "Average Training Loss for Epoch 6: 0.10976380524682064\n",
            "Validation Loss after Epoch 6: 1.0313474864233285\n",
            "Early stopping counter: 2/5\n",
            "Epoch 7/25 - Training: product-category\n"
          ]
        },
        {
          "output_type": "stream",
          "name": "stderr",
          "text": [
            "Training Epoch 7: 100%|██████████| 255/255 [01:13<00:00,  3.48it/s, loss=0.00433]\n"
          ]
        },
        {
          "output_type": "stream",
          "name": "stdout",
          "text": [
            "Average Training Loss for Epoch 7: 0.07095211905372494\n",
            "Validation Loss after Epoch 7: 1.0989235881716013\n",
            "Early stopping counter: 3/5\n",
            "Epoch 8/25 - Training: product-category\n"
          ]
        },
        {
          "output_type": "stream",
          "name": "stderr",
          "text": [
            "Training Epoch 8: 100%|██████████| 255/255 [01:13<00:00,  3.49it/s, loss=0.0021]\n"
          ]
        },
        {
          "output_type": "stream",
          "name": "stdout",
          "text": [
            "Average Training Loss for Epoch 8: 0.03910395023504309\n",
            "Validation Loss after Epoch 8: 1.0847301576286554\n",
            "Early stopping counter: 4/5\n",
            "Epoch 9/25 - Training: product-category\n"
          ]
        },
        {
          "output_type": "stream",
          "name": "stderr",
          "text": [
            "Training Epoch 9: 100%|██████████| 255/255 [01:13<00:00,  3.49it/s, loss=0.00142]\n"
          ]
        },
        {
          "output_type": "stream",
          "name": "stdout",
          "text": [
            "Average Training Loss for Epoch 9: 0.024250741998719818\n",
            "Validation Loss after Epoch 9: 1.097368695307523\n",
            "Early stopping counter: 5/5\n",
            "Early stopping triggered.\n"
          ]
        },
        {
          "output_type": "stream",
          "name": "stderr",
          "text": [
            "<ipython-input-19-54c1aaee6c7a>:92: FutureWarning: You are using `torch.load` with `weights_only=False` (the current default value), which uses the default pickle module implicitly. It is possible to construct malicious pickle data which will execute arbitrary code during unpickling (See https://github.com/pytorch/pytorch/blob/main/SECURITY.md#untrusted-models for more details). In a future release, the default value for `weights_only` will be flipped to `True`. This limits the functions that could be executed during unpickling. Arbitrary objects will no longer be allowed to be loaded via this mode unless they are explicitly allowlisted by the user via `torch.serialization.add_safe_globals`. We recommend you start setting `weights_only=True` for any use case where you don't have full control of the loaded file. Please open an issue on GitHub for any issues related to this experimental feature.\n",
            "  model.load_state_dict(torch.load(f\"best_model_{target}.pt\"))\n"
          ]
        },
        {
          "output_type": "stream",
          "name": "stdout",
          "text": [
            "Evaluating model for task: product-category\n"
          ]
        },
        {
          "output_type": "stream",
          "name": "stderr",
          "text": [
            "Evaluating: 100%|██████████| 64/64 [00:05<00:00, 11.13it/s]\n"
          ]
        },
        {
          "output_type": "stream",
          "name": "stdout",
          "text": [
            "F1-Score for product-category: 0.7540731385760469\n",
            "Classification Report for product-category:\n",
            "\n",
            "                                                   precision    recall  f1-score   support\n",
            "\n",
            "                              alcoholic beverages       0.71      0.71      0.71         7\n",
            "                      cereals and bakery products       0.75      0.72      0.74       123\n",
            "     cocoa and cocoa preparations, coffee and tea       0.81      0.69      0.75        49\n",
            "                                    confectionery       0.68      0.42      0.52        40\n",
            "dietetic foods, food supplements, fortified foods       0.61      0.71      0.65        24\n",
            "                                    fats and oils       1.00      0.50      0.67         4\n",
            "                                   feed materials       0.00      0.00      0.00         3\n",
            "                           food contact materials       0.00      0.00      0.00         1\n",
            "                            fruits and vegetables       0.74      0.82      0.78       112\n",
            "                                 herbs and spices       0.44      0.75      0.56        16\n",
            "                            honey and royal jelly       0.00      0.00      0.00         1\n",
            "                                ices and desserts       0.96      0.88      0.92        56\n",
            "                     meat, egg and dairy products       0.92      0.86      0.89       282\n",
            "                          non-alcoholic beverages       1.00      0.71      0.83        31\n",
            "                     nuts, nut products and seeds       0.68      0.81      0.74        63\n",
            "                       other food product / mixed       0.60      0.33      0.43         9\n",
            "                                         pet feed       1.00      0.67      0.80         6\n",
            "                       prepared dishes and snacks       0.45      0.51      0.48        90\n",
            "                                          seafood       0.88      0.88      0.88        56\n",
            "             soups, broths, sauces and condiments       0.48      0.70      0.57        43\n",
            "                                sugars and syrups       0.00      0.00      0.00         1\n",
            "\n",
            "                                         accuracy                           0.75      1017\n",
            "                                        macro avg       0.61      0.56      0.57      1017\n",
            "                                     weighted avg       0.77      0.75      0.75      1017\n",
            "\n",
            "\n",
            "Starting training for task: hazard\n"
          ]
        },
        {
          "output_type": "stream",
          "name": "stderr",
          "text": [
            "Some weights of BertForSequenceClassification were not initialized from the model checkpoint at dmis-lab/biobert-base-cased-v1.1 and are newly initialized: ['classifier.bias', 'classifier.weight']\n",
            "You should probably TRAIN this model on a down-stream task to be able to use it for predictions and inference.\n"
          ]
        },
        {
          "output_type": "stream",
          "name": "stdout",
          "text": [
            "Epoch 1/25 - Training: hazard\n"
          ]
        },
        {
          "output_type": "stream",
          "name": "stderr",
          "text": [
            "Training Epoch 1: 100%|██████████| 255/255 [01:14<00:00,  3.43it/s, loss=3.54]\n"
          ]
        },
        {
          "output_type": "stream",
          "name": "stdout",
          "text": [
            "Average Training Loss for Epoch 1: 3.1356256251241645\n",
            "Validation Loss after Epoch 1: 2.3881458435207605\n",
            "Epoch 2/25 - Training: hazard\n"
          ]
        },
        {
          "output_type": "stream",
          "name": "stderr",
          "text": [
            "Training Epoch 2: 100%|██████████| 255/255 [01:13<00:00,  3.49it/s, loss=0.0443]\n"
          ]
        },
        {
          "output_type": "stream",
          "name": "stdout",
          "text": [
            "Average Training Loss for Epoch 2: 2.00813330053991\n",
            "Validation Loss after Epoch 2: 2.039768203161657\n",
            "Epoch 3/25 - Training: hazard\n"
          ]
        },
        {
          "output_type": "stream",
          "name": "stderr",
          "text": [
            "Training Epoch 3: 100%|██████████| 255/255 [01:13<00:00,  3.49it/s, loss=0.0183]\n"
          ]
        },
        {
          "output_type": "stream",
          "name": "stdout",
          "text": [
            "Average Training Loss for Epoch 3: 1.4919777257258402\n",
            "Validation Loss after Epoch 3: 1.8825689563527703\n",
            "Epoch 4/25 - Training: hazard\n"
          ]
        },
        {
          "output_type": "stream",
          "name": "stderr",
          "text": [
            "Training Epoch 4: 100%|██████████| 255/255 [01:13<00:00,  3.49it/s, loss=0.28]\n"
          ]
        },
        {
          "output_type": "stream",
          "name": "stdout",
          "text": [
            "Average Training Loss for Epoch 4: 1.0792154898830488\n",
            "Validation Loss after Epoch 4: 1.8002545144408941\n",
            "Epoch 5/25 - Training: hazard\n"
          ]
        },
        {
          "output_type": "stream",
          "name": "stderr",
          "text": [
            "Training Epoch 5: 100%|██████████| 255/255 [01:13<00:00,  3.49it/s, loss=2.16]\n"
          ]
        },
        {
          "output_type": "stream",
          "name": "stdout",
          "text": [
            "Average Training Loss for Epoch 5: 0.7660953540135832\n",
            "Validation Loss after Epoch 5: 1.8195726815611124\n",
            "Early stopping counter: 1/5\n",
            "Epoch 6/25 - Training: hazard\n"
          ]
        },
        {
          "output_type": "stream",
          "name": "stderr",
          "text": [
            "Training Epoch 6: 100%|██████████| 255/255 [01:13<00:00,  3.48it/s, loss=0.12]\n"
          ]
        },
        {
          "output_type": "stream",
          "name": "stdout",
          "text": [
            "Average Training Loss for Epoch 6: 0.5457772553551431\n",
            "Validation Loss after Epoch 6: 1.8287476524710655\n",
            "Early stopping counter: 2/5\n",
            "Epoch 7/25 - Training: hazard\n"
          ]
        },
        {
          "output_type": "stream",
          "name": "stderr",
          "text": [
            "Training Epoch 7: 100%|██████████| 255/255 [01:13<00:00,  3.49it/s, loss=0.00436]\n"
          ]
        },
        {
          "output_type": "stream",
          "name": "stdout",
          "text": [
            "Average Training Loss for Epoch 7: 0.38325727102255414\n",
            "Validation Loss after Epoch 7: 1.8729222137480974\n",
            "Early stopping counter: 3/5\n",
            "Epoch 8/25 - Training: hazard\n"
          ]
        },
        {
          "output_type": "stream",
          "name": "stderr",
          "text": [
            "Training Epoch 8: 100%|██████████| 255/255 [01:13<00:00,  3.49it/s, loss=2.2]\n"
          ]
        },
        {
          "output_type": "stream",
          "name": "stdout",
          "text": [
            "Average Training Loss for Epoch 8: 0.26847992187329367\n",
            "Validation Loss after Epoch 8: 1.8436499992385507\n",
            "Early stopping counter: 4/5\n",
            "Epoch 9/25 - Training: hazard\n"
          ]
        },
        {
          "output_type": "stream",
          "name": "stderr",
          "text": [
            "Training Epoch 9: 100%|██████████| 255/255 [01:13<00:00,  3.49it/s, loss=0.00974]\n"
          ]
        },
        {
          "output_type": "stream",
          "name": "stdout",
          "text": [
            "Average Training Loss for Epoch 9: 0.21193741735290078\n",
            "Validation Loss after Epoch 9: 1.8296370189636946\n",
            "Early stopping counter: 5/5\n",
            "Early stopping triggered.\n"
          ]
        },
        {
          "output_type": "stream",
          "name": "stderr",
          "text": [
            "<ipython-input-19-54c1aaee6c7a>:92: FutureWarning: You are using `torch.load` with `weights_only=False` (the current default value), which uses the default pickle module implicitly. It is possible to construct malicious pickle data which will execute arbitrary code during unpickling (See https://github.com/pytorch/pytorch/blob/main/SECURITY.md#untrusted-models for more details). In a future release, the default value for `weights_only` will be flipped to `True`. This limits the functions that could be executed during unpickling. Arbitrary objects will no longer be allowed to be loaded via this mode unless they are explicitly allowlisted by the user via `torch.serialization.add_safe_globals`. We recommend you start setting `weights_only=True` for any use case where you don't have full control of the loaded file. Please open an issue on GitHub for any issues related to this experimental feature.\n",
            "  model.load_state_dict(torch.load(f\"best_model_{target}.pt\"))\n"
          ]
        },
        {
          "output_type": "stream",
          "name": "stdout",
          "text": [
            "Evaluating model for task: hazard\n"
          ]
        },
        {
          "output_type": "stream",
          "name": "stderr",
          "text": [
            "Evaluating: 100%|██████████| 64/64 [00:05<00:00, 11.12it/s]\n"
          ]
        },
        {
          "output_type": "stream",
          "name": "stdout",
          "text": [
            "F1-Score for hazard: 0.595420976617329\n",
            "Classification Report for hazard:\n",
            "\n",
            "                                                   precision    recall  f1-score   support\n",
            "\n",
            "                                        Aflatoxin       1.00      0.50      0.67         4\n",
            "                                  alcohol content       0.00      0.00      0.00         1\n",
            "                                        alkaloids       0.00      0.00      0.00         2\n",
            "                                        allergens       0.00      0.00      0.00         4\n",
            "                                           almond       0.64      0.64      0.64        14\n",
            "             altered organoleptic characteristics       0.00      0.00      0.00         2\n",
            "                                        amygdalin       0.00      0.00      0.00         2\n",
            "                           antibiotics, vet drugs       0.00      0.00      0.00         1\n",
            "                                    bacillus spp.       0.00      0.00      0.00         1\n",
            "                             bad smell / off odor       0.00      0.00      0.00         1\n",
            "                                    bone fragment       0.00      0.00      0.00         1\n",
            "                                       brazil nut       0.00      0.00      0.00         1\n",
            "                                bulging packaging       0.33      0.25      0.29         4\n",
            "                                           cashew       0.75      0.38      0.50         8\n",
            "                      celery and products thereof       1.00      0.33      0.50         3\n",
            "                                          cereals       0.00      0.00      0.00         1\n",
            "   cereals containing gluten and products thereof       0.47      0.60      0.53        43\n",
            "                                         chemical       0.00      0.00      0.00         2\n",
            "                 chemical compound (high content)       0.00      0.00      0.00         3\n",
            "                 chemical compound (unauthorised)       1.00      0.67      0.80         3\n",
            "                            clostridium botulinum       0.25      0.50      0.33         4\n",
            "                                          coconut       0.00      0.00      0.00         1\n",
            "                                        coliforms       0.00      0.00      0.00         1\n",
            "                          compositional deviation       0.00      0.00      0.00         1\n",
            "                                  cronobacter spp       0.00      0.00      0.00         2\n",
            "                 crustaceans and products thereof       1.00      0.67      0.80         3\n",
            "                                       cyclospora       0.50      1.00      0.67         1\n",
            "                                   dairy products       0.00      0.00      0.00         1\n",
            "                                          dioxins       0.00      0.00      0.00         1\n",
            "                      e 425 - konjac unauthorised       0.50      0.50      0.50         2\n",
            "                        eggs and products thereof       0.76      0.67      0.71        42\n",
            "                                    enteroviruses       1.00      1.00      1.00         1\n",
            "                                 escherichia coli       0.56      0.85      0.68        47\n",
            "                        fish and products thereof       0.75      0.38      0.50         8\n",
            "                                   foreign bodies       0.00      0.00      0.00         3\n",
            "                                   glass fragment       0.50      0.38      0.43        21\n",
            "                                         hazelnut       0.67      0.67      0.67         3\n",
            "                                     heavy metals       0.67      0.29      0.40         7\n",
            "                           high content of copper       0.00      0.00      0.00         1\n",
            "                          high content of cyanide       0.20      1.00      0.33         1\n",
            "                         high content of vitamins       1.00      1.00      1.00         1\n",
            "                              improper conditions       0.00      0.00      0.00         3\n",
            "                               improper packaging       0.00      0.00      0.00         2\n",
            "                               incorrect labeling       0.43      0.75      0.55         4\n",
            "                           incorrect use by dates       1.00      0.86      0.92         7\n",
            "                                          insects       1.00      0.50      0.67         2\n",
            "                                inspection issues       0.84      1.00      0.91        16\n",
            "             insufficient labelling/documentation       0.00      0.00      0.00         1\n",
            "                         labelling/misdescription       0.08      0.10      0.09        10\n",
            "                           listeria monocytogenes       0.79      0.83      0.81       139\n",
            "                                     listeria spp       0.00      0.00      0.00         2\n",
            "                                   metal fragment       0.95      0.56      0.70        36\n",
            "                    microbiological contamination       0.00      0.00      0.00         2\n",
            "                        milk and products thereof       0.64      0.73      0.68       108\n",
            "                                      misbranding       0.00      0.00      0.00         1\n",
            "                                   misdescription       0.00      0.00      0.00         3\n",
            "                                      mislabelled       0.00      0.00      0.00         1\n",
            "                    molluscs and products thereof       0.00      0.00      0.00         1\n",
            "                                           moulds       1.00      1.00      1.00         2\n",
            "                     mustard and products thereof       0.75      1.00      0.86         9\n",
            "                                         nitrogen       1.00      1.00      1.00         1\n",
            "                        non compliance with HACCP       0.00      0.00      0.00         1\n",
            "                                        norovirus       0.80      0.80      0.80         5\n",
            "                                             nuts       0.50      0.17      0.25         6\n",
            "                                       ochratoxin       1.00      1.00      1.00         1\n",
            "                                   organochlorine       0.00      0.00      0.00         1\n",
            "                                            other       0.38      0.48      0.42        23\n",
            "                         other misbranding issues       0.00      0.00      0.00         1\n",
            "                             other not classified       0.17      0.20      0.18         5\n",
            "          other not classified biological hazards       0.00      0.00      0.00         2\n",
            "            other not classified chemical hazards       0.00      0.00      0.00         6\n",
            "  other not classified hazards for foreign bodies       0.00      0.00      0.00         2\n",
            "                                 packaging defect       0.00      0.00      0.00         5\n",
            "       paralytic shellfish poisoning (psp) toxins       0.00      0.00      0.00         1\n",
            "                              pathogenic bacteria       0.00      0.00      0.00         2\n",
            "                                          patulin       1.00      0.50      0.67         2\n",
            "                     peanuts and products thereof       0.39      0.76      0.51        45\n",
            "                                        pecan nut       1.00      0.83      0.91         6\n",
            "                                   pieces of wood       0.00      0.00      0.00         2\n",
            "                                    pistachio nut       0.00      0.00      0.00         3\n",
            "                                 plastic fragment       0.50      0.69      0.58        39\n",
            "                 polycyclic aromatic hydrocarbons       0.00      0.00      0.00         1\n",
            "                              poor hygienic state       0.00      0.00      0.00         1\n",
            "                    poor or insufficient controls       0.00      0.00      0.00         4\n",
            "                                       processing       0.36      0.67      0.47         6\n",
            "                 product category/characteristics       0.00      0.00      0.00         1\n",
            "                                 rubber fragments       0.00      0.00      0.00         4\n",
            "                                       salmonella       0.81      0.79      0.80       121\n",
            "                sesame seeds and products thereof       0.75      0.30      0.43        10\n",
            "                    soybeans and products thereof       0.42      0.59      0.49        34\n",
            "                    specified risk material (srm)       0.00      0.00      0.00         4\n",
            "                                         spoilage       0.33      0.25      0.29         4\n",
            "                                   staphylococcus       1.00      0.67      0.80         3\n",
            "                              sulphates/sulphites       0.00      0.00      0.00         3\n",
            "                                  sulphur dioxide       1.00      0.40      0.57         5\n",
            "                    sulphur dioxide and sulphites       0.62      0.72      0.67        18\n",
            "                                        tampering       0.00      0.00      0.00         2\n",
            "                                taste disturbance       0.00      0.00      0.00         3\n",
            "too high content of fluorinated organic chemicals       0.00      0.00      0.00         2\n",
            "   too high content of tetrahydrocannabinol (THC)       0.50      1.00      0.67         2\n",
            "                                            toxin       1.00      0.38      0.55         8\n",
            "                      unauthorised colour sudan 4       0.00      0.00      0.00         0\n",
            "                              unauthorised import       0.50      1.00      0.67         1\n",
            "               unauthorised placing on the market       0.00      0.00      0.00         1\n",
            "            unauthorised substance ethylene oxide       0.82      1.00      0.90         9\n",
            "                              undeclared additive       0.00      0.00      0.00         2\n",
            "                           undeclared constituent       0.00      0.00      0.00         1\n",
            "                                            virus       0.00      0.00      0.00         1\n",
            "                                           walnut       1.00      0.60      0.75         5\n",
            "\n",
            "                                         accuracy                           0.62      1017\n",
            "                                        macro avg       0.34      0.32      0.31      1017\n",
            "                                     weighted avg       0.60      0.62      0.60      1017\n",
            "\n",
            "\n",
            "Starting training for task: product\n"
          ]
        },
        {
          "output_type": "stream",
          "name": "stderr",
          "text": [
            "Some weights of BertForSequenceClassification were not initialized from the model checkpoint at dmis-lab/biobert-base-cased-v1.1 and are newly initialized: ['classifier.bias', 'classifier.weight']\n",
            "You should probably TRAIN this model on a down-stream task to be able to use it for predictions and inference.\n"
          ]
        },
        {
          "output_type": "stream",
          "name": "stdout",
          "text": [
            "Epoch 1/25 - Training: product\n"
          ]
        },
        {
          "output_type": "stream",
          "name": "stderr",
          "text": [
            "Training Epoch 1: 100%|██████████| 255/255 [01:14<00:00,  3.43it/s, loss=6.77]\n"
          ]
        },
        {
          "output_type": "stream",
          "name": "stdout",
          "text": [
            "Average Training Loss for Epoch 1: 6.287185010723039\n",
            "Validation Loss after Epoch 1: 5.835066668689251\n",
            "Epoch 2/25 - Training: product\n"
          ]
        },
        {
          "output_type": "stream",
          "name": "stderr",
          "text": [
            "Training Epoch 2: 100%|██████████| 255/255 [01:13<00:00,  3.49it/s, loss=0.849]\n"
          ]
        },
        {
          "output_type": "stream",
          "name": "stdout",
          "text": [
            "Average Training Loss for Epoch 2: 5.197389466154809\n",
            "Validation Loss after Epoch 2: 5.192511681467295\n",
            "Epoch 3/25 - Training: product\n"
          ]
        },
        {
          "output_type": "stream",
          "name": "stderr",
          "text": [
            "Training Epoch 3: 100%|██████████| 255/255 [01:13<00:00,  3.49it/s, loss=2.62]\n"
          ]
        },
        {
          "output_type": "stream",
          "name": "stdout",
          "text": [
            "Average Training Loss for Epoch 3: 4.34722642992057\n",
            "Validation Loss after Epoch 3: 4.6527847945690155\n",
            "Epoch 4/25 - Training: product\n"
          ]
        },
        {
          "output_type": "stream",
          "name": "stderr",
          "text": [
            "Training Epoch 4: 100%|██████████| 255/255 [01:13<00:00,  3.49it/s, loss=5.93]\n"
          ]
        },
        {
          "output_type": "stream",
          "name": "stdout",
          "text": [
            "Average Training Loss for Epoch 4: 3.6290772311827717\n",
            "Validation Loss after Epoch 4: 4.37174092233181\n",
            "Epoch 5/25 - Training: product\n"
          ]
        },
        {
          "output_type": "stream",
          "name": "stderr",
          "text": [
            "Training Epoch 5: 100%|██████████| 255/255 [01:13<00:00,  3.49it/s, loss=5.26]\n"
          ]
        },
        {
          "output_type": "stream",
          "name": "stdout",
          "text": [
            "Average Training Loss for Epoch 5: 2.98111146291097\n",
            "Validation Loss after Epoch 5: 4.131615586578846\n",
            "Epoch 6/25 - Training: product\n"
          ]
        },
        {
          "output_type": "stream",
          "name": "stderr",
          "text": [
            "Training Epoch 6: 100%|██████████| 255/255 [01:13<00:00,  3.48it/s, loss=0.0443]\n"
          ]
        },
        {
          "output_type": "stream",
          "name": "stdout",
          "text": [
            "Average Training Loss for Epoch 6: 2.402602133987581\n",
            "Validation Loss after Epoch 6: 3.8971640150994062\n",
            "Epoch 7/25 - Training: product\n"
          ]
        },
        {
          "output_type": "stream",
          "name": "stderr",
          "text": [
            "Training Epoch 7: 100%|██████████| 255/255 [01:13<00:00,  3.48it/s, loss=1.59]\n"
          ]
        },
        {
          "output_type": "stream",
          "name": "stdout",
          "text": [
            "Average Training Loss for Epoch 7: 1.9303643911492592\n",
            "Validation Loss after Epoch 7: 3.787639956921339\n",
            "Epoch 8/25 - Training: product\n"
          ]
        },
        {
          "output_type": "stream",
          "name": "stderr",
          "text": [
            "Training Epoch 8: 100%|██████████| 255/255 [01:13<00:00,  3.48it/s, loss=0.132]\n"
          ]
        },
        {
          "output_type": "stream",
          "name": "stdout",
          "text": [
            "Average Training Loss for Epoch 8: 1.5477656432810951\n",
            "Validation Loss after Epoch 8: 3.7061036936938763\n",
            "Epoch 9/25 - Training: product\n"
          ]
        },
        {
          "output_type": "stream",
          "name": "stderr",
          "text": [
            "Training Epoch 9: 100%|██████████| 255/255 [01:13<00:00,  3.48it/s, loss=0.0347]\n"
          ]
        },
        {
          "output_type": "stream",
          "name": "stdout",
          "text": [
            "Average Training Loss for Epoch 9: 1.236795020468679\n",
            "Validation Loss after Epoch 9: 3.6597837414592505\n",
            "Epoch 10/25 - Training: product\n"
          ]
        },
        {
          "output_type": "stream",
          "name": "stderr",
          "text": [
            "Training Epoch 10: 100%|██████████| 255/255 [01:13<00:00,  3.49it/s, loss=0.131]\n"
          ]
        },
        {
          "output_type": "stream",
          "name": "stdout",
          "text": [
            "Average Training Loss for Epoch 10: 0.9827708984706917\n",
            "Validation Loss after Epoch 10: 3.582615030929446\n",
            "Epoch 11/25 - Training: product\n"
          ]
        },
        {
          "output_type": "stream",
          "name": "stderr",
          "text": [
            "Training Epoch 11: 100%|██████████| 255/255 [01:13<00:00,  3.49it/s, loss=1.42]\n"
          ]
        },
        {
          "output_type": "stream",
          "name": "stdout",
          "text": [
            "Average Training Loss for Epoch 11: 0.7916653808425455\n",
            "Validation Loss after Epoch 11: 3.567703701555729\n",
            "Epoch 12/25 - Training: product\n"
          ]
        },
        {
          "output_type": "stream",
          "name": "stderr",
          "text": [
            "Training Epoch 12: 100%|██████████| 255/255 [01:13<00:00,  3.48it/s, loss=0.1]\n"
          ]
        },
        {
          "output_type": "stream",
          "name": "stdout",
          "text": [
            "Average Training Loss for Epoch 12: 0.6468898795691191\n",
            "Validation Loss after Epoch 12: 3.5530740804970264\n",
            "Epoch 13/25 - Training: product\n"
          ]
        },
        {
          "output_type": "stream",
          "name": "stderr",
          "text": [
            "Training Epoch 13: 100%|██████████| 255/255 [01:13<00:00,  3.48it/s, loss=0.517]\n"
          ]
        },
        {
          "output_type": "stream",
          "name": "stdout",
          "text": [
            "Average Training Loss for Epoch 13: 0.5119451585353589\n",
            "Validation Loss after Epoch 13: 3.5429931934922934\n",
            "Epoch 14/25 - Training: product\n"
          ]
        },
        {
          "output_type": "stream",
          "name": "stderr",
          "text": [
            "Training Epoch 14: 100%|██████████| 255/255 [01:13<00:00,  3.48it/s, loss=0.0405]\n"
          ]
        },
        {
          "output_type": "stream",
          "name": "stdout",
          "text": [
            "Average Training Loss for Epoch 14: 0.41556841303028313\n",
            "Validation Loss after Epoch 14: 3.557899381965399\n",
            "Early stopping counter: 1/5\n",
            "Epoch 15/25 - Training: product\n"
          ]
        },
        {
          "output_type": "stream",
          "name": "stderr",
          "text": [
            "Training Epoch 15: 100%|██████████| 255/255 [01:13<00:00,  3.49it/s, loss=0.23]\n"
          ]
        },
        {
          "output_type": "stream",
          "name": "stdout",
          "text": [
            "Average Training Loss for Epoch 15: 0.3338605275925468\n",
            "Validation Loss after Epoch 15: 3.539125105366111\n",
            "Epoch 16/25 - Training: product\n"
          ]
        },
        {
          "output_type": "stream",
          "name": "stderr",
          "text": [
            "Training Epoch 16: 100%|██████████| 255/255 [01:13<00:00,  3.49it/s, loss=0.0127]\n"
          ]
        },
        {
          "output_type": "stream",
          "name": "stdout",
          "text": [
            "Average Training Loss for Epoch 16: 0.26405981493127695\n",
            "Validation Loss after Epoch 16: 3.56685746088624\n",
            "Early stopping counter: 1/5\n",
            "Epoch 17/25 - Training: product\n"
          ]
        },
        {
          "output_type": "stream",
          "name": "stderr",
          "text": [
            "Training Epoch 17: 100%|██████████| 255/255 [01:13<00:00,  3.48it/s, loss=0.0856]\n"
          ]
        },
        {
          "output_type": "stream",
          "name": "stdout",
          "text": [
            "Average Training Loss for Epoch 17: 0.20904818755738874\n",
            "Validation Loss after Epoch 17: 3.564756779000163\n",
            "Early stopping counter: 2/5\n",
            "Epoch 18/25 - Training: product\n"
          ]
        },
        {
          "output_type": "stream",
          "name": "stderr",
          "text": [
            "Training Epoch 18: 100%|██████████| 255/255 [01:13<00:00,  3.48it/s, loss=0.346]\n"
          ]
        },
        {
          "output_type": "stream",
          "name": "stdout",
          "text": [
            "Average Training Loss for Epoch 18: 0.16549866906568117\n",
            "Validation Loss after Epoch 18: 3.596835942938924\n",
            "Early stopping counter: 3/5\n",
            "Epoch 19/25 - Training: product\n"
          ]
        },
        {
          "output_type": "stream",
          "name": "stderr",
          "text": [
            "Training Epoch 19: 100%|██████████| 255/255 [01:13<00:00,  3.48it/s, loss=0.0362]\n"
          ]
        },
        {
          "output_type": "stream",
          "name": "stdout",
          "text": [
            "Average Training Loss for Epoch 19: 0.12614172584578104\n",
            "Validation Loss after Epoch 19: 3.585861338302493\n",
            "Early stopping counter: 4/5\n",
            "Epoch 20/25 - Training: product\n"
          ]
        },
        {
          "output_type": "stream",
          "name": "stderr",
          "text": [
            "Training Epoch 20: 100%|██████████| 255/255 [01:13<00:00,  3.49it/s, loss=0.012]\n"
          ]
        },
        {
          "output_type": "stream",
          "name": "stdout",
          "text": [
            "Average Training Loss for Epoch 20: 0.11319642818587668\n",
            "Validation Loss after Epoch 20: 3.5889666844159365\n",
            "Early stopping counter: 5/5\n",
            "Early stopping triggered.\n"
          ]
        },
        {
          "output_type": "stream",
          "name": "stderr",
          "text": [
            "<ipython-input-19-54c1aaee6c7a>:92: FutureWarning: You are using `torch.load` with `weights_only=False` (the current default value), which uses the default pickle module implicitly. It is possible to construct malicious pickle data which will execute arbitrary code during unpickling (See https://github.com/pytorch/pytorch/blob/main/SECURITY.md#untrusted-models for more details). In a future release, the default value for `weights_only` will be flipped to `True`. This limits the functions that could be executed during unpickling. Arbitrary objects will no longer be allowed to be loaded via this mode unless they are explicitly allowlisted by the user via `torch.serialization.add_safe_globals`. We recommend you start setting `weights_only=True` for any use case where you don't have full control of the loaded file. Please open an issue on GitHub for any issues related to this experimental feature.\n",
            "  model.load_state_dict(torch.load(f\"best_model_{target}.pt\"))\n"
          ]
        },
        {
          "output_type": "stream",
          "name": "stdout",
          "text": [
            "Evaluating model for task: product\n"
          ]
        },
        {
          "output_type": "stream",
          "name": "stderr",
          "text": [
            "Evaluating: 100%|██████████| 64/64 [00:05<00:00, 11.10it/s]\n"
          ]
        },
        {
          "output_type": "stream",
          "name": "stdout",
          "text": [
            "F1-Score for product: 0.4605558064660445\n",
            "Classification Report for product:\n",
            "\n",
            "                                                   precision    recall  f1-score   support\n",
            "\n",
            "                           Catfishes (freshwater)       0.75      0.60      0.67         5\n",
            "                            Fishes not identified       0.50      0.67      0.57         6\n",
            "                         Not classified pork meat       0.17      0.33      0.22         3\n",
            "                       Pangas catfishes (generic)       0.00      0.00      0.00         1\n",
            "              Precooked cooked pork meat products       0.00      0.00      0.00         1\n",
            "                                    Veggie Burger       1.00      0.50      0.67         2\n",
            "                               after dinner mints       0.00      0.00      0.00         1\n",
            "                                  alfalfa sprouts       0.00      0.00      0.00         0\n",
            "                                            algae       0.75      1.00      0.86         3\n",
            "                            all purpose seasoning       0.00      0.00      0.00         1\n",
            "                                   almond kernels       0.00      0.00      0.00         1\n",
            "                                    almond powder       0.00      0.00      0.00         0\n",
            "                                  almond products       1.00      1.00      1.00         3\n",
            "                                          almonds       0.33      0.67      0.44         3\n",
            "                                 anchovies in oil       0.00      0.00      0.00         1\n",
            "                                    anchovy paste       0.00      0.00      0.00         1\n",
            "                                       angus beef       0.00      0.00      0.00         2\n",
            "                               animal by-products       0.00      0.00      0.00         1\n",
            "                                       apple cake       0.00      0.00      0.00         1\n",
            "                                      apple juice       0.33      1.00      0.50         1\n",
            "                                           apples       0.00      0.00      0.00         0\n",
            "                                  apricot kernels       1.00      0.50      0.67         2\n",
            "                                         apricots       0.00      0.00      0.00         1\n",
            "                    assorted bread roll selection       0.00      0.00      0.00         1\n",
            "                                        baby food       1.00      0.50      0.67         2\n",
            "                                     baby spinach       0.67      1.00      0.80         2\n",
            "                                           bagels       0.50      1.00      0.67         1\n",
            "                                  bakery products       0.00      0.00      0.00         1\n",
            "                                       baking mix       0.00      0.00      0.00         1\n",
            "                                           bamboo       0.00      0.00      0.00         1\n",
            "                                    bamboo shoots       0.00      0.00      0.00         0\n",
            "                                   barbecue sauce       0.00      0.00      0.00         2\n",
            "                                             bars       1.00      1.00      1.00         2\n",
            "                                basil pesto sauce       0.50      1.00      0.67         1\n",
            "                                       bean paste       0.00      0.00      0.00         0\n",
            "                                       bean snack       0.00      0.00      0.00         1\n",
            "                                     bean sprouts       0.00      0.00      0.00         1\n",
            "                                             beef       0.33      0.29      0.31         7\n",
            "                                        beef meat       0.00      0.00      0.00         2\n",
            "                                    beef products       0.50      0.67      0.57         6\n",
            "                                      beef stewed       0.00      0.00      0.00         1\n",
            "                                      beef tallow       0.00      0.00      0.00         1\n",
            "                                      beef tongue       0.00      0.00      0.00         1\n",
            "                                   beef trimmings       0.00      0.00      0.00         0\n",
            "                                             beer       0.57      1.00      0.73         4\n",
            "                                        beetroots       0.00      0.00      0.00         0\n",
            "                                         beverage       0.00      0.00      0.00         1\n",
            "        beverage base of non-fruit origin, liquid       0.00      0.00      0.00         1\n",
            "                                         biscuits       0.50      0.50      0.50         6\n",
            "                           bitter apricot kernels       1.00      1.00      1.00         1\n",
            "                                     black pepper       0.00      0.00      0.00         0\n",
            "                                     blackberries       1.00      1.00      1.00         1\n",
            "                   blackcurrant drink concentrate       0.00      0.00      0.00         1\n",
            "                                      blue cheese       0.00      0.00      0.00         0\n",
            "                                 blue poppy seeds       0.00      0.00      0.00         1\n",
            "              boletus mushrooms, stems and pieces       0.00      0.00      0.00         1\n",
            "                            bottled mineral water       1.00      0.50      0.67         2\n",
            "                                    bottled water       0.00      0.00      0.00         0\n",
            "                                      brazil nuts       0.00      0.00      0.00         2\n",
            "                                            bread       0.33      0.25      0.29         8\n",
            "                      bread and products therefor       0.00      0.00      0.00         3\n",
            "                                      bread crumb       0.00      0.00      0.00         0\n",
            "                                breakfast cereals       0.00      0.00      0.00         1\n",
            "                     breakfast cereals for babies       0.00      0.00      0.00         1\n",
            "                                      brie cheese       1.00      1.00      1.00         1\n",
            "                                         broccoli       0.00      0.00      0.00         1\n",
            "                                     broccoli mix       0.00      0.00      0.00         0\n",
            "                                         brownies       0.00      0.00      0.00         0\n",
            "                                             buns       0.33      0.50      0.40         2\n",
            "                                          burrata       1.00      1.00      1.00         1\n",
            "                           burrito (ready to eat)       1.00      1.00      1.00         1\n",
            "                                           butter       0.00      0.00      0.00         1\n",
            "                                            cakes       0.71      0.71      0.71        17\n",
            "                                          candies       0.43      0.33      0.38         9\n",
            "                                   canned chicken       0.00      0.00      0.00         1\n",
            "                                   canned mussels       0.00      0.00      0.00         1\n",
            "                                   canned spinach       0.00      0.00      0.00         1\n",
            "                                    caramel bites       0.00      0.00      0.00         0\n",
            "                              carbonated beverage       0.00      0.00      0.00         0\n",
            "                                   cardamom seeds       0.00      0.00      0.00         1\n",
            "                                           cashew       1.00      1.00      1.00         1\n",
            "                                      cauliflower       0.00      0.00      0.00         2\n",
            "                                          cbd oil       0.00      0.00      0.00         1\n",
            "                                     cbd products       0.00      0.00      0.00         1\n",
            "                                           cereal       0.00      0.00      0.00         2\n",
            "                                      cereal bars       0.00      0.00      0.00         0\n",
            "                                          cereals       0.00      0.00      0.00         0\n",
            "                                   cheddar cheese       0.00      0.00      0.00         2\n",
            "                                           cheese       0.29      0.70      0.41        10\n",
            "                                   cheese burgers       0.00      0.00      0.00         1\n",
            "                                       cheese dip       1.00      1.00      1.00         1\n",
            "                                  cheese products       0.00      0.00      0.00         1\n",
            "                                         cherries       0.00      0.00      0.00         1\n",
            "                                       chia seeds       1.00      0.75      0.86         4\n",
            "                                          chicken       0.40      0.25      0.31         8\n",
            "                           chicken based products       0.48      0.65      0.56        23\n",
            "                                   chicken breast       0.33      1.00      0.50         1\n",
            "                                    chicken broth       0.00      0.00      0.00         1\n",
            "                                  chicken dippers       0.00      0.00      0.00         1\n",
            "                                chicken meat meal       0.00      0.00      0.00         1\n",
            "                            chicken meat products       0.00      0.00      0.00         1\n",
            "                              chicken noodle soup       0.00      0.00      0.00         1\n",
            "                                      chicken pie       0.00      0.00      0.00         0\n",
            "                             chicken preparations       0.30      0.50      0.38         6\n",
            "                        chicken products - frozen       0.00      0.00      0.00         2\n",
            "                                        chickpeas       0.00      0.00      0.00         1\n",
            "                                  chilled chicken       0.00      0.00      0.00         1\n",
            "                            chilled chicken parts       1.00      1.00      1.00         1\n",
            "                                   chilled salads       0.00      0.00      0.00         5\n",
            "                                     chilli paste       0.00      0.00      0.00         1\n",
            "                                    chilli pickle       0.00      0.00      0.00         0\n",
            "                                    chilli powder       0.00      0.00      0.00         0\n",
            "                                     chilli sauce       0.50      1.00      0.67         1\n",
            "                                        chocolate       0.80      0.50      0.62         8\n",
            "                 chocolate and chocolate products       0.00      0.00      0.00         1\n",
            "                    chocolate and hazelnut spread       0.00      0.00      0.00         2\n",
            "                  chocolate and products therefor       1.00      1.00      1.00         1\n",
            "                                   chocolate bars       0.80      0.80      0.80         5\n",
            "                                  chocolate chips       0.00      0.00      0.00         0\n",
            "                          chocolate confectionery       0.00      0.00      0.00         0\n",
            "                                   chocolate eggs       0.43      1.00      0.60         3\n",
            "                               chocolate products       0.78      0.78      0.78         9\n",
            "                                 chocolate spread       0.00      0.00      0.00         1\n",
            "                  chocolate spread with hazelnuts       0.00      0.00      0.00         1\n",
            "                                 chocolate wafers       0.50      1.00      0.67         1\n",
            "                                       chocolates       0.00      0.00      0.00         0\n",
            "                                          chorizo       0.50      0.25      0.33         4\n",
            "                                   cinnamon rolls       0.00      0.00      0.00         1\n",
            "                                            clams       0.00      0.00      0.00         1\n",
            "                                   clams (canned)       0.00      0.00      0.00         0\n",
            "                                    coconut juice       0.67      1.00      0.80         2\n",
            "                                     coconut milk       1.00      0.50      0.67         2\n",
            "                               coconut milk drink       0.00      0.00      0.00         1\n",
            "                                         coconuts       0.57      1.00      0.73         4\n",
            "                                              cod       0.00      0.00      0.00         0\n",
            "                                     coffee beans       1.00      1.00      1.00         2\n",
            "                                     coffee drink       0.00      0.00      0.00         1\n",
            "                              concentrated apples       0.00      0.00      0.00         1\n",
            "                                    confectionery       0.00      0.00      0.00         1\n",
            "                                   cooked chicken       0.25      0.67      0.36         3\n",
            "                            cooked chicken skewer       0.00      0.00      0.00         1\n",
            "                                       cooked ham       0.00      0.00      0.00         1\n",
            "                                  cooked sausages       0.00      0.00      0.00         1\n",
            "                                          cookies       0.80      0.92      0.86        13\n",
            "                                        coriander       0.00      0.00      0.00         1\n",
            "                                             corn       0.75      0.60      0.67         5\n",
            "                                   cottage cheese       0.00      0.00      0.00         1\n",
            "                                        cous cous       0.00      0.00      0.00         1\n",
            "                                  cow milk cheese       0.00      0.00      0.00         1\n",
            "                                            crabs       0.00      0.00      0.00         0\n",
            "                                         crackers       0.00      0.00      0.00         2\n",
            "                                     cream cheese       1.00      0.50      0.67         2\n",
            "                              cream chocolate pie       0.00      0.00      0.00         1\n",
            "                               crisp cheese snack       0.00      0.00      0.00         0\n",
            "                                           crisps       0.00      0.00      0.00         1\n",
            "                                       croissants       1.00      1.00      1.00         1\n",
            "                 crustaceans and products thereof       0.00      0.00      0.00         1\n",
            "                                         cupcakes       0.00      0.00      0.00         2\n",
            "                                       cured loin       0.00      0.00      0.00         1\n",
            "                                            curry       1.00      1.00      1.00         1\n",
            "                                          custard       0.00      0.00      0.00         1\n",
            "                    dark chocolate coated almonds       0.00      0.00      0.00         0\n",
            "                                  dark chocolates       0.58      1.00      0.74         7\n",
            "                                            dates       1.00      1.00      1.00         2\n",
            "                                         desserts       0.75      0.75      0.75         4\n",
            "                               dietary supplement       0.33      0.25      0.29         4\n",
            "dietetic foods, food supplements, fortified foods       0.00      0.00      0.00         2\n",
            "                                        dip-sauce       0.67      0.50      0.57         4\n",
            "                                    dipping sauce       0.00      0.00      0.00         1\n",
            "                                           donuts       0.50      0.50      0.50         2\n",
            "                                         dressing       0.00      0.00      0.00         1\n",
            "                                  dressing sauces       0.00      0.00      0.00         0\n",
            "                                  dried anchovies       0.00      0.00      0.00         1\n",
            "                                     dried apples       0.00      0.00      0.00         1\n",
            "                                   dried apricots       0.67      1.00      0.80         4\n",
            "                                  dried beef meat       1.00      1.00      1.00         7\n",
            "                                    dried coconut       1.00      1.00      1.00         1\n",
            "                                dried cranberries       0.00      0.00      0.00         1\n",
            "                                       dried figs       1.00      1.00      1.00         2\n",
            "                                  dried fruit mix       0.00      0.00      0.00         1\n",
            "                                     dried fruits       1.00      1.00      1.00         1\n",
            "                      dried fruits with chocolate       0.00      0.00      0.00         2\n",
            "                                  dried mushrooms       1.00      1.00      1.00         2\n",
            "                                      dried plums       1.00      1.00      1.00         2\n",
            "                                    dried sausage       0.00      0.00      0.00         1\n",
            "                               dried strawberries       0.00      0.00      0.00         1\n",
            "                                      dry sausage       0.00      0.00      0.00         1\n",
            "                                             duck       0.67      1.00      0.80         2\n",
            "                                        dumplings       0.33      0.67      0.44         3\n",
            "                                      edam cheese       0.00      0.00      0.00         1\n",
            "                                             eggs       0.83      0.71      0.77         7\n",
            "                            eggs and egg products       0.00      0.00      0.00         1\n",
            "                          energy and protein bars       0.00      0.00      0.00         1\n",
            "                                   feed materials       0.00      0.00      0.00         3\n",
            "                                     fennel seeds       1.00      1.00      1.00         1\n",
            "                                      feta cheese       1.00      0.20      0.33         5\n",
            "                           fish and fish products       0.00      0.00      0.00         0\n",
            "                                    fish products       0.00      0.00      0.00         2\n",
            "         flavoured fresh and creamy cheese spread       0.00      0.00      0.00         1\n",
            "                             flavoured soft drink       0.00      0.00      0.00         1\n",
            "              flavoured whey protein preparations       0.00      0.00      0.00         2\n",
            "                                         flavours       0.00      0.00      0.00         0\n",
            "                                            flour       1.00      0.75      0.86         4\n",
            "                                        foie gras       0.00      0.00      0.00         1\n",
            "                                  food supplement       0.00      0.00      0.00         1\n",
            "                                       fresh beef       0.00      0.00      0.00         1\n",
            "                                  fresh beef meat       0.00      0.00      0.00         1\n",
            "                                   fresh broccoli       0.00      0.00      0.00         0\n",
            "                                  fresh mushrooms       0.80      1.00      0.89         4\n",
            "                                    fresh parsley       0.50      1.00      0.67         1\n",
            "                                       fresh pork       1.00      1.00      1.00         1\n",
            "               fresh processed beef meat products       0.00      0.00      0.00         2\n",
            "                                 fresh vegetables       1.00      0.50      0.67         2\n",
            "                                      frozen beef       0.00      0.00      0.00         1\n",
            "                              frozen beef patties       0.12      0.50      0.20         2\n",
            "                             frozen beef products       0.00      0.00      0.00         1\n",
            "                               frozen beef tongue       0.00      0.00      0.00         0\n",
            "                                  frozen broccoli       0.00      0.00      0.00         1\n",
            "                               frozen burger buns       0.00      0.00      0.00         1\n",
            "                                   frozen burgers       0.00      0.00      0.00         1\n",
            "                                   frozen chicken       0.00      0.00      0.00         1\n",
            "                              frozen fish fillets       0.50      1.00      0.67         1\n",
            "                               frozen green beans       0.00      0.00      0.00         1\n",
            "                                frozen hamburgers       0.00      0.00      0.00         1\n",
            "                               frozen hash browns       0.00      0.00      0.00         1\n",
            "                                   frozen lobster       1.00      1.00      1.00         1\n",
            "                                  frozen pancakes       0.00      0.00      0.00         1\n",
            "                                      frozen peas       0.33      1.00      0.50         1\n",
            "                                   frozen peppers       0.00      0.00      0.00         1\n",
            "                                       frozen pie       0.00      0.00      0.00         1\n",
            "                                     frozen pizza       1.00      0.67      0.80         3\n",
            "                         frozen pork preparations       0.00      0.00      0.00         1\n",
            "                                  frozen potatoes       0.00      0.00      0.00         0\n",
            "                                   frozen poultry       0.00      0.00      0.00         1\n",
            "                      frozen poultry preparations       0.00      0.00      0.00         1\n",
            "                          frozen poultry products       0.00      0.00      0.00         2\n",
            "                     frozen ready to cook chicken       0.00      0.00      0.00         1\n",
            "                                   frozen seafood       0.00      0.00      0.00         0\n",
            "                                frozen strawberry       0.00      0.00      0.00         0\n",
            "                                frozen vegetables       0.33      1.00      0.50         1\n",
            "                         frozen vegetarian cutlet       0.00      0.00      0.00         1\n",
            "                                frozen whole fish       0.00      0.00      0.00         1\n",
            "                                       fruit bars       0.00      0.00      0.00         0\n",
            "                                      fruit juice       0.50      0.33      0.40         3\n",
            "                                        fruit mix       0.00      0.00      0.00         0\n",
            "                                       fruit pies       0.00      0.00      0.00         0\n",
            "                                      fruit punch       1.00      1.00      1.00         1\n",
            "                            fruits and vegetables       0.00      0.00      0.00         1\n",
            "                                    garlic powder       0.00      0.00      0.00         1\n",
            "                                      goat cheese       0.50      1.00      0.67         1\n",
            "                          golden raisins/sultanas       0.00      0.00      0.00         0\n",
            "                                            gouda       0.00      0.00      0.00         1\n",
            "                                     gouda cheese       0.00      0.00      0.00         1\n",
            "                                          granola       0.40      1.00      0.57         2\n",
            "                                   grated coconut       1.00      1.00      1.00         2\n",
            "                                        gravy mix       1.00      1.00      1.00         1\n",
            "                                       green bean       0.00      0.00      0.00         0\n",
            "                                      green pesto       0.00      0.00      0.00         0\n",
            "                             grissini breadsticks       0.00      0.00      0.00         1\n",
            "                                   ground almonds       0.00      0.00      0.00         1\n",
            "                                      ground beef       0.27      0.44      0.33         9\n",
            "                                 ground beef meat       0.00      0.00      0.00         1\n",
            "                              ground black pepper       0.00      0.00      0.00         1\n",
            "                                  halloumi cheese       1.00      0.50      0.67         4\n",
            "                                            halva       0.50      1.00      0.67         1\n",
            "                                              ham       0.57      0.50      0.53         8\n",
            "                                        hazelnuts       0.00      0.00      0.00         0\n",
            "                                         hemp oil       0.00      0.00      0.00         0\n",
            "                                          herring       1.00      0.50      0.67         4\n",
            "                                            honey       0.50      1.00      0.67         1\n",
            "                              horseradish in jars       1.00      1.00      1.00         1\n",
            "                                         hot dogs       1.00      1.00      1.00         1\n",
            "                                        ice cream       0.98      0.90      0.94        50\n",
            "                                   infant formula       1.00      1.00      1.00         3\n",
            "                                   instant cereal       0.00      0.00      0.00         1\n",
            "                                   instant coffee       0.00      0.00      0.00         1\n",
            "                                              jam       0.67      0.40      0.50         5\n",
            "                                          jellies       0.60      0.75      0.67         4\n",
            "                                      juice drink       0.00      0.00      0.00         0\n",
            "                                           juices       0.00      0.00      0.00         0\n",
            "                                             kale       1.00      1.00      1.00         2\n",
            "                                          ketchup       0.00      0.00      0.00         1\n",
            "                                             lamb       0.00      0.00      0.00         0\n",
            "                                          lasagne       1.00      0.67      0.80         3\n",
            "                            lemonade (lemon soda)       1.00      1.00      1.00         1\n",
            "                                          lentils       1.00      1.00      1.00         1\n",
            "                                          lettuce       1.00      1.00      1.00         1\n",
            "                                 liquid egg white       1.00      1.00      1.00         1\n",
            "                           liquid food supplement       0.00      0.00      0.00         1\n",
            "                                           lokoum       0.00      0.00      0.00         1\n",
            "                                        lollipops       1.00      1.00      1.00         1\n",
            "                                  long grain rice       0.00      0.00      0.00         1\n",
            "                                    luncheon meat       0.00      0.00      0.00         1\n",
            "                                      lupin seeds       0.00      0.00      0.00         1\n",
            "                                   macadamia nuts       1.00      1.00      1.00         1\n",
            "                                         mackerel       1.00      0.50      0.67         2\n",
            "                                            maize       1.00      0.50      0.67         2\n",
            "                                        margarine       0.00      0.00      0.00         1\n",
            "                           marinated chicken meat       0.00      0.00      0.00         1\n",
            "                                      marshmalows       0.00      0.00      0.00         1\n",
            "                                 masala spice mix       0.00      0.00      0.00         1\n",
            "                        mashed chickpeas (hummus)       0.75      1.00      0.86         3\n",
            "                            massala spice mixture       0.00      0.00      0.00         0\n",
            "                                       mayonnaise       0.00      0.00      0.00         1\n",
            "      meat and meat products (other than poultry)       0.00      0.00      0.00         2\n",
            "                                        meat loaf       0.00      0.00      0.00         1\n",
            "                                meat preparations       0.00      0.00      0.00         1\n",
            "                     meat, egg and dairy products       0.00      0.00      0.00         1\n",
            "              mechanically separated chicken meat       0.00      0.00      0.00         1\n",
            "                                             milk       0.62      0.71      0.67         7\n",
            "                   milk chocolate covered raisins       1.00      1.00      1.00         3\n",
            "                                  milk chocolates       1.00      0.33      0.50         3\n",
            "                                    milk products       1.00      0.50      0.67         2\n",
            "                                    milk proteins       0.00      0.00      0.00         0\n",
            "                                      minced beef       0.67      1.00      0.80         2\n",
            "                                   minced chicken       0.00      0.00      0.00         1\n",
            "                      mitragyna speciosa (kratom)       1.00      1.00      1.00         3\n",
            "                                      mix of nuts       0.00      0.00      0.00         1\n",
            "                                      mixed salad       0.00      0.00      0.00         1\n",
            "                                 mixed vegetables       0.00      0.00      0.00         2\n",
            "                                         moussaka       0.00      0.00      0.00         1\n",
            "                                       mozzarella       0.00      0.00      0.00         0\n",
            "                                mozzarella cheese       0.00      0.00      0.00         1\n",
            "                                           muesli       0.83      0.83      0.83         6\n",
            "                                          muffins       1.00      1.00      1.00         2\n",
            "                                        mushrooms       0.00      0.00      0.00         1\n",
            "                                          mussels       0.00      0.00      0.00         0\n",
            "                                          mustard       1.00      0.50      0.67         2\n",
            "                               non-alcoholic beer       0.00      0.00      0.00         1\n",
            "                          non-alcoholic beverages       0.00      0.00      0.00         1\n",
            "                                      noodle soup       0.00      0.00      0.00         1\n",
            "                                          noodles       0.50      0.67      0.57         3\n",
            "                                           nougat       0.00      0.00      0.00         1\n",
            "                                          nut mix       0.00      0.00      0.00         1\n",
            "                               nut-almond mixture       0.00      0.00      0.00         1\n",
            "                                  nutrition shake       0.00      0.00      0.00         1\n",
            "                                             nuts       0.00      0.00      0.00         2\n",
            "                                             oats       1.00      1.00      1.00         1\n",
            "                                        olive oil       1.00      1.00      1.00         1\n",
            "                                           olives       1.00      1.00      1.00         2\n",
            "                                           onions       0.50      1.00      0.67         3\n",
            "                                     orange juice       0.00      0.00      0.00         1\n",
            "                               orange sugar paste       0.00      0.00      0.00         1\n",
            "                                          oregano       0.00      0.00      0.00         1\n",
            "                           organic chilled hummus       0.00      0.00      0.00         1\n",
            "                             other dairy products       0.00      0.00      0.00         2\n",
            "               other not classified meat products       0.33      0.75      0.46         4\n",
            "                              other types of meat       1.00      0.33      0.50         6\n",
            "                         other water-based drinks       0.00      0.00      0.00         3\n",
            "                                          oysters       1.00      0.80      0.89         5\n",
            "                                           paella       1.00      1.00      1.00         1\n",
            "                                         palm oil       1.00      1.00      1.00         1\n",
            "                                         pancakes       0.50      0.50      0.50         2\n",
            "                                           papaya       1.00      1.00      1.00         1\n",
            "                                          parsley       0.00      0.00      0.00         1\n",
            "                                            pasta       0.25      0.50      0.33         2\n",
            "                                   pasta products       0.00      0.00      0.00         0\n",
            "                                 pasteurized milk       0.00      0.00      0.00         1\n",
            "                                           pastry       0.00      0.00      0.00         1\n",
            "                                  pastry products       0.43      0.60      0.50         5\n",
            "                                          peanuts       0.62      0.91      0.74        11\n",
            "                                       pear juice       0.00      0.00      0.00         1\n",
            "                                            pesto       0.00      0.00      0.00         1\n",
            "                                         pet feed       0.62      0.83      0.71         6\n",
            "                                 pickled beetroot       0.00      0.00      0.00         1\n",
            "                             pickled grape leaves       1.00      1.00      1.00         1\n",
            "                                  pickled peppers       0.00      0.00      0.00         1\n",
            "                                  pig meat - pork       0.67      1.00      0.80         2\n",
            "                                        pine nuts       0.00      0.00      0.00         1\n",
            "                                   pistachio nuts       0.88      0.88      0.88         8\n",
            "                                            pizza       0.50      1.00      0.67         1\n",
            "                                         plastics       0.00      0.00      0.00         1\n",
            "                  plum bread &amp; butter pudding       0.00      0.00      0.00         1\n",
            "                                            poppy       0.00      0.00      0.00         0\n",
            "                                         pork pie       0.00      0.00      0.00         1\n",
            "                                 pork preparation       1.00      0.50      0.67         2\n",
            "                                     pork sausage       0.50      1.00      0.67         3\n",
            "                                     potato chips       1.00      0.75      0.86         4\n",
            "                                potato croquettes       0.00      0.00      0.00         1\n",
            "                                     potato salad       1.00      1.00      1.00         1\n",
            "                                         potatoes       0.75      1.00      0.86         3\n",
            "                                          poultry       0.00      0.00      0.00         1\n",
            "                                     poultry meat       0.00      0.00      0.00         1\n",
            "                                   prawn crackers       0.00      0.00      0.00         1\n",
            "                                           prawns       0.33      1.00      0.50         1\n",
            "              precooked cooked beef meat products       1.00      0.40      0.57         5\n",
            "                                  prepacked salad       0.00      0.00      0.00         2\n",
            "                                    prepared dish       0.00      0.00      0.00         1\n",
            "                  prepared dish containing prawns       0.00      0.00      0.00         1\n",
            "                                  prepared dishes       0.00      0.00      0.00         0\n",
            "                       prepared dishes and snacks       0.00      0.00      0.00         0\n",
            "                                  prepared salads       0.00      0.00      0.00         4\n",
            "                                    pretzel stick       0.00      0.00      0.00         0\n",
            "                                         pretzels       1.00      1.00      1.00         1\n",
            "                                    protein balls       0.00      0.00      0.00         2\n",
            "                                      protein bar       1.00      0.50      0.67         2\n",
            "                                     protein bars       0.00      0.00      0.00         1\n",
            "                                    protein drink       0.00      0.00      0.00         1\n",
            "                                   protein powder       0.67      0.67      0.67         3\n",
            "                                          pudding       0.25      1.00      0.40         1\n",
            "                                      puffed rice       0.00      0.00      0.00         1\n",
            "                                             pâté       0.40      1.00      0.57         2\n",
            "                                           quinoa       0.00      0.00      0.00         0\n",
            "                                quorn preparation       0.00      0.00      0.00         1\n",
            "                                          raisins       0.00      0.00      0.00         1\n",
            "                                      raspberries       1.00      0.33      0.50         3\n",
            "                                    raw beef meat       0.60      0.43      0.50         7\n",
            "                            raw cow's milk cheese       0.00      0.00      0.00         1\n",
            "                             raw goat milk cheese       1.00      1.00      1.00         1\n",
            "                                         raw milk       0.00      0.00      0.00         4\n",
            "                        raw milk cheese reblochon       0.00      0.00      0.00         1\n",
            "         ready cooked sliced chicken tikka breast       0.00      0.00      0.00         1\n",
            "                        ready to eat - cook meals       0.05      0.07      0.06        14\n",
            "                      ready-to-eat seafood sticks       0.00      0.00      0.00         1\n",
            "                                       red chilli       0.00      0.00      0.00         1\n",
            "                                     refreshments       0.00      0.00      0.00         1\n",
            "                                             rice       0.00      0.00      0.00         2\n",
            "                                       rice cakes       0.50      1.00      0.67         1\n",
            "                                    rice crackers       0.50      1.00      0.67         1\n",
            "                                        rice meal       0.00      0.00      0.00         1\n",
            "                                       rice snack       0.20      0.50      0.29         2\n",
            "                                   ricotta cheese       1.00      1.00      1.00         1\n",
            "                                   salad dressing       0.00      0.00      0.00         2\n",
            "                                           salads       0.40      0.67      0.50        12\n",
            "                                           salami       1.00      0.25      0.40         4\n",
            "                                           salmon       0.89      0.89      0.89         9\n",
            "                                             salt       0.00      0.00      0.00         2\n",
            "                                 salted anchovies       0.00      0.00      0.00         0\n",
            "                                 sandwich filling       0.00      0.00      0.00         1\n",
            "                                       sandwiches       0.88      0.78      0.82         9\n",
            "                                            sauce       0.00      0.00      0.00         5\n",
            "                                           sauces       0.14      0.50      0.22         2\n",
            "                                          sausage       0.20      0.29      0.24         7\n",
            "                                 sausage products       0.00      0.00      0.00         1\n",
            "                                          seafood       0.00      0.00      0.00         1\n",
            "                                 seafood products       0.00      0.00      0.00         0\n",
            "                                 seasoned chicken       0.00      0.00      0.00         1\n",
            "                                        seasoning       0.17      0.50      0.25         2\n",
            "                                  seasoning sauce       0.00      0.00      0.00         1\n",
            "                                       seasonings       0.00      0.00      0.00         1\n",
            "                             seaweed preparations       0.00      0.00      0.00         1\n",
            "                                        seed mixe       0.00      0.00      0.00         1\n",
            "                                 semi-soft cheese       0.00      0.00      0.00         0\n",
            "                                           sesame       0.00      0.00      0.00         0\n",
            "                                       sesame oil       0.00      0.00      0.00         0\n",
            "                                     sesame paste       0.40      1.00      0.57         2\n",
            "                                  sesame seed oil       0.00      0.00      0.00         1\n",
            "                                     sesame seeds       1.00      1.00      1.00         1\n",
            "                                          shrimps       0.80      0.80      0.80         5\n",
            "                                       sliced ham       0.50      0.50      0.50         2\n",
            "                                   smoked sausage       0.00      0.00      0.00         4\n",
            "                                   snack crackers       0.50      1.00      0.67         1\n",
            "                                        snack mix       0.50      0.43      0.46         7\n",
            "                                 snacks (various)       1.00      0.33      0.50         3\n",
            "                                       soda drink       0.00      0.00      0.00         1\n",
            "                                      soft drinks       0.00      0.00      0.00         1\n",
            "                                             soup       0.56      0.83      0.67         6\n",
            "                                   soy bean paste       0.00      0.00      0.00         1\n",
            "                                 soy milk product       0.00      0.00      0.00         1\n",
            "                                        soy sauce       0.00      0.00      0.00         1\n",
            "                       soya and products therefor       0.00      0.00      0.00         1\n",
            "                                       soya drink       1.00      1.00      1.00         1\n",
            "                                        spice mix       0.00      0.00      0.00         1\n",
            "                                           spices       0.00      0.00      0.00         1\n",
            "                                          spinach       0.00      0.00      0.00         0\n",
            "                                   spinach leaves       0.00      0.00      0.00         1\n",
            "                                      sport drink       0.50      1.00      0.67         1\n",
            "                                           spread       0.00      0.00      0.00         0\n",
            "                                          spreads       0.00      0.00      0.00         0\n",
            "                                     spring rolls       0.25      1.00      0.40         2\n",
            "                                     spring water       0.50      1.00      0.67         1\n",
            "                                          sprouts       1.00      1.00      1.00         1\n",
            "                                            squid       0.00      0.00      0.00         0\n",
            "                                   stuffed pastry       0.00      0.00      0.00         1\n",
            "                                            sugar       1.00      1.00      1.00         1\n",
            "                                   sunflower seed       0.67      0.86      0.75         7\n",
            "                                           sweets       0.00      0.00      0.00         1\n",
            "                                      swiss rolls       0.00      0.00      0.00         1\n",
            "                                       taco sauce       0.00      0.00      0.00         1\n",
            "                                           tahini       0.71      0.71      0.71         7\n",
            "                            tahini (sesame paste)       0.00      0.00      0.00         1\n",
            "                                              tea       0.25      1.00      0.40         1\n",
            "                                         tea bags       0.00      0.00      0.00         1\n",
            "                                        tea drink       0.00      0.00      0.00         1\n",
            "                      thermal processed beef meat       0.00      0.00      0.00         3\n",
            "                      thermal processed pork meat       0.27      0.43      0.33         7\n",
            "                                             tofu       0.33      0.50      0.40         2\n",
            "                                     tomato sauce       0.00      0.00      0.00         0\n",
            "                                   tortilla chips       0.67      0.67      0.67         3\n",
            "                            tortilla chips cheese       0.00      0.00      0.00         1\n",
            "                                           trouts       0.00      0.00      0.00         0\n",
            "                                             tuna       1.00      0.60      0.75         5\n",
            "                                           turkey       0.00      0.00      0.00         0\n",
            "                   turkey and turkey preparations       0.43      0.60      0.50         5\n",
            "                            turkey based products       0.00      0.00      0.00         3\n",
            "                                  turkey sandwich       0.00      0.00      0.00         0\n",
            "              turnip leaves in sunflower seed oil       0.00      0.00      0.00         0\n",
            "                                   tzatziki sauce       0.00      0.00      0.00         1\n",
            "                          various bakery products       0.00      0.00      0.00         2\n",
            "                                  various cheeses       0.00      0.00      0.00         1\n",
            "                    various chicken meat products       0.00      0.00      0.00         1\n",
            "                           various pasta products       0.00      0.00      0.00         1\n",
            "                          various prepared dishes       0.00      0.00      0.00         0\n",
            "                                             veal       0.00      0.00      0.00         0\n",
            "                                   vegan sausages       0.00      0.00      0.00         1\n",
            "                         vegetable based products       0.00      0.00      0.00         1\n",
            "                             vegetable crispbakes       0.00      0.00      0.00         0\n",
            "                                    vegetable mix       0.00      0.00      0.00         2\n",
            "                            vegetable preparation       0.00      0.00      0.00         1\n",
            "                     vegetable ready to eat meals       0.00      0.00      0.00         1\n",
            "                                vegetable samosas       1.00      1.00      1.00         1\n",
            "                                       vegetables       0.00      0.00      0.00         1\n",
            "                              vitamins supplement       0.00      0.00      0.00         1\n",
            "                                           wafers       0.00      0.00      0.00         1\n",
            "                                          waffles       0.67      1.00      0.80         2\n",
            "                                          walnuts       1.00      0.50      0.67         2\n",
            "                               weight loss coffee       0.00      0.00      0.00         0\n",
            "                                      wheat snack       0.00      0.00      0.00         1\n",
            "                                     whey protein       0.50      1.00      0.67         1\n",
            "                                           whisky       0.00      0.00      0.00         1\n",
            "                              white lasagna sauce       0.00      0.00      0.00         1\n",
            "                                             wine       1.00      1.00      1.00         2\n",
            "                                            wraps       0.00      0.00      0.00         4\n",
            "                                          yoghurt       0.57      0.80      0.67         5\n",
            "\n",
            "                                         accuracy                           0.49      1017\n",
            "                                        macro avg       0.27      0.30      0.27      1017\n",
            "                                     weighted avg       0.48      0.49      0.46      1017\n",
            "\n",
            "\n",
            "Training and Evaluating for Text Tasks:\n",
            "\n",
            "Starting training for task: hazard-category\n"
          ]
        },
        {
          "output_type": "stream",
          "name": "stderr",
          "text": [
            "Some weights of BertForSequenceClassification were not initialized from the model checkpoint at dmis-lab/biobert-base-cased-v1.1 and are newly initialized: ['classifier.bias', 'classifier.weight']\n",
            "You should probably TRAIN this model on a down-stream task to be able to use it for predictions and inference.\n"
          ]
        },
        {
          "output_type": "stream",
          "name": "stdout",
          "text": [
            "Epoch 1/25 - Training: hazard-category\n"
          ]
        },
        {
          "output_type": "stream",
          "name": "stderr",
          "text": [
            "Training Epoch 1: 100%|██████████| 255/255 [01:25<00:00,  2.99it/s, loss=0.0756]\n"
          ]
        },
        {
          "output_type": "stream",
          "name": "stdout",
          "text": [
            "Average Training Loss for Epoch 1: 0.5871426617397981\n",
            "Validation Loss after Epoch 1: 0.34109166043344885\n",
            "Epoch 2/25 - Training: hazard-category\n"
          ]
        },
        {
          "output_type": "stream",
          "name": "stderr",
          "text": [
            "Training Epoch 2: 100%|██████████| 255/255 [01:24<00:00,  3.03it/s, loss=0.0126]\n"
          ]
        },
        {
          "output_type": "stream",
          "name": "stdout",
          "text": [
            "Average Training Loss for Epoch 2: 0.28107682288642605\n",
            "Validation Loss after Epoch 2: 0.25387111617601477\n",
            "Epoch 3/25 - Training: hazard-category\n"
          ]
        },
        {
          "output_type": "stream",
          "name": "stderr",
          "text": [
            "Training Epoch 3: 100%|██████████| 255/255 [01:24<00:00,  3.03it/s, loss=0.0025]\n"
          ]
        },
        {
          "output_type": "stream",
          "name": "stdout",
          "text": [
            "Average Training Loss for Epoch 3: 0.18668679867451096\n",
            "Validation Loss after Epoch 3: 0.2638106846716255\n",
            "Early stopping counter: 1/5\n",
            "Epoch 4/25 - Training: hazard-category\n"
          ]
        },
        {
          "output_type": "stream",
          "name": "stderr",
          "text": [
            "Training Epoch 4: 100%|██████████| 255/255 [01:24<00:00,  3.03it/s, loss=0.00229]\n"
          ]
        },
        {
          "output_type": "stream",
          "name": "stdout",
          "text": [
            "Average Training Loss for Epoch 4: 0.15125678902327577\n",
            "Validation Loss after Epoch 4: 0.21985904933535494\n",
            "Epoch 5/25 - Training: hazard-category\n"
          ]
        },
        {
          "output_type": "stream",
          "name": "stderr",
          "text": [
            "Training Epoch 5: 100%|██████████| 255/255 [01:24<00:00,  3.03it/s, loss=0.00175]\n"
          ]
        },
        {
          "output_type": "stream",
          "name": "stdout",
          "text": [
            "Average Training Loss for Epoch 5: 0.10898015240992548\n",
            "Validation Loss after Epoch 5: 0.25588769937166944\n",
            "Early stopping counter: 1/5\n",
            "Epoch 6/25 - Training: hazard-category\n"
          ]
        },
        {
          "output_type": "stream",
          "name": "stderr",
          "text": [
            "Training Epoch 6: 100%|██████████| 255/255 [01:24<00:00,  3.03it/s, loss=0.0874]\n"
          ]
        },
        {
          "output_type": "stream",
          "name": "stdout",
          "text": [
            "Average Training Loss for Epoch 6: 0.08956126586588867\n",
            "Validation Loss after Epoch 6: 0.22791999306355137\n",
            "Early stopping counter: 2/5\n",
            "Epoch 7/25 - Training: hazard-category\n"
          ]
        },
        {
          "output_type": "stream",
          "name": "stderr",
          "text": [
            "Training Epoch 7: 100%|██████████| 255/255 [01:24<00:00,  3.03it/s, loss=0.0046]\n"
          ]
        },
        {
          "output_type": "stream",
          "name": "stdout",
          "text": [
            "Average Training Loss for Epoch 7: 0.07820594150153007\n",
            "Validation Loss after Epoch 7: 0.265801327634108\n",
            "Early stopping counter: 3/5\n",
            "Epoch 8/25 - Training: hazard-category\n"
          ]
        },
        {
          "output_type": "stream",
          "name": "stderr",
          "text": [
            "Training Epoch 8: 100%|██████████| 255/255 [01:24<00:00,  3.03it/s, loss=0.00276]\n"
          ]
        },
        {
          "output_type": "stream",
          "name": "stdout",
          "text": [
            "Average Training Loss for Epoch 8: 0.03240363457988875\n",
            "Validation Loss after Epoch 8: 0.2714330933195015\n",
            "Early stopping counter: 4/5\n",
            "Epoch 9/25 - Training: hazard-category\n"
          ]
        },
        {
          "output_type": "stream",
          "name": "stderr",
          "text": [
            "Training Epoch 9: 100%|██████████| 255/255 [01:24<00:00,  3.03it/s, loss=0.0414]\n"
          ]
        },
        {
          "output_type": "stream",
          "name": "stdout",
          "text": [
            "Average Training Loss for Epoch 9: 0.01785263269272286\n",
            "Validation Loss after Epoch 9: 0.28461519072880037\n",
            "Early stopping counter: 5/5\n",
            "Early stopping triggered.\n"
          ]
        },
        {
          "output_type": "stream",
          "name": "stderr",
          "text": [
            "<ipython-input-19-54c1aaee6c7a>:92: FutureWarning: You are using `torch.load` with `weights_only=False` (the current default value), which uses the default pickle module implicitly. It is possible to construct malicious pickle data which will execute arbitrary code during unpickling (See https://github.com/pytorch/pytorch/blob/main/SECURITY.md#untrusted-models for more details). In a future release, the default value for `weights_only` will be flipped to `True`. This limits the functions that could be executed during unpickling. Arbitrary objects will no longer be allowed to be loaded via this mode unless they are explicitly allowlisted by the user via `torch.serialization.add_safe_globals`. We recommend you start setting `weights_only=True` for any use case where you don't have full control of the loaded file. Please open an issue on GitHub for any issues related to this experimental feature.\n",
            "  model.load_state_dict(torch.load(f\"best_model_{target}.pt\"))\n"
          ]
        },
        {
          "output_type": "stream",
          "name": "stdout",
          "text": [
            "Evaluating model for task: hazard-category\n"
          ]
        },
        {
          "output_type": "stream",
          "name": "stderr",
          "text": [
            "Evaluating: 100%|██████████| 64/64 [00:06<00:00,  9.45it/s]\n"
          ]
        },
        {
          "output_type": "stream",
          "name": "stdout",
          "text": [
            "F1-Score for hazard-category: 0.9404410788193238\n",
            "Classification Report for hazard-category:\n",
            "\n",
            "                                precision    recall  f1-score   support\n",
            "\n",
            "                     allergens       0.95      0.97      0.96       377\n",
            "                    biological       0.99      0.99      0.99       339\n",
            "                      chemical       0.88      0.97      0.92        68\n",
            "food additives and flavourings       0.50      0.40      0.44         5\n",
            "                foreign bodies       0.98      0.99      0.99       111\n",
            "                         fraud       0.80      0.69      0.74        68\n",
            "                     migration       0.00      0.00      0.00         1\n",
            "          organoleptic aspects       0.64      0.90      0.75        10\n",
            "                  other hazard       0.75      0.67      0.71        27\n",
            "              packaging defect       1.00      0.45      0.62        11\n",
            "\n",
            "                      accuracy                           0.94      1017\n",
            "                     macro avg       0.75      0.70      0.71      1017\n",
            "                  weighted avg       0.94      0.94      0.94      1017\n",
            "\n",
            "\n",
            "Starting training for task: product-category\n"
          ]
        },
        {
          "output_type": "stream",
          "name": "stderr",
          "text": [
            "Some weights of BertForSequenceClassification were not initialized from the model checkpoint at dmis-lab/biobert-base-cased-v1.1 and are newly initialized: ['classifier.bias', 'classifier.weight']\n",
            "You should probably TRAIN this model on a down-stream task to be able to use it for predictions and inference.\n"
          ]
        },
        {
          "output_type": "stream",
          "name": "stdout",
          "text": [
            "Epoch 1/25 - Training: product-category\n"
          ]
        },
        {
          "output_type": "stream",
          "name": "stderr",
          "text": [
            "Training Epoch 1: 100%|██████████| 255/255 [01:25<00:00,  2.99it/s, loss=2.68]\n"
          ]
        },
        {
          "output_type": "stream",
          "name": "stdout",
          "text": [
            "Average Training Loss for Epoch 1: 2.3007026335772345\n",
            "Validation Loss after Epoch 1: 2.140275876969099\n",
            "Epoch 2/25 - Training: product-category\n"
          ]
        },
        {
          "output_type": "stream",
          "name": "stderr",
          "text": [
            "Training Epoch 2: 100%|██████████| 255/255 [01:23<00:00,  3.05it/s, loss=1.8]\n"
          ]
        },
        {
          "output_type": "stream",
          "name": "stdout",
          "text": [
            "Average Training Loss for Epoch 2: 2.0568174245310766\n",
            "Validation Loss after Epoch 2: 1.988776994869113\n",
            "Epoch 3/25 - Training: product-category\n"
          ]
        },
        {
          "output_type": "stream",
          "name": "stderr",
          "text": [
            "Training Epoch 3: 100%|██████████| 255/255 [01:23<00:00,  3.04it/s, loss=0.305]\n"
          ]
        },
        {
          "output_type": "stream",
          "name": "stdout",
          "text": [
            "Average Training Loss for Epoch 3: 1.8152829427345127\n",
            "Validation Loss after Epoch 3: 1.6987481554970145\n",
            "Epoch 4/25 - Training: product-category\n"
          ]
        },
        {
          "output_type": "stream",
          "name": "stderr",
          "text": [
            "Training Epoch 4: 100%|██████████| 255/255 [01:24<00:00,  3.03it/s, loss=1.49]\n"
          ]
        },
        {
          "output_type": "stream",
          "name": "stdout",
          "text": [
            "Average Training Loss for Epoch 4: 1.3514968242131027\n",
            "Validation Loss after Epoch 4: 1.3094891039654613\n",
            "Epoch 5/25 - Training: product-category\n"
          ]
        },
        {
          "output_type": "stream",
          "name": "stderr",
          "text": [
            "Training Epoch 5: 100%|██████████| 255/255 [01:23<00:00,  3.04it/s, loss=0.0318]\n"
          ]
        },
        {
          "output_type": "stream",
          "name": "stdout",
          "text": [
            "Average Training Loss for Epoch 5: 1.0917525384502083\n",
            "Validation Loss after Epoch 5: 1.1158345462754369\n",
            "Epoch 6/25 - Training: product-category\n"
          ]
        },
        {
          "output_type": "stream",
          "name": "stderr",
          "text": [
            "Training Epoch 6: 100%|██████████| 255/255 [01:24<00:00,  3.04it/s, loss=0.0819]\n"
          ]
        },
        {
          "output_type": "stream",
          "name": "stdout",
          "text": [
            "Average Training Loss for Epoch 6: 0.7217575621078997\n",
            "Validation Loss after Epoch 6: 1.1329219951294363\n",
            "Early stopping counter: 1/5\n",
            "Epoch 7/25 - Training: product-category\n"
          ]
        },
        {
          "output_type": "stream",
          "name": "stderr",
          "text": [
            "Training Epoch 7: 100%|██████████| 255/255 [01:24<00:00,  3.03it/s, loss=0.135]\n"
          ]
        },
        {
          "output_type": "stream",
          "name": "stdout",
          "text": [
            "Average Training Loss for Epoch 7: 0.4990827176792949\n",
            "Validation Loss after Epoch 7: 1.1384462183341384\n",
            "Early stopping counter: 2/5\n",
            "Epoch 8/25 - Training: product-category\n"
          ]
        },
        {
          "output_type": "stream",
          "name": "stderr",
          "text": [
            "Training Epoch 8: 100%|██████████| 255/255 [01:24<00:00,  3.03it/s, loss=0.136]\n"
          ]
        },
        {
          "output_type": "stream",
          "name": "stdout",
          "text": [
            "Average Training Loss for Epoch 8: 0.35667272331375705\n",
            "Validation Loss after Epoch 8: 1.1345398868434131\n",
            "Early stopping counter: 3/5\n",
            "Epoch 9/25 - Training: product-category\n"
          ]
        },
        {
          "output_type": "stream",
          "name": "stderr",
          "text": [
            "Training Epoch 9: 100%|██████████| 255/255 [01:24<00:00,  3.03it/s, loss=0.0454]\n"
          ]
        },
        {
          "output_type": "stream",
          "name": "stdout",
          "text": [
            "Average Training Loss for Epoch 9: 0.18477513744842772\n",
            "Validation Loss after Epoch 9: 1.1006520583759993\n",
            "Epoch 10/25 - Training: product-category\n"
          ]
        },
        {
          "output_type": "stream",
          "name": "stderr",
          "text": [
            "Training Epoch 10: 100%|██████████| 255/255 [01:24<00:00,  3.03it/s, loss=0.00421]\n"
          ]
        },
        {
          "output_type": "stream",
          "name": "stdout",
          "text": [
            "Average Training Loss for Epoch 10: 0.12365285598435531\n",
            "Validation Loss after Epoch 10: 1.1226495334412903\n",
            "Early stopping counter: 1/5\n",
            "Epoch 11/25 - Training: product-category\n"
          ]
        },
        {
          "output_type": "stream",
          "name": "stderr",
          "text": [
            "Training Epoch 11: 100%|██████████| 255/255 [01:24<00:00,  3.03it/s, loss=0.0038]\n"
          ]
        },
        {
          "output_type": "stream",
          "name": "stdout",
          "text": [
            "Average Training Loss for Epoch 11: 0.09573516423777476\n",
            "Validation Loss after Epoch 11: 1.1502299767453223\n",
            "Early stopping counter: 2/5\n",
            "Epoch 12/25 - Training: product-category\n"
          ]
        },
        {
          "output_type": "stream",
          "name": "stderr",
          "text": [
            "Training Epoch 12: 100%|██████████| 255/255 [01:24<00:00,  3.03it/s, loss=0.00646]\n"
          ]
        },
        {
          "output_type": "stream",
          "name": "stdout",
          "text": [
            "Average Training Loss for Epoch 12: 0.0744402129842224\n",
            "Validation Loss after Epoch 12: 1.178855327423662\n",
            "Early stopping counter: 3/5\n",
            "Epoch 13/25 - Training: product-category\n"
          ]
        },
        {
          "output_type": "stream",
          "name": "stderr",
          "text": [
            "Training Epoch 13: 100%|██████████| 255/255 [01:24<00:00,  3.03it/s, loss=0.00604]\n"
          ]
        },
        {
          "output_type": "stream",
          "name": "stdout",
          "text": [
            "Average Training Loss for Epoch 13: 0.06132496409848624\n",
            "Validation Loss after Epoch 13: 1.1784462700597942\n",
            "Early stopping counter: 4/5\n",
            "Epoch 14/25 - Training: product-category\n"
          ]
        },
        {
          "output_type": "stream",
          "name": "stderr",
          "text": [
            "Training Epoch 14: 100%|██████████| 255/255 [01:24<00:00,  3.03it/s, loss=0.00486]\n"
          ]
        },
        {
          "output_type": "stream",
          "name": "stdout",
          "text": [
            "Average Training Loss for Epoch 14: 0.05762032814616082\n",
            "Validation Loss after Epoch 14: 1.1823344703298062\n",
            "Early stopping counter: 5/5\n",
            "Early stopping triggered.\n"
          ]
        },
        {
          "output_type": "stream",
          "name": "stderr",
          "text": [
            "<ipython-input-19-54c1aaee6c7a>:92: FutureWarning: You are using `torch.load` with `weights_only=False` (the current default value), which uses the default pickle module implicitly. It is possible to construct malicious pickle data which will execute arbitrary code during unpickling (See https://github.com/pytorch/pytorch/blob/main/SECURITY.md#untrusted-models for more details). In a future release, the default value for `weights_only` will be flipped to `True`. This limits the functions that could be executed during unpickling. Arbitrary objects will no longer be allowed to be loaded via this mode unless they are explicitly allowlisted by the user via `torch.serialization.add_safe_globals`. We recommend you start setting `weights_only=True` for any use case where you don't have full control of the loaded file. Please open an issue on GitHub for any issues related to this experimental feature.\n",
            "  model.load_state_dict(torch.load(f\"best_model_{target}.pt\"))\n"
          ]
        },
        {
          "output_type": "stream",
          "name": "stdout",
          "text": [
            "Evaluating model for task: product-category\n"
          ]
        },
        {
          "output_type": "stream",
          "name": "stderr",
          "text": [
            "Evaluating: 100%|██████████| 64/64 [00:06<00:00,  9.44it/s]\n"
          ]
        },
        {
          "output_type": "stream",
          "name": "stdout",
          "text": [
            "F1-Score for product-category: 0.7472008834874513\n",
            "Classification Report for product-category:\n",
            "\n",
            "                                                   precision    recall  f1-score   support\n",
            "\n",
            "                              alcoholic beverages       0.71      0.71      0.71         7\n",
            "                      cereals and bakery products       0.70      0.72      0.71       123\n",
            "     cocoa and cocoa preparations, coffee and tea       0.77      0.73      0.75        49\n",
            "                                    confectionery       0.46      0.45      0.46        40\n",
            "dietetic foods, food supplements, fortified foods       0.73      0.79      0.76        24\n",
            "                                    fats and oils       0.67      0.50      0.57         4\n",
            "                                   feed materials       0.00      0.00      0.00         3\n",
            "                   food additives and flavourings       0.00      0.00      0.00         0\n",
            "                           food contact materials       0.00      0.00      0.00         1\n",
            "                            fruits and vegetables       0.73      0.82      0.77       112\n",
            "                                 herbs and spices       0.54      0.81      0.65        16\n",
            "                            honey and royal jelly       0.00      0.00      0.00         1\n",
            "                                ices and desserts       0.92      0.88      0.90        56\n",
            "                     meat, egg and dairy products       0.91      0.90      0.91       282\n",
            "                          non-alcoholic beverages       0.88      0.68      0.76        31\n",
            "                     nuts, nut products and seeds       0.78      0.68      0.73        63\n",
            "                       other food product / mixed       0.08      0.11      0.09         9\n",
            "                                         pet feed       0.67      0.67      0.67         6\n",
            "                       prepared dishes and snacks       0.48      0.46      0.47        90\n",
            "                                          seafood       0.81      0.84      0.82        56\n",
            "             soups, broths, sauces and condiments       0.59      0.63      0.61        43\n",
            "                                sugars and syrups       0.50      1.00      0.67         1\n",
            "\n",
            "                                         accuracy                           0.75      1017\n",
            "                                        macro avg       0.54      0.56      0.55      1017\n",
            "                                     weighted avg       0.75      0.75      0.75      1017\n",
            "\n",
            "\n",
            "Starting training for task: hazard\n"
          ]
        },
        {
          "output_type": "stream",
          "name": "stderr",
          "text": [
            "Some weights of BertForSequenceClassification were not initialized from the model checkpoint at dmis-lab/biobert-base-cased-v1.1 and are newly initialized: ['classifier.bias', 'classifier.weight']\n",
            "You should probably TRAIN this model on a down-stream task to be able to use it for predictions and inference.\n"
          ]
        },
        {
          "output_type": "stream",
          "name": "stdout",
          "text": [
            "Epoch 1/25 - Training: hazard\n"
          ]
        },
        {
          "output_type": "stream",
          "name": "stderr",
          "text": [
            "Training Epoch 1: 100%|██████████| 255/255 [01:25<00:00,  2.99it/s, loss=4.21]\n"
          ]
        },
        {
          "output_type": "stream",
          "name": "stdout",
          "text": [
            "Average Training Loss for Epoch 1: 2.621822358112709\n",
            "Validation Loss after Epoch 1: 1.5108891343697906\n",
            "Epoch 2/25 - Training: hazard\n"
          ]
        },
        {
          "output_type": "stream",
          "name": "stderr",
          "text": [
            "Training Epoch 2: 100%|██████████| 255/255 [01:24<00:00,  3.02it/s, loss=4.49]\n"
          ]
        },
        {
          "output_type": "stream",
          "name": "stdout",
          "text": [
            "Average Training Loss for Epoch 2: 1.1984890492523417\n",
            "Validation Loss after Epoch 2: 1.1247173133306205\n",
            "Epoch 3/25 - Training: hazard\n"
          ]
        },
        {
          "output_type": "stream",
          "name": "stderr",
          "text": [
            "Training Epoch 3: 100%|██████████| 255/255 [01:24<00:00,  3.02it/s, loss=0.0211]\n"
          ]
        },
        {
          "output_type": "stream",
          "name": "stdout",
          "text": [
            "Average Training Loss for Epoch 3: 0.8400494390989051\n",
            "Validation Loss after Epoch 3: 0.9427493214607239\n",
            "Epoch 4/25 - Training: hazard\n"
          ]
        },
        {
          "output_type": "stream",
          "name": "stderr",
          "text": [
            "Training Epoch 4: 100%|██████████| 255/255 [01:24<00:00,  3.02it/s, loss=0.0301]\n"
          ]
        },
        {
          "output_type": "stream",
          "name": "stdout",
          "text": [
            "Average Training Loss for Epoch 4: 0.613024930400299\n",
            "Validation Loss after Epoch 4: 0.8511855482356623\n",
            "Epoch 5/25 - Training: hazard\n"
          ]
        },
        {
          "output_type": "stream",
          "name": "stderr",
          "text": [
            "Training Epoch 5: 100%|██████████| 255/255 [01:24<00:00,  3.02it/s, loss=0.0155]\n"
          ]
        },
        {
          "output_type": "stream",
          "name": "stdout",
          "text": [
            "Average Training Loss for Epoch 5: 0.45601792094462057\n",
            "Validation Loss after Epoch 5: 0.8264280882431194\n",
            "Epoch 6/25 - Training: hazard\n"
          ]
        },
        {
          "output_type": "stream",
          "name": "stderr",
          "text": [
            "Training Epoch 6: 100%|██████████| 255/255 [01:24<00:00,  3.02it/s, loss=0.0111]\n"
          ]
        },
        {
          "output_type": "stream",
          "name": "stdout",
          "text": [
            "Average Training Loss for Epoch 6: 0.33962089251361643\n",
            "Validation Loss after Epoch 6: 0.7991745021718089\n",
            "Epoch 7/25 - Training: hazard\n"
          ]
        },
        {
          "output_type": "stream",
          "name": "stderr",
          "text": [
            "Training Epoch 7: 100%|██████████| 255/255 [01:24<00:00,  3.01it/s, loss=0.0845]\n"
          ]
        },
        {
          "output_type": "stream",
          "name": "stdout",
          "text": [
            "Average Training Loss for Epoch 7: 0.24869923384166231\n",
            "Validation Loss after Epoch 7: 0.8053500618552789\n",
            "Early stopping counter: 1/5\n",
            "Epoch 8/25 - Training: hazard\n"
          ]
        },
        {
          "output_type": "stream",
          "name": "stderr",
          "text": [
            "Training Epoch 8: 100%|██████████| 255/255 [01:24<00:00,  3.01it/s, loss=0.373]\n"
          ]
        },
        {
          "output_type": "stream",
          "name": "stdout",
          "text": [
            "Average Training Loss for Epoch 8: 0.1950328236299695\n",
            "Validation Loss after Epoch 8: 0.8230063410010189\n",
            "Early stopping counter: 2/5\n",
            "Epoch 9/25 - Training: hazard\n"
          ]
        },
        {
          "output_type": "stream",
          "name": "stderr",
          "text": [
            "Training Epoch 9: 100%|██████████| 255/255 [01:24<00:00,  3.02it/s, loss=0.014]\n"
          ]
        },
        {
          "output_type": "stream",
          "name": "stdout",
          "text": [
            "Average Training Loss for Epoch 9: 0.15079908273821951\n",
            "Validation Loss after Epoch 9: 0.8352539735496975\n",
            "Early stopping counter: 3/5\n",
            "Epoch 10/25 - Training: hazard\n"
          ]
        },
        {
          "output_type": "stream",
          "name": "stderr",
          "text": [
            "Training Epoch 10: 100%|██████████| 255/255 [01:24<00:00,  3.02it/s, loss=0.0413]\n"
          ]
        },
        {
          "output_type": "stream",
          "name": "stdout",
          "text": [
            "Average Training Loss for Epoch 10: 0.09245947003729788\n",
            "Validation Loss after Epoch 10: 0.8122221869416535\n",
            "Early stopping counter: 4/5\n",
            "Epoch 11/25 - Training: hazard\n"
          ]
        },
        {
          "output_type": "stream",
          "name": "stderr",
          "text": [
            "Training Epoch 11: 100%|██████████| 255/255 [01:24<00:00,  3.02it/s, loss=0.00215]\n"
          ]
        },
        {
          "output_type": "stream",
          "name": "stdout",
          "text": [
            "Average Training Loss for Epoch 11: 0.0709541798971009\n",
            "Validation Loss after Epoch 11: 0.811869148266851\n",
            "Early stopping counter: 5/5\n",
            "Early stopping triggered.\n"
          ]
        },
        {
          "output_type": "stream",
          "name": "stderr",
          "text": [
            "<ipython-input-19-54c1aaee6c7a>:92: FutureWarning: You are using `torch.load` with `weights_only=False` (the current default value), which uses the default pickle module implicitly. It is possible to construct malicious pickle data which will execute arbitrary code during unpickling (See https://github.com/pytorch/pytorch/blob/main/SECURITY.md#untrusted-models for more details). In a future release, the default value for `weights_only` will be flipped to `True`. This limits the functions that could be executed during unpickling. Arbitrary objects will no longer be allowed to be loaded via this mode unless they are explicitly allowlisted by the user via `torch.serialization.add_safe_globals`. We recommend you start setting `weights_only=True` for any use case where you don't have full control of the loaded file. Please open an issue on GitHub for any issues related to this experimental feature.\n",
            "  model.load_state_dict(torch.load(f\"best_model_{target}.pt\"))\n"
          ]
        },
        {
          "output_type": "stream",
          "name": "stdout",
          "text": [
            "Evaluating model for task: hazard\n"
          ]
        },
        {
          "output_type": "stream",
          "name": "stderr",
          "text": [
            "Evaluating: 100%|██████████| 64/64 [00:06<00:00,  9.45it/s]\n"
          ]
        },
        {
          "output_type": "stream",
          "name": "stdout",
          "text": [
            "F1-Score for hazard: 0.8311036411873514\n",
            "Classification Report for hazard:\n",
            "\n",
            "                                                   precision    recall  f1-score   support\n",
            "\n",
            "                                        Aflatoxin       1.00      1.00      1.00         4\n",
            "                                   abnormal smell       0.00      0.00      0.00         0\n",
            "                                  alcohol content       0.00      0.00      0.00         1\n",
            "                                        alkaloids       0.00      0.00      0.00         2\n",
            "                                        allergens       0.00      0.00      0.00         4\n",
            "                                           almond       0.82      1.00      0.90        14\n",
            "             altered organoleptic characteristics       0.00      0.00      0.00         2\n",
            "                                        amygdalin       0.00      0.00      0.00         2\n",
            "                           antibiotics, vet drugs       1.00      1.00      1.00         1\n",
            "                                    bacillus spp.       1.00      1.00      1.00         1\n",
            "                             bad smell / off odor       0.00      0.00      0.00         1\n",
            "                                    bone fragment       0.50      1.00      0.67         1\n",
            "                                       brazil nut       0.00      0.00      0.00         1\n",
            "                                bulging packaging       0.00      0.00      0.00         4\n",
            "                                           cashew       1.00      0.25      0.40         8\n",
            "                      celery and products thereof       0.00      0.00      0.00         3\n",
            "                                          cereals       0.00      0.00      0.00         1\n",
            "   cereals containing gluten and products thereof       0.85      0.91      0.88        43\n",
            "                                         chemical       0.00      0.00      0.00         2\n",
            "                 chemical compound (high content)       0.67      0.67      0.67         3\n",
            "                 chemical compound (unauthorised)       1.00      1.00      1.00         3\n",
            "                            clostridium botulinum       0.50      1.00      0.67         4\n",
            "                                          coconut       0.00      0.00      0.00         1\n",
            "                                        coliforms       1.00      1.00      1.00         1\n",
            "                          compositional deviation       0.00      0.00      0.00         1\n",
            "                                  cronobacter spp       0.67      1.00      0.80         2\n",
            "                 crustaceans and products thereof       0.60      1.00      0.75         3\n",
            "                                       cyclospora       1.00      1.00      1.00         1\n",
            "                                   dairy products       0.00      0.00      0.00         1\n",
            "                                          dioxins       1.00      1.00      1.00         1\n",
            "                      e 425 - konjac unauthorised       1.00      0.50      0.67         2\n",
            "                        eggs and products thereof       0.84      0.86      0.85        42\n",
            "                                    enteroviruses       1.00      1.00      1.00         1\n",
            "                                 escherichia coli       1.00      0.98      0.99        47\n",
            "                        fish and products thereof       1.00      0.88      0.93         8\n",
            "                                   foreign bodies       0.20      0.33      0.25         3\n",
            "                                   glass fragment       1.00      0.95      0.98        21\n",
            "                                         hazelnut       0.75      1.00      0.86         3\n",
            "                                     heavy metals       0.70      1.00      0.82         7\n",
            "                           high content of copper       1.00      1.00      1.00         1\n",
            "                          high content of cyanide       0.25      1.00      0.40         1\n",
            "                         high content of vitamins       1.00      1.00      1.00         1\n",
            "                              improper conditions       0.00      0.00      0.00         3\n",
            "                               improper packaging       0.00      0.00      0.00         2\n",
            "                               incorrect labeling       0.25      0.25      0.25         4\n",
            "                           incorrect use by dates       0.88      1.00      0.93         7\n",
            "                                          insects       0.50      1.00      0.67         2\n",
            "                                inspection issues       0.83      0.94      0.88        16\n",
            "             insufficient labelling/documentation       0.00      0.00      0.00         1\n",
            "                         labelling/misdescription       0.71      0.50      0.59        10\n",
            "                           listeria monocytogenes       0.98      0.99      0.98       139\n",
            "                                     listeria spp       0.00      0.00      0.00         2\n",
            "                                   metal fragment       0.94      0.86      0.90        36\n",
            "                    microbiological contamination       0.33      0.50      0.40         2\n",
            "                        milk and products thereof       0.91      0.95      0.93       108\n",
            "                                      misbranding       0.00      0.00      0.00         1\n",
            "                                   misdescription       0.00      0.00      0.00         3\n",
            "                                      mislabelled       0.00      0.00      0.00         1\n",
            "                    molluscs and products thereof       0.00      0.00      0.00         1\n",
            "                                           moulds       1.00      1.00      1.00         2\n",
            "                     mustard and products thereof       0.75      1.00      0.86         9\n",
            "                                         nitrogen       1.00      1.00      1.00         1\n",
            "                        non compliance with HACCP       0.00      0.00      0.00         1\n",
            "                                        norovirus       1.00      1.00      1.00         5\n",
            "                                             nuts       0.27      0.50      0.35         6\n",
            "                                       ochratoxin       1.00      1.00      1.00         1\n",
            "                                   organochlorine       1.00      1.00      1.00         1\n",
            "                                            other       0.56      0.39      0.46        23\n",
            "                         other misbranding issues       0.00      0.00      0.00         1\n",
            "                             other not classified       0.44      0.80      0.57         5\n",
            "          other not classified biological hazards       1.00      0.50      0.67         2\n",
            "            other not classified chemical hazards       0.67      1.00      0.80         6\n",
            "  other not classified hazards for foreign bodies       0.00      0.00      0.00         2\n",
            "                                 packaging defect       0.60      0.60      0.60         5\n",
            "                                             pahs       0.00      0.00      0.00         0\n",
            "       paralytic shellfish poisoning (psp) toxins       0.00      0.00      0.00         1\n",
            "                              pathogenic bacteria       0.00      0.00      0.00         2\n",
            "                                          patulin       1.00      1.00      1.00         2\n",
            "                     peanuts and products thereof       0.93      0.93      0.93        45\n",
            "                                        pecan nut       1.00      0.83      0.91         6\n",
            "                                   pieces of wood       1.00      1.00      1.00         2\n",
            "                                    pistachio nut       1.00      1.00      1.00         3\n",
            "                                 plastic fragment       0.87      0.87      0.87        39\n",
            "                 polycyclic aromatic hydrocarbons       0.50      1.00      0.67         1\n",
            "                              poor hygienic state       0.00      0.00      0.00         1\n",
            "                    poor or insufficient controls       0.00      0.00      0.00         4\n",
            "                                       processing       0.71      0.83      0.77         6\n",
            "                 product category/characteristics       0.00      0.00      0.00         1\n",
            "                                 rubber fragments       0.60      0.75      0.67         4\n",
            "                                       salmonella       0.97      0.97      0.97       121\n",
            "                sesame seeds and products thereof       1.00      0.90      0.95        10\n",
            "                    soybeans and products thereof       0.71      0.88      0.79        34\n",
            "                    specified risk material (srm)       1.00      0.50      0.67         4\n",
            "                                         spoilage       0.40      1.00      0.57         4\n",
            "                                   staphylococcus       0.75      1.00      0.86         3\n",
            "                                           stones       0.00      0.00      0.00         0\n",
            "                              sulphates/sulphites       0.00      0.00      0.00         3\n",
            "                                  sulphur dioxide       1.00      0.80      0.89         5\n",
            "                    sulphur dioxide and sulphites       0.72      1.00      0.84        18\n",
            "                                        tampering       0.00      0.00      0.00         2\n",
            "                                taste disturbance       1.00      0.33      0.50         3\n",
            "too high content of fluorinated organic chemicals       0.00      0.00      0.00         2\n",
            "   too high content of tetrahydrocannabinol (THC)       1.00      1.00      1.00         2\n",
            "                                            toxin       1.00      1.00      1.00         8\n",
            "                              unauthorised import       0.33      1.00      0.50         1\n",
            "                            unauthorised operator       0.00      0.00      0.00         0\n",
            "               unauthorised placing on the market       1.00      1.00      1.00         1\n",
            "            unauthorised substance ethylene oxide       1.00      1.00      1.00         9\n",
            "                unauthorised substance sildenafil       0.00      0.00      0.00         0\n",
            "                              undeclared additive       0.33      0.50      0.40         2\n",
            "                           undeclared constituent       0.00      0.00      0.00         1\n",
            "                                            virus       1.00      1.00      1.00         1\n",
            "                                           walnut       0.80      0.80      0.80         5\n",
            "                                           yeasts       0.00      0.00      0.00         0\n",
            "\n",
            "                                         accuracy                           0.85      1017\n",
            "                                        macro avg       0.52      0.56      0.53      1017\n",
            "                                     weighted avg       0.83      0.85      0.83      1017\n",
            "\n",
            "\n",
            "Starting training for task: product\n"
          ]
        },
        {
          "output_type": "stream",
          "name": "stderr",
          "text": [
            "Some weights of BertForSequenceClassification were not initialized from the model checkpoint at dmis-lab/biobert-base-cased-v1.1 and are newly initialized: ['classifier.bias', 'classifier.weight']\n",
            "You should probably TRAIN this model on a down-stream task to be able to use it for predictions and inference.\n"
          ]
        },
        {
          "output_type": "stream",
          "name": "stdout",
          "text": [
            "Epoch 1/25 - Training: product\n"
          ]
        },
        {
          "output_type": "stream",
          "name": "stderr",
          "text": [
            "Training Epoch 1: 100%|██████████| 255/255 [01:25<00:00,  2.98it/s, loss=7.33]\n"
          ]
        },
        {
          "output_type": "stream",
          "name": "stdout",
          "text": [
            "Average Training Loss for Epoch 1: 6.418222027198941\n",
            "Validation Loss after Epoch 1: 6.1445318683981895\n",
            "Epoch 2/25 - Training: product\n"
          ]
        },
        {
          "output_type": "stream",
          "name": "stderr",
          "text": [
            "Training Epoch 2: 100%|██████████| 255/255 [01:24<00:00,  3.02it/s, loss=6.4]\n"
          ]
        },
        {
          "output_type": "stream",
          "name": "stdout",
          "text": [
            "Average Training Loss for Epoch 2: 5.592692917468501\n",
            "Validation Loss after Epoch 2: 5.464671976864338\n",
            "Epoch 3/25 - Training: product\n"
          ]
        },
        {
          "output_type": "stream",
          "name": "stderr",
          "text": [
            "Training Epoch 3: 100%|██████████| 255/255 [01:24<00:00,  3.02it/s, loss=3.91]\n"
          ]
        },
        {
          "output_type": "stream",
          "name": "stdout",
          "text": [
            "Average Training Loss for Epoch 3: 4.788304378472122\n",
            "Validation Loss after Epoch 3: 4.968546129763126\n",
            "Epoch 4/25 - Training: product\n"
          ]
        },
        {
          "output_type": "stream",
          "name": "stderr",
          "text": [
            "Training Epoch 4: 100%|██████████| 255/255 [01:24<00:00,  3.02it/s, loss=0.453]\n"
          ]
        },
        {
          "output_type": "stream",
          "name": "stdout",
          "text": [
            "Average Training Loss for Epoch 4: 4.0679486825185665\n",
            "Validation Loss after Epoch 4: 4.615313034504652\n",
            "Epoch 5/25 - Training: product\n"
          ]
        },
        {
          "output_type": "stream",
          "name": "stderr",
          "text": [
            "Training Epoch 5: 100%|██████████| 255/255 [01:24<00:00,  3.02it/s, loss=3.04]\n"
          ]
        },
        {
          "output_type": "stream",
          "name": "stdout",
          "text": [
            "Average Training Loss for Epoch 5: 3.4224094456317378\n",
            "Validation Loss after Epoch 5: 4.277819439768791\n",
            "Epoch 6/25 - Training: product\n"
          ]
        },
        {
          "output_type": "stream",
          "name": "stderr",
          "text": [
            "Training Epoch 6: 100%|██████████| 255/255 [01:24<00:00,  3.02it/s, loss=2.44]\n"
          ]
        },
        {
          "output_type": "stream",
          "name": "stdout",
          "text": [
            "Average Training Loss for Epoch 6: 2.8695041922961964\n",
            "Validation Loss after Epoch 6: 4.079962357878685\n",
            "Epoch 7/25 - Training: product\n"
          ]
        },
        {
          "output_type": "stream",
          "name": "stderr",
          "text": [
            "Training Epoch 7: 100%|██████████| 255/255 [01:24<00:00,  3.02it/s, loss=2]\n"
          ]
        },
        {
          "output_type": "stream",
          "name": "stdout",
          "text": [
            "Average Training Loss for Epoch 7: 2.363180484491236\n",
            "Validation Loss after Epoch 7: 3.8857953250408173\n",
            "Epoch 8/25 - Training: product\n"
          ]
        },
        {
          "output_type": "stream",
          "name": "stderr",
          "text": [
            "Training Epoch 8: 100%|██████████| 255/255 [01:24<00:00,  3.02it/s, loss=0.256]\n"
          ]
        },
        {
          "output_type": "stream",
          "name": "stdout",
          "text": [
            "Average Training Loss for Epoch 8: 1.9272261839286953\n",
            "Validation Loss after Epoch 8: 3.7880012579262257\n",
            "Epoch 9/25 - Training: product\n"
          ]
        },
        {
          "output_type": "stream",
          "name": "stderr",
          "text": [
            "Training Epoch 9: 100%|██████████| 255/255 [01:24<00:00,  3.01it/s, loss=0.0177]\n"
          ]
        },
        {
          "output_type": "stream",
          "name": "stdout",
          "text": [
            "Average Training Loss for Epoch 9: 1.555369784427332\n",
            "Validation Loss after Epoch 9: 3.6673634350299835\n",
            "Epoch 10/25 - Training: product\n"
          ]
        },
        {
          "output_type": "stream",
          "name": "stderr",
          "text": [
            "Training Epoch 10: 100%|██████████| 255/255 [01:24<00:00,  3.02it/s, loss=0.301]\n"
          ]
        },
        {
          "output_type": "stream",
          "name": "stdout",
          "text": [
            "Average Training Loss for Epoch 10: 1.241038884602341\n",
            "Validation Loss after Epoch 10: 3.5565393157303333\n",
            "Epoch 11/25 - Training: product\n"
          ]
        },
        {
          "output_type": "stream",
          "name": "stderr",
          "text": [
            "Training Epoch 11: 100%|██████████| 255/255 [01:24<00:00,  3.01it/s, loss=1.05]\n"
          ]
        },
        {
          "output_type": "stream",
          "name": "stdout",
          "text": [
            "Average Training Loss for Epoch 11: 0.9793613128802355\n",
            "Validation Loss after Epoch 11: 3.535614613443613\n",
            "Epoch 12/25 - Training: product\n"
          ]
        },
        {
          "output_type": "stream",
          "name": "stderr",
          "text": [
            "Training Epoch 12: 100%|██████████| 255/255 [01:24<00:00,  3.02it/s, loss=2.81]\n"
          ]
        },
        {
          "output_type": "stream",
          "name": "stdout",
          "text": [
            "Average Training Loss for Epoch 12: 0.807302915465598\n",
            "Validation Loss after Epoch 12: 3.537238648161292\n",
            "Early stopping counter: 1/5\n",
            "Epoch 13/25 - Training: product\n"
          ]
        },
        {
          "output_type": "stream",
          "name": "stderr",
          "text": [
            "Training Epoch 13: 100%|██████████| 255/255 [01:24<00:00,  3.01it/s, loss=0.0226]\n"
          ]
        },
        {
          "output_type": "stream",
          "name": "stdout",
          "text": [
            "Average Training Loss for Epoch 13: 0.649142706102016\n",
            "Validation Loss after Epoch 13: 3.5163584500551224\n",
            "Epoch 14/25 - Training: product\n"
          ]
        },
        {
          "output_type": "stream",
          "name": "stderr",
          "text": [
            "Training Epoch 14: 100%|██████████| 255/255 [01:24<00:00,  3.02it/s, loss=0.949]\n"
          ]
        },
        {
          "output_type": "stream",
          "name": "stdout",
          "text": [
            "Average Training Loss for Epoch 14: 0.5211143122584212\n",
            "Validation Loss after Epoch 14: 3.4862776678055525\n",
            "Epoch 15/25 - Training: product\n"
          ]
        },
        {
          "output_type": "stream",
          "name": "stderr",
          "text": [
            "Training Epoch 15: 100%|██████████| 255/255 [01:24<00:00,  3.01it/s, loss=0.0347]\n"
          ]
        },
        {
          "output_type": "stream",
          "name": "stdout",
          "text": [
            "Average Training Loss for Epoch 15: 0.4152442975809761\n",
            "Validation Loss after Epoch 15: 3.5075335297733545\n",
            "Early stopping counter: 1/5\n",
            "Epoch 16/25 - Training: product\n"
          ]
        },
        {
          "output_type": "stream",
          "name": "stderr",
          "text": [
            "Training Epoch 16: 100%|██████████| 255/255 [01:24<00:00,  3.02it/s, loss=1.84]\n"
          ]
        },
        {
          "output_type": "stream",
          "name": "stdout",
          "text": [
            "Average Training Loss for Epoch 16: 0.3337965385294428\n",
            "Validation Loss after Epoch 16: 3.492973927408457\n",
            "Early stopping counter: 2/5\n",
            "Epoch 17/25 - Training: product\n"
          ]
        },
        {
          "output_type": "stream",
          "name": "stderr",
          "text": [
            "Training Epoch 17: 100%|██████████| 255/255 [01:24<00:00,  3.01it/s, loss=0.0647]\n"
          ]
        },
        {
          "output_type": "stream",
          "name": "stdout",
          "text": [
            "Average Training Loss for Epoch 17: 0.2724652498230046\n",
            "Validation Loss after Epoch 17: 3.5312365032732487\n",
            "Early stopping counter: 3/5\n",
            "Epoch 18/25 - Training: product\n"
          ]
        },
        {
          "output_type": "stream",
          "name": "stderr",
          "text": [
            "Training Epoch 18: 100%|██████████| 255/255 [01:24<00:00,  3.01it/s, loss=0.0103]\n"
          ]
        },
        {
          "output_type": "stream",
          "name": "stdout",
          "text": [
            "Average Training Loss for Epoch 18: 0.20576987917370657\n",
            "Validation Loss after Epoch 18: 3.507220173254609\n",
            "Early stopping counter: 4/5\n",
            "Epoch 19/25 - Training: product\n"
          ]
        },
        {
          "output_type": "stream",
          "name": "stderr",
          "text": [
            "Training Epoch 19: 100%|██████████| 255/255 [01:24<00:00,  3.02it/s, loss=0.158]\n"
          ]
        },
        {
          "output_type": "stream",
          "name": "stdout",
          "text": [
            "Average Training Loss for Epoch 19: 0.18266598399655493\n",
            "Validation Loss after Epoch 19: 3.49944294244051\n",
            "Early stopping counter: 5/5\n",
            "Early stopping triggered.\n"
          ]
        },
        {
          "output_type": "stream",
          "name": "stderr",
          "text": [
            "<ipython-input-19-54c1aaee6c7a>:92: FutureWarning: You are using `torch.load` with `weights_only=False` (the current default value), which uses the default pickle module implicitly. It is possible to construct malicious pickle data which will execute arbitrary code during unpickling (See https://github.com/pytorch/pytorch/blob/main/SECURITY.md#untrusted-models for more details). In a future release, the default value for `weights_only` will be flipped to `True`. This limits the functions that could be executed during unpickling. Arbitrary objects will no longer be allowed to be loaded via this mode unless they are explicitly allowlisted by the user via `torch.serialization.add_safe_globals`. We recommend you start setting `weights_only=True` for any use case where you don't have full control of the loaded file. Please open an issue on GitHub for any issues related to this experimental feature.\n",
            "  model.load_state_dict(torch.load(f\"best_model_{target}.pt\"))\n"
          ]
        },
        {
          "output_type": "stream",
          "name": "stdout",
          "text": [
            "Evaluating model for task: product\n"
          ]
        },
        {
          "output_type": "stream",
          "name": "stderr",
          "text": [
            "Evaluating: 100%|██████████| 64/64 [00:06<00:00,  9.42it/s]\n"
          ]
        },
        {
          "output_type": "stream",
          "name": "stdout",
          "text": [
            "F1-Score for product: 0.444090177594196\n",
            "Classification Report for product:\n",
            "\n",
            "                                                   precision    recall  f1-score   support\n",
            "\n",
            "                           Catfishes (freshwater)       0.83      1.00      0.91         5\n",
            "                            Fishes not identified       0.62      0.83      0.71         6\n",
            "                         Not classified pork meat       0.00      0.00      0.00         3\n",
            "                       Pangas catfishes (generic)       0.00      0.00      0.00         1\n",
            "              Precooked cooked pork meat products       0.00      0.00      0.00         1\n",
            "                                    Veggie Burger       0.50      0.50      0.50         2\n",
            "                               after dinner mints       0.00      0.00      0.00         1\n",
            "                              alcoholic beverages       0.00      0.00      0.00         0\n",
            "                                            algae       1.00      0.67      0.80         3\n",
            "                            all purpose seasoning       1.00      1.00      1.00         1\n",
            "                                   almond kernels       0.00      0.00      0.00         1\n",
            "                                  almond products       1.00      1.00      1.00         3\n",
            "                                          almonds       0.30      1.00      0.46         3\n",
            "                                 anchovies in oil       0.00      0.00      0.00         1\n",
            "                                    anchovy paste       0.00      0.00      0.00         1\n",
            "                                       angus beef       0.00      0.00      0.00         2\n",
            "                               animal by-products       0.00      0.00      0.00         1\n",
            "                                       apple cake       0.00      0.00      0.00         1\n",
            "                                      apple juice       0.33      1.00      0.50         1\n",
            "                                  apricot kernels       0.67      1.00      0.80         2\n",
            "                                         apricots       0.00      0.00      0.00         1\n",
            "                    assorted bread roll selection       0.00      0.00      0.00         1\n",
            "                                        baby food       1.00      0.50      0.67         2\n",
            "                                     baby spinach       0.67      1.00      0.80         2\n",
            "                                           bagels       1.00      1.00      1.00         1\n",
            "                                  bakery products       0.00      0.00      0.00         1\n",
            "                                       baking mix       0.00      0.00      0.00         1\n",
            "                                           bamboo       0.00      0.00      0.00         1\n",
            "                                    bamboo shoots       0.00      0.00      0.00         0\n",
            "                                   barbecue sauce       0.00      0.00      0.00         2\n",
            "                                             bars       0.50      1.00      0.67         2\n",
            "                                basil pesto sauce       0.33      1.00      0.50         1\n",
            "                                       bean paste       0.00      0.00      0.00         0\n",
            "                                       bean snack       0.00      0.00      0.00         1\n",
            "                                     bean sprouts       0.00      0.00      0.00         1\n",
            "                                            beans       0.00      0.00      0.00         0\n",
            "                                             beef       0.00      0.00      0.00         7\n",
            "                                        beef meat       0.00      0.00      0.00         2\n",
            "                                    beef products       0.22      0.33      0.27         6\n",
            "                                      beef stewed       0.00      0.00      0.00         1\n",
            "                                      beef tallow       0.00      0.00      0.00         1\n",
            "                                      beef tongue       0.00      0.00      0.00         1\n",
            "                                   beef trimmings       0.00      0.00      0.00         0\n",
            "                                             beer       1.00      1.00      1.00         4\n",
            "                                        beetroots       0.00      0.00      0.00         0\n",
            "                                         beverage       0.00      0.00      0.00         1\n",
            "        beverage base of non-fruit origin, liquid       0.00      0.00      0.00         1\n",
            "                                         biscuits       0.23      0.50      0.32         6\n",
            "                           bitter apricot kernels       0.00      0.00      0.00         1\n",
            "                                     black pepper       0.00      0.00      0.00         0\n",
            "                                     blackberries       0.00      0.00      0.00         1\n",
            "                   blackcurrant drink concentrate       0.00      0.00      0.00         1\n",
            "                                      blue cheese       0.00      0.00      0.00         0\n",
            "                                 blue poppy seeds       0.00      0.00      0.00         1\n",
            "                                      blueberries       0.00      0.00      0.00         0\n",
            "                                             boar       0.00      0.00      0.00         0\n",
            "              boletus mushrooms, stems and pieces       0.00      0.00      0.00         1\n",
            "                            bottled mineral water       1.00      1.00      1.00         2\n",
            "                                    bottled water       0.00      0.00      0.00         0\n",
            "                                      brazil nuts       0.50      0.50      0.50         2\n",
            "                                            bread       0.40      0.50      0.44         8\n",
            "                      bread and products therefor       0.00      0.00      0.00         3\n",
            "                                breakfast cereals       0.00      0.00      0.00         1\n",
            "                     breakfast cereals for babies       0.00      0.00      0.00         1\n",
            "                                      brie cheese       0.00      0.00      0.00         1\n",
            "                                         broccoli       0.17      1.00      0.29         1\n",
            "                                       brown rice       0.00      0.00      0.00         0\n",
            "                                         brownies       0.00      0.00      0.00         0\n",
            "                                             buns       0.33      0.50      0.40         2\n",
            "                                          burrata       0.00      0.00      0.00         1\n",
            "                           burrito (ready to eat)       1.00      1.00      1.00         1\n",
            "                                           butter       0.00      0.00      0.00         1\n",
            "                                            cakes       0.81      0.76      0.79        17\n",
            "                                          candies       0.50      0.44      0.47         9\n",
            "                                   canned chicken       0.00      0.00      0.00         1\n",
            "                                   canned mussels       0.00      0.00      0.00         1\n",
            "                                   canned spinach       0.00      0.00      0.00         1\n",
            "                                    caramel bites       0.00      0.00      0.00         0\n",
            "                              carbonated beverage       0.00      0.00      0.00         0\n",
            "                                   cardamom seeds       0.00      0.00      0.00         1\n",
            "                                   cardamon seeds       0.00      0.00      0.00         0\n",
            "                                           cashew       0.00      0.00      0.00         1\n",
            "                                      cauliflower       1.00      0.50      0.67         2\n",
            "                                          cbd oil       0.00      0.00      0.00         1\n",
            "                                     cbd products       1.00      1.00      1.00         1\n",
            "                                           cereal       0.00      0.00      0.00         2\n",
            "                                      cereal bars       0.00      0.00      0.00         0\n",
            "                                          cereals       0.00      0.00      0.00         0\n",
            "                                   cheddar cheese       0.00      0.00      0.00         2\n",
            "                                           cheese       0.38      0.80      0.52        10\n",
            "                                   cheese burgers       0.00      0.00      0.00         1\n",
            "                                       cheese dip       1.00      1.00      1.00         1\n",
            "                                  cheese products       0.00      0.00      0.00         1\n",
            "                                    cheese spread       0.00      0.00      0.00         0\n",
            "                                         cherries       0.00      0.00      0.00         1\n",
            "                                       chia seeds       1.00      0.50      0.67         4\n",
            "                                          chicken       0.20      0.25      0.22         8\n",
            "                           chicken based products       0.48      0.65      0.56        23\n",
            "                                   chicken breast       0.17      1.00      0.29         1\n",
            "                                    chicken broth       0.00      0.00      0.00         1\n",
            "                                  chicken dippers       0.00      0.00      0.00         1\n",
            "                                chicken meat meal       0.00      0.00      0.00         1\n",
            "                            chicken meat products       0.00      0.00      0.00         1\n",
            "                              chicken noodle soup       0.00      0.00      0.00         1\n",
            "                                      chicken pie       0.00      0.00      0.00         0\n",
            "                             chicken preparations       0.00      0.00      0.00         6\n",
            "                        chicken products - frozen       0.00      0.00      0.00         2\n",
            "                                        chickpeas       0.00      0.00      0.00         1\n",
            "                                  chilled chicken       0.00      0.00      0.00         1\n",
            "                            chilled chicken parts       1.00      1.00      1.00         1\n",
            "                                   chilled salads       0.00      0.00      0.00         5\n",
            "                                     chilli paste       0.00      0.00      0.00         1\n",
            "                                    chilli pickle       0.00      0.00      0.00         0\n",
            "                                    chilli powder       0.00      0.00      0.00         0\n",
            "                                     chilli sauce       1.00      1.00      1.00         1\n",
            "                                        chocolate       0.25      0.25      0.25         8\n",
            "                 chocolate and chocolate products       0.00      0.00      0.00         1\n",
            "                    chocolate and hazelnut spread       0.00      0.00      0.00         2\n",
            "                  chocolate and products therefor       1.00      1.00      1.00         1\n",
            "                                   chocolate bars       0.57      0.80      0.67         5\n",
            "                                   chocolate eggs       0.67      0.67      0.67         3\n",
            "                               chocolate products       1.00      0.56      0.71         9\n",
            "                                 chocolate spread       0.00      0.00      0.00         1\n",
            "                  chocolate spread with hazelnuts       0.00      0.00      0.00         1\n",
            "                                 chocolate wafers       1.00      1.00      1.00         1\n",
            "                                       chocolates       0.00      0.00      0.00         0\n",
            "                                          chorizo       1.00      0.50      0.67         4\n",
            "                                         cinnamon       0.00      0.00      0.00         0\n",
            "                                   cinnamon rolls       0.00      0.00      0.00         1\n",
            "                                            clams       0.00      0.00      0.00         1\n",
            "                                   clams (canned)       0.00      0.00      0.00         0\n",
            "                                    coconut juice       0.50      1.00      0.67         2\n",
            "                                     coconut milk       1.00      0.50      0.67         2\n",
            "                               coconut milk drink       0.00      0.00      0.00         1\n",
            "                                         coconuts       0.80      1.00      0.89         4\n",
            "                                              cod       0.00      0.00      0.00         0\n",
            "                                     coffee beans       0.33      0.50      0.40         2\n",
            "                                     coffee drink       0.00      0.00      0.00         1\n",
            "                              concentrated apples       0.00      0.00      0.00         1\n",
            "                                    confectionery       0.00      0.00      0.00         1\n",
            "                                   cooked chicken       0.50      0.67      0.57         3\n",
            "                            cooked chicken skewer       0.00      0.00      0.00         1\n",
            "                                       cooked ham       0.00      0.00      0.00         1\n",
            "                                  cooked sausages       0.00      0.00      0.00         1\n",
            "                                          cookies       0.79      0.85      0.81        13\n",
            "                                    cooking sauce       0.00      0.00      0.00         0\n",
            "                                        coriander       0.00      0.00      0.00         1\n",
            "                                             corn       0.29      0.40      0.33         5\n",
            "                                   cottage cheese       0.00      0.00      0.00         1\n",
            "                                        cous cous       0.00      0.00      0.00         1\n",
            "                                  cow milk cheese       0.00      0.00      0.00         1\n",
            "                                         crackers       0.50      0.50      0.50         2\n",
            "                                     cream cheese       0.00      0.00      0.00         2\n",
            "                              cream chocolate pie       0.00      0.00      0.00         1\n",
            "                                           crisps       0.00      0.00      0.00         1\n",
            "                                       croissants       1.00      1.00      1.00         1\n",
            "                 crustaceans and products thereof       0.00      0.00      0.00         1\n",
            "                                         cupcakes       0.33      0.50      0.40         2\n",
            "                                      curd cheese       0.00      0.00      0.00         0\n",
            "                                       cured loin       0.00      0.00      0.00         1\n",
            "                                            curry       1.00      1.00      1.00         1\n",
            "                                          custard       0.00      0.00      0.00         1\n",
            "                                  dark chocolates       0.44      1.00      0.61         7\n",
            "                                            dates       1.00      1.00      1.00         2\n",
            "                                         desserts       1.00      0.75      0.86         4\n",
            "                               dietary supplement       0.17      0.25      0.20         4\n",
            "dietetic foods, food supplements, fortified foods       0.00      0.00      0.00         2\n",
            "                                        dip-sauce       0.00      0.00      0.00         4\n",
            "                                    dipping sauce       0.00      0.00      0.00         1\n",
            "                                           donuts       1.00      0.50      0.67         2\n",
            "                                         dressing       0.00      0.00      0.00         1\n",
            "                                  dressing sauces       0.00      0.00      0.00         0\n",
            "                                    dried almonds       0.00      0.00      0.00         0\n",
            "                                  dried anchovies       0.00      0.00      0.00         1\n",
            "                                     dried apples       0.00      0.00      0.00         1\n",
            "                                   dried apricots       0.80      1.00      0.89         4\n",
            "                                  dried beef meat       1.00      1.00      1.00         7\n",
            "                                    dried coconut       1.00      1.00      1.00         1\n",
            "                                dried cranberries       0.00      0.00      0.00         1\n",
            "                                       dried figs       1.00      1.00      1.00         2\n",
            "                                  dried fruit mix       0.00      0.00      0.00         1\n",
            "                                     dried fruits       0.00      0.00      0.00         1\n",
            "                      dried fruits with chocolate       0.00      0.00      0.00         2\n",
            "                                  dried mushrooms       1.00      1.00      1.00         2\n",
            "                                      dried plums       1.00      1.00      1.00         2\n",
            "                                    dried sausage       0.00      0.00      0.00         1\n",
            "                               dried strawberries       0.00      0.00      0.00         1\n",
            "                                      dry sausage       0.00      0.00      0.00         1\n",
            "                                             duck       0.33      0.50      0.40         2\n",
            "                                        dumplings       0.40      0.67      0.50         3\n",
            "                                      edam cheese       0.00      0.00      0.00         1\n",
            "                                             eggs       0.88      1.00      0.93         7\n",
            "                            eggs and egg products       0.00      0.00      0.00         1\n",
            "                          energy and protein bars       0.00      0.00      0.00         1\n",
            "                                     energy drink       0.00      0.00      0.00         0\n",
            "                                   feed materials       0.00      0.00      0.00         3\n",
            "                                     fennel seeds       1.00      1.00      1.00         1\n",
            "                                      feta cheese       1.00      0.40      0.57         5\n",
            "                           fish and fish products       0.00      0.00      0.00         0\n",
            "                                    fish products       0.00      0.00      0.00         2\n",
            "         flavoured fresh and creamy cheese spread       0.00      0.00      0.00         1\n",
            "                             flavoured soft drink       0.00      0.00      0.00         1\n",
            "              flavoured whey protein preparations       0.00      0.00      0.00         2\n",
            "                                         flavours       0.00      0.00      0.00         0\n",
            "                                            flour       1.00      0.75      0.86         4\n",
            "                                        foie gras       0.00      0.00      0.00         1\n",
            "                                  food supplement       0.00      0.00      0.00         1\n",
            "                                       fresh beef       0.00      0.00      0.00         1\n",
            "                                  fresh beef meat       0.00      0.00      0.00         1\n",
            "                                  fresh mushrooms       0.80      1.00      0.89         4\n",
            "                                    fresh parsley       0.00      0.00      0.00         1\n",
            "                                       fresh pork       1.00      1.00      1.00         1\n",
            "               fresh processed beef meat products       0.50      0.50      0.50         2\n",
            "                                 fresh vegetables       0.33      0.50      0.40         2\n",
            "                                      frozen beef       0.25      1.00      0.40         1\n",
            "                              frozen beef patties       0.25      0.50      0.33         2\n",
            "                             frozen beef products       0.50      1.00      0.67         1\n",
            "                               frozen beef tongue       0.00      0.00      0.00         0\n",
            "                                  frozen broccoli       0.00      0.00      0.00         1\n",
            "                               frozen burger buns       0.00      0.00      0.00         1\n",
            "                                   frozen burgers       0.00      0.00      0.00         1\n",
            "                                   frozen chicken       0.00      0.00      0.00         1\n",
            "                              frozen fish fillets       1.00      1.00      1.00         1\n",
            "                               frozen green beans       0.00      0.00      0.00         1\n",
            "                                frozen hamburgers       0.00      0.00      0.00         1\n",
            "                               frozen hash browns       0.00      0.00      0.00         1\n",
            "                                   frozen lobster       1.00      1.00      1.00         1\n",
            "                                  frozen pancakes       0.00      0.00      0.00         1\n",
            "                                      frozen peas       0.33      1.00      0.50         1\n",
            "                                   frozen peppers       0.00      0.00      0.00         1\n",
            "                                       frozen pie       0.00      0.00      0.00         1\n",
            "                                     frozen pizza       0.00      0.00      0.00         3\n",
            "                         frozen pork preparations       0.00      0.00      0.00         1\n",
            "                                   frozen poultry       0.00      0.00      0.00         1\n",
            "                      frozen poultry preparations       0.00      0.00      0.00         1\n",
            "                          frozen poultry products       0.00      0.00      0.00         2\n",
            "                     frozen ready to cook chicken       0.00      0.00      0.00         1\n",
            "                                frozen vegetables       0.25      1.00      0.40         1\n",
            "                         frozen vegetarian cutlet       0.00      0.00      0.00         1\n",
            "                                frozen whole fish       0.00      0.00      0.00         1\n",
            "                                      fruit juice       0.33      0.33      0.33         3\n",
            "                                        fruit mix       0.00      0.00      0.00         0\n",
            "                                      fruit punch       1.00      1.00      1.00         1\n",
            "                            fruits and vegetables       0.00      0.00      0.00         1\n",
            "                                    garlic powder       1.00      1.00      1.00         1\n",
            "                                      goat cheese       0.33      1.00      0.50         1\n",
            "                                            gouda       0.00      0.00      0.00         1\n",
            "                                     gouda cheese       0.00      0.00      0.00         1\n",
            "                                          granola       0.40      1.00      0.57         2\n",
            "                                   grated coconut       1.00      1.00      1.00         2\n",
            "                                        gravy mix       0.00      0.00      0.00         1\n",
            "                                       green bean       0.00      0.00      0.00         0\n",
            "                             grissini breadsticks       0.00      0.00      0.00         1\n",
            "                                   ground almonds       0.00      0.00      0.00         1\n",
            "                                      ground beef       0.64      1.00      0.78         9\n",
            "                                 ground beef meat       0.00      0.00      0.00         1\n",
            "                              ground black pepper       0.00      0.00      0.00         1\n",
            "                                  halloumi cheese       0.50      0.25      0.33         4\n",
            "                                            halva       0.00      0.00      0.00         1\n",
            "                                              ham       0.23      0.38      0.29         8\n",
            "                                        hazelnuts       0.00      0.00      0.00         0\n",
            "                                         hemp tea       0.00      0.00      0.00         0\n",
            "                                          herring       1.00      0.75      0.86         4\n",
            "                                            honey       0.00      0.00      0.00         1\n",
            "                              horseradish in jars       1.00      1.00      1.00         1\n",
            "                                         hot dogs       1.00      1.00      1.00         1\n",
            "                                        ice cream       0.98      0.88      0.93        50\n",
            "                                         iced tea       0.00      0.00      0.00         0\n",
            "                                   infant formula       1.00      1.00      1.00         3\n",
            "                                   instant cereal       0.00      0.00      0.00         1\n",
            "                                   instant coffee       0.00      0.00      0.00         1\n",
            "                                  instant noodles       0.00      0.00      0.00         0\n",
            "                                              jam       0.43      0.60      0.50         5\n",
            "                                          jellies       0.75      0.75      0.75         4\n",
            "                                      juice drink       0.00      0.00      0.00         0\n",
            "                                             kale       0.67      1.00      0.80         2\n",
            "                                          ketchup       0.00      0.00      0.00         1\n",
            "                                          lasagne       1.00      1.00      1.00         3\n",
            "                            lemonade (lemon soda)       0.00      0.00      0.00         1\n",
            "                                          lentils       1.00      1.00      1.00         1\n",
            "                                          lettuce       1.00      1.00      1.00         1\n",
            "                                 liquid egg white       1.00      1.00      1.00         1\n",
            "                           liquid food supplement       0.00      0.00      0.00         1\n",
            "                                           lokoum       0.00      0.00      0.00         1\n",
            "                                        lollipops       0.00      0.00      0.00         1\n",
            "                                  long grain rice       0.00      0.00      0.00         1\n",
            "                                    luncheon meat       0.00      0.00      0.00         1\n",
            "                                      lupin seeds       0.00      0.00      0.00         1\n",
            "                                   macadamia nuts       0.50      1.00      0.67         1\n",
            "                                         mackerel       0.50      0.50      0.50         2\n",
            "                                            maize       1.00      0.50      0.67         2\n",
            "                                        margarine       0.00      0.00      0.00         1\n",
            "                           marinated chicken meat       0.00      0.00      0.00         1\n",
            "                                      marshmalows       0.00      0.00      0.00         1\n",
            "                                 masala spice mix       0.00      0.00      0.00         1\n",
            "                        mashed chickpeas (hummus)       1.00      1.00      1.00         3\n",
            "                            massala spice mixture       0.00      0.00      0.00         0\n",
            "                                       mayonnaise       0.00      0.00      0.00         1\n",
            "      meat and meat products (other than poultry)       0.00      0.00      0.00         2\n",
            "                                        meat loaf       0.00      0.00      0.00         1\n",
            "                                meat preparations       0.00      0.00      0.00         1\n",
            "                     meat, egg and dairy products       0.00      0.00      0.00         1\n",
            "              mechanically separated chicken meat       0.00      0.00      0.00         1\n",
            "                                             milk       0.40      0.86      0.55         7\n",
            "                   milk chocolate covered raisins       1.00      0.33      0.50         3\n",
            "                                  milk chocolates       0.33      0.33      0.33         3\n",
            "                                    milk products       0.00      0.00      0.00         2\n",
            "                                    milk proteins       0.00      0.00      0.00         0\n",
            "                                      minced beef       1.00      0.50      0.67         2\n",
            "                                   minced chicken       0.00      0.00      0.00         1\n",
            "                                      minced pork       0.00      0.00      0.00         0\n",
            "                                   mint chocolate       0.00      0.00      0.00         0\n",
            "                      mitragyna speciosa (kratom)       1.00      0.33      0.50         3\n",
            "                                      mix of nuts       0.00      0.00      0.00         1\n",
            "                                      mixed salad       0.00      0.00      0.00         1\n",
            "                                 mixed vegetables       0.00      0.00      0.00         2\n",
            "                                         moussaka       0.00      0.00      0.00         1\n",
            "                                mozzarella cheese       0.00      0.00      0.00         1\n",
            "                                           muesli       0.50      0.17      0.25         6\n",
            "                                          muffins       1.00      1.00      1.00         2\n",
            "                                        mushrooms       0.00      0.00      0.00         1\n",
            "                                          mussels       0.00      0.00      0.00         0\n",
            "                                          mustard       1.00      1.00      1.00         2\n",
            "                               non-alcoholic beer       0.00      0.00      0.00         1\n",
            "                          non-alcoholic beverages       0.00      0.00      0.00         1\n",
            "                                      noodle soup       0.00      0.00      0.00         1\n",
            "                                          noodles       0.00      0.00      0.00         3\n",
            "                                           nougat       0.00      0.00      0.00         1\n",
            "                                          nut mix       0.00      0.00      0.00         1\n",
            "                               nut-almond mixture       0.00      0.00      0.00         1\n",
            "                                  nutrition shake       0.00      0.00      0.00         1\n",
            "                                             nuts       0.00      0.00      0.00         2\n",
            "                                             oats       0.00      0.00      0.00         1\n",
            "                                        olive oil       1.00      1.00      1.00         1\n",
            "                                           olives       1.00      1.00      1.00         2\n",
            "                                           onions       0.50      0.67      0.57         3\n",
            "                                     orange juice       0.00      0.00      0.00         1\n",
            "                               orange sugar paste       0.00      0.00      0.00         1\n",
            "                                          oregano       0.00      0.00      0.00         1\n",
            "                           organic chilled hummus       0.00      0.00      0.00         1\n",
            "                             other dairy products       0.00      0.00      0.00         2\n",
            "               other not classified meat products       0.17      0.25      0.20         4\n",
            "                              other types of meat       1.00      0.50      0.67         6\n",
            "                         other water-based drinks       0.00      0.00      0.00         3\n",
            "                                          oysters       1.00      1.00      1.00         5\n",
            "                                           paella       1.00      1.00      1.00         1\n",
            "                                         palm oil       1.00      1.00      1.00         1\n",
            "                                         pancakes       0.50      0.50      0.50         2\n",
            "                                           papaya       1.00      1.00      1.00         1\n",
            "                                          parsley       0.33      1.00      0.50         1\n",
            "                                            pasta       0.00      0.00      0.00         2\n",
            "                                   pasta products       0.00      0.00      0.00         0\n",
            "                                 pasteurized milk       0.00      0.00      0.00         1\n",
            "                                           pastry       0.00      0.00      0.00         1\n",
            "                                  pastry products       0.22      0.40      0.29         5\n",
            "                                       pea shoots       0.00      0.00      0.00         0\n",
            "                                          peanuts       0.83      0.45      0.59        11\n",
            "                                       pear juice       0.00      0.00      0.00         1\n",
            "                                            pesto       0.00      0.00      0.00         1\n",
            "                                         pet feed       0.75      1.00      0.86         6\n",
            "                                 pickled beetroot       0.00      0.00      0.00         1\n",
            "                             pickled grape leaves       1.00      1.00      1.00         1\n",
            "                                  pickled peppers       0.00      0.00      0.00         1\n",
            "                                  pig meat - pork       1.00      0.50      0.67         2\n",
            "                                        pine nuts       0.00      0.00      0.00         1\n",
            "                                   pistachio nuts       1.00      1.00      1.00         8\n",
            "                                            pizza       0.25      1.00      0.40         1\n",
            "                                         plastics       0.00      0.00      0.00         1\n",
            "                  plum bread &amp; butter pudding       0.00      0.00      0.00         1\n",
            "                                         pop corn       0.00      0.00      0.00         0\n",
            "                                            poppy       0.00      0.00      0.00         0\n",
            "                                         pork pie       0.00      0.00      0.00         1\n",
            "                                 pork preparation       0.00      0.00      0.00         2\n",
            "                                     pork sausage       0.60      1.00      0.75         3\n",
            "                                     potato chips       0.40      0.50      0.44         4\n",
            "                                potato croquettes       0.00      0.00      0.00         1\n",
            "                                     potato salad       0.50      1.00      0.67         1\n",
            "                                         potatoes       0.75      1.00      0.86         3\n",
            "                                          poultry       0.00      0.00      0.00         1\n",
            "                                     poultry meat       0.00      0.00      0.00         1\n",
            "                                   prawn crackers       0.00      0.00      0.00         1\n",
            "                                           prawns       0.33      1.00      0.50         1\n",
            "              precooked cooked beef meat products       0.75      0.60      0.67         5\n",
            "                                  prepacked salad       0.00      0.00      0.00         2\n",
            "                                    prepared dish       0.00      0.00      0.00         1\n",
            "                  prepared dish containing prawns       0.00      0.00      0.00         1\n",
            "                                  prepared salads       0.00      0.00      0.00         4\n",
            "                                         pretzels       1.00      1.00      1.00         1\n",
            "                        probiotic food supplement       0.00      0.00      0.00         0\n",
            "                                    protein balls       0.00      0.00      0.00         2\n",
            "                                      protein bar       0.33      0.50      0.40         2\n",
            "                                     protein bars       0.00      0.00      0.00         1\n",
            "                                    protein drink       0.00      0.00      0.00         1\n",
            "                                   protein powder       0.67      0.67      0.67         3\n",
            "                                          pudding       0.33      1.00      0.50         1\n",
            "                                      puffed rice       0.00      0.00      0.00         1\n",
            "                                    pumpkin seeds       0.00      0.00      0.00         0\n",
            "                                             pâté       0.00      0.00      0.00         2\n",
            "                                           quinoa       0.00      0.00      0.00         0\n",
            "                                quorn preparation       0.00      0.00      0.00         1\n",
            "                                          raisins       0.00      0.00      0.00         1\n",
            "                                      raspberries       0.75      1.00      0.86         3\n",
            "                                    raw beef meat       0.62      0.71      0.67         7\n",
            "                            raw cow's milk cheese       0.00      0.00      0.00         1\n",
            "                             raw goat milk cheese       1.00      1.00      1.00         1\n",
            "                                         raw milk       0.00      0.00      0.00         4\n",
            "                        raw milk cheese reblochon       0.00      0.00      0.00         1\n",
            "         ready cooked sliced chicken tikka breast       0.00      0.00      0.00         1\n",
            "                        ready to eat - cook meals       0.11      0.14      0.12        14\n",
            "                      ready-to-eat seafood sticks       0.00      0.00      0.00         1\n",
            "                                       red chilli       0.00      0.00      0.00         1\n",
            "                                     refreshments       0.00      0.00      0.00         1\n",
            "                                             rice       0.00      0.00      0.00         2\n",
            "                                       rice cakes       0.00      0.00      0.00         1\n",
            "                                    rice crackers       0.33      1.00      0.50         1\n",
            "                                        rice meal       0.00      0.00      0.00         1\n",
            "                                       rice snack       0.00      0.00      0.00         2\n",
            "                                  rice vermicelli       0.00      0.00      0.00         0\n",
            "                                   ricotta cheese       0.00      0.00      0.00         1\n",
            "                                            rolls       0.00      0.00      0.00         0\n",
            "                                   salad dressing       0.00      0.00      0.00         2\n",
            "                                           salads       0.53      0.67      0.59        12\n",
            "                                           salami       0.80      1.00      0.89         4\n",
            "                                           salmon       0.88      0.78      0.82         9\n",
            "                                             salt       0.00      0.00      0.00         2\n",
            "                                 salted anchovies       0.00      0.00      0.00         0\n",
            "                                 sandwich filling       0.00      0.00      0.00         1\n",
            "                                       sandwiches       0.88      0.78      0.82         9\n",
            "                                            sauce       0.25      0.20      0.22         5\n",
            "                                           sauces       0.00      0.00      0.00         2\n",
            "                                          sausage       0.43      0.43      0.43         7\n",
            "                                 sausage products       0.00      0.00      0.00         1\n",
            "                                          seafood       0.00      0.00      0.00         1\n",
            "                                 seafood products       0.00      0.00      0.00         0\n",
            "                                 seasoned chicken       0.00      0.00      0.00         1\n",
            "                                        seasoning       0.50      0.50      0.50         2\n",
            "                                  seasoning sauce       0.00      0.00      0.00         1\n",
            "                                       seasonings       0.00      0.00      0.00         1\n",
            "                             seaweed preparations       0.00      0.00      0.00         1\n",
            "                                        seed mixe       0.00      0.00      0.00         1\n",
            "                                           sesame       0.00      0.00      0.00         0\n",
            "                                       sesame oil       0.00      0.00      0.00         0\n",
            "                                     sesame paste       0.50      0.50      0.50         2\n",
            "                                  sesame seed oil       0.00      0.00      0.00         1\n",
            "                                     sesame seeds       0.33      1.00      0.50         1\n",
            "                                          shrimps       0.80      0.80      0.80         5\n",
            "                                       sliced ham       0.00      0.00      0.00         2\n",
            "                                   smoked sausage       0.60      0.75      0.67         4\n",
            "                                   snack crackers       1.00      1.00      1.00         1\n",
            "                                        snack mix       0.62      0.71      0.67         7\n",
            "                                 snacks (various)       0.11      0.33      0.17         3\n",
            "                                       soda drink       0.00      0.00      0.00         1\n",
            "                                      soft drinks       0.00      0.00      0.00         1\n",
            "                                             soup       0.50      0.83      0.62         6\n",
            "                                   soy bean paste       0.00      0.00      0.00         1\n",
            "                                 soy milk product       0.00      0.00      0.00         1\n",
            "                                        soy sauce       0.00      0.00      0.00         1\n",
            "                       soya and products therefor       0.00      0.00      0.00         1\n",
            "                                       soya drink       0.00      0.00      0.00         1\n",
            "                                        spice mix       0.00      0.00      0.00         1\n",
            "                                           spices       0.00      0.00      0.00         1\n",
            "                                   spinach leaves       0.00      0.00      0.00         1\n",
            "                                      sport drink       1.00      1.00      1.00         1\n",
            "                                           spread       0.00      0.00      0.00         0\n",
            "                                          spreads       0.00      0.00      0.00         0\n",
            "                                     spring rolls       0.50      1.00      0.67         2\n",
            "                                     spring water       0.50      1.00      0.67         1\n",
            "                                          sprouts       0.00      0.00      0.00         1\n",
            "                                            squid       0.00      0.00      0.00         0\n",
            "                                   stuffed pastry       0.00      0.00      0.00         1\n",
            "                                            sugar       1.00      1.00      1.00         1\n",
            "                                   sunflower seed       0.75      0.86      0.80         7\n",
            "                                           sweets       0.00      0.00      0.00         1\n",
            "                                      swiss rolls       0.00      0.00      0.00         1\n",
            "                                       taco sauce       0.00      0.00      0.00         1\n",
            "                                           tahini       0.50      0.57      0.53         7\n",
            "                            tahini (sesame paste)       0.00      0.00      0.00         1\n",
            "                                              tea       0.00      0.00      0.00         1\n",
            "                                         tea bags       0.00      0.00      0.00         1\n",
            "                                        tea drink       0.00      0.00      0.00         1\n",
            "                      thermal processed beef meat       0.25      0.33      0.29         3\n",
            "                      thermal processed pork meat       0.46      0.86      0.60         7\n",
            "                                             tofu       1.00      0.50      0.67         2\n",
            "                                         tomatoes       0.00      0.00      0.00         0\n",
            "                                   tortilla chips       0.67      0.67      0.67         3\n",
            "                            tortilla chips cheese       0.00      0.00      0.00         1\n",
            "                                           trouts       0.00      0.00      0.00         0\n",
            "                                             tuna       1.00      0.60      0.75         5\n",
            "                   turkey and turkey preparations       0.44      0.80      0.57         5\n",
            "                            turkey based products       0.00      0.00      0.00         3\n",
            "                                  turkey sandwich       0.00      0.00      0.00         0\n",
            "                                   tzatziki sauce       0.00      0.00      0.00         1\n",
            "                          various bakery products       0.00      0.00      0.00         2\n",
            "                                  various cheeses       0.00      0.00      0.00         1\n",
            "                    various chicken meat products       0.00      0.00      0.00         1\n",
            "                           various pasta products       0.00      0.00      0.00         1\n",
            "                          various prepared dishes       0.00      0.00      0.00         0\n",
            "                                             veal       0.00      0.00      0.00         0\n",
            "                                   vegan sausages       0.00      0.00      0.00         1\n",
            "                         vegetable based products       0.00      0.00      0.00         1\n",
            "                                    vegetable mix       0.00      0.00      0.00         2\n",
            "                            vegetable preparation       0.00      0.00      0.00         1\n",
            "                     vegetable ready to eat meals       0.00      0.00      0.00         1\n",
            "                                vegetable samosas       1.00      1.00      1.00         1\n",
            "                                       vegetables       0.00      0.00      0.00         1\n",
            "                              vitamins supplement       0.00      0.00      0.00         1\n",
            "                                           wafers       0.00      0.00      0.00         1\n",
            "                                          waffles       1.00      1.00      1.00         2\n",
            "                                          walnuts       1.00      0.50      0.67         2\n",
            "                      water for human consumption       0.00      0.00      0.00         0\n",
            "                               weight loss coffee       0.00      0.00      0.00         0\n",
            "                                      wheat snack       0.00      0.00      0.00         1\n",
            "                                     whey protein       0.50      1.00      0.67         1\n",
            "                                           whisky       0.00      0.00      0.00         1\n",
            "                              white lasagna sauce       1.00      1.00      1.00         1\n",
            "                                             wine       0.50      0.50      0.50         2\n",
            "                                            wraps       0.60      0.75      0.67         4\n",
            "                                          yoghurt       0.56      1.00      0.71         5\n",
            "\n",
            "                                         accuracy                           0.48      1017\n",
            "                                        macro avg       0.24      0.27      0.25      1017\n",
            "                                     weighted avg       0.45      0.48      0.44      1017\n",
            "\n"
          ]
        }
      ],
      "source": [
        "# Train and evaluate for both title and text\n",
        "print(\"\\nTraining and Evaluating for Title Tasks:\")\n",
        "title_f1_scores = train_and_evaluate_nn(title_splits, targets_subtask1 + targets_subtask2, model_type='title')\n",
        "\n",
        "print(\"\\nTraining and Evaluating for Text Tasks:\")\n",
        "text_f1_scores = train_and_evaluate_nn(text_splits, targets_subtask1 + targets_subtask2, model_type='text')\n"
      ]
    },
    {
      "cell_type": "code",
      "source": [
        "# Create DataFrames for F1 scores for title and text\n",
        "f1_scores_title_df = pd.DataFrame({\n",
        "    'Task': targets_subtask1 + targets_subtask2,\n",
        "    'F1-Score': title_f1_scores\n",
        "})\n",
        "\n",
        "f1_scores_text_df = pd.DataFrame({\n",
        "    'Task': targets_subtask1 + targets_subtask2,\n",
        "    'F1-Score': text_f1_scores\n",
        "})\n",
        "\n",
        "# Print the collected F1-scores for title\n",
        "print(\"\\nCollected F1-Scores for Title-Focused Classification (BioBert):\")\n",
        "print(f1_scores_title_df)\n",
        "\n",
        "# Print the collected F1-scores for text\n",
        "print(\"\\nCollected F1-Scores for Text-Focused Classification (BioBert):\")\n",
        "print(f1_scores_text_df)\n",
        "\n",
        "# Plot F1-scores for visual comparison\n",
        "plt.figure(figsize=(10, 6))\n",
        "plt.bar(f1_scores_title_df['Task'], f1_scores_title_df['F1-Score'], alpha=0.7, label='Title-Focused')\n",
        "plt.bar(f1_scores_text_df['Task'], f1_scores_text_df['F1-Score'], alpha=0.7, label='Text-Focused')\n",
        "plt.ylabel(\"F1-Score\")\n",
        "plt.title(\"F1-Score Comparison Between Title and Text Tasks (BioBert)\")\n",
        "plt.xticks(rotation=45, ha='right')\n",
        "plt.legend()\n",
        "plt.tight_layout()\n",
        "plt.show()\n"
      ],
      "metadata": {
        "colab": {
          "base_uri": "https://localhost:8080/",
          "height": 850
        },
        "id": "wwYyYDcAjBWh",
        "outputId": "d4a46c8b-bfe0-4e38-82a3-a8144a820024"
      },
      "execution_count": null,
      "outputs": [
        {
          "output_type": "stream",
          "name": "stdout",
          "text": [
            "\n",
            "Collected F1-Scores for Title-Focused Classification (BioGPT):\n",
            "               Task  F1-Score\n",
            "0   hazard-category  0.817398\n",
            "1  product-category  0.754073\n",
            "2            hazard  0.595421\n",
            "3           product  0.460556\n",
            "\n",
            "Collected F1-Scores for Text-Focused Classification (BioGPT):\n",
            "               Task  F1-Score\n",
            "0   hazard-category  0.940441\n",
            "1  product-category  0.747201\n",
            "2            hazard  0.831104\n",
            "3           product  0.444090\n"
          ]
        },
        {
          "output_type": "display_data",
          "data": {
            "text/plain": [
              "<Figure size 1000x600 with 1 Axes>"
            ],
            "image/png": "[encoded data removed]"
          },
          "metadata": {}
        }
      ]
    },
    {
      "cell_type": "code",
      "source": [],
      "metadata": {
        "id": "5ursYh_G9fqi"
      },
      "execution_count": null,
      "outputs": []
    }
  ]
}
