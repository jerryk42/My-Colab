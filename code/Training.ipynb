{
  "cells": [
    {
      "cell_type": "markdown",
      "metadata": {
        "id": "view-in-github",
        "colab_type": "text"
      },
      "source": [
        "<a href=\"https://colab.research.google.com/github/jerryk42/SemEval-Food-Hazard-Detection-Challenge-2025/blob/main/Training.ipynb\" target=\"_parent\"><img src=\"https://colab.research.google.com/assets/colab-badge.svg\" alt=\"Open In Colab\"/></a>"
      ]
    },
    {
      "cell_type": "markdown",
      "source": [
        "# Setup and Configuration"
      ],
      "metadata": {
        "id": "0eZi3gaLRgEj"
      }
    },
    {
      "cell_type": "code",
      "execution_count": null,
      "metadata": {
        "id": "_tnUGj2aOD40"
      },
      "outputs": [],
      "source": [
        "# Importing necessary libraries\n",
        "import pandas as pd\n",
        "import re\n",
        "from sklearn.model_selection import train_test_split\n",
        "from sklearn.metrics import f1_score, classification_report\n",
        "import torch\n",
        "from transformers import AutoTokenizer, AutoModelForSequenceClassification\n",
        "from torch.utils.data import DataLoader, Dataset\n",
        "import torch.nn as nn\n",
        "import torch.optim as optim\n",
        "from sklearn.preprocessing import LabelEncoder\n",
        "from tqdm import tqdm  # Import tqdm for progress bars\n",
        "import matplotlib.pyplot as plt\n",
        "from google.colab import drive"
      ]
    },
    {
      "cell_type": "code",
      "execution_count": null,
      "metadata": {
        "colab": {
          "base_uri": "https://localhost:8080/"
        },
        "id": "-Uk4Hr3o6UHO",
        "outputId": "e4c3ba2c-c1ea-4966-a724-a79ca927ef6f"
      },
      "outputs": [
        {
          "output_type": "stream",
          "name": "stdout",
          "text": [
            "Drive already mounted at /content/drive; to attempt to forcibly remount, call drive.mount(\"/content/drive\", force_remount=True).\n"
          ]
        }
      ],
      "source": [
        "# Mounting on google drive\n",
        "drive.mount('/content/drive')"
      ]
    },
    {
      "cell_type": "code",
      "execution_count": null,
      "metadata": {
        "id": "mRqpDhY5OF0r"
      },
      "outputs": [],
      "source": [
        "# Configuration of the model\n",
        "config = {\n",
        "    'max_len': 256,\n",
        "    'batch_size': 16,\n",
        "    'learning_rate': 0.00005,\n",
        "    'epochs': 100, # Number of training epochs\n",
        "    'model_name': \"dmis-lab/biobert-base-cased-v1.1\"  # BioBERT model\n",
        "}\n"
      ]
    },
    {
      "cell_type": "code",
      "execution_count": null,
      "metadata": {
        "colab": {
          "base_uri": "https://localhost:8080/"
        },
        "id": "F8Z5Prdp5Xrb",
        "outputId": "1e8d22f4-e8d0-4fd7-8bfa-c6504131f89d"
      },
      "outputs": [
        {
          "output_type": "stream",
          "name": "stdout",
          "text": [
            "Using device: cuda\n"
          ]
        }
      ],
      "source": [
        "# Set device for training (GPU if available, else CPU)\n",
        "device = torch.device('cuda' if torch.cuda.is_available() else 'cpu')\n",
        "print(f\"Using device: {device}\")\n"
      ]
    },
    {
      "cell_type": "markdown",
      "source": [
        "# Data Loading and Preprocessing"
      ],
      "metadata": {
        "id": "suuZ5FBS0rhq"
      }
    },
    {
      "cell_type": "code",
      "execution_count": null,
      "metadata": {
        "colab": {
          "base_uri": "https://localhost:8080/"
        },
        "collapsed": true,
        "id": "YaxolIHS5SBH",
        "outputId": "db5d5073-d59c-4910-fedf-882a51f004e5"
      },
      "outputs": [
        {
          "output_type": "stream",
          "name": "stdout",
          "text": [
            "   Unnamed: 0  year  month  day country                             title  \\\n",
            "0           0  1994      1    7      us  Recall Notification: FSIS-024-94   \n",
            "1           1  1994      3   10      us  Recall Notification: FSIS-033-94   \n",
            "2           2  1994      3   28      us  Recall Notification: FSIS-014-94   \n",
            "3           3  1994      4    3      us  Recall Notification: FSIS-009-94   \n",
            "4           4  1994      7    1      us  Recall Notification: FSIS-001-94   \n",
            "\n",
            "                                                text hazard-category  \\\n",
            "0  Case Number: 024-94   \\n            Date Opene...      biological   \n",
            "1  Case Number: 033-94   \\n            Date Opene...      biological   \n",
            "2  Case Number: 014-94   \\n            Date Opene...      biological   \n",
            "3  Case Number: 009-94   \\n            Date Opene...  foreign bodies   \n",
            "4  Case Number: 001-94   \\n            Date Opene...  foreign bodies   \n",
            "\n",
            "               product-category                  hazard  \\\n",
            "0  meat, egg and dairy products  listeria monocytogenes   \n",
            "1  meat, egg and dairy products            listeria spp   \n",
            "2  meat, egg and dairy products  listeria monocytogenes   \n",
            "3  meat, egg and dairy products        plastic fragment   \n",
            "4  meat, egg and dairy products        plastic fragment   \n",
            "\n",
            "                       product  \n",
            "0               smoked sausage  \n",
            "1                      sausage  \n",
            "2                   ham slices  \n",
            "3  thermal processed pork meat  \n",
            "4               chicken breast  \n"
          ]
        }
      ],
      "source": [
        "# URL of the raw file\n",
        "url = \"https://raw.githubusercontent.com/food-hazard-detection-semeval-2025/food-hazard-detection-semeval-2025.github.io/refs/heads/main/data/incidents_train.csv\"\n",
        "\n",
        "# Read the CSV file into a DataFrame\n",
        "df = pd.read_csv(url)\n",
        "\n",
        "# Display the first few rows of the DataFrame\n",
        "print(df.head())"
      ]
    },
    {
      "cell_type": "code",
      "execution_count": null,
      "metadata": {
        "id": "Z6l4Gt-Y6EIH"
      },
      "outputs": [],
      "source": [
        "# Drop the first column\n",
        "df = df.drop(df.columns[0], axis=1)"
      ]
    },
    {
      "cell_type": "code",
      "execution_count": null,
      "metadata": {
        "colab": {
          "base_uri": "https://localhost:8080/"
        },
        "id": "IsoRrUZg5Xw6",
        "outputId": "544f2a41-2c50-494e-b0ca-c68c53b37393"
      },
      "outputs": [
        {
          "output_type": "stream",
          "name": "stdout",
          "text": [
            "<class 'pandas.core.frame.DataFrame'>\n",
            "RangeIndex: 5082 entries, 0 to 5081\n",
            "Data columns (total 10 columns):\n",
            " #   Column            Non-Null Count  Dtype \n",
            "---  ------            --------------  ----- \n",
            " 0   year              5082 non-null   int64 \n",
            " 1   month             5082 non-null   int64 \n",
            " 2   day               5082 non-null   int64 \n",
            " 3   country           5082 non-null   object\n",
            " 4   title             5082 non-null   object\n",
            " 5   text              5082 non-null   object\n",
            " 6   hazard-category   5082 non-null   object\n",
            " 7   product-category  5082 non-null   object\n",
            " 8   hazard            5082 non-null   object\n",
            " 9   product           5082 non-null   object\n",
            "dtypes: int64(3), object(7)\n",
            "memory usage: 397.2+ KB\n",
            "None\n"
          ]
        }
      ],
      "source": [
        "# Check the structure of the DataFrame\n",
        "print(df.info())"
      ]
    },
    {
      "cell_type": "code",
      "execution_count": null,
      "metadata": {
        "id": "KlHfuLKlOQmI"
      },
      "outputs": [],
      "source": [
        "# Function to clean text by removing non-alphanumeric characters and converting to lowercase\n",
        "def clean_text(text):\n",
        "    text = re.sub(r'[^a-zA-Z0-9\\s]', '', text) # Remove special characters\n",
        "    text = text.lower() # Convert to lowercase\n",
        "    text = ' '.join(text.split()) # Remove extra spaces\n",
        "    return text\n",
        "\n",
        "# Apply text cleaning to the 'text' column\n",
        "df['text'] = df['text'].apply(clean_text)"
      ]
    },
    {
      "cell_type": "markdown",
      "source": [
        "# Tokenization"
      ],
      "metadata": {
        "id": "Pto6qO051Lwt"
      }
    },
    {
      "cell_type": "code",
      "execution_count": null,
      "metadata": {
        "id": "J5f2YpcNOVs5"
      },
      "outputs": [],
      "source": [
        "# Load tokenizer for BioBERT\n",
        "tokenizer = AutoTokenizer.from_pretrained(config['model_name'])"
      ]
    },
    {
      "cell_type": "code",
      "execution_count": null,
      "metadata": {
        "id": "xe4fnbojOY-v"
      },
      "outputs": [],
      "source": [
        "# Define relevant features and targets\n",
        "features = ['year', 'month', 'day', 'country']\n",
        "subtask1 = ['hazard-category','product-category'] # Tasks for subtask 1\n",
        "subtask2 = ['hazard','product'] # Tasks for subtask 2"
      ]
    },
    {
      "cell_type": "code",
      "execution_count": null,
      "metadata": {
        "id": "b7B8EhUdOer2"
      },
      "outputs": [],
      "source": [
        "# Encode target labels to numeric values\n",
        "label_encoders = {}\n",
        "for target in subtask1 + subtask2:\n",
        "    le = LabelEncoder()\n",
        "    df[target] = le.fit_transform(df[target])  # Fit and transform the target labels\n",
        "    label_encoders[target] = le\n"
      ]
    },
    {
      "cell_type": "markdown",
      "source": [
        "# Dataset Preparation"
      ],
      "metadata": {
        "id": "sgKiz3qL1qwg"
      }
    },
    {
      "cell_type": "code",
      "execution_count": null,
      "metadata": {
        "id": "WbqvZzJgOMmA"
      },
      "outputs": [],
      "source": [
        "# Custom Dataset class for PyTorch\n",
        "class TextDataset(Dataset):\n",
        "    def __init__(self, texts, labels, tokenizer, max_len):\n",
        "        self.texts = texts\n",
        "        self.labels = labels\n",
        "        self.tokenizer = tokenizer\n",
        "        self.max_len = max_len\n",
        "\n",
        "    def __len__(self):\n",
        "        return len(self.texts)\n",
        "\n",
        "    def __getitem__(self, item):\n",
        "        text = str(self.texts[item])\n",
        "        label = self.labels[item]\n",
        "        encoding = self.tokenizer.encode_plus(\n",
        "            text,\n",
        "            add_special_tokens=True,\n",
        "            max_length=self.max_len,\n",
        "            padding='max_length',\n",
        "            truncation=True,\n",
        "            return_tensors='pt'\n",
        "        )\n",
        "        return {\n",
        "            'input_ids': encoding['input_ids'].flatten(),\n",
        "            'attention_mask': encoding['attention_mask'].flatten(),\n",
        "            'label': torch.tensor(label, dtype=torch.long)\n",
        "        }\n"
      ]
    },
    {
      "cell_type": "code",
      "execution_count": null,
      "metadata": {
        "id": "8a9dTrQ9Oh7Q"
      },
      "outputs": [],
      "source": [
        "# Function to prepare data splits for training and testing\n",
        "def prepare_data(text_column):\n",
        "    X = df[features + [text_column]] # Combine features with the specified text column\n",
        "    y_subtask1 = df[subtask1]\n",
        "    y_subtask2 = df[subtask2]\n",
        "\n",
        "    data_splits = {}\n",
        "    for target in subtask1 + subtask2:\n",
        "        # Split into training and test sets\n",
        "        X_train, X_test, y_train, y_test = train_test_split(\n",
        "            X, df[target], test_size=0.1, random_state=42\n",
        "        )\n",
        "\n",
        "        # Reset indices for consistency\n",
        "        X_train = X_train.reset_index(drop=True)\n",
        "        y_train = y_train.reset_index(drop=True)\n",
        "        X_test = X_test.reset_index(drop=True)\n",
        "        y_test = y_test.reset_index(drop=True)\n",
        "\n",
        "        data_splits[target] = (X_train, X_test, y_train, y_test)\n",
        "\n",
        "    return data_splits\n"
      ]
    },
    {
      "cell_type": "code",
      "execution_count": null,
      "metadata": {
        "id": "Ffx_UagwOlb2"
      },
      "outputs": [],
      "source": [
        "# Prepare data splits for title and text tasks\n",
        "title_splits = prepare_data('title')\n",
        "text_splits = prepare_data('text')\n"
      ]
    },
    {
      "cell_type": "markdown",
      "source": [
        "# Training and Evaluation"
      ],
      "metadata": {
        "id": "--MiMGs62W1S"
      }
    },
    {
      "cell_type": "code",
      "execution_count": null,
      "metadata": {
        "id": "RQYXs45FOoPz"
      },
      "outputs": [],
      "source": [
        "# Function to train and evaluate a model for given tasks\n",
        "def train_and_evaluate_nn(data_splits, targets, model_type='title', early_stopping_patience=6, lr_reduce_factor=0.05):\n",
        "    f1_scores = []  # Store F1-scores for each task\n",
        "\n",
        "    for target in targets:\n",
        "        print(f\"\\nStarting training for task: {target}\")  # Print task message\n",
        "\n",
        "        X_train, X_test, y_train, y_test = data_splits[target]\n",
        "\n",
        "        # Prepare text data using the tokenizer\n",
        "        if model_type == 'title':\n",
        "            texts_train = X_train['title'].values\n",
        "            texts_test = X_test['title'].values\n",
        "        else:\n",
        "            texts_train = X_train['text'].values\n",
        "            texts_test = X_test['text'].values\n",
        "\n",
        "        # Create DataLoader for training and testing\n",
        "        train_dataset = TextDataset(texts_train, y_train, tokenizer, config['max_len'])\n",
        "        test_dataset = TextDataset(texts_test, y_test, tokenizer, config['max_len'])\n",
        "\n",
        "        train_loader = DataLoader(train_dataset, batch_size=config['batch_size'], shuffle=True)\n",
        "        test_loader = DataLoader(test_dataset, batch_size=config['batch_size'], shuffle=False)\n",
        "\n",
        "        # Model setup\n",
        "        num_labels = len(label_encoders[target].classes_)\n",
        "        model = AutoModelForSequenceClassification.from_pretrained(config['model_name'], num_labels=num_labels).to(device)\n",
        "\n",
        "        optimizer = optim.Adam(model.parameters(), lr=config['learning_rate'])\n",
        "        scheduler = torch.optim.lr_scheduler.ReduceLROnPlateau(optimizer, mode='min', factor=lr_reduce_factor, patience=3, verbose=True)\n",
        "        criterion = nn.CrossEntropyLoss()\n",
        "\n",
        "        # Training process\n",
        "        model.train()\n",
        "        best_loss = float('inf')\n",
        "        early_stop_counter = 0\n",
        "\n",
        "        for epoch in range(config['epochs']):\n",
        "            print(f\"Epoch {epoch+1}/{config['epochs']} - Training: {target}\")\n",
        "            progress_bar = tqdm(train_loader, desc=f\"Training Epoch {epoch+1}\", total=len(train_loader), leave=True)\n",
        "            epoch_loss = 0.0\n",
        "\n",
        "            for batch in progress_bar:\n",
        "                optimizer.zero_grad()\n",
        "                input_ids = batch['input_ids'].squeeze(1).to(device)\n",
        "                attention_mask = batch['attention_mask'].squeeze(1).to(device)\n",
        "                labels = batch['label'].to(device)\n",
        "\n",
        "                outputs = model(input_ids, attention_mask=attention_mask)\n",
        "                loss = criterion(outputs.logits, labels)\n",
        "                loss.backward()\n",
        "                optimizer.step()\n",
        "                epoch_loss += loss.item()\n",
        "                progress_bar.set_postfix(loss=loss.item())\n",
        "\n",
        "            # Average loss for the epoch\n",
        "            avg_epoch_loss = epoch_loss / len(train_loader)\n",
        "            print(f\"Average Training Loss for Epoch {epoch+1}: {avg_epoch_loss}\")\n",
        "\n",
        "            # Evaluate on the test set to compute validation loss\n",
        "            val_loss = 0.0\n",
        "            model.eval()\n",
        "            with torch.no_grad():\n",
        "                for batch in test_loader:\n",
        "                    input_ids = batch['input_ids'].squeeze(1).to(device)\n",
        "                    attention_mask = batch['attention_mask'].squeeze(1).to(device)\n",
        "                    labels = batch['label'].to(device)\n",
        "\n",
        "                    outputs = model(input_ids, attention_mask=attention_mask)\n",
        "                    loss = criterion(outputs.logits, labels)\n",
        "                    val_loss += loss.item()\n",
        "\n",
        "            avg_val_loss = val_loss / len(test_loader)\n",
        "            print(f\"Validation Loss after Epoch {epoch+1}: {avg_val_loss}\")\n",
        "\n",
        "            # Step the scheduler with the validation loss\n",
        "            scheduler.step(avg_val_loss)\n",
        "\n",
        "            # Early stopping check\n",
        "            if avg_val_loss < best_loss:\n",
        "                best_loss = avg_val_loss\n",
        "                early_stop_counter = 0\n",
        "                torch.save(model.state_dict(), f\"best_model_{target}.pt\")  # Save the best model\n",
        "            else:\n",
        "                early_stop_counter += 1\n",
        "                print(f\"Early stopping counter: {early_stop_counter}/{early_stopping_patience}\")\n",
        "\n",
        "            if early_stop_counter >= early_stopping_patience:\n",
        "                print(\"Early stopping triggered.\")\n",
        "                break\n",
        "\n",
        "        # Load the best model for evaluation\n",
        "        model.load_state_dict(torch.load(f\"best_model_{target}.pt\"))\n",
        "\n",
        "        # Evaluation process\n",
        "        print(f\"Evaluating model for task: {target}\")\n",
        "        model.eval()\n",
        "        y_preds = []\n",
        "        y_true = []\n",
        "        with torch.no_grad():\n",
        "            for batch in tqdm(test_loader, desc=\"Evaluating\", total=len(test_loader), leave=True):\n",
        "                input_ids = batch['input_ids'].squeeze(1).to(device)\n",
        "                attention_mask = batch['attention_mask'].squeeze(1).to(device)\n",
        "                labels = batch['label'].to(device)\n",
        "                outputs = model(input_ids, attention_mask=attention_mask)\n",
        "                _, preds = torch.max(outputs.logits, dim=1)\n",
        "                y_preds.extend(preds.cpu().numpy())\n",
        "                y_true.extend(labels.cpu().numpy())\n",
        "\n",
        "        # Decode labels back to original categories using the label encoder\n",
        "        decoded_preds = label_encoders[target].inverse_transform(y_preds)\n",
        "        decoded_true = label_encoders[target].inverse_transform(y_true)\n",
        "\n",
        "        # Calculate F1 score for the task\n",
        "        f1 = f1_score(decoded_true, decoded_preds, average='weighted')\n",
        "        f1_scores.append(f1)\n",
        "        print(f\"F1-Score for {target}: {f1}\")\n",
        "\n",
        "        # Print classification report\n",
        "        print(f\"Classification Report for {target}:\\n\")\n",
        "        print(classification_report(decoded_true, decoded_preds, zero_division=0))\n",
        "\n",
        "    return f1_scores  # Return the list of F1 scores for plotting\n"
      ]
    },
    {
      "cell_type": "markdown",
      "source": [
        "# Execution"
      ],
      "metadata": {
        "id": "95lRv47w3QF6"
      }
    },
    {
      "cell_type": "code",
      "execution_count": null,
      "metadata": {
        "id": "OYEB0MQmVAWM",
        "colab": {
          "base_uri": "https://localhost:8080/"
        },
        "outputId": "e5b306b6-4bd9-44ba-df91-e2e835029e10"
      },
      "outputs": [
        {
          "output_type": "stream",
          "name": "stdout",
          "text": [
            "\n",
            "Training and Evaluating for Title Tasks:\n",
            "\n",
            "Starting training for task: hazard-category\n"
          ]
        },
        {
          "output_type": "stream",
          "name": "stderr",
          "text": [
            "Some weights of BertForSequenceClassification were not initialized from the model checkpoint at dmis-lab/biobert-base-cased-v1.1 and are newly initialized: ['classifier.bias', 'classifier.weight']\n",
            "You should probably TRAIN this model on a down-stream task to be able to use it for predictions and inference.\n"
          ]
        },
        {
          "output_type": "stream",
          "name": "stdout",
          "text": [
            "Epoch 1/100 - Training: hazard-category\n"
          ]
        },
        {
          "output_type": "stream",
          "name": "stderr",
          "text": [
            "Training Epoch 1: 100%|██████████| 286/286 [01:24<00:00,  3.37it/s, loss=0.83]\n"
          ]
        },
        {
          "output_type": "stream",
          "name": "stdout",
          "text": [
            "Average Training Loss for Epoch 1: 0.8526037928837162\n",
            "Validation Loss after Epoch 1: 0.6488561267033219\n",
            "Epoch 2/100 - Training: hazard-category\n"
          ]
        },
        {
          "output_type": "stream",
          "name": "stderr",
          "text": [
            "Training Epoch 2: 100%|██████████| 286/286 [01:23<00:00,  3.43it/s, loss=0.577]\n"
          ]
        },
        {
          "output_type": "stream",
          "name": "stdout",
          "text": [
            "Average Training Loss for Epoch 2: 0.49519425415648866\n",
            "Validation Loss after Epoch 2: 0.595657218946144\n",
            "Epoch 3/100 - Training: hazard-category\n"
          ]
        },
        {
          "output_type": "stream",
          "name": "stderr",
          "text": [
            "Training Epoch 3: 100%|██████████| 286/286 [01:23<00:00,  3.44it/s, loss=0.602]\n"
          ]
        },
        {
          "output_type": "stream",
          "name": "stdout",
          "text": [
            "Average Training Loss for Epoch 3: 0.3401822982114981\n",
            "Validation Loss after Epoch 3: 0.6418999996967614\n",
            "Early stopping counter: 1/6\n",
            "Epoch 4/100 - Training: hazard-category\n"
          ]
        },
        {
          "output_type": "stream",
          "name": "stderr",
          "text": [
            "Training Epoch 4: 100%|██████████| 286/286 [01:23<00:00,  3.44it/s, loss=0.537]\n"
          ]
        },
        {
          "output_type": "stream",
          "name": "stdout",
          "text": [
            "Average Training Loss for Epoch 4: 0.22676551583633348\n",
            "Validation Loss after Epoch 4: 0.6353647615760565\n",
            "Early stopping counter: 2/6\n",
            "Epoch 5/100 - Training: hazard-category\n"
          ]
        },
        {
          "output_type": "stream",
          "name": "stderr",
          "text": [
            "Training Epoch 5: 100%|██████████| 286/286 [01:23<00:00,  3.44it/s, loss=0.273]\n"
          ]
        },
        {
          "output_type": "stream",
          "name": "stdout",
          "text": [
            "Average Training Loss for Epoch 5: 0.13321629631450282\n",
            "Validation Loss after Epoch 5: 0.7634691828861833\n",
            "Early stopping counter: 3/6\n",
            "Epoch 6/100 - Training: hazard-category\n"
          ]
        },
        {
          "output_type": "stream",
          "name": "stderr",
          "text": [
            "Training Epoch 6: 100%|██████████| 286/286 [01:23<00:00,  3.44it/s, loss=0.00477]\n"
          ]
        },
        {
          "output_type": "stream",
          "name": "stdout",
          "text": [
            "Average Training Loss for Epoch 6: 0.08040479364417415\n",
            "Validation Loss after Epoch 6: 0.7402717540971935\n",
            "Early stopping counter: 4/6\n",
            "Epoch 7/100 - Training: hazard-category\n"
          ]
        },
        {
          "output_type": "stream",
          "name": "stderr",
          "text": [
            "Training Epoch 7: 100%|██████████| 286/286 [01:23<00:00,  3.44it/s, loss=0.0112]\n"
          ]
        },
        {
          "output_type": "stream",
          "name": "stdout",
          "text": [
            "Average Training Loss for Epoch 7: 0.04642826820466459\n",
            "Validation Loss after Epoch 7: 0.7602066892432049\n",
            "Early stopping counter: 5/6\n",
            "Epoch 8/100 - Training: hazard-category\n"
          ]
        },
        {
          "output_type": "stream",
          "name": "stderr",
          "text": [
            "Training Epoch 8: 100%|██████████| 286/286 [01:23<00:00,  3.44it/s, loss=0.00289]\n"
          ]
        },
        {
          "output_type": "stream",
          "name": "stdout",
          "text": [
            "Average Training Loss for Epoch 8: 0.03325558706655629\n",
            "Validation Loss after Epoch 8: 0.7760384087450802\n",
            "Early stopping counter: 6/6\n",
            "Early stopping triggered.\n"
          ]
        },
        {
          "output_type": "stream",
          "name": "stderr",
          "text": [
            "<ipython-input-48-cb47ea6c2053>:92: FutureWarning: You are using `torch.load` with `weights_only=False` (the current default value), which uses the default pickle module implicitly. It is possible to construct malicious pickle data which will execute arbitrary code during unpickling (See https://github.com/pytorch/pytorch/blob/main/SECURITY.md#untrusted-models for more details). In a future release, the default value for `weights_only` will be flipped to `True`. This limits the functions that could be executed during unpickling. Arbitrary objects will no longer be allowed to be loaded via this mode unless they are explicitly allowlisted by the user via `torch.serialization.add_safe_globals`. We recommend you start setting `weights_only=True` for any use case where you don't have full control of the loaded file. Please open an issue on GitHub for any issues related to this experimental feature.\n",
            "  model.load_state_dict(torch.load(f\"best_model_{target}.pt\"))\n"
          ]
        },
        {
          "output_type": "stream",
          "name": "stdout",
          "text": [
            "Evaluating model for task: hazard-category\n"
          ]
        },
        {
          "output_type": "stream",
          "name": "stderr",
          "text": [
            "Evaluating: 100%|██████████| 32/32 [00:02<00:00, 11.03it/s]\n"
          ]
        },
        {
          "output_type": "stream",
          "name": "stdout",
          "text": [
            "F1-Score for hazard-category: 0.7875744067723562\n",
            "Classification Report for hazard-category:\n",
            "\n",
            "              precision    recall  f1-score   support\n",
            "\n",
            "           0       0.86      0.89      0.87       188\n",
            "           1       0.76      0.95      0.85       171\n",
            "           2       0.70      0.60      0.65        35\n",
            "           3       0.00      0.00      0.00         5\n",
            "           4       0.85      0.69      0.76        58\n",
            "           5       0.79      0.39      0.52        28\n",
            "           6       0.00      0.00      0.00         1\n",
            "           7       0.00      0.00      0.00         3\n",
            "           8       0.88      0.47      0.61        15\n",
            "           9       1.00      0.20      0.33         5\n",
            "\n",
            "    accuracy                           0.80       509\n",
            "   macro avg       0.58      0.42      0.46       509\n",
            "weighted avg       0.80      0.80      0.79       509\n",
            "\n",
            "\n",
            "Starting training for task: product-category\n"
          ]
        },
        {
          "output_type": "stream",
          "name": "stderr",
          "text": [
            "Some weights of BertForSequenceClassification were not initialized from the model checkpoint at dmis-lab/biobert-base-cased-v1.1 and are newly initialized: ['classifier.bias', 'classifier.weight']\n",
            "You should probably TRAIN this model on a down-stream task to be able to use it for predictions and inference.\n"
          ]
        },
        {
          "output_type": "stream",
          "name": "stdout",
          "text": [
            "Epoch 1/100 - Training: product-category\n"
          ]
        },
        {
          "output_type": "stream",
          "name": "stderr",
          "text": [
            "Training Epoch 1: 100%|██████████| 286/286 [01:24<00:00,  3.39it/s, loss=1.32]\n"
          ]
        },
        {
          "output_type": "stream",
          "name": "stdout",
          "text": [
            "Average Training Loss for Epoch 1: 1.8438789517312617\n",
            "Validation Loss after Epoch 1: 1.2205164907500148\n",
            "Epoch 2/100 - Training: product-category\n"
          ]
        },
        {
          "output_type": "stream",
          "name": "stderr",
          "text": [
            "Training Epoch 2: 100%|██████████| 286/286 [01:23<00:00,  3.44it/s, loss=0.96]\n"
          ]
        },
        {
          "output_type": "stream",
          "name": "stdout",
          "text": [
            "Average Training Loss for Epoch 2: 0.9666668872733216\n",
            "Validation Loss after Epoch 2: 1.0141451554372907\n",
            "Epoch 3/100 - Training: product-category\n"
          ]
        },
        {
          "output_type": "stream",
          "name": "stderr",
          "text": [
            "Training Epoch 3: 100%|██████████| 286/286 [01:23<00:00,  3.44it/s, loss=0.14]\n"
          ]
        },
        {
          "output_type": "stream",
          "name": "stdout",
          "text": [
            "Average Training Loss for Epoch 3: 0.5574097448920871\n",
            "Validation Loss after Epoch 3: 0.9332389263436198\n",
            "Epoch 4/100 - Training: product-category\n"
          ]
        },
        {
          "output_type": "stream",
          "name": "stderr",
          "text": [
            "Training Epoch 4: 100%|██████████| 286/286 [01:23<00:00,  3.44it/s, loss=0.12]\n"
          ]
        },
        {
          "output_type": "stream",
          "name": "stdout",
          "text": [
            "Average Training Loss for Epoch 4: 0.3238768228492537\n",
            "Validation Loss after Epoch 4: 1.0378252658993006\n",
            "Early stopping counter: 1/6\n",
            "Epoch 5/100 - Training: product-category\n"
          ]
        },
        {
          "output_type": "stream",
          "name": "stderr",
          "text": [
            "Training Epoch 5: 100%|██████████| 286/286 [01:23<00:00,  3.44it/s, loss=0.0387]\n"
          ]
        },
        {
          "output_type": "stream",
          "name": "stdout",
          "text": [
            "Average Training Loss for Epoch 5: 0.20429519769716095\n",
            "Validation Loss after Epoch 5: 1.075084287673235\n",
            "Early stopping counter: 2/6\n",
            "Epoch 6/100 - Training: product-category\n"
          ]
        },
        {
          "output_type": "stream",
          "name": "stderr",
          "text": [
            "Training Epoch 6: 100%|██████████| 286/286 [01:23<00:00,  3.44it/s, loss=0.0294]\n"
          ]
        },
        {
          "output_type": "stream",
          "name": "stdout",
          "text": [
            "Average Training Loss for Epoch 6: 0.1041429436283668\n",
            "Validation Loss after Epoch 6: 1.15093476139009\n",
            "Early stopping counter: 3/6\n",
            "Epoch 7/100 - Training: product-category\n"
          ]
        },
        {
          "output_type": "stream",
          "name": "stderr",
          "text": [
            "Training Epoch 7: 100%|██████████| 286/286 [01:23<00:00,  3.44it/s, loss=0.0157]\n"
          ]
        },
        {
          "output_type": "stream",
          "name": "stdout",
          "text": [
            "Average Training Loss for Epoch 7: 0.06087356248310396\n",
            "Validation Loss after Epoch 7: 1.2289086086675525\n",
            "Early stopping counter: 4/6\n",
            "Epoch 8/100 - Training: product-category\n"
          ]
        },
        {
          "output_type": "stream",
          "name": "stderr",
          "text": [
            "Training Epoch 8: 100%|██████████| 286/286 [01:23<00:00,  3.44it/s, loss=0.0723]\n"
          ]
        },
        {
          "output_type": "stream",
          "name": "stdout",
          "text": [
            "Average Training Loss for Epoch 8: 0.030466587916081707\n",
            "Validation Loss after Epoch 8: 1.2064156671985984\n",
            "Early stopping counter: 5/6\n",
            "Epoch 9/100 - Training: product-category\n"
          ]
        },
        {
          "output_type": "stream",
          "name": "stderr",
          "text": [
            "Training Epoch 9: 100%|██████████| 286/286 [01:23<00:00,  3.44it/s, loss=0.00616]\n"
          ]
        },
        {
          "output_type": "stream",
          "name": "stdout",
          "text": [
            "Average Training Loss for Epoch 9: 0.023333696284578865\n",
            "Validation Loss after Epoch 9: 1.2085722163319588\n",
            "Early stopping counter: 6/6\n",
            "Early stopping triggered.\n"
          ]
        },
        {
          "output_type": "stream",
          "name": "stderr",
          "text": [
            "<ipython-input-48-cb47ea6c2053>:92: FutureWarning: You are using `torch.load` with `weights_only=False` (the current default value), which uses the default pickle module implicitly. It is possible to construct malicious pickle data which will execute arbitrary code during unpickling (See https://github.com/pytorch/pytorch/blob/main/SECURITY.md#untrusted-models for more details). In a future release, the default value for `weights_only` will be flipped to `True`. This limits the functions that could be executed during unpickling. Arbitrary objects will no longer be allowed to be loaded via this mode unless they are explicitly allowlisted by the user via `torch.serialization.add_safe_globals`. We recommend you start setting `weights_only=True` for any use case where you don't have full control of the loaded file. Please open an issue on GitHub for any issues related to this experimental feature.\n",
            "  model.load_state_dict(torch.load(f\"best_model_{target}.pt\"))\n"
          ]
        },
        {
          "output_type": "stream",
          "name": "stdout",
          "text": [
            "Evaluating model for task: product-category\n"
          ]
        },
        {
          "output_type": "stream",
          "name": "stderr",
          "text": [
            "Evaluating: 100%|██████████| 32/32 [00:02<00:00, 11.07it/s]\n"
          ]
        },
        {
          "output_type": "stream",
          "name": "stdout",
          "text": [
            "F1-Score for product-category: 0.7238874589526265\n",
            "Classification Report for product-category:\n",
            "\n",
            "              precision    recall  f1-score   support\n",
            "\n",
            "           0       0.50      1.00      0.67         2\n",
            "           1       0.66      0.74      0.70        54\n",
            "           2       0.72      0.79      0.75        29\n",
            "           3       0.32      0.30      0.31        20\n",
            "           4       0.67      0.55      0.60        11\n",
            "           5       0.50      0.33      0.40         3\n",
            "           6       0.00      0.00      0.00         2\n",
            "           8       0.00      0.00      0.00         1\n",
            "           9       0.73      0.73      0.73        56\n",
            "          10       0.33      0.89      0.48         9\n",
            "          12       0.97      0.88      0.92        33\n",
            "          13       0.83      0.92      0.88       131\n",
            "          14       1.00      0.62      0.77        16\n",
            "          15       0.93      0.73      0.82        37\n",
            "          16       0.00      0.00      0.00         1\n",
            "          17       1.00      0.33      0.50         3\n",
            "          18       0.47      0.37      0.42        51\n",
            "          19       0.89      0.86      0.87        28\n",
            "          20       0.65      0.62      0.63        21\n",
            "          21       0.00      0.00      0.00         1\n",
            "\n",
            "    accuracy                           0.73       509\n",
            "   macro avg       0.56      0.53      0.52       509\n",
            "weighted avg       0.73      0.73      0.72       509\n",
            "\n",
            "\n",
            "Starting training for task: hazard\n"
          ]
        },
        {
          "output_type": "stream",
          "name": "stderr",
          "text": [
            "Some weights of BertForSequenceClassification were not initialized from the model checkpoint at dmis-lab/biobert-base-cased-v1.1 and are newly initialized: ['classifier.bias', 'classifier.weight']\n",
            "You should probably TRAIN this model on a down-stream task to be able to use it for predictions and inference.\n"
          ]
        },
        {
          "output_type": "stream",
          "name": "stdout",
          "text": [
            "Epoch 1/100 - Training: hazard\n"
          ]
        },
        {
          "output_type": "stream",
          "name": "stderr",
          "text": [
            "Training Epoch 1: 100%|██████████| 286/286 [01:24<00:00,  3.38it/s, loss=2.96]\n"
          ]
        },
        {
          "output_type": "stream",
          "name": "stdout",
          "text": [
            "Average Training Loss for Epoch 1: 2.8747779214298808\n",
            "Validation Loss after Epoch 1: 2.1031708363443613\n",
            "Epoch 2/100 - Training: hazard\n"
          ]
        },
        {
          "output_type": "stream",
          "name": "stderr",
          "text": [
            "Training Epoch 2: 100%|██████████| 286/286 [01:23<00:00,  3.44it/s, loss=2.69]\n"
          ]
        },
        {
          "output_type": "stream",
          "name": "stdout",
          "text": [
            "Average Training Loss for Epoch 2: 1.8562578636032718\n",
            "Validation Loss after Epoch 2: 1.7618765942752361\n",
            "Epoch 3/100 - Training: hazard\n"
          ]
        },
        {
          "output_type": "stream",
          "name": "stderr",
          "text": [
            "Training Epoch 3: 100%|██████████| 286/286 [01:23<00:00,  3.44it/s, loss=0.903]\n"
          ]
        },
        {
          "output_type": "stream",
          "name": "stdout",
          "text": [
            "Average Training Loss for Epoch 3: 1.3682830971437734\n",
            "Validation Loss after Epoch 3: 1.6314141619950533\n",
            "Epoch 4/100 - Training: hazard\n"
          ]
        },
        {
          "output_type": "stream",
          "name": "stderr",
          "text": [
            "Training Epoch 4: 100%|██████████| 286/286 [01:23<00:00,  3.44it/s, loss=1.56]\n"
          ]
        },
        {
          "output_type": "stream",
          "name": "stdout",
          "text": [
            "Average Training Loss for Epoch 4: 1.0068876291071618\n",
            "Validation Loss after Epoch 4: 1.592162722721696\n",
            "Epoch 5/100 - Training: hazard\n"
          ]
        },
        {
          "output_type": "stream",
          "name": "stderr",
          "text": [
            "Training Epoch 5: 100%|██████████| 286/286 [01:23<00:00,  3.44it/s, loss=1.11]\n"
          ]
        },
        {
          "output_type": "stream",
          "name": "stdout",
          "text": [
            "Average Training Loss for Epoch 5: 0.7172761836017554\n",
            "Validation Loss after Epoch 5: 1.5741683561354876\n",
            "Epoch 6/100 - Training: hazard\n"
          ]
        },
        {
          "output_type": "stream",
          "name": "stderr",
          "text": [
            "Training Epoch 6: 100%|██████████| 286/286 [01:23<00:00,  3.43it/s, loss=0.379]\n"
          ]
        },
        {
          "output_type": "stream",
          "name": "stdout",
          "text": [
            "Average Training Loss for Epoch 6: 0.4978265080705181\n",
            "Validation Loss after Epoch 6: 1.5918682347983122\n",
            "Early stopping counter: 1/6\n",
            "Epoch 7/100 - Training: hazard\n"
          ]
        },
        {
          "output_type": "stream",
          "name": "stderr",
          "text": [
            "Training Epoch 7: 100%|██████████| 286/286 [01:23<00:00,  3.44it/s, loss=0.204]\n"
          ]
        },
        {
          "output_type": "stream",
          "name": "stdout",
          "text": [
            "Average Training Loss for Epoch 7: 0.3424900842804488\n",
            "Validation Loss after Epoch 7: 1.6944975974038243\n",
            "Early stopping counter: 2/6\n",
            "Epoch 8/100 - Training: hazard\n"
          ]
        },
        {
          "output_type": "stream",
          "name": "stderr",
          "text": [
            "Training Epoch 8: 100%|██████████| 286/286 [01:23<00:00,  3.44it/s, loss=0.167]\n"
          ]
        },
        {
          "output_type": "stream",
          "name": "stdout",
          "text": [
            "Average Training Loss for Epoch 8: 0.2469189565016569\n",
            "Validation Loss after Epoch 8: 1.6649022363126278\n",
            "Early stopping counter: 3/6\n",
            "Epoch 9/100 - Training: hazard\n"
          ]
        },
        {
          "output_type": "stream",
          "name": "stderr",
          "text": [
            "Training Epoch 9: 100%|██████████| 286/286 [01:23<00:00,  3.43it/s, loss=0.0454]\n"
          ]
        },
        {
          "output_type": "stream",
          "name": "stdout",
          "text": [
            "Average Training Loss for Epoch 9: 0.17069614917313405\n",
            "Validation Loss after Epoch 9: 1.7448944002389908\n",
            "Early stopping counter: 4/6\n",
            "Epoch 10/100 - Training: hazard\n"
          ]
        },
        {
          "output_type": "stream",
          "name": "stderr",
          "text": [
            "Training Epoch 10: 100%|██████████| 286/286 [01:23<00:00,  3.44it/s, loss=0.081]\n"
          ]
        },
        {
          "output_type": "stream",
          "name": "stdout",
          "text": [
            "Average Training Loss for Epoch 10: 0.11290546016722032\n",
            "Validation Loss after Epoch 10: 1.7331780698150396\n",
            "Early stopping counter: 5/6\n",
            "Epoch 11/100 - Training: hazard\n"
          ]
        },
        {
          "output_type": "stream",
          "name": "stderr",
          "text": [
            "Training Epoch 11: 100%|██████████| 286/286 [01:23<00:00,  3.44it/s, loss=0.0103]\n"
          ]
        },
        {
          "output_type": "stream",
          "name": "stdout",
          "text": [
            "Average Training Loss for Epoch 11: 0.09654433079311377\n",
            "Validation Loss after Epoch 11: 1.7271518744528294\n",
            "Early stopping counter: 6/6\n",
            "Early stopping triggered.\n"
          ]
        },
        {
          "output_type": "stream",
          "name": "stderr",
          "text": [
            "<ipython-input-48-cb47ea6c2053>:92: FutureWarning: You are using `torch.load` with `weights_only=False` (the current default value), which uses the default pickle module implicitly. It is possible to construct malicious pickle data which will execute arbitrary code during unpickling (See https://github.com/pytorch/pytorch/blob/main/SECURITY.md#untrusted-models for more details). In a future release, the default value for `weights_only` will be flipped to `True`. This limits the functions that could be executed during unpickling. Arbitrary objects will no longer be allowed to be loaded via this mode unless they are explicitly allowlisted by the user via `torch.serialization.add_safe_globals`. We recommend you start setting `weights_only=True` for any use case where you don't have full control of the loaded file. Please open an issue on GitHub for any issues related to this experimental feature.\n",
            "  model.load_state_dict(torch.load(f\"best_model_{target}.pt\"))\n"
          ]
        },
        {
          "output_type": "stream",
          "name": "stdout",
          "text": [
            "Evaluating model for task: hazard\n"
          ]
        },
        {
          "output_type": "stream",
          "name": "stderr",
          "text": [
            "Evaluating: 100%|██████████| 32/32 [00:02<00:00, 11.04it/s]\n"
          ]
        },
        {
          "output_type": "stream",
          "name": "stdout",
          "text": [
            "F1-Score for hazard: 0.6353890281175577\n",
            "Classification Report for hazard:\n",
            "\n",
            "              precision    recall  f1-score   support\n",
            "\n",
            "           0       1.00      0.50      0.67         2\n",
            "           3       0.00      0.00      0.00         2\n",
            "           4       0.00      0.00      0.00         3\n",
            "           5       0.33      0.75      0.46         4\n",
            "           7       0.00      0.00      0.00         1\n",
            "          10       0.00      0.00      0.00         1\n",
            "          11       0.00      0.00      0.00         1\n",
            "          12       0.00      0.00      0.00         1\n",
            "          13       0.00      0.00      0.00         2\n",
            "          14       1.00      0.20      0.33         5\n",
            "          15       0.00      0.00      0.00         1\n",
            "          17       0.36      0.76      0.49        17\n",
            "          18       0.00      0.00      0.00         1\n",
            "          19       0.00      0.00      0.00         1\n",
            "          22       1.00      1.00      1.00         3\n",
            "          23       0.00      0.00      0.00         1\n",
            "          25       0.00      0.00      0.00         1\n",
            "          27       1.00      1.00      1.00         1\n",
            "          28       1.00      1.00      1.00         1\n",
            "          33       0.50      0.50      0.50         2\n",
            "          34       0.46      0.81      0.59        16\n",
            "          36       0.68      0.81      0.74        16\n",
            "          38       1.00      0.20      0.33         5\n",
            "          39       1.00      0.50      0.67         2\n",
            "          40       0.75      0.30      0.43        10\n",
            "          42       1.00      1.00      1.00         2\n",
            "          43       0.50      0.25      0.33         4\n",
            "          45       0.50      1.00      0.67         1\n",
            "          47       0.00      0.00      0.00         2\n",
            "          48       0.00      0.00      0.00         1\n",
            "          49       0.00      0.00      0.00         1\n",
            "          50       1.00      1.00      1.00         4\n",
            "          52       0.70      1.00      0.82         7\n",
            "          54       0.11      0.33      0.17         3\n",
            "          55       0.83      0.85      0.84        75\n",
            "          56       0.00      0.00      0.00         1\n",
            "          57       0.80      0.50      0.62        16\n",
            "          58       0.00      0.00      0.00         2\n",
            "          59       0.86      0.73      0.79        59\n",
            "          61       0.00      0.00      0.00         1\n",
            "          64       1.00      1.00      1.00         1\n",
            "          65       1.00      0.80      0.89         5\n",
            "          68       1.00      1.00      1.00         2\n",
            "          70       0.00      0.00      0.00         2\n",
            "          73       0.38      0.57      0.46        14\n",
            "          75       0.67      0.67      0.67         3\n",
            "          77       0.00      0.00      0.00         1\n",
            "          78       1.00      0.33      0.50         3\n",
            "          79       0.00      0.00      0.00         1\n",
            "          80       0.00      0.00      0.00         2\n",
            "          82       0.00      0.00      0.00         1\n",
            "          83       0.00      0.00      0.00         1\n",
            "          85       0.59      0.92      0.72        24\n",
            "          86       1.00      0.67      0.80         3\n",
            "          89       0.00      0.00      0.00         2\n",
            "          90       0.57      0.68      0.62        25\n",
            "          91       1.00      1.00      1.00         1\n",
            "          92       0.00      0.00      0.00         1\n",
            "          93       0.00      0.00      0.00         2\n",
            "          94       0.67      0.50      0.57         4\n",
            "          95       0.00      0.00      0.00         1\n",
            "          97       0.00      0.00      0.00         3\n",
            "          98       0.76      0.77      0.77        66\n",
            "          99       0.40      0.40      0.40         5\n",
            "         100       0.44      0.47      0.46        17\n",
            "         101       0.00      0.00      0.00         1\n",
            "         102       0.00      0.00      0.00         1\n",
            "         104       1.00      1.00      1.00         1\n",
            "         107       0.00      0.00      0.00         2\n",
            "         108       1.00      0.33      0.50         3\n",
            "         109       0.67      0.91      0.77        11\n",
            "         110       0.00      0.00      0.00         2\n",
            "         111       0.00      0.00      0.00         1\n",
            "         113       1.00      1.00      1.00         1\n",
            "         114       0.67      0.80      0.73         5\n",
            "         119       1.00      1.00      1.00         8\n",
            "         121       0.00      0.00      0.00         1\n",
            "         126       0.67      0.67      0.67         3\n",
            "\n",
            "    accuracy                           0.66       509\n",
            "   macro avg       0.42      0.39      0.38       509\n",
            "weighted avg       0.65      0.66      0.64       509\n",
            "\n",
            "\n",
            "Starting training for task: product\n"
          ]
        },
        {
          "output_type": "stream",
          "name": "stderr",
          "text": [
            "Some weights of BertForSequenceClassification were not initialized from the model checkpoint at dmis-lab/biobert-base-cased-v1.1 and are newly initialized: ['classifier.bias', 'classifier.weight']\n",
            "You should probably TRAIN this model on a down-stream task to be able to use it for predictions and inference.\n"
          ]
        },
        {
          "output_type": "stream",
          "name": "stdout",
          "text": [
            "Epoch 1/100 - Training: product\n"
          ]
        },
        {
          "output_type": "stream",
          "name": "stderr",
          "text": [
            "Training Epoch 1: 100%|██████████| 286/286 [01:24<00:00,  3.38it/s, loss=6.56]\n"
          ]
        },
        {
          "output_type": "stream",
          "name": "stdout",
          "text": [
            "Average Training Loss for Epoch 1: 6.245762296489902\n",
            "Validation Loss after Epoch 1: 5.699641019105911\n",
            "Epoch 2/100 - Training: product\n"
          ]
        },
        {
          "output_type": "stream",
          "name": "stderr",
          "text": [
            "Training Epoch 2: 100%|██████████| 286/286 [01:23<00:00,  3.44it/s, loss=5.64]\n"
          ]
        },
        {
          "output_type": "stream",
          "name": "stdout",
          "text": [
            "Average Training Loss for Epoch 2: 5.096462469000916\n",
            "Validation Loss after Epoch 2: 4.903970472514629\n",
            "Epoch 3/100 - Training: product\n"
          ]
        },
        {
          "output_type": "stream",
          "name": "stderr",
          "text": [
            "Training Epoch 3: 100%|██████████| 286/286 [01:23<00:00,  3.43it/s, loss=4.19]\n"
          ]
        },
        {
          "output_type": "stream",
          "name": "stdout",
          "text": [
            "Average Training Loss for Epoch 3: 4.17318730671089\n",
            "Validation Loss after Epoch 3: 4.375159651041031\n",
            "Epoch 4/100 - Training: product\n"
          ]
        },
        {
          "output_type": "stream",
          "name": "stderr",
          "text": [
            "Training Epoch 4: 100%|██████████| 286/286 [01:23<00:00,  3.43it/s, loss=3.17]\n"
          ]
        },
        {
          "output_type": "stream",
          "name": "stdout",
          "text": [
            "Average Training Loss for Epoch 4: 3.428116573737218\n",
            "Validation Loss after Epoch 4: 4.037622183561325\n",
            "Epoch 5/100 - Training: product\n"
          ]
        },
        {
          "output_type": "stream",
          "name": "stderr",
          "text": [
            "Training Epoch 5: 100%|██████████| 286/286 [01:23<00:00,  3.42it/s, loss=3.01]\n"
          ]
        },
        {
          "output_type": "stream",
          "name": "stdout",
          "text": [
            "Average Training Loss for Epoch 5: 2.7946656546392643\n",
            "Validation Loss after Epoch 5: 3.8166015222668648\n",
            "Epoch 6/100 - Training: product\n"
          ]
        },
        {
          "output_type": "stream",
          "name": "stderr",
          "text": [
            "Training Epoch 6: 100%|██████████| 286/286 [01:23<00:00,  3.43it/s, loss=1.7]\n"
          ]
        },
        {
          "output_type": "stream",
          "name": "stdout",
          "text": [
            "Average Training Loss for Epoch 6: 2.238891651163568\n",
            "Validation Loss after Epoch 6: 3.6735625490546227\n",
            "Epoch 7/100 - Training: product\n"
          ]
        },
        {
          "output_type": "stream",
          "name": "stderr",
          "text": [
            "Training Epoch 7: 100%|██████████| 286/286 [01:23<00:00,  3.42it/s, loss=1.24]\n"
          ]
        },
        {
          "output_type": "stream",
          "name": "stdout",
          "text": [
            "Average Training Loss for Epoch 7: 1.7802587830936991\n",
            "Validation Loss after Epoch 7: 3.4671257212758064\n",
            "Epoch 8/100 - Training: product\n"
          ]
        },
        {
          "output_type": "stream",
          "name": "stderr",
          "text": [
            "Training Epoch 8: 100%|██████████| 286/286 [01:23<00:00,  3.43it/s, loss=0.735]\n"
          ]
        },
        {
          "output_type": "stream",
          "name": "stdout",
          "text": [
            "Average Training Loss for Epoch 8: 1.3949574553049529\n",
            "Validation Loss after Epoch 8: 3.399665117263794\n",
            "Epoch 9/100 - Training: product\n"
          ]
        },
        {
          "output_type": "stream",
          "name": "stderr",
          "text": [
            "Training Epoch 9: 100%|██████████| 286/286 [01:23<00:00,  3.43it/s, loss=0.962]\n"
          ]
        },
        {
          "output_type": "stream",
          "name": "stdout",
          "text": [
            "Average Training Loss for Epoch 9: 1.0970371854263585\n",
            "Validation Loss after Epoch 9: 3.315527554601431\n",
            "Epoch 10/100 - Training: product\n"
          ]
        },
        {
          "output_type": "stream",
          "name": "stderr",
          "text": [
            "Training Epoch 10: 100%|██████████| 286/286 [01:23<00:00,  3.43it/s, loss=1.12]\n"
          ]
        },
        {
          "output_type": "stream",
          "name": "stdout",
          "text": [
            "Average Training Loss for Epoch 10: 0.8699033030575806\n",
            "Validation Loss after Epoch 10: 3.3048871122300625\n",
            "Epoch 11/100 - Training: product\n"
          ]
        },
        {
          "output_type": "stream",
          "name": "stderr",
          "text": [
            "Training Epoch 11: 100%|██████████| 286/286 [01:23<00:00,  3.43it/s, loss=0.715]\n"
          ]
        },
        {
          "output_type": "stream",
          "name": "stdout",
          "text": [
            "Average Training Loss for Epoch 11: 0.6901829111409354\n",
            "Validation Loss after Epoch 11: 3.239421673119068\n",
            "Epoch 12/100 - Training: product\n"
          ]
        },
        {
          "output_type": "stream",
          "name": "stderr",
          "text": [
            "Training Epoch 12: 100%|██████████| 286/286 [01:23<00:00,  3.44it/s, loss=0.38]\n"
          ]
        },
        {
          "output_type": "stream",
          "name": "stdout",
          "text": [
            "Average Training Loss for Epoch 12: 0.5438920856824705\n",
            "Validation Loss after Epoch 12: 3.235342115163803\n",
            "Epoch 13/100 - Training: product\n"
          ]
        },
        {
          "output_type": "stream",
          "name": "stderr",
          "text": [
            "Training Epoch 13: 100%|██████████| 286/286 [01:23<00:00,  3.43it/s, loss=1.15]\n"
          ]
        },
        {
          "output_type": "stream",
          "name": "stdout",
          "text": [
            "Average Training Loss for Epoch 13: 0.4341181502319299\n",
            "Validation Loss after Epoch 13: 3.25559339299798\n",
            "Early stopping counter: 1/6\n",
            "Epoch 14/100 - Training: product\n"
          ]
        },
        {
          "output_type": "stream",
          "name": "stderr",
          "text": [
            "Training Epoch 14: 100%|██████████| 286/286 [01:23<00:00,  3.43it/s, loss=0.497]\n"
          ]
        },
        {
          "output_type": "stream",
          "name": "stdout",
          "text": [
            "Average Training Loss for Epoch 14: 0.346710118966607\n",
            "Validation Loss after Epoch 14: 3.2642058059573174\n",
            "Early stopping counter: 2/6\n",
            "Epoch 15/100 - Training: product\n"
          ]
        },
        {
          "output_type": "stream",
          "name": "stderr",
          "text": [
            "Training Epoch 15: 100%|██████████| 286/286 [01:23<00:00,  3.43it/s, loss=0.289]\n"
          ]
        },
        {
          "output_type": "stream",
          "name": "stdout",
          "text": [
            "Average Training Loss for Epoch 15: 0.2807211483718007\n",
            "Validation Loss after Epoch 15: 3.2564377449452877\n",
            "Early stopping counter: 3/6\n",
            "Epoch 16/100 - Training: product\n"
          ]
        },
        {
          "output_type": "stream",
          "name": "stderr",
          "text": [
            "Training Epoch 16: 100%|██████████| 286/286 [01:23<00:00,  3.43it/s, loss=0.246]\n"
          ]
        },
        {
          "output_type": "stream",
          "name": "stdout",
          "text": [
            "Average Training Loss for Epoch 16: 0.22148123844624398\n",
            "Validation Loss after Epoch 16: 3.31188852712512\n",
            "Early stopping counter: 4/6\n",
            "Epoch 17/100 - Training: product\n"
          ]
        },
        {
          "output_type": "stream",
          "name": "stderr",
          "text": [
            "Training Epoch 17: 100%|██████████| 286/286 [01:23<00:00,  3.44it/s, loss=0.102]\n"
          ]
        },
        {
          "output_type": "stream",
          "name": "stdout",
          "text": [
            "Average Training Loss for Epoch 17: 0.16965653797468314\n",
            "Validation Loss after Epoch 17: 3.305970475077629\n",
            "Early stopping counter: 5/6\n",
            "Epoch 18/100 - Training: product\n"
          ]
        },
        {
          "output_type": "stream",
          "name": "stderr",
          "text": [
            "Training Epoch 18: 100%|██████████| 286/286 [01:23<00:00,  3.43it/s, loss=0.122]\n"
          ]
        },
        {
          "output_type": "stream",
          "name": "stdout",
          "text": [
            "Average Training Loss for Epoch 18: 0.15462044865492133\n",
            "Validation Loss after Epoch 18: 3.302078977227211\n",
            "Early stopping counter: 6/6\n",
            "Early stopping triggered.\n"
          ]
        },
        {
          "output_type": "stream",
          "name": "stderr",
          "text": [
            "<ipython-input-48-cb47ea6c2053>:92: FutureWarning: You are using `torch.load` with `weights_only=False` (the current default value), which uses the default pickle module implicitly. It is possible to construct malicious pickle data which will execute arbitrary code during unpickling (See https://github.com/pytorch/pytorch/blob/main/SECURITY.md#untrusted-models for more details). In a future release, the default value for `weights_only` will be flipped to `True`. This limits the functions that could be executed during unpickling. Arbitrary objects will no longer be allowed to be loaded via this mode unless they are explicitly allowlisted by the user via `torch.serialization.add_safe_globals`. We recommend you start setting `weights_only=True` for any use case where you don't have full control of the loaded file. Please open an issue on GitHub for any issues related to this experimental feature.\n",
            "  model.load_state_dict(torch.load(f\"best_model_{target}.pt\"))\n"
          ]
        },
        {
          "output_type": "stream",
          "name": "stdout",
          "text": [
            "Evaluating model for task: product\n"
          ]
        },
        {
          "output_type": "stream",
          "name": "stderr",
          "text": [
            "Evaluating: 100%|██████████| 32/32 [00:02<00:00, 11.06it/s]"
          ]
        },
        {
          "output_type": "stream",
          "name": "stdout",
          "text": [
            "F1-Score for product: 0.4739425742763013\n",
            "Classification Report for product:\n",
            "\n",
            "              precision    recall  f1-score   support\n",
            "\n",
            "           0       1.00      0.33      0.50         3\n",
            "           2       0.60      0.60      0.60         5\n",
            "           4       0.00      0.00      0.00         1\n",
            "           6       0.00      0.00      0.00         1\n",
            "           8       0.00      0.00      0.00         0\n",
            "          10       0.00      0.00      0.00         1\n",
            "          13       1.00      1.00      1.00         3\n",
            "          19       0.67      1.00      0.80         2\n",
            "          20       0.33      1.00      0.50         1\n",
            "          22       1.00      1.00      1.00         1\n",
            "          23       0.00      0.00      0.00         0\n",
            "          24       0.00      0.00      0.00         1\n",
            "          27       0.00      0.00      0.00         1\n",
            "          31       0.00      0.00      0.00         1\n",
            "          35       0.00      0.00      0.00         1\n",
            "          38       0.67      1.00      0.80         2\n",
            "          41       0.00      0.00      0.00         1\n",
            "          42       0.00      0.00      0.00         1\n",
            "          45       0.00      0.00      0.00         1\n",
            "          46       0.00      0.00      0.00         0\n",
            "          49       0.00      0.00      0.00         1\n",
            "          51       0.50      1.00      0.67         1\n",
            "          55       0.00      0.00      0.00         1\n",
            "          58       0.00      0.00      0.00         3\n",
            "          61       0.40      1.00      0.57         2\n",
            "          62       0.00      0.00      0.00         1\n",
            "          67       0.33      1.00      0.50         1\n",
            "          73       0.00      0.00      0.00         2\n",
            "          74       1.00      1.00      1.00         1\n",
            "          76       0.00      0.00      0.00         0\n",
            "          80       0.00      0.00      0.00         0\n",
            "          84       0.00      0.00      0.00         1\n",
            "          87       0.00      0.00      0.00         2\n",
            "          91       0.00      0.00      0.00         1\n",
            "          92       0.00      0.00      0.00         2\n",
            "          93       0.00      0.00      0.00         2\n",
            "          94       0.00      0.00      0.00         0\n",
            "         108       0.00      0.00      0.00         0\n",
            "         111       0.00      0.00      0.00         1\n",
            "         113       0.00      0.00      0.00         0\n",
            "         117       0.78      0.78      0.78         9\n",
            "         119       0.25      0.33      0.29         3\n",
            "         122       0.00      0.00      0.00         1\n",
            "         127       0.00      0.00      0.00         1\n",
            "         128       0.00      0.00      0.00         1\n",
            "         130       0.00      0.00      0.00         0\n",
            "         135       0.00      0.00      0.00         1\n",
            "         136       0.00      0.00      0.00         0\n",
            "         138       0.00      0.00      0.00         1\n",
            "         141       0.00      0.00      0.00         1\n",
            "         143       0.00      0.00      0.00         1\n",
            "         144       0.00      0.00      0.00         0\n",
            "         149       0.00      0.00      0.00         0\n",
            "         150       0.71      0.71      0.71         7\n",
            "         154       0.00      0.00      0.00         1\n",
            "         157       0.00      0.00      0.00         1\n",
            "         164       1.00      1.00      1.00         2\n",
            "         165       0.00      0.00      0.00         3\n",
            "         167       0.58      0.64      0.61        11\n",
            "         168       0.00      0.00      0.00         0\n",
            "         169       0.00      0.00      0.00         1\n",
            "         170       0.00      0.00      0.00         1\n",
            "         173       0.00      0.00      0.00         1\n",
            "         174       0.00      0.00      0.00         0\n",
            "         177       0.25      0.33      0.29         3\n",
            "         178       0.00      0.00      0.00         0\n",
            "         186       0.00      0.00      0.00         1\n",
            "         196       0.00      0.00      0.00         4\n",
            "         201       0.00      0.00      0.00         1\n",
            "         203       0.00      0.00      0.00         0\n",
            "         207       1.00      0.67      0.80         6\n",
            "         209       0.00      0.00      0.00         2\n",
            "         210       1.00      1.00      1.00         1\n",
            "         212       0.60      0.75      0.67         4\n",
            "         219       0.67      1.00      0.80         2\n",
            "         224       1.00      0.67      0.80         3\n",
            "         226       0.00      0.00      0.00         1\n",
            "         229       1.00      1.00      1.00         1\n",
            "         230       0.00      0.00      0.00         0\n",
            "         231       1.00      0.67      0.80         3\n",
            "         239       0.00      0.00      0.00         0\n",
            "         240       1.00      1.00      1.00         1\n",
            "         241       1.00      1.00      1.00         1\n",
            "         245       0.67      1.00      0.80         2\n",
            "         248       1.00      1.00      1.00         1\n",
            "         252       0.00      0.00      0.00         0\n",
            "         255       0.20      1.00      0.33         1\n",
            "         260       0.57      0.80      0.67         5\n",
            "         262       0.00      0.00      0.00         0\n",
            "         263       0.29      0.67      0.40         3\n",
            "         264       0.00      0.00      0.00         1\n",
            "         267       0.00      0.00      0.00         1\n",
            "         268       0.50      1.00      0.67         1\n",
            "         269       0.00      0.00      0.00         0\n",
            "         273       0.00      0.00      0.00         1\n",
            "         278       0.00      0.00      0.00         1\n",
            "         279       1.00      1.00      1.00         1\n",
            "         284       0.00      0.00      0.00         1\n",
            "         286       0.00      0.00      0.00         1\n",
            "         294       0.00      0.00      0.00         0\n",
            "         295       0.75      1.00      0.86         3\n",
            "         296       1.00      1.00      1.00         1\n",
            "         298       1.00      0.50      0.67         2\n",
            "         301       0.33      0.50      0.40         2\n",
            "         302       0.00      0.00      0.00         1\n",
            "         303       0.50      0.50      0.50         2\n",
            "         304       0.00      0.00      0.00         1\n",
            "         305       0.00      0.00      0.00         1\n",
            "         309       0.00      0.00      0.00         1\n",
            "         310       0.00      0.00      0.00         1\n",
            "         311       0.75      1.00      0.86         3\n",
            "         313       1.00      1.00      1.00         6\n",
            "         316       1.00      1.00      1.00         1\n",
            "         317       0.00      0.00      0.00         1\n",
            "         319       1.00      1.00      1.00         1\n",
            "         338       0.00      0.00      0.00         1\n",
            "         339       0.00      0.00      0.00         1\n",
            "         340       0.00      0.00      0.00         1\n",
            "         346       0.75      0.75      0.75         4\n",
            "         347       0.00      0.00      0.00         1\n",
            "         353       0.00      0.00      0.00         2\n",
            "         354       1.00      1.00      1.00         1\n",
            "         359       0.00      0.00      0.00         0\n",
            "         361       0.00      0.00      0.00         0\n",
            "         367       0.00      0.00      0.00         1\n",
            "         368       0.00      0.00      0.00         1\n",
            "         372       1.00      0.50      0.67         2\n",
            "         373       0.00      0.00      0.00         1\n",
            "         378       0.00      0.00      0.00         1\n",
            "         386       0.50      1.00      0.67         1\n",
            "         387       0.00      0.00      0.00         1\n",
            "         393       0.00      0.00      0.00         1\n",
            "         394       0.00      0.00      0.00         1\n",
            "         396       0.50      0.50      0.50         2\n",
            "         404       0.00      0.00      0.00         1\n",
            "         405       0.00      0.00      0.00         1\n",
            "         406       0.00      0.00      0.00         1\n",
            "         407       0.00      0.00      0.00         1\n",
            "         415       0.00      0.00      0.00         0\n",
            "         419       0.00      0.00      0.00         1\n",
            "         420       0.00      0.00      0.00         0\n",
            "         428       0.00      0.00      0.00         1\n",
            "         430       1.00      0.50      0.67         2\n",
            "         438       0.00      0.00      0.00         1\n",
            "         439       0.00      0.00      0.00         1\n",
            "         442       0.00      0.00      0.00         1\n",
            "         453       0.00      0.00      0.00         1\n",
            "         455       0.00      0.00      0.00         1\n",
            "         458       0.00      0.00      0.00         2\n",
            "         462       1.00      1.00      1.00         1\n",
            "         463       0.00      0.00      0.00         0\n",
            "         468       1.00      1.00      1.00         1\n",
            "         476       1.00      1.00      1.00         1\n",
            "         485       0.00      0.00      0.00         1\n",
            "         486       0.50      1.00      0.67         1\n",
            "         492       0.50      1.00      0.67         1\n",
            "         494       0.00      0.00      0.00         0\n",
            "         500       0.00      0.00      0.00         1\n",
            "         501       0.00      0.00      0.00         1\n",
            "         502       0.31      0.67      0.42         6\n",
            "         503       0.00      0.00      0.00         1\n",
            "         504       0.00      0.00      0.00         1\n",
            "         508       1.00      1.00      1.00         1\n",
            "         509       0.00      0.00      0.00         1\n",
            "         510       1.00      0.50      0.67         2\n",
            "         520       1.00      0.33      0.50         3\n",
            "         522       0.00      0.00      0.00         0\n",
            "         524       1.00      1.00      1.00         1\n",
            "         530       1.00      0.87      0.93        31\n",
            "         535       1.00      1.00      1.00         2\n",
            "         536       0.00      0.00      0.00         1\n",
            "         537       0.00      0.00      0.00         1\n",
            "         540       1.00      0.67      0.80         3\n",
            "         541       1.00      1.00      1.00         3\n",
            "         543       0.00      0.00      0.00         0\n",
            "         544       0.00      0.00      0.00         0\n",
            "         545       1.00      1.00      1.00         1\n",
            "         547       0.00      0.00      0.00         0\n",
            "         548       0.50      1.00      0.67         1\n",
            "         550       1.00      1.00      1.00         1\n",
            "         554       1.00      1.00      1.00         1\n",
            "         557       1.00      1.00      1.00         1\n",
            "         558       0.00      0.00      0.00         1\n",
            "         566       0.00      0.00      0.00         1\n",
            "         568       1.00      1.00      1.00         1\n",
            "         569       1.00      0.50      0.67         2\n",
            "         571       0.00      0.00      0.00         1\n",
            "         573       0.00      0.00      0.00         1\n",
            "         575       0.00      0.00      0.00         1\n",
            "         576       0.33      1.00      0.50         1\n",
            "         577       0.00      0.00      0.00         0\n",
            "         578       0.00      0.00      0.00         1\n",
            "         580       0.00      0.00      0.00         1\n",
            "         582       0.00      0.00      0.00         1\n",
            "         583       0.00      0.00      0.00         1\n",
            "         588       0.00      0.00      0.00         1\n",
            "         591       0.29      1.00      0.44         2\n",
            "         593       0.67      1.00      0.80         2\n",
            "         594       0.00      0.00      0.00         1\n",
            "         595       0.00      0.00      0.00         0\n",
            "         597       0.00      0.00      0.00         1\n",
            "         601       1.00      1.00      1.00         1\n",
            "         608       1.00      1.00      1.00         3\n",
            "         609       0.00      0.00      0.00         1\n",
            "         613       0.00      0.00      0.00         1\n",
            "         614       0.00      0.00      0.00         1\n",
            "         615       0.00      0.00      0.00         0\n",
            "         616       0.00      0.00      0.00         1\n",
            "         617       0.75      1.00      0.86         3\n",
            "         618       0.00      0.00      0.00         0\n",
            "         621       0.00      0.00      0.00         1\n",
            "         622       0.00      0.00      0.00         0\n",
            "         623       1.00      1.00      1.00         1\n",
            "         627       0.00      0.00      0.00         1\n",
            "         628       0.00      0.00      0.00         1\n",
            "         631       0.00      0.00      0.00         1\n",
            "         637       0.00      0.00      0.00         0\n",
            "         638       0.00      0.00      0.00         1\n",
            "         641       0.00      0.00      0.00         1\n",
            "         647       1.00      1.00      1.00         1\n",
            "         648       1.00      1.00      1.00         2\n",
            "         649       0.60      1.00      0.75         3\n",
            "         650       0.00      0.00      0.00         0\n",
            "         652       0.00      0.00      0.00         1\n",
            "         653       0.00      0.00      0.00         1\n",
            "         654       0.00      0.00      0.00         1\n",
            "         662       0.00      0.00      0.00         2\n",
            "         665       0.38      1.00      0.55         3\n",
            "         666       1.00      0.50      0.67         2\n",
            "         667       1.00      1.00      1.00         1\n",
            "         669       1.00      1.00      1.00         3\n",
            "         670       1.00      1.00      1.00         1\n",
            "         672       1.00      0.50      0.67         2\n",
            "         677       0.00      0.00      0.00         0\n",
            "         679       0.00      0.00      0.00         0\n",
            "         685       0.00      0.00      0.00         1\n",
            "         686       0.40      1.00      0.57         2\n",
            "         690       0.78      1.00      0.88         7\n",
            "         691       0.00      0.00      0.00         1\n",
            "         698       0.00      0.00      0.00         1\n",
            "         700       0.75      1.00      0.86         3\n",
            "         706       1.00      1.00      1.00         1\n",
            "         707       0.00      0.00      0.00         1\n",
            "         709       0.00      0.00      0.00         1\n",
            "         710       0.00      0.00      0.00         1\n",
            "         711       1.00      1.00      1.00         5\n",
            "         712       0.50      1.00      0.67         1\n",
            "         713       0.00      0.00      0.00         1\n",
            "         714       0.00      0.00      0.00         1\n",
            "         726       0.00      0.00      0.00         1\n",
            "         727       0.00      0.00      0.00         0\n",
            "         728       0.50      1.00      0.67         2\n",
            "         731       0.33      0.50      0.40         2\n",
            "         733       0.00      0.00      0.00         0\n",
            "         734       0.50      0.50      0.50         2\n",
            "         742       0.50      0.50      0.50         2\n",
            "         747       0.00      0.00      0.00         0\n",
            "         748       0.00      0.00      0.00         0\n",
            "         749       0.00      0.00      0.00         3\n",
            "         755       0.00      0.00      0.00         1\n",
            "         756       0.00      0.00      0.00         1\n",
            "         758       0.00      0.00      0.00         1\n",
            "         759       0.00      0.00      0.00         1\n",
            "         761       0.00      0.00      0.00         0\n",
            "         762       0.00      0.00      0.00         1\n",
            "         764       1.00      1.00      1.00         1\n",
            "         765       0.00      0.00      0.00         0\n",
            "         770       1.00      1.00      1.00         2\n",
            "         772       0.00      0.00      0.00         1\n",
            "         774       0.00      0.00      0.00         1\n",
            "         775       1.00      1.00      1.00         1\n",
            "         776       0.00      0.00      0.00         3\n",
            "         778       0.00      0.00      0.00         1\n",
            "         781       0.00      0.00      0.00         1\n",
            "         782       0.14      0.20      0.17        10\n",
            "         786       0.00      0.00      0.00         1\n",
            "         788       0.00      0.00      0.00         1\n",
            "         789       0.00      0.00      0.00         1\n",
            "         793       0.00      0.00      0.00         0\n",
            "         796       0.00      0.00      0.00         1\n",
            "         798       0.00      0.00      0.00         0\n",
            "         809       0.00      0.00      0.00         1\n",
            "         810       0.57      0.67      0.62         6\n",
            "         811       1.00      0.50      0.67         2\n",
            "         814       1.00      0.75      0.86         4\n",
            "         815       0.00      0.00      0.00         1\n",
            "         820       0.83      0.83      0.83         6\n",
            "         822       0.00      0.00      0.00         1\n",
            "         825       0.33      0.20      0.25         5\n",
            "         829       0.00      0.00      0.00         1\n",
            "         831       0.00      0.00      0.00         0\n",
            "         832       0.00      0.00      0.00         1\n",
            "         833       0.50      1.00      0.67         1\n",
            "         835       0.00      0.00      0.00         1\n",
            "         837       0.00      0.00      0.00         1\n",
            "         842       0.00      0.00      0.00         0\n",
            "         847       0.00      0.00      0.00         0\n",
            "         848       0.00      0.00      0.00         1\n",
            "         849       0.33      1.00      0.50         1\n",
            "         854       0.67      1.00      0.80         2\n",
            "         858       0.50      1.00      0.67         1\n",
            "         860       1.00      1.00      1.00         1\n",
            "         861       0.50      0.25      0.33         4\n",
            "         863       0.00      0.00      0.00         2\n",
            "         865       0.00      0.00      0.00         0\n",
            "         867       0.00      0.00      0.00         0\n",
            "         870       0.50      1.00      0.67         3\n",
            "         873       0.00      0.00      0.00         1\n",
            "         875       0.00      0.00      0.00         0\n",
            "         885       0.00      0.00      0.00         0\n",
            "         887       0.00      0.00      0.00         1\n",
            "         895       0.50      1.00      0.67         1\n",
            "         896       0.00      0.00      0.00         0\n",
            "         898       0.67      1.00      0.80         2\n",
            "         899       0.00      0.00      0.00         1\n",
            "         903       0.00      0.00      0.00         0\n",
            "         908       1.00      1.00      1.00         1\n",
            "         912       0.67      0.80      0.73         5\n",
            "         916       0.00      0.00      0.00         1\n",
            "         921       0.00      0.00      0.00         1\n",
            "         922       1.00      0.60      0.75         5\n",
            "         923       0.00      0.00      0.00         1\n",
            "         928       0.00      0.00      0.00         0\n",
            "         929       0.00      0.00      0.00         1\n",
            "         930       0.00      0.00      0.00         1\n",
            "         932       0.50      0.50      0.50         2\n",
            "         933       0.40      1.00      0.57         2\n",
            "         939       0.00      0.00      0.00         0\n",
            "         942       0.00      0.00      0.00         0\n",
            "         946       1.00      0.67      0.80         3\n",
            "         950       0.00      0.00      0.00         1\n",
            "         951       0.00      0.00      0.00         2\n",
            "         955       0.00      0.00      0.00         1\n",
            "         964       0.00      0.00      0.00         1\n",
            "         966       0.00      0.00      0.00         0\n",
            "         971       0.00      0.00      0.00         1\n",
            "         973       0.00      0.00      0.00         0\n",
            "         978       0.00      0.00      0.00         0\n",
            "         982       0.00      0.00      0.00         1\n",
            "         992       0.00      0.00      0.00         1\n",
            "         998       1.00      1.00      1.00         2\n",
            "         999       1.00      1.00      1.00         1\n",
            "        1000       0.00      0.00      0.00         0\n",
            "        1007       0.50      1.00      0.67         1\n",
            "        1013       0.00      0.00      0.00         1\n",
            "        1017       1.00      1.00      1.00         1\n",
            "        1018       0.00      0.00      0.00         2\n",
            "        1020       0.67      0.67      0.67         3\n",
            "\n",
            "    accuracy                           0.50       509\n",
            "   macro avg       0.27      0.30      0.27       509\n",
            "weighted avg       0.48      0.50      0.47       509\n",
            "\n"
          ]
        },
        {
          "output_type": "stream",
          "name": "stderr",
          "text": [
            "\n"
          ]
        }
      ],
      "source": [
        "# Train and evaluate for title\n",
        "print(\"\\nTraining and Evaluating for Title Tasks:\")\n",
        "title_f1_scores = train_and_evaluate_nn(title_splits, subtask1 + subtask2, model_type='title')"
      ]
    },
    {
      "cell_type": "code",
      "execution_count": null,
      "metadata": {
        "colab": {
          "base_uri": "https://localhost:8080/"
        },
        "id": "OsSoAzzgOyct",
        "outputId": "0e7076d7-860c-444e-9f67-0dd81ab7017e"
      },
      "outputs": [
        {
          "output_type": "stream",
          "name": "stdout",
          "text": [
            "\n",
            "Training and Evaluating for Text Tasks:\n",
            "\n",
            "Starting training for task: hazard-category\n"
          ]
        },
        {
          "output_type": "stream",
          "name": "stderr",
          "text": [
            "Some weights of BertForSequenceClassification were not initialized from the model checkpoint at dmis-lab/biobert-base-cased-v1.1 and are newly initialized: ['classifier.bias', 'classifier.weight']\n",
            "You should probably TRAIN this model on a down-stream task to be able to use it for predictions and inference.\n"
          ]
        },
        {
          "output_type": "stream",
          "name": "stdout",
          "text": [
            "Epoch 1/100 - Training: hazard-category\n"
          ]
        },
        {
          "output_type": "stream",
          "name": "stderr",
          "text": [
            "Training Epoch 1: 100%|██████████| 286/286 [01:36<00:00,  2.98it/s, loss=0.232]\n"
          ]
        },
        {
          "output_type": "stream",
          "name": "stdout",
          "text": [
            "Average Training Loss for Epoch 1: 0.7706871191104809\n",
            "Validation Loss after Epoch 1: 0.46837801905348897\n",
            "Epoch 2/100 - Training: hazard-category\n"
          ]
        },
        {
          "output_type": "stream",
          "name": "stderr",
          "text": [
            "Training Epoch 2: 100%|██████████| 286/286 [01:35<00:00,  3.01it/s, loss=0.265]\n"
          ]
        },
        {
          "output_type": "stream",
          "name": "stdout",
          "text": [
            "Average Training Loss for Epoch 2: 0.31442130603208823\n",
            "Validation Loss after Epoch 2: 0.2639065669500269\n",
            "Epoch 3/100 - Training: hazard-category\n"
          ]
        },
        {
          "output_type": "stream",
          "name": "stderr",
          "text": [
            "Training Epoch 3: 100%|██████████| 286/286 [01:35<00:00,  3.00it/s, loss=0.0702]\n"
          ]
        },
        {
          "output_type": "stream",
          "name": "stdout",
          "text": [
            "Average Training Loss for Epoch 3: 0.1959659682840786\n",
            "Validation Loss after Epoch 3: 0.24787315947469324\n",
            "Epoch 4/100 - Training: hazard-category\n"
          ]
        },
        {
          "output_type": "stream",
          "name": "stderr",
          "text": [
            "Training Epoch 4: 100%|██████████| 286/286 [01:35<00:00,  3.00it/s, loss=0.0851]\n"
          ]
        },
        {
          "output_type": "stream",
          "name": "stdout",
          "text": [
            "Average Training Loss for Epoch 4: 0.14735181523825636\n",
            "Validation Loss after Epoch 4: 0.2584001724026166\n",
            "Early stopping counter: 1/6\n",
            "Epoch 5/100 - Training: hazard-category\n"
          ]
        },
        {
          "output_type": "stream",
          "name": "stderr",
          "text": [
            "Training Epoch 5: 100%|██████████| 286/286 [01:35<00:00,  3.00it/s, loss=0.0737]\n"
          ]
        },
        {
          "output_type": "stream",
          "name": "stdout",
          "text": [
            "Average Training Loss for Epoch 5: 0.1205618751065975\n",
            "Validation Loss after Epoch 5: 0.21943968057166785\n",
            "Epoch 6/100 - Training: hazard-category\n"
          ]
        },
        {
          "output_type": "stream",
          "name": "stderr",
          "text": [
            "Training Epoch 6: 100%|██████████| 286/286 [01:35<00:00,  3.01it/s, loss=0.0191]\n"
          ]
        },
        {
          "output_type": "stream",
          "name": "stdout",
          "text": [
            "Average Training Loss for Epoch 6: 0.08742925144123057\n",
            "Validation Loss after Epoch 6: 0.23688465352461208\n",
            "Early stopping counter: 1/6\n",
            "Epoch 7/100 - Training: hazard-category\n"
          ]
        },
        {
          "output_type": "stream",
          "name": "stderr",
          "text": [
            "Training Epoch 7: 100%|██████████| 286/286 [01:35<00:00,  3.00it/s, loss=0.0184]\n"
          ]
        },
        {
          "output_type": "stream",
          "name": "stdout",
          "text": [
            "Average Training Loss for Epoch 7: 0.09445655694837077\n",
            "Validation Loss after Epoch 7: 0.2831707904115319\n",
            "Early stopping counter: 2/6\n",
            "Epoch 8/100 - Training: hazard-category\n"
          ]
        },
        {
          "output_type": "stream",
          "name": "stderr",
          "text": [
            "Training Epoch 8: 100%|██████████| 286/286 [01:35<00:00,  3.01it/s, loss=0.0038]\n"
          ]
        },
        {
          "output_type": "stream",
          "name": "stdout",
          "text": [
            "Average Training Loss for Epoch 8: 0.07054947504376459\n",
            "Validation Loss after Epoch 8: 0.2759665162448073\n",
            "Early stopping counter: 3/6\n",
            "Epoch 9/100 - Training: hazard-category\n"
          ]
        },
        {
          "output_type": "stream",
          "name": "stderr",
          "text": [
            "Training Epoch 9: 100%|██████████| 286/286 [01:35<00:00,  3.00it/s, loss=0.0249]\n"
          ]
        },
        {
          "output_type": "stream",
          "name": "stdout",
          "text": [
            "Average Training Loss for Epoch 9: 0.07767248125763128\n",
            "Validation Loss after Epoch 9: 0.243028767312353\n",
            "Early stopping counter: 4/6\n",
            "Epoch 10/100 - Training: hazard-category\n"
          ]
        },
        {
          "output_type": "stream",
          "name": "stderr",
          "text": [
            "Training Epoch 10: 100%|██████████| 286/286 [01:35<00:00,  3.01it/s, loss=0.00573]\n"
          ]
        },
        {
          "output_type": "stream",
          "name": "stdout",
          "text": [
            "Average Training Loss for Epoch 10: 0.048096020889983\n",
            "Validation Loss after Epoch 10: 0.2189566225570161\n",
            "Epoch 11/100 - Training: hazard-category\n"
          ]
        },
        {
          "output_type": "stream",
          "name": "stderr",
          "text": [
            "Training Epoch 11: 100%|██████████| 286/286 [01:35<00:00,  3.00it/s, loss=0.00579]\n"
          ]
        },
        {
          "output_type": "stream",
          "name": "stdout",
          "text": [
            "Average Training Loss for Epoch 11: 0.02857769754637111\n",
            "Validation Loss after Epoch 11: 0.21899004193983274\n",
            "Early stopping counter: 1/6\n",
            "Epoch 12/100 - Training: hazard-category\n"
          ]
        },
        {
          "output_type": "stream",
          "name": "stderr",
          "text": [
            "Training Epoch 12: 100%|██████████| 286/286 [01:34<00:00,  3.01it/s, loss=0.392]\n"
          ]
        },
        {
          "output_type": "stream",
          "name": "stdout",
          "text": [
            "Average Training Loss for Epoch 12: 0.022779983033220954\n",
            "Validation Loss after Epoch 12: 0.21912154300662223\n",
            "Early stopping counter: 2/6\n",
            "Epoch 13/100 - Training: hazard-category\n"
          ]
        },
        {
          "output_type": "stream",
          "name": "stderr",
          "text": [
            "Training Epoch 13: 100%|██████████| 286/286 [01:34<00:00,  3.01it/s, loss=0.00262]\n"
          ]
        },
        {
          "output_type": "stream",
          "name": "stdout",
          "text": [
            "Average Training Loss for Epoch 13: 0.019034036523108925\n",
            "Validation Loss after Epoch 13: 0.22276905825856375\n",
            "Early stopping counter: 3/6\n",
            "Epoch 14/100 - Training: hazard-category\n"
          ]
        },
        {
          "output_type": "stream",
          "name": "stderr",
          "text": [
            "Training Epoch 14: 100%|██████████| 286/286 [01:34<00:00,  3.01it/s, loss=0.003]\n"
          ]
        },
        {
          "output_type": "stream",
          "name": "stdout",
          "text": [
            "Average Training Loss for Epoch 14: 0.01515900996315026\n",
            "Validation Loss after Epoch 14: 0.22952274078852497\n",
            "Early stopping counter: 4/6\n",
            "Epoch 15/100 - Training: hazard-category\n"
          ]
        },
        {
          "output_type": "stream",
          "name": "stderr",
          "text": [
            "Training Epoch 15: 100%|██████████| 286/286 [01:35<00:00,  3.01it/s, loss=0.00792]\n"
          ]
        },
        {
          "output_type": "stream",
          "name": "stdout",
          "text": [
            "Average Training Loss for Epoch 15: 0.013088132144062669\n",
            "Validation Loss after Epoch 15: 0.2294168716398417\n",
            "Early stopping counter: 5/6\n",
            "Epoch 16/100 - Training: hazard-category\n"
          ]
        },
        {
          "output_type": "stream",
          "name": "stderr",
          "text": [
            "Training Epoch 16: 100%|██████████| 286/286 [01:35<00:00,  3.00it/s, loss=0.00204]\n"
          ]
        },
        {
          "output_type": "stream",
          "name": "stdout",
          "text": [
            "Average Training Loss for Epoch 16: 0.01270870596717496\n",
            "Validation Loss after Epoch 16: 0.22961450154252816\n",
            "Early stopping counter: 6/6\n",
            "Early stopping triggered.\n"
          ]
        },
        {
          "output_type": "stream",
          "name": "stderr",
          "text": [
            "<ipython-input-48-cb47ea6c2053>:92: FutureWarning: You are using `torch.load` with `weights_only=False` (the current default value), which uses the default pickle module implicitly. It is possible to construct malicious pickle data which will execute arbitrary code during unpickling (See https://github.com/pytorch/pytorch/blob/main/SECURITY.md#untrusted-models for more details). In a future release, the default value for `weights_only` will be flipped to `True`. This limits the functions that could be executed during unpickling. Arbitrary objects will no longer be allowed to be loaded via this mode unless they are explicitly allowlisted by the user via `torch.serialization.add_safe_globals`. We recommend you start setting `weights_only=True` for any use case where you don't have full control of the loaded file. Please open an issue on GitHub for any issues related to this experimental feature.\n",
            "  model.load_state_dict(torch.load(f\"best_model_{target}.pt\"))\n"
          ]
        },
        {
          "output_type": "stream",
          "name": "stdout",
          "text": [
            "Evaluating model for task: hazard-category\n"
          ]
        },
        {
          "output_type": "stream",
          "name": "stderr",
          "text": [
            "Evaluating: 100%|██████████| 32/32 [00:03<00:00,  9.16it/s]\n"
          ]
        },
        {
          "output_type": "stream",
          "name": "stdout",
          "text": [
            "F1-Score for hazard-category: 0.9516665880294135\n",
            "Classification Report for hazard-category:\n",
            "\n",
            "              precision    recall  f1-score   support\n",
            "\n",
            "           0       0.96      0.99      0.98       188\n",
            "           1       1.00      0.99      0.99       171\n",
            "           2       0.85      1.00      0.92        35\n",
            "           3       0.00      0.00      0.00         5\n",
            "           4       1.00      0.98      0.99        58\n",
            "           5       0.85      0.82      0.84        28\n",
            "           6       1.00      1.00      1.00         1\n",
            "           7       0.60      1.00      0.75         3\n",
            "           8       0.83      0.67      0.74        15\n",
            "           9       0.75      0.60      0.67         5\n",
            "\n",
            "    accuracy                           0.96       509\n",
            "   macro avg       0.79      0.80      0.79       509\n",
            "weighted avg       0.95      0.96      0.95       509\n",
            "\n",
            "\n",
            "Starting training for task: product-category\n"
          ]
        },
        {
          "output_type": "stream",
          "name": "stderr",
          "text": [
            "Some weights of BertForSequenceClassification were not initialized from the model checkpoint at dmis-lab/biobert-base-cased-v1.1 and are newly initialized: ['classifier.bias', 'classifier.weight']\n",
            "You should probably TRAIN this model on a down-stream task to be able to use it for predictions and inference.\n"
          ]
        },
        {
          "output_type": "stream",
          "name": "stdout",
          "text": [
            "Epoch 1/100 - Training: product-category\n"
          ]
        },
        {
          "output_type": "stream",
          "name": "stderr",
          "text": [
            "Training Epoch 1: 100%|██████████| 286/286 [01:36<00:00,  2.97it/s, loss=2.27]\n"
          ]
        },
        {
          "output_type": "stream",
          "name": "stdout",
          "text": [
            "Average Training Loss for Epoch 1: 2.1979285536946116\n",
            "Validation Loss after Epoch 1: 2.018518630415201\n",
            "Epoch 2/100 - Training: product-category\n"
          ]
        },
        {
          "output_type": "stream",
          "name": "stderr",
          "text": [
            "Training Epoch 2: 100%|██████████| 286/286 [01:35<00:00,  3.01it/s, loss=1.38]\n"
          ]
        },
        {
          "output_type": "stream",
          "name": "stdout",
          "text": [
            "Average Training Loss for Epoch 2: 1.5341497301221727\n",
            "Validation Loss after Epoch 2: 1.2957117278128862\n",
            "Epoch 3/100 - Training: product-category\n"
          ]
        },
        {
          "output_type": "stream",
          "name": "stderr",
          "text": [
            "Training Epoch 3: 100%|██████████| 286/286 [01:35<00:00,  3.01it/s, loss=1.29]\n"
          ]
        },
        {
          "output_type": "stream",
          "name": "stdout",
          "text": [
            "Average Training Loss for Epoch 3: 0.9902159078763082\n",
            "Validation Loss after Epoch 3: 1.1544393710792065\n",
            "Epoch 4/100 - Training: product-category\n"
          ]
        },
        {
          "output_type": "stream",
          "name": "stderr",
          "text": [
            "Training Epoch 4: 100%|██████████| 286/286 [01:35<00:00,  3.01it/s, loss=1.04]\n"
          ]
        },
        {
          "output_type": "stream",
          "name": "stdout",
          "text": [
            "Average Training Loss for Epoch 4: 0.6319804662070074\n",
            "Validation Loss after Epoch 4: 1.006431708112359\n",
            "Epoch 5/100 - Training: product-category\n"
          ]
        },
        {
          "output_type": "stream",
          "name": "stderr",
          "text": [
            "Training Epoch 5: 100%|██████████| 286/286 [01:34<00:00,  3.01it/s, loss=0.506]\n"
          ]
        },
        {
          "output_type": "stream",
          "name": "stdout",
          "text": [
            "Average Training Loss for Epoch 5: 0.4127053035279879\n",
            "Validation Loss after Epoch 5: 1.1475233854725957\n",
            "Early stopping counter: 1/6\n",
            "Epoch 6/100 - Training: product-category\n"
          ]
        },
        {
          "output_type": "stream",
          "name": "stderr",
          "text": [
            "Training Epoch 6: 100%|██████████| 286/286 [01:35<00:00,  3.01it/s, loss=0.0858]\n"
          ]
        },
        {
          "output_type": "stream",
          "name": "stdout",
          "text": [
            "Average Training Loss for Epoch 6: 0.27381727714221793\n",
            "Validation Loss after Epoch 6: 1.0357054118067026\n",
            "Early stopping counter: 2/6\n",
            "Epoch 7/100 - Training: product-category\n"
          ]
        },
        {
          "output_type": "stream",
          "name": "stderr",
          "text": [
            "Training Epoch 7: 100%|██████████| 286/286 [01:34<00:00,  3.01it/s, loss=0.0254]\n"
          ]
        },
        {
          "output_type": "stream",
          "name": "stdout",
          "text": [
            "Average Training Loss for Epoch 7: 0.18665586605381507\n",
            "Validation Loss after Epoch 7: 1.0345043493434787\n",
            "Early stopping counter: 3/6\n",
            "Epoch 8/100 - Training: product-category\n"
          ]
        },
        {
          "output_type": "stream",
          "name": "stderr",
          "text": [
            "Training Epoch 8: 100%|██████████| 286/286 [01:34<00:00,  3.01it/s, loss=0.0186]\n"
          ]
        },
        {
          "output_type": "stream",
          "name": "stdout",
          "text": [
            "Average Training Loss for Epoch 8: 0.152876228041999\n",
            "Validation Loss after Epoch 8: 1.0867385184392333\n",
            "Early stopping counter: 4/6\n",
            "Epoch 9/100 - Training: product-category\n"
          ]
        },
        {
          "output_type": "stream",
          "name": "stderr",
          "text": [
            "Training Epoch 9: 100%|██████████| 286/286 [01:35<00:00,  3.01it/s, loss=0.0162]\n"
          ]
        },
        {
          "output_type": "stream",
          "name": "stdout",
          "text": [
            "Average Training Loss for Epoch 9: 0.07538083638227382\n",
            "Validation Loss after Epoch 9: 1.0935583664104342\n",
            "Early stopping counter: 5/6\n",
            "Epoch 10/100 - Training: product-category\n"
          ]
        },
        {
          "output_type": "stream",
          "name": "stderr",
          "text": [
            "Training Epoch 10: 100%|██████████| 286/286 [01:35<00:00,  3.01it/s, loss=0.0112]\n"
          ]
        },
        {
          "output_type": "stream",
          "name": "stdout",
          "text": [
            "Average Training Loss for Epoch 10: 0.05190129518847574\n",
            "Validation Loss after Epoch 10: 1.1145181995816529\n",
            "Early stopping counter: 6/6\n",
            "Early stopping triggered.\n"
          ]
        },
        {
          "output_type": "stream",
          "name": "stderr",
          "text": [
            "<ipython-input-48-cb47ea6c2053>:92: FutureWarning: You are using `torch.load` with `weights_only=False` (the current default value), which uses the default pickle module implicitly. It is possible to construct malicious pickle data which will execute arbitrary code during unpickling (See https://github.com/pytorch/pytorch/blob/main/SECURITY.md#untrusted-models for more details). In a future release, the default value for `weights_only` will be flipped to `True`. This limits the functions that could be executed during unpickling. Arbitrary objects will no longer be allowed to be loaded via this mode unless they are explicitly allowlisted by the user via `torch.serialization.add_safe_globals`. We recommend you start setting `weights_only=True` for any use case where you don't have full control of the loaded file. Please open an issue on GitHub for any issues related to this experimental feature.\n",
            "  model.load_state_dict(torch.load(f\"best_model_{target}.pt\"))\n"
          ]
        },
        {
          "output_type": "stream",
          "name": "stdout",
          "text": [
            "Evaluating model for task: product-category\n"
          ]
        },
        {
          "output_type": "stream",
          "name": "stderr",
          "text": [
            "Evaluating: 100%|██████████| 32/32 [00:03<00:00,  9.07it/s]\n"
          ]
        },
        {
          "output_type": "stream",
          "name": "stdout",
          "text": [
            "F1-Score for product-category: 0.7371129863519751\n",
            "Classification Report for product-category:\n",
            "\n",
            "              precision    recall  f1-score   support\n",
            "\n",
            "           0       0.40      1.00      0.57         2\n",
            "           1       0.74      0.65      0.69        54\n",
            "           2       0.56      0.79      0.66        29\n",
            "           3       0.37      0.35      0.36        20\n",
            "           4       0.67      0.73      0.70        11\n",
            "           5       1.00      0.33      0.50         3\n",
            "           6       0.00      0.00      0.00         2\n",
            "           8       0.00      0.00      0.00         1\n",
            "           9       0.83      0.71      0.77        56\n",
            "          10       0.54      0.78      0.64         9\n",
            "          11       0.00      0.00      0.00         0\n",
            "          12       0.83      0.91      0.87        33\n",
            "          13       0.84      0.91      0.88       131\n",
            "          14       1.00      0.75      0.86        16\n",
            "          15       0.92      0.65      0.76        37\n",
            "          16       0.00      0.00      0.00         1\n",
            "          17       0.75      1.00      0.86         3\n",
            "          18       0.55      0.43      0.48        51\n",
            "          19       0.96      0.93      0.95        28\n",
            "          20       0.51      0.86      0.64        21\n",
            "          21       0.00      0.00      0.00         1\n",
            "\n",
            "    accuracy                           0.74       509\n",
            "   macro avg       0.55      0.56      0.53       509\n",
            "weighted avg       0.75      0.74      0.74       509\n",
            "\n",
            "\n",
            "Starting training for task: hazard\n"
          ]
        },
        {
          "output_type": "stream",
          "name": "stderr",
          "text": [
            "Some weights of BertForSequenceClassification were not initialized from the model checkpoint at dmis-lab/biobert-base-cased-v1.1 and are newly initialized: ['classifier.bias', 'classifier.weight']\n",
            "You should probably TRAIN this model on a down-stream task to be able to use it for predictions and inference.\n"
          ]
        },
        {
          "output_type": "stream",
          "name": "stdout",
          "text": [
            "Epoch 1/100 - Training: hazard\n"
          ]
        },
        {
          "output_type": "stream",
          "name": "stderr",
          "text": [
            "Training Epoch 1: 100%|██████████| 286/286 [01:36<00:00,  2.97it/s, loss=1.65]\n"
          ]
        },
        {
          "output_type": "stream",
          "name": "stdout",
          "text": [
            "Average Training Loss for Epoch 1: 2.332836267935646\n",
            "Validation Loss after Epoch 1: 1.2381371101364493\n",
            "Epoch 2/100 - Training: hazard\n"
          ]
        },
        {
          "output_type": "stream",
          "name": "stderr",
          "text": [
            "Training Epoch 2: 100%|██████████| 286/286 [01:35<00:00,  3.00it/s, loss=1.03]\n"
          ]
        },
        {
          "output_type": "stream",
          "name": "stdout",
          "text": [
            "Average Training Loss for Epoch 2: 1.1112476558118434\n",
            "Validation Loss after Epoch 2: 0.9128205412998796\n",
            "Epoch 3/100 - Training: hazard\n"
          ]
        },
        {
          "output_type": "stream",
          "name": "stderr",
          "text": [
            "Training Epoch 3: 100%|██████████| 286/286 [01:35<00:00,  3.01it/s, loss=0.71]\n"
          ]
        },
        {
          "output_type": "stream",
          "name": "stdout",
          "text": [
            "Average Training Loss for Epoch 3: 0.7712628314909818\n",
            "Validation Loss after Epoch 3: 0.7799744604853913\n",
            "Epoch 4/100 - Training: hazard\n"
          ]
        },
        {
          "output_type": "stream",
          "name": "stderr",
          "text": [
            "Training Epoch 4: 100%|██████████| 286/286 [01:35<00:00,  3.00it/s, loss=0.937]\n"
          ]
        },
        {
          "output_type": "stream",
          "name": "stdout",
          "text": [
            "Average Training Loss for Epoch 4: 0.5717579772552619\n",
            "Validation Loss after Epoch 4: 0.7240316862007603\n",
            "Epoch 5/100 - Training: hazard\n"
          ]
        },
        {
          "output_type": "stream",
          "name": "stderr",
          "text": [
            "Training Epoch 5: 100%|██████████| 286/286 [01:35<00:00,  3.00it/s, loss=0.545]\n"
          ]
        },
        {
          "output_type": "stream",
          "name": "stdout",
          "text": [
            "Average Training Loss for Epoch 5: 0.4190693744360567\n",
            "Validation Loss after Epoch 5: 0.6807429093169048\n",
            "Epoch 6/100 - Training: hazard\n"
          ]
        },
        {
          "output_type": "stream",
          "name": "stderr",
          "text": [
            "Training Epoch 6: 100%|██████████| 286/286 [01:35<00:00,  3.00it/s, loss=0.277]\n"
          ]
        },
        {
          "output_type": "stream",
          "name": "stdout",
          "text": [
            "Average Training Loss for Epoch 6: 0.3433654022539829\n",
            "Validation Loss after Epoch 6: 0.7161517232307233\n",
            "Early stopping counter: 1/6\n",
            "Epoch 7/100 - Training: hazard\n"
          ]
        },
        {
          "output_type": "stream",
          "name": "stderr",
          "text": [
            "Training Epoch 7: 100%|██████████| 286/286 [01:35<00:00,  3.00it/s, loss=0.096]\n"
          ]
        },
        {
          "output_type": "stream",
          "name": "stdout",
          "text": [
            "Average Training Loss for Epoch 7: 0.2754847154841869\n",
            "Validation Loss after Epoch 7: 0.6471359225106426\n",
            "Epoch 8/100 - Training: hazard\n"
          ]
        },
        {
          "output_type": "stream",
          "name": "stderr",
          "text": [
            "Training Epoch 8: 100%|██████████| 286/286 [01:35<00:00,  3.00it/s, loss=0.568]\n"
          ]
        },
        {
          "output_type": "stream",
          "name": "stdout",
          "text": [
            "Average Training Loss for Epoch 8: 0.22483270096924754\n",
            "Validation Loss after Epoch 8: 0.6630142452777363\n",
            "Early stopping counter: 1/6\n",
            "Epoch 9/100 - Training: hazard\n"
          ]
        },
        {
          "output_type": "stream",
          "name": "stderr",
          "text": [
            "Training Epoch 9: 100%|██████████| 286/286 [01:35<00:00,  3.01it/s, loss=0.11]\n"
          ]
        },
        {
          "output_type": "stream",
          "name": "stdout",
          "text": [
            "Average Training Loss for Epoch 9: 0.15508749149739742\n",
            "Validation Loss after Epoch 9: 0.6639894533727784\n",
            "Early stopping counter: 2/6\n",
            "Epoch 10/100 - Training: hazard\n"
          ]
        },
        {
          "output_type": "stream",
          "name": "stderr",
          "text": [
            "Training Epoch 10: 100%|██████████| 286/286 [01:35<00:00,  3.00it/s, loss=0.38]\n"
          ]
        },
        {
          "output_type": "stream",
          "name": "stdout",
          "text": [
            "Average Training Loss for Epoch 10: 0.13995407334483273\n",
            "Validation Loss after Epoch 10: 0.7371051034424454\n",
            "Early stopping counter: 3/6\n",
            "Epoch 11/100 - Training: hazard\n"
          ]
        },
        {
          "output_type": "stream",
          "name": "stderr",
          "text": [
            "Training Epoch 11: 100%|██████████| 286/286 [01:35<00:00,  3.01it/s, loss=0.0107]\n"
          ]
        },
        {
          "output_type": "stream",
          "name": "stdout",
          "text": [
            "Average Training Loss for Epoch 11: 0.10832784418016672\n",
            "Validation Loss after Epoch 11: 0.7422684984921943\n",
            "Early stopping counter: 4/6\n",
            "Epoch 12/100 - Training: hazard\n"
          ]
        },
        {
          "output_type": "stream",
          "name": "stderr",
          "text": [
            "Training Epoch 12: 100%|██████████| 286/286 [01:35<00:00,  3.01it/s, loss=0.0371]\n"
          ]
        },
        {
          "output_type": "stream",
          "name": "stdout",
          "text": [
            "Average Training Loss for Epoch 12: 0.055243706444630045\n",
            "Validation Loss after Epoch 12: 0.731630021968158\n",
            "Early stopping counter: 5/6\n",
            "Epoch 13/100 - Training: hazard\n"
          ]
        },
        {
          "output_type": "stream",
          "name": "stderr",
          "text": [
            "Training Epoch 13: 100%|██████████| 286/286 [01:35<00:00,  3.01it/s, loss=0.0103]\n"
          ]
        },
        {
          "output_type": "stream",
          "name": "stdout",
          "text": [
            "Average Training Loss for Epoch 13: 0.04423666679482725\n",
            "Validation Loss after Epoch 13: 0.7327738243329804\n",
            "Early stopping counter: 6/6\n",
            "Early stopping triggered.\n"
          ]
        },
        {
          "output_type": "stream",
          "name": "stderr",
          "text": [
            "<ipython-input-48-cb47ea6c2053>:92: FutureWarning: You are using `torch.load` with `weights_only=False` (the current default value), which uses the default pickle module implicitly. It is possible to construct malicious pickle data which will execute arbitrary code during unpickling (See https://github.com/pytorch/pytorch/blob/main/SECURITY.md#untrusted-models for more details). In a future release, the default value for `weights_only` will be flipped to `True`. This limits the functions that could be executed during unpickling. Arbitrary objects will no longer be allowed to be loaded via this mode unless they are explicitly allowlisted by the user via `torch.serialization.add_safe_globals`. We recommend you start setting `weights_only=True` for any use case where you don't have full control of the loaded file. Please open an issue on GitHub for any issues related to this experimental feature.\n",
            "  model.load_state_dict(torch.load(f\"best_model_{target}.pt\"))\n"
          ]
        },
        {
          "output_type": "stream",
          "name": "stdout",
          "text": [
            "Evaluating model for task: hazard\n"
          ]
        },
        {
          "output_type": "stream",
          "name": "stderr",
          "text": [
            "Evaluating: 100%|██████████| 32/32 [00:03<00:00,  9.11it/s]\n"
          ]
        },
        {
          "output_type": "stream",
          "name": "stdout",
          "text": [
            "F1-Score for hazard: 0.8547971420586762\n",
            "Classification Report for hazard:\n",
            "\n",
            "              precision    recall  f1-score   support\n",
            "\n",
            "           0       1.00      1.00      1.00         2\n",
            "           3       0.00      0.00      0.00         2\n",
            "           4       0.00      0.00      0.00         3\n",
            "           5       0.67      1.00      0.80         4\n",
            "           7       0.00      0.00      0.00         1\n",
            "          10       0.00      0.00      0.00         1\n",
            "          11       1.00      1.00      1.00         1\n",
            "          12       0.00      0.00      0.00         1\n",
            "          13       0.00      0.00      0.00         2\n",
            "          14       1.00      0.80      0.89         5\n",
            "          15       0.00      0.00      0.00         1\n",
            "          17       0.80      0.94      0.86        17\n",
            "          18       0.00      0.00      0.00         1\n",
            "          19       0.50      1.00      0.67         1\n",
            "          22       1.00      1.00      1.00         3\n",
            "          23       0.00      0.00      0.00         1\n",
            "          25       0.00      0.00      0.00         1\n",
            "          27       0.50      1.00      0.67         1\n",
            "          28       1.00      1.00      1.00         1\n",
            "          33       1.00      0.50      0.67         2\n",
            "          34       0.75      0.94      0.83        16\n",
            "          36       1.00      1.00      1.00        16\n",
            "          38       1.00      0.60      0.75         5\n",
            "          39       0.33      0.50      0.40         2\n",
            "          40       1.00      0.90      0.95        10\n",
            "          42       1.00      1.00      1.00         2\n",
            "          43       0.80      1.00      0.89         4\n",
            "          45       0.50      1.00      0.67         1\n",
            "          47       0.00      0.00      0.00         2\n",
            "          48       0.00      0.00      0.00         1\n",
            "          49       0.50      1.00      0.67         1\n",
            "          50       1.00      1.00      1.00         4\n",
            "          52       0.70      1.00      0.82         7\n",
            "          53       0.00      0.00      0.00         0\n",
            "          54       1.00      1.00      1.00         3\n",
            "          55       0.94      1.00      0.97        75\n",
            "          56       0.00      0.00      0.00         1\n",
            "          57       0.94      0.94      0.94        16\n",
            "          58       1.00      0.50      0.67         2\n",
            "          59       0.97      0.98      0.97        59\n",
            "          61       0.00      0.00      0.00         1\n",
            "          64       1.00      1.00      1.00         1\n",
            "          65       1.00      0.80      0.89         5\n",
            "          67       0.00      0.00      0.00         0\n",
            "          68       1.00      1.00      1.00         2\n",
            "          70       0.33      1.00      0.50         2\n",
            "          73       0.50      0.57      0.53        14\n",
            "          75       0.50      0.33      0.40         3\n",
            "          77       0.00      0.00      0.00         1\n",
            "          78       1.00      0.67      0.80         3\n",
            "          79       0.00      0.00      0.00         1\n",
            "          80       0.33      0.50      0.40         2\n",
            "          82       0.00      0.00      0.00         1\n",
            "          83       0.00      0.00      0.00         1\n",
            "          85       0.96      0.96      0.96        24\n",
            "          86       1.00      1.00      1.00         3\n",
            "          89       1.00      1.00      1.00         2\n",
            "          90       0.89      0.96      0.92        25\n",
            "          91       1.00      1.00      1.00         1\n",
            "          92       0.00      0.00      0.00         1\n",
            "          93       1.00      0.50      0.67         2\n",
            "          94       0.80      1.00      0.89         4\n",
            "          95       0.00      0.00      0.00         1\n",
            "          97       0.67      0.67      0.67         3\n",
            "          98       1.00      0.92      0.96        66\n",
            "          99       1.00      1.00      1.00         5\n",
            "         100       0.94      0.88      0.91        17\n",
            "         101       1.00      1.00      1.00         1\n",
            "         102       0.25      1.00      0.40         1\n",
            "         104       1.00      1.00      1.00         1\n",
            "         105       0.00      0.00      0.00         0\n",
            "         107       0.00      0.00      0.00         2\n",
            "         108       1.00      0.67      0.80         3\n",
            "         109       0.73      1.00      0.85        11\n",
            "         110       0.00      0.00      0.00         2\n",
            "         111       0.00      0.00      0.00         1\n",
            "         113       1.00      1.00      1.00         1\n",
            "         114       1.00      1.00      1.00         5\n",
            "         116       0.00      0.00      0.00         0\n",
            "         119       1.00      1.00      1.00         8\n",
            "         120       0.00      0.00      0.00         0\n",
            "         121       0.00      0.00      0.00         1\n",
            "         126       1.00      0.67      0.80         3\n",
            "         127       0.00      0.00      0.00         0\n",
            "\n",
            "    accuracy                           0.87       509\n",
            "   macro avg       0.55      0.57      0.54       509\n",
            "weighted avg       0.85      0.87      0.85       509\n",
            "\n",
            "\n",
            "Starting training for task: product\n"
          ]
        },
        {
          "output_type": "stream",
          "name": "stderr",
          "text": [
            "Some weights of BertForSequenceClassification were not initialized from the model checkpoint at dmis-lab/biobert-base-cased-v1.1 and are newly initialized: ['classifier.bias', 'classifier.weight']\n",
            "You should probably TRAIN this model on a down-stream task to be able to use it for predictions and inference.\n"
          ]
        },
        {
          "output_type": "stream",
          "name": "stdout",
          "text": [
            "Epoch 1/100 - Training: product\n"
          ]
        },
        {
          "output_type": "stream",
          "name": "stderr",
          "text": [
            "Training Epoch 1: 100%|██████████| 286/286 [01:36<00:00,  2.97it/s, loss=5.7]\n"
          ]
        },
        {
          "output_type": "stream",
          "name": "stdout",
          "text": [
            "Average Training Loss for Epoch 1: 6.377010555534096\n",
            "Validation Loss after Epoch 1: 6.035141199827194\n",
            "Epoch 2/100 - Training: product\n"
          ]
        },
        {
          "output_type": "stream",
          "name": "stderr",
          "text": [
            "Training Epoch 2: 100%|██████████| 286/286 [01:35<00:00,  3.00it/s, loss=5.91]\n"
          ]
        },
        {
          "output_type": "stream",
          "name": "stdout",
          "text": [
            "Average Training Loss for Epoch 2: 5.520307906857737\n",
            "Validation Loss after Epoch 2: 5.210012182593346\n",
            "Epoch 3/100 - Training: product\n"
          ]
        },
        {
          "output_type": "stream",
          "name": "stderr",
          "text": [
            "Training Epoch 3: 100%|██████████| 286/286 [01:35<00:00,  3.00it/s, loss=4.62]\n"
          ]
        },
        {
          "output_type": "stream",
          "name": "stdout",
          "text": [
            "Average Training Loss for Epoch 3: 4.592061935604869\n",
            "Validation Loss after Epoch 3: 4.682246997952461\n",
            "Epoch 4/100 - Training: product\n"
          ]
        },
        {
          "output_type": "stream",
          "name": "stderr",
          "text": [
            "Training Epoch 4: 100%|██████████| 286/286 [01:35<00:00,  3.00it/s, loss=3.03]\n"
          ]
        },
        {
          "output_type": "stream",
          "name": "stdout",
          "text": [
            "Average Training Loss for Epoch 4: 3.786448148580698\n",
            "Validation Loss after Epoch 4: 4.224446497857571\n",
            "Epoch 5/100 - Training: product\n"
          ]
        },
        {
          "output_type": "stream",
          "name": "stderr",
          "text": [
            "Training Epoch 5: 100%|██████████| 286/286 [01:35<00:00,  3.00it/s, loss=4.3]\n"
          ]
        },
        {
          "output_type": "stream",
          "name": "stdout",
          "text": [
            "Average Training Loss for Epoch 5: 3.0946482269914\n",
            "Validation Loss after Epoch 5: 3.966480977833271\n",
            "Epoch 6/100 - Training: product\n"
          ]
        },
        {
          "output_type": "stream",
          "name": "stderr",
          "text": [
            "Training Epoch 6: 100%|██████████| 286/286 [01:35<00:00,  3.01it/s, loss=2.22]\n"
          ]
        },
        {
          "output_type": "stream",
          "name": "stdout",
          "text": [
            "Average Training Loss for Epoch 6: 2.4994481314312327\n",
            "Validation Loss after Epoch 6: 3.747221790254116\n",
            "Epoch 7/100 - Training: product\n"
          ]
        },
        {
          "output_type": "stream",
          "name": "stderr",
          "text": [
            "Training Epoch 7: 100%|██████████| 286/286 [01:35<00:00,  3.00it/s, loss=2.75]\n"
          ]
        },
        {
          "output_type": "stream",
          "name": "stdout",
          "text": [
            "Average Training Loss for Epoch 7: 1.9889714859582328\n",
            "Validation Loss after Epoch 7: 3.6067607030272484\n",
            "Epoch 8/100 - Training: product\n"
          ]
        },
        {
          "output_type": "stream",
          "name": "stderr",
          "text": [
            "Training Epoch 8: 100%|██████████| 286/286 [01:35<00:00,  3.00it/s, loss=1.92]\n"
          ]
        },
        {
          "output_type": "stream",
          "name": "stdout",
          "text": [
            "Average Training Loss for Epoch 8: 1.5600685006255037\n",
            "Validation Loss after Epoch 8: 3.4795343577861786\n",
            "Epoch 9/100 - Training: product\n"
          ]
        },
        {
          "output_type": "stream",
          "name": "stderr",
          "text": [
            "Training Epoch 9: 100%|██████████| 286/286 [01:35<00:00,  3.00it/s, loss=0.536]\n"
          ]
        },
        {
          "output_type": "stream",
          "name": "stdout",
          "text": [
            "Average Training Loss for Epoch 9: 1.2076855536315825\n",
            "Validation Loss after Epoch 9: 3.4478002935647964\n",
            "Epoch 10/100 - Training: product\n"
          ]
        },
        {
          "output_type": "stream",
          "name": "stderr",
          "text": [
            "Training Epoch 10: 100%|██████████| 286/286 [01:35<00:00,  3.01it/s, loss=0.352]\n"
          ]
        },
        {
          "output_type": "stream",
          "name": "stdout",
          "text": [
            "Average Training Loss for Epoch 10: 0.9421147776025158\n",
            "Validation Loss after Epoch 10: 3.4052760675549507\n",
            "Epoch 11/100 - Training: product\n"
          ]
        },
        {
          "output_type": "stream",
          "name": "stderr",
          "text": [
            "Training Epoch 11: 100%|██████████| 286/286 [01:35<00:00,  3.01it/s, loss=1.23]\n"
          ]
        },
        {
          "output_type": "stream",
          "name": "stdout",
          "text": [
            "Average Training Loss for Epoch 11: 0.7451717789460729\n",
            "Validation Loss after Epoch 11: 3.413219626992941\n",
            "Early stopping counter: 1/6\n",
            "Epoch 12/100 - Training: product\n"
          ]
        },
        {
          "output_type": "stream",
          "name": "stderr",
          "text": [
            "Training Epoch 12: 100%|██████████| 286/286 [01:35<00:00,  3.00it/s, loss=0.854]\n"
          ]
        },
        {
          "output_type": "stream",
          "name": "stdout",
          "text": [
            "Average Training Loss for Epoch 12: 0.5887999204801513\n",
            "Validation Loss after Epoch 12: 3.386452566832304\n",
            "Epoch 13/100 - Training: product\n"
          ]
        },
        {
          "output_type": "stream",
          "name": "stderr",
          "text": [
            "Training Epoch 13: 100%|██████████| 286/286 [01:35<00:00,  3.01it/s, loss=1.14]\n"
          ]
        },
        {
          "output_type": "stream",
          "name": "stdout",
          "text": [
            "Average Training Loss for Epoch 13: 0.4696628710815123\n",
            "Validation Loss after Epoch 13: 3.348392743617296\n",
            "Epoch 14/100 - Training: product\n"
          ]
        },
        {
          "output_type": "stream",
          "name": "stderr",
          "text": [
            "Training Epoch 14: 100%|██████████| 286/286 [01:35<00:00,  3.00it/s, loss=0.511]\n"
          ]
        },
        {
          "output_type": "stream",
          "name": "stdout",
          "text": [
            "Average Training Loss for Epoch 14: 0.3708047209294526\n",
            "Validation Loss after Epoch 14: 3.3508796617388725\n",
            "Early stopping counter: 1/6\n",
            "Epoch 15/100 - Training: product\n"
          ]
        },
        {
          "output_type": "stream",
          "name": "stderr",
          "text": [
            "Training Epoch 15: 100%|██████████| 286/286 [01:34<00:00,  3.01it/s, loss=0.361]\n"
          ]
        },
        {
          "output_type": "stream",
          "name": "stdout",
          "text": [
            "Average Training Loss for Epoch 15: 0.29130623029818487\n",
            "Validation Loss after Epoch 15: 3.3615277968347073\n",
            "Early stopping counter: 2/6\n",
            "Epoch 16/100 - Training: product\n"
          ]
        },
        {
          "output_type": "stream",
          "name": "stderr",
          "text": [
            "Training Epoch 16: 100%|██████████| 286/286 [01:35<00:00,  3.00it/s, loss=0.422]\n"
          ]
        },
        {
          "output_type": "stream",
          "name": "stdout",
          "text": [
            "Average Training Loss for Epoch 16: 0.22497190985750484\n",
            "Validation Loss after Epoch 16: 3.3848554864525795\n",
            "Early stopping counter: 3/6\n",
            "Epoch 17/100 - Training: product\n"
          ]
        },
        {
          "output_type": "stream",
          "name": "stderr",
          "text": [
            "Training Epoch 17: 100%|██████████| 286/286 [01:35<00:00,  3.00it/s, loss=0.33]\n"
          ]
        },
        {
          "output_type": "stream",
          "name": "stdout",
          "text": [
            "Average Training Loss for Epoch 17: 0.17612626324114683\n",
            "Validation Loss after Epoch 17: 3.3919792138040066\n",
            "Early stopping counter: 4/6\n",
            "Epoch 18/100 - Training: product\n"
          ]
        },
        {
          "output_type": "stream",
          "name": "stderr",
          "text": [
            "Training Epoch 18: 100%|██████████| 286/286 [01:35<00:00,  3.00it/s, loss=0.0549]\n"
          ]
        },
        {
          "output_type": "stream",
          "name": "stdout",
          "text": [
            "Average Training Loss for Epoch 18: 0.13290434163324275\n",
            "Validation Loss after Epoch 18: 3.3938723541796207\n",
            "Early stopping counter: 5/6\n",
            "Epoch 19/100 - Training: product\n"
          ]
        },
        {
          "output_type": "stream",
          "name": "stderr",
          "text": [
            "Training Epoch 19: 100%|██████████| 286/286 [01:35<00:00,  3.00it/s, loss=0.0632]\n"
          ]
        },
        {
          "output_type": "stream",
          "name": "stdout",
          "text": [
            "Average Training Loss for Epoch 19: 0.12276766026210222\n",
            "Validation Loss after Epoch 19: 3.3954398222267628\n",
            "Early stopping counter: 6/6\n",
            "Early stopping triggered.\n"
          ]
        },
        {
          "output_type": "stream",
          "name": "stderr",
          "text": [
            "<ipython-input-48-cb47ea6c2053>:92: FutureWarning: You are using `torch.load` with `weights_only=False` (the current default value), which uses the default pickle module implicitly. It is possible to construct malicious pickle data which will execute arbitrary code during unpickling (See https://github.com/pytorch/pytorch/blob/main/SECURITY.md#untrusted-models for more details). In a future release, the default value for `weights_only` will be flipped to `True`. This limits the functions that could be executed during unpickling. Arbitrary objects will no longer be allowed to be loaded via this mode unless they are explicitly allowlisted by the user via `torch.serialization.add_safe_globals`. We recommend you start setting `weights_only=True` for any use case where you don't have full control of the loaded file. Please open an issue on GitHub for any issues related to this experimental feature.\n",
            "  model.load_state_dict(torch.load(f\"best_model_{target}.pt\"))\n"
          ]
        },
        {
          "output_type": "stream",
          "name": "stdout",
          "text": [
            "Evaluating model for task: product\n"
          ]
        },
        {
          "output_type": "stream",
          "name": "stderr",
          "text": [
            "Evaluating: 100%|██████████| 32/32 [00:03<00:00,  9.11it/s]\n"
          ]
        },
        {
          "output_type": "stream",
          "name": "stdout",
          "text": [
            "F1-Score for product: 0.4632304030796795\n",
            "Classification Report for product:\n",
            "\n",
            "              precision    recall  f1-score   support\n",
            "\n",
            "           0       1.00      1.00      1.00         3\n",
            "           2       0.50      0.40      0.44         5\n",
            "           4       1.00      1.00      1.00         1\n",
            "           6       0.00      0.00      0.00         1\n",
            "          10       0.00      0.00      0.00         1\n",
            "          13       1.00      0.67      0.80         3\n",
            "          19       1.00      1.00      1.00         2\n",
            "          20       0.25      1.00      0.40         1\n",
            "          22       0.00      0.00      0.00         1\n",
            "          24       0.00      0.00      0.00         1\n",
            "          27       0.00      0.00      0.00         1\n",
            "          28       0.00      0.00      0.00         0\n",
            "          31       0.00      0.00      0.00         1\n",
            "          35       0.00      0.00      0.00         1\n",
            "          38       0.67      1.00      0.80         2\n",
            "          41       0.00      0.00      0.00         1\n",
            "          42       0.00      0.00      0.00         1\n",
            "          45       0.00      0.00      0.00         1\n",
            "          46       0.00      0.00      0.00         0\n",
            "          49       0.50      1.00      0.67         1\n",
            "          51       1.00      1.00      1.00         1\n",
            "          53       0.00      0.00      0.00         0\n",
            "          55       0.00      0.00      0.00         1\n",
            "          58       0.50      0.33      0.40         3\n",
            "          61       0.25      0.50      0.33         2\n",
            "          62       0.00      0.00      0.00         1\n",
            "          66       0.00      0.00      0.00         0\n",
            "          67       1.00      1.00      1.00         1\n",
            "          73       0.00      0.00      0.00         2\n",
            "          74       1.00      1.00      1.00         1\n",
            "          76       0.00      0.00      0.00         0\n",
            "          80       0.00      0.00      0.00         0\n",
            "          84       0.00      0.00      0.00         1\n",
            "          87       0.00      0.00      0.00         2\n",
            "          91       1.00      1.00      1.00         1\n",
            "          92       0.00      0.00      0.00         2\n",
            "          93       0.00      0.00      0.00         2\n",
            "          96       0.00      0.00      0.00         0\n",
            "         102       0.00      0.00      0.00         0\n",
            "         108       0.00      0.00      0.00         0\n",
            "         111       0.00      0.00      0.00         1\n",
            "         113       0.00      0.00      0.00         0\n",
            "         114       0.00      0.00      0.00         0\n",
            "         117       0.60      0.67      0.63         9\n",
            "         119       1.00      0.33      0.50         3\n",
            "         122       0.00      0.00      0.00         1\n",
            "         127       0.00      0.00      0.00         1\n",
            "         128       0.00      0.00      0.00         1\n",
            "         130       0.00      0.00      0.00         0\n",
            "         135       0.00      0.00      0.00         1\n",
            "         138       0.00      0.00      0.00         1\n",
            "         141       0.00      0.00      0.00         1\n",
            "         143       0.00      0.00      0.00         1\n",
            "         144       0.00      0.00      0.00         0\n",
            "         149       0.00      0.00      0.00         0\n",
            "         150       0.50      0.71      0.59         7\n",
            "         154       0.00      0.00      0.00         1\n",
            "         157       0.00      0.00      0.00         1\n",
            "         159       0.00      0.00      0.00         0\n",
            "         162       0.00      0.00      0.00         0\n",
            "         164       1.00      1.00      1.00         2\n",
            "         165       0.00      0.00      0.00         3\n",
            "         167       0.53      0.73      0.62        11\n",
            "         168       0.00      0.00      0.00         0\n",
            "         169       0.00      0.00      0.00         1\n",
            "         170       0.00      0.00      0.00         1\n",
            "         173       0.00      0.00      0.00         1\n",
            "         177       0.00      0.00      0.00         3\n",
            "         178       0.00      0.00      0.00         0\n",
            "         186       0.00      0.00      0.00         1\n",
            "         196       0.00      0.00      0.00         4\n",
            "         201       0.00      0.00      0.00         1\n",
            "         203       0.00      0.00      0.00         0\n",
            "         207       0.33      0.17      0.22         6\n",
            "         209       0.00      0.00      0.00         2\n",
            "         210       1.00      1.00      1.00         1\n",
            "         212       0.43      0.75      0.55         4\n",
            "         219       1.00      0.50      0.67         2\n",
            "         224       1.00      0.67      0.80         3\n",
            "         226       0.00      0.00      0.00         1\n",
            "         229       1.00      1.00      1.00         1\n",
            "         230       0.00      0.00      0.00         0\n",
            "         231       1.00      1.00      1.00         3\n",
            "         240       1.00      1.00      1.00         1\n",
            "         241       0.00      0.00      0.00         1\n",
            "         245       1.00      1.00      1.00         2\n",
            "         248       0.00      0.00      0.00         1\n",
            "         255       0.00      0.00      0.00         1\n",
            "         260       0.80      0.80      0.80         5\n",
            "         262       0.00      0.00      0.00         0\n",
            "         263       0.40      0.67      0.50         3\n",
            "         264       0.00      0.00      0.00         1\n",
            "         267       0.00      0.00      0.00         1\n",
            "         268       0.00      0.00      0.00         1\n",
            "         273       0.00      0.00      0.00         1\n",
            "         277       0.00      0.00      0.00         0\n",
            "         278       0.00      0.00      0.00         1\n",
            "         279       0.00      0.00      0.00         1\n",
            "         284       0.00      0.00      0.00         1\n",
            "         286       0.00      0.00      0.00         1\n",
            "         295       0.38      1.00      0.55         3\n",
            "         296       1.00      1.00      1.00         1\n",
            "         298       1.00      0.50      0.67         2\n",
            "         301       0.25      0.50      0.33         2\n",
            "         302       0.00      0.00      0.00         1\n",
            "         303       0.33      0.50      0.40         2\n",
            "         304       0.00      0.00      0.00         1\n",
            "         305       0.00      0.00      0.00         1\n",
            "         309       0.00      0.00      0.00         1\n",
            "         310       0.00      0.00      0.00         1\n",
            "         311       0.75      1.00      0.86         3\n",
            "         313       0.75      1.00      0.86         6\n",
            "         316       1.00      1.00      1.00         1\n",
            "         317       0.00      0.00      0.00         1\n",
            "         319       1.00      1.00      1.00         1\n",
            "         324       0.00      0.00      0.00         0\n",
            "         329       0.00      0.00      0.00         0\n",
            "         338       0.00      0.00      0.00         1\n",
            "         339       0.50      1.00      0.67         1\n",
            "         340       0.00      0.00      0.00         1\n",
            "         346       0.80      1.00      0.89         4\n",
            "         347       0.00      0.00      0.00         1\n",
            "         350       0.00      0.00      0.00         0\n",
            "         353       0.00      0.00      0.00         2\n",
            "         354       1.00      1.00      1.00         1\n",
            "         357       0.00      0.00      0.00         0\n",
            "         360       0.00      0.00      0.00         0\n",
            "         361       0.00      0.00      0.00         0\n",
            "         367       0.00      0.00      0.00         1\n",
            "         368       0.00      0.00      0.00         1\n",
            "         372       0.50      0.50      0.50         2\n",
            "         373       0.00      0.00      0.00         1\n",
            "         374       0.00      0.00      0.00         0\n",
            "         378       0.00      0.00      0.00         1\n",
            "         386       0.50      1.00      0.67         1\n",
            "         387       0.00      0.00      0.00         1\n",
            "         393       0.00      0.00      0.00         1\n",
            "         394       0.00      0.00      0.00         1\n",
            "         396       0.00      0.00      0.00         2\n",
            "         404       0.00      0.00      0.00         1\n",
            "         405       0.00      0.00      0.00         1\n",
            "         406       0.00      0.00      0.00         1\n",
            "         407       0.00      0.00      0.00         1\n",
            "         409       0.00      0.00      0.00         0\n",
            "         419       0.00      0.00      0.00         1\n",
            "         427       0.00      0.00      0.00         0\n",
            "         428       0.00      0.00      0.00         1\n",
            "         430       0.00      0.00      0.00         2\n",
            "         432       0.00      0.00      0.00         0\n",
            "         438       0.00      0.00      0.00         1\n",
            "         439       0.00      0.00      0.00         1\n",
            "         442       0.00      0.00      0.00         1\n",
            "         443       0.00      0.00      0.00         0\n",
            "         453       1.00      1.00      1.00         1\n",
            "         455       0.00      0.00      0.00         1\n",
            "         458       0.00      0.00      0.00         2\n",
            "         460       0.00      0.00      0.00         0\n",
            "         461       0.00      0.00      0.00         0\n",
            "         462       1.00      1.00      1.00         1\n",
            "         466       0.00      0.00      0.00         0\n",
            "         468       1.00      1.00      1.00         1\n",
            "         476       1.00      1.00      1.00         1\n",
            "         485       0.00      0.00      0.00         1\n",
            "         486       1.00      1.00      1.00         1\n",
            "         492       0.50      1.00      0.67         1\n",
            "         494       0.00      0.00      0.00         0\n",
            "         495       0.00      0.00      0.00         0\n",
            "         500       0.00      0.00      0.00         1\n",
            "         501       0.00      0.00      0.00         1\n",
            "         502       0.75      1.00      0.86         6\n",
            "         503       0.00      0.00      0.00         1\n",
            "         504       0.00      0.00      0.00         1\n",
            "         508       0.00      0.00      0.00         1\n",
            "         509       0.00      0.00      0.00         1\n",
            "         510       1.00      1.00      1.00         2\n",
            "         520       1.00      0.67      0.80         3\n",
            "         524       1.00      1.00      1.00         1\n",
            "         529       0.00      0.00      0.00         0\n",
            "         530       0.97      0.90      0.93        31\n",
            "         535       1.00      1.00      1.00         2\n",
            "         536       0.00      0.00      0.00         1\n",
            "         537       0.50      1.00      0.67         1\n",
            "         540       0.75      1.00      0.86         3\n",
            "         541       1.00      1.00      1.00         3\n",
            "         543       0.00      0.00      0.00         0\n",
            "         545       1.00      1.00      1.00         1\n",
            "         547       0.00      0.00      0.00         0\n",
            "         548       0.00      0.00      0.00         1\n",
            "         550       0.00      0.00      0.00         1\n",
            "         554       1.00      1.00      1.00         1\n",
            "         557       1.00      1.00      1.00         1\n",
            "         558       0.00      0.00      0.00         1\n",
            "         559       0.00      0.00      0.00         0\n",
            "         562       0.00      0.00      0.00         0\n",
            "         566       0.00      0.00      0.00         1\n",
            "         568       0.50      1.00      0.67         1\n",
            "         569       1.00      0.50      0.67         2\n",
            "         570       0.00      0.00      0.00         0\n",
            "         571       0.00      0.00      0.00         1\n",
            "         573       0.00      0.00      0.00         1\n",
            "         575       0.00      0.00      0.00         1\n",
            "         576       0.33      1.00      0.50         1\n",
            "         577       0.00      0.00      0.00         0\n",
            "         578       0.00      0.00      0.00         1\n",
            "         580       0.00      0.00      0.00         1\n",
            "         582       0.00      0.00      0.00         1\n",
            "         583       0.00      0.00      0.00         1\n",
            "         588       0.00      0.00      0.00         1\n",
            "         591       0.29      1.00      0.44         2\n",
            "         593       0.67      1.00      0.80         2\n",
            "         594       0.00      0.00      0.00         1\n",
            "         597       0.00      0.00      0.00         1\n",
            "         601       0.00      0.00      0.00         1\n",
            "         608       0.00      0.00      0.00         3\n",
            "         609       0.00      0.00      0.00         1\n",
            "         613       0.00      0.00      0.00         1\n",
            "         614       0.00      0.00      0.00         1\n",
            "         615       0.00      0.00      0.00         0\n",
            "         616       0.00      0.00      0.00         1\n",
            "         617       1.00      0.67      0.80         3\n",
            "         618       0.00      0.00      0.00         0\n",
            "         621       0.00      0.00      0.00         1\n",
            "         622       0.00      0.00      0.00         0\n",
            "         623       1.00      1.00      1.00         1\n",
            "         627       0.00      0.00      0.00         1\n",
            "         628       0.00      0.00      0.00         1\n",
            "         631       0.00      0.00      0.00         1\n",
            "         638       0.00      0.00      0.00         1\n",
            "         641       0.00      0.00      0.00         1\n",
            "         647       1.00      1.00      1.00         1\n",
            "         648       1.00      0.50      0.67         2\n",
            "         649       0.67      0.67      0.67         3\n",
            "         652       0.00      0.00      0.00         1\n",
            "         653       0.00      0.00      0.00         1\n",
            "         654       0.00      0.00      0.00         1\n",
            "         662       0.00      0.00      0.00         2\n",
            "         665       0.40      0.67      0.50         3\n",
            "         666       0.25      0.50      0.33         2\n",
            "         667       0.33      1.00      0.50         1\n",
            "         669       1.00      1.00      1.00         3\n",
            "         670       1.00      1.00      1.00         1\n",
            "         672       1.00      0.50      0.67         2\n",
            "         680       0.00      0.00      0.00         0\n",
            "         685       0.00      0.00      0.00         1\n",
            "         686       0.25      0.50      0.33         2\n",
            "         690       0.83      0.71      0.77         7\n",
            "         691       0.00      0.00      0.00         1\n",
            "         698       0.00      0.00      0.00         1\n",
            "         700       0.75      1.00      0.86         3\n",
            "         706       1.00      1.00      1.00         1\n",
            "         707       0.00      0.00      0.00         1\n",
            "         709       0.33      1.00      0.50         1\n",
            "         710       0.00      0.00      0.00         1\n",
            "         711       1.00      1.00      1.00         5\n",
            "         712       0.00      0.00      0.00         1\n",
            "         713       0.00      0.00      0.00         1\n",
            "         714       0.00      0.00      0.00         1\n",
            "         726       0.00      0.00      0.00         1\n",
            "         727       0.00      0.00      0.00         0\n",
            "         728       0.67      1.00      0.80         2\n",
            "         731       0.00      0.00      0.00         2\n",
            "         734       0.50      1.00      0.67         2\n",
            "         742       0.50      0.50      0.50         2\n",
            "         743       0.00      0.00      0.00         0\n",
            "         744       0.00      0.00      0.00         0\n",
            "         748       0.00      0.00      0.00         0\n",
            "         749       0.00      0.00      0.00         3\n",
            "         755       1.00      1.00      1.00         1\n",
            "         756       0.00      0.00      0.00         1\n",
            "         758       0.00      0.00      0.00         1\n",
            "         759       0.00      0.00      0.00         1\n",
            "         761       0.00      0.00      0.00         0\n",
            "         762       0.00      0.00      0.00         1\n",
            "         764       0.00      0.00      0.00         1\n",
            "         770       1.00      1.00      1.00         2\n",
            "         772       0.00      0.00      0.00         1\n",
            "         774       0.00      0.00      0.00         1\n",
            "         775       1.00      1.00      1.00         1\n",
            "         776       0.00      0.00      0.00         3\n",
            "         778       0.00      0.00      0.00         1\n",
            "         781       0.00      0.00      0.00         1\n",
            "         782       0.25      0.30      0.27        10\n",
            "         786       0.00      0.00      0.00         1\n",
            "         788       0.00      0.00      0.00         1\n",
            "         789       0.00      0.00      0.00         1\n",
            "         793       0.00      0.00      0.00         0\n",
            "         796       0.00      0.00      0.00         1\n",
            "         798       0.00      0.00      0.00         0\n",
            "         800       0.00      0.00      0.00         0\n",
            "         809       0.00      0.00      0.00         1\n",
            "         810       0.50      0.67      0.57         6\n",
            "         811       1.00      1.00      1.00         2\n",
            "         814       0.75      0.75      0.75         4\n",
            "         815       1.00      1.00      1.00         1\n",
            "         816       0.00      0.00      0.00         0\n",
            "         820       1.00      0.83      0.91         6\n",
            "         822       0.00      0.00      0.00         1\n",
            "         825       0.67      0.40      0.50         5\n",
            "         829       0.00      0.00      0.00         1\n",
            "         831       0.00      0.00      0.00         0\n",
            "         832       0.00      0.00      0.00         1\n",
            "         833       0.50      1.00      0.67         1\n",
            "         835       0.00      0.00      0.00         1\n",
            "         837       0.00      0.00      0.00         1\n",
            "         842       0.00      0.00      0.00         0\n",
            "         846       0.00      0.00      0.00         0\n",
            "         848       0.00      0.00      0.00         1\n",
            "         849       0.50      1.00      0.67         1\n",
            "         854       0.67      1.00      0.80         2\n",
            "         857       0.00      0.00      0.00         0\n",
            "         858       0.50      1.00      0.67         1\n",
            "         860       0.50      1.00      0.67         1\n",
            "         861       1.00      0.25      0.40         4\n",
            "         863       0.00      0.00      0.00         2\n",
            "         867       0.00      0.00      0.00         0\n",
            "         870       0.50      1.00      0.67         3\n",
            "         873       0.00      0.00      0.00         1\n",
            "         887       0.00      0.00      0.00         1\n",
            "         895       1.00      1.00      1.00         1\n",
            "         898       1.00      1.00      1.00         2\n",
            "         899       1.00      1.00      1.00         1\n",
            "         903       0.00      0.00      0.00         0\n",
            "         908       0.50      1.00      0.67         1\n",
            "         912       0.80      0.80      0.80         5\n",
            "         916       0.00      0.00      0.00         1\n",
            "         921       0.00      0.00      0.00         1\n",
            "         922       0.43      0.60      0.50         5\n",
            "         923       0.00      0.00      0.00         1\n",
            "         928       0.00      0.00      0.00         0\n",
            "         929       0.00      0.00      0.00         1\n",
            "         930       0.00      0.00      0.00         1\n",
            "         932       0.00      0.00      0.00         2\n",
            "         933       1.00      1.00      1.00         2\n",
            "         942       0.00      0.00      0.00         0\n",
            "         945       0.00      0.00      0.00         0\n",
            "         946       1.00      0.67      0.80         3\n",
            "         950       1.00      1.00      1.00         1\n",
            "         951       0.00      0.00      0.00         2\n",
            "         952       0.00      0.00      0.00         0\n",
            "         955       0.00      0.00      0.00         1\n",
            "         964       0.00      0.00      0.00         1\n",
            "         971       0.00      0.00      0.00         1\n",
            "         973       0.00      0.00      0.00         0\n",
            "         982       0.00      0.00      0.00         1\n",
            "         992       0.00      0.00      0.00         1\n",
            "         998       1.00      1.00      1.00         2\n",
            "         999       0.50      1.00      0.67         1\n",
            "        1007       0.50      1.00      0.67         1\n",
            "        1013       1.00      1.00      1.00         1\n",
            "        1017       1.00      1.00      1.00         1\n",
            "        1018       1.00      0.50      0.67         2\n",
            "        1020       1.00      0.67      0.80         3\n",
            "\n",
            "    accuracy                           0.49       509\n",
            "   macro avg       0.26      0.29      0.27       509\n",
            "weighted avg       0.47      0.49      0.46       509\n",
            "\n"
          ]
        }
      ],
      "source": [
        "# Train and evaluate for text\n",
        "print(\"\\nTraining and Evaluating for Text Tasks:\")\n",
        "text_f1_scores = train_and_evaluate_nn(text_splits, subtask1 + subtask2, model_type='text')\n"
      ]
    },
    {
      "cell_type": "markdown",
      "source": [
        "# Visualization"
      ],
      "metadata": {
        "id": "wTPZpMRl2_6_"
      }
    },
    {
      "cell_type": "code",
      "execution_count": null,
      "metadata": {
        "colab": {
          "base_uri": "https://localhost:8080/"
        },
        "id": "wwYyYDcAjBWh",
        "outputId": "2bfc4d9f-6cbd-47be-d388-1d8a63415c9b"
      },
      "outputs": [
        {
          "output_type": "stream",
          "name": "stdout",
          "text": [
            "\n",
            "Collected F1-Scores for Title-Focused Classification:\n",
            "               Task  F1-Score\n",
            "0   hazard-category  0.787574\n",
            "1  product-category  0.723887\n",
            "2            hazard  0.635389\n",
            "3           product  0.473943\n",
            "\n",
            "Collected F1-Scores for Text-Focused Classification:\n",
            "               Task  F1-Score\n",
            "0   hazard-category  0.951667\n",
            "1  product-category  0.737113\n",
            "2            hazard  0.854797\n",
            "3           product  0.463230\n"
          ]
        },
        {
          "output_type": "display_data",
          "data": {
            "text/plain": [
              "<Figure size 1000x600 with 1 Axes>"
            ],
            "image/png": "[encoded data removed]"
          },
          "metadata": {}
        }
      ],
      "source": [
        "# Create DataFrames for F1 scores for title and text\n",
        "f1_scores_title_df = pd.DataFrame({\n",
        "    'Task': subtask1 + subtask2,\n",
        "    'F1-Score': title_f1_scores\n",
        "})\n",
        "\n",
        "f1_scores_text_df = pd.DataFrame({\n",
        "    'Task': subtask1 + subtask2,\n",
        "    'F1-Score': text_f1_scores\n",
        "})\n",
        "\n",
        "# Print the collected F1-scores for title\n",
        "print(\"\\nCollected F1-Scores for Title-Focused Classification:\")\n",
        "print(f1_scores_title_df)\n",
        "\n",
        "# Print the collected F1-scores for text\n",
        "print(\"\\nCollected F1-Scores for Text-Focused Classification:\")\n",
        "print(f1_scores_text_df)\n",
        "\n",
        "# Plot F1-scores for visual comparison\n",
        "plt.figure(figsize=(10, 6))\n",
        "plt.bar(f1_scores_title_df['Task'], f1_scores_title_df['F1-Score'], alpha=0.7, label='Title-Focused')\n",
        "plt.bar(f1_scores_text_df['Task'], f1_scores_text_df['F1-Score'], alpha=0.7, label='Text-Focused')\n",
        "plt.ylabel(\"F1-Score\")\n",
        "plt.title(\"F1-Score Comparison Between Title and Text Tasks\")\n",
        "plt.xticks(rotation=45, ha='right')\n",
        "plt.legend()\n",
        "plt.tight_layout()\n",
        "plt.show()\n"
      ]
    },
    {
      "cell_type": "markdown",
      "source": [
        "The Text-Focused approach consistently achieves better or comparable F1-scores across all tasks, suggesting that incorporating more text-based features enhances the model's ability to classify or predict effectively in these tasks. Tasks involving \"product\" appear to be more challenging than \"category\" tasks overall, as seen in their lower F1-scores."
      ],
      "metadata": {
        "id": "P1PrsM_zzO-n"
      }
    }
  ],
  "metadata": {
    "accelerator": "GPU",
    "colab": {
      "gpuType": "L4",
      "machine_shape": "hm",
      "provenance": [],
      "authorship_tag": "ABX9TyOI6I092ZOHahW8PsA9V5M7",
      "include_colab_link": true
    },
    "kernelspec": {
      "display_name": "Python 3",
      "name": "python3"
    },
    "language_info": {
      "name": "python"
    }
  },
  "nbformat": 4,
  "nbformat_minor": 0
}
