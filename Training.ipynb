{
  "cells": [
    {
      "cell_type": "markdown",
      "metadata": {
        "id": "view-in-github",
        "colab_type": "text"
      },
      "source": [
        "<a href=\"https://colab.research.google.com/github/jerryk42/SemEval-Food-Hazard-Detection-Challenge/blob/main/Training.ipynb\" target=\"_parent\"><img src=\"https://colab.research.google.com/assets/colab-badge.svg\" alt=\"Open In Colab\"/></a>"
      ]
    },
    {
      "cell_type": "markdown",
      "source": [
        "# Imports"
      ],
      "metadata": {
        "id": "0eZi3gaLRgEj"
      }
    },
    {
      "cell_type": "code",
      "execution_count": 20,
      "metadata": {
        "id": "_tnUGj2aOD40"
      },
      "outputs": [],
      "source": [
        "import pandas as pd\n",
        "import re\n",
        "from sklearn.model_selection import train_test_split\n",
        "from sklearn.metrics import f1_score, classification_report\n",
        "import torch\n",
        "from transformers import AutoTokenizer, AutoModelForSequenceClassification\n",
        "from torch.utils.data import DataLoader, Dataset\n",
        "import torch.nn as nn\n",
        "import torch.optim as optim\n",
        "from sklearn.preprocessing import LabelEncoder\n",
        "from tqdm import tqdm  # Import tqdm for progress bars\n",
        "import matplotlib.pyplot as plt\n",
        "from google.colab import drive"
      ]
    },
    {
      "cell_type": "code",
      "execution_count": 21,
      "metadata": {
        "colab": {
          "base_uri": "https://localhost:8080/"
        },
        "id": "-Uk4Hr3o6UHO",
        "outputId": "dfef0ccd-0ed5-4b10-feef-6db92058aebd"
      },
      "outputs": [
        {
          "output_type": "stream",
          "name": "stdout",
          "text": [
            "Drive already mounted at /content/drive; to attempt to forcibly remount, call drive.mount(\"/content/drive\", force_remount=True).\n"
          ]
        }
      ],
      "source": [
        "# Mounting on google drive\n",
        "drive.mount('/content/drive')"
      ]
    },
    {
      "cell_type": "code",
      "execution_count": 22,
      "metadata": {
        "id": "mRqpDhY5OF0r"
      },
      "outputs": [],
      "source": [
        "# Configuration of the model\n",
        "config = {\n",
        "    'max_len': 256,\n",
        "    'batch_size': 16,\n",
        "    'learning_rate': 0.00005,\n",
        "    'epochs': 100,\n",
        "    'model_name': \"dmis-lab/biobert-base-cased-v1.1\"  # BioBERT model name\n",
        "}\n"
      ]
    },
    {
      "cell_type": "code",
      "execution_count": 23,
      "metadata": {
        "colab": {
          "base_uri": "https://localhost:8080/"
        },
        "id": "F8Z5Prdp5Xrb",
        "outputId": "8e6c322c-355b-460c-f2e5-85fadbd27fd4"
      },
      "outputs": [
        {
          "output_type": "stream",
          "name": "stdout",
          "text": [
            "Using device: cuda\n"
          ]
        }
      ],
      "source": [
        "# Set device for training\n",
        "device = torch.device('cuda' if torch.cuda.is_available() else 'cpu')\n",
        "print(f\"Using device: {device}\")\n"
      ]
    },
    {
      "cell_type": "code",
      "execution_count": 24,
      "metadata": {
        "colab": {
          "base_uri": "https://localhost:8080/"
        },
        "collapsed": true,
        "id": "YaxolIHS5SBH",
        "outputId": "a256d785-e130-41bd-8722-00d5c1e7446b"
      },
      "outputs": [
        {
          "output_type": "stream",
          "name": "stdout",
          "text": [
            "   Unnamed: 0  year  month  day country                             title  \\\n",
            "0           0  1994      1    7      us  Recall Notification: FSIS-024-94   \n",
            "1           1  1994      3   10      us  Recall Notification: FSIS-033-94   \n",
            "2           2  1994      3   28      us  Recall Notification: FSIS-014-94   \n",
            "3           3  1994      4    3      us  Recall Notification: FSIS-009-94   \n",
            "4           4  1994      7    1      us  Recall Notification: FSIS-001-94   \n",
            "\n",
            "                                                text hazard-category  \\\n",
            "0  Case Number: 024-94   \\n            Date Opene...      biological   \n",
            "1  Case Number: 033-94   \\n            Date Opene...      biological   \n",
            "2  Case Number: 014-94   \\n            Date Opene...      biological   \n",
            "3  Case Number: 009-94   \\n            Date Opene...  foreign bodies   \n",
            "4  Case Number: 001-94   \\n            Date Opene...  foreign bodies   \n",
            "\n",
            "               product-category                  hazard  \\\n",
            "0  meat, egg and dairy products  listeria monocytogenes   \n",
            "1  meat, egg and dairy products            listeria spp   \n",
            "2  meat, egg and dairy products  listeria monocytogenes   \n",
            "3  meat, egg and dairy products        plastic fragment   \n",
            "4  meat, egg and dairy products        plastic fragment   \n",
            "\n",
            "                       product  \n",
            "0               smoked sausage  \n",
            "1                      sausage  \n",
            "2                   ham slices  \n",
            "3  thermal processed pork meat  \n",
            "4               chicken breast  \n"
          ]
        }
      ],
      "source": [
        "# URL of the raw file\n",
        "url = \"https://raw.githubusercontent.com/food-hazard-detection-semeval-2025/food-hazard-detection-semeval-2025.github.io/refs/heads/main/data/incidents_train.csv\"\n",
        "\n",
        "# Read the CSV file into a DataFrame\n",
        "df = pd.read_csv(url)\n",
        "\n",
        "# Display the first few rows of the DataFrame\n",
        "print(df.head())"
      ]
    },
    {
      "cell_type": "code",
      "execution_count": 25,
      "metadata": {
        "id": "Z6l4Gt-Y6EIH"
      },
      "outputs": [],
      "source": [
        "# Drop the first column\n",
        "df = df.drop(df.columns[0], axis=1)"
      ]
    },
    {
      "cell_type": "code",
      "execution_count": 26,
      "metadata": {
        "colab": {
          "base_uri": "https://localhost:8080/"
        },
        "id": "IsoRrUZg5Xw6",
        "outputId": "cd9a27a9-9c17-4088-c3cc-c9df86c06af2"
      },
      "outputs": [
        {
          "output_type": "stream",
          "name": "stdout",
          "text": [
            "<class 'pandas.core.frame.DataFrame'>\n",
            "RangeIndex: 5082 entries, 0 to 5081\n",
            "Data columns (total 10 columns):\n",
            " #   Column            Non-Null Count  Dtype \n",
            "---  ------            --------------  ----- \n",
            " 0   year              5082 non-null   int64 \n",
            " 1   month             5082 non-null   int64 \n",
            " 2   day               5082 non-null   int64 \n",
            " 3   country           5082 non-null   object\n",
            " 4   title             5082 non-null   object\n",
            " 5   text              5082 non-null   object\n",
            " 6   hazard-category   5082 non-null   object\n",
            " 7   product-category  5082 non-null   object\n",
            " 8   hazard            5082 non-null   object\n",
            " 9   product           5082 non-null   object\n",
            "dtypes: int64(3), object(7)\n",
            "memory usage: 397.2+ KB\n",
            "None\n"
          ]
        }
      ],
      "source": [
        "# Check the structure of the DataFrame\n",
        "print(df.info())"
      ]
    },
    {
      "cell_type": "code",
      "execution_count": 27,
      "metadata": {
        "id": "WbqvZzJgOMmA"
      },
      "outputs": [],
      "source": [
        "# Custom Dataset for Text Data\n",
        "class TextDataset(Dataset):\n",
        "    def __init__(self, texts, labels, tokenizer, max_len):\n",
        "        self.texts = texts\n",
        "        self.labels = labels\n",
        "        self.tokenizer = tokenizer\n",
        "        self.max_len = max_len\n",
        "\n",
        "    def __len__(self):\n",
        "        return len(self.texts)\n",
        "\n",
        "    def __getitem__(self, item):\n",
        "        text = str(self.texts[item])\n",
        "        label = self.labels[item]\n",
        "        encoding = self.tokenizer.encode_plus(\n",
        "            text,\n",
        "            add_special_tokens=True,\n",
        "            max_length=self.max_len,\n",
        "            padding='max_length',\n",
        "            truncation=True,\n",
        "            return_tensors='pt'\n",
        "        )\n",
        "        return {\n",
        "            'input_ids': encoding['input_ids'].flatten(),\n",
        "            'attention_mask': encoding['attention_mask'].flatten(),\n",
        "            'label': torch.tensor(label, dtype=torch.long)\n",
        "        }\n"
      ]
    },
    {
      "cell_type": "code",
      "execution_count": 28,
      "metadata": {
        "id": "KlHfuLKlOQmI"
      },
      "outputs": [],
      "source": [
        "# Function to clean text (title or text) and remove stopwords\n",
        "def clean_text(text):\n",
        "    text = re.sub(r'[^a-zA-Z0-9\\s]', '', text)\n",
        "    text = text.lower()\n",
        "    text = ' '.join(text.split())\n",
        "    return text\n"
      ]
    },
    {
      "cell_type": "code",
      "execution_count": 29,
      "metadata": {
        "id": "J5f2YpcNOVs5"
      },
      "outputs": [],
      "source": [
        "# Load tokenizer for Microsoft PubMedBERT model\n",
        "tokenizer = AutoTokenizer.from_pretrained(config['model_name'])\n",
        "\n",
        "# Assuming df is your DataFrame\n",
        "df['text'] = df['text'].apply(clean_text)\n"
      ]
    },
    {
      "cell_type": "code",
      "execution_count": 32,
      "metadata": {
        "id": "xe4fnbojOY-v"
      },
      "outputs": [],
      "source": [
        "# Define relevant features and targets\n",
        "features = ['year', 'month', 'day', 'country']\n",
        "subtask1 = ['hazard-category','product-category']\n",
        "subtask2 = ['hazard','product']\n"
      ]
    },
    {
      "cell_type": "code",
      "execution_count": 33,
      "metadata": {
        "id": "b7B8EhUdOer2"
      },
      "outputs": [],
      "source": [
        "# Encode target labels to numeric values\n",
        "label_encoders = {}\n",
        "for target in subtask1 + subtask2:\n",
        "    le = LabelEncoder()\n",
        "    df[target] = le.fit_transform(df[target])\n",
        "    label_encoders[target] = le\n"
      ]
    },
    {
      "cell_type": "code",
      "execution_count": 34,
      "metadata": {
        "id": "8a9dTrQ9Oh7Q"
      },
      "outputs": [],
      "source": [
        "# Prepare data for both title and text\n",
        "def prepare_data(text_column):\n",
        "    X = df[features + [text_column]]\n",
        "    y_subtask1 = df[subtask1]\n",
        "    y_subtask2 = df[subtask2]\n",
        "\n",
        "    data_splits = {}\n",
        "    for target in subtask1 + subtask2:\n",
        "        X_train, X_test, y_train, y_test = train_test_split(\n",
        "            X, df[target], test_size=0.1, random_state=42\n",
        "        )\n",
        "\n",
        "        # Reset indices to ensure matching\n",
        "        X_train = X_train.reset_index(drop=True)\n",
        "        y_train = y_train.reset_index(drop=True)\n",
        "        X_test = X_test.reset_index(drop=True)\n",
        "        y_test = y_test.reset_index(drop=True)\n",
        "\n",
        "        data_splits[target] = (X_train, X_test, y_train, y_test)\n",
        "\n",
        "    return data_splits\n"
      ]
    },
    {
      "cell_type": "code",
      "execution_count": 35,
      "metadata": {
        "id": "Ffx_UagwOlb2"
      },
      "outputs": [],
      "source": [
        "# Prepare data for title and text\n",
        "title_splits = prepare_data('title')\n",
        "text_splits = prepare_data('text')\n"
      ]
    },
    {
      "cell_type": "code",
      "execution_count": 36,
      "metadata": {
        "id": "RQYXs45FOoPz"
      },
      "outputs": [],
      "source": [
        "def train_and_evaluate_nn(data_splits, targets, model_type='title', early_stopping_patience=6, lr_reduce_factor=0.05):\n",
        "    f1_scores = []  # List to store F1 scores for each task\n",
        "\n",
        "    for target in targets:\n",
        "        print(f\"\\nStarting training for task: {target}\")  # Print task message\n",
        "\n",
        "        X_train, X_test, y_train, y_test = data_splits[target]\n",
        "\n",
        "        # Prepare text data using the tokenizer\n",
        "        if model_type == 'title':\n",
        "            texts_train = X_train['title'].values\n",
        "            texts_test = X_test['title'].values\n",
        "        else:\n",
        "            texts_train = X_train['text'].values\n",
        "            texts_test = X_test['text'].values\n",
        "\n",
        "        # Create DataLoader for training and testing\n",
        "        train_dataset = TextDataset(texts_train, y_train, tokenizer, config['max_len'])\n",
        "        test_dataset = TextDataset(texts_test, y_test, tokenizer, config['max_len'])\n",
        "\n",
        "        train_loader = DataLoader(train_dataset, batch_size=config['batch_size'], shuffle=True)\n",
        "        test_loader = DataLoader(test_dataset, batch_size=config['batch_size'], shuffle=False)\n",
        "\n",
        "        # Model setup\n",
        "        num_labels = len(label_encoders[target].classes_)\n",
        "        model = AutoModelForSequenceClassification.from_pretrained(config['model_name'], num_labels=num_labels).to(device)\n",
        "\n",
        "        optimizer = optim.Adam(model.parameters(), lr=config['learning_rate'])\n",
        "        scheduler = torch.optim.lr_scheduler.ReduceLROnPlateau(optimizer, mode='min', factor=lr_reduce_factor, patience=3, verbose=True)\n",
        "        criterion = nn.CrossEntropyLoss()\n",
        "\n",
        "        # Training process\n",
        "        model.train()\n",
        "        best_loss = float('inf')\n",
        "        early_stop_counter = 0\n",
        "\n",
        "        for epoch in range(config['epochs']):\n",
        "            print(f\"Epoch {epoch+1}/{config['epochs']} - Training: {target}\")\n",
        "            progress_bar = tqdm(train_loader, desc=f\"Training Epoch {epoch+1}\", total=len(train_loader), leave=True)\n",
        "            epoch_loss = 0.0\n",
        "\n",
        "            for batch in progress_bar:\n",
        "                optimizer.zero_grad()\n",
        "                input_ids = batch['input_ids'].squeeze(1).to(device)\n",
        "                attention_mask = batch['attention_mask'].squeeze(1).to(device)\n",
        "                labels = batch['label'].to(device)\n",
        "\n",
        "                outputs = model(input_ids, attention_mask=attention_mask)\n",
        "                loss = criterion(outputs.logits, labels)\n",
        "                loss.backward()\n",
        "                optimizer.step()\n",
        "                epoch_loss += loss.item()\n",
        "                progress_bar.set_postfix(loss=loss.item())\n",
        "\n",
        "            # Average loss for the epoch\n",
        "            avg_epoch_loss = epoch_loss / len(train_loader)\n",
        "            print(f\"Average Training Loss for Epoch {epoch+1}: {avg_epoch_loss}\")\n",
        "\n",
        "            # Evaluate on the test set to compute validation loss\n",
        "            val_loss = 0.0\n",
        "            model.eval()\n",
        "            with torch.no_grad():\n",
        "                for batch in test_loader:\n",
        "                    input_ids = batch['input_ids'].squeeze(1).to(device)\n",
        "                    attention_mask = batch['attention_mask'].squeeze(1).to(device)\n",
        "                    labels = batch['label'].to(device)\n",
        "\n",
        "                    outputs = model(input_ids, attention_mask=attention_mask)\n",
        "                    loss = criterion(outputs.logits, labels)\n",
        "                    val_loss += loss.item()\n",
        "\n",
        "            avg_val_loss = val_loss / len(test_loader)\n",
        "            print(f\"Validation Loss after Epoch {epoch+1}: {avg_val_loss}\")\n",
        "\n",
        "            # Step the scheduler with the validation loss\n",
        "            scheduler.step(avg_val_loss)\n",
        "\n",
        "            # Early stopping check\n",
        "            if avg_val_loss < best_loss:\n",
        "                best_loss = avg_val_loss\n",
        "                early_stop_counter = 0\n",
        "                torch.save(model.state_dict(), f\"best_model_{target}.pt\")  # Save the best model\n",
        "            else:\n",
        "                early_stop_counter += 1\n",
        "                print(f\"Early stopping counter: {early_stop_counter}/{early_stopping_patience}\")\n",
        "\n",
        "            if early_stop_counter >= early_stopping_patience:\n",
        "                print(\"Early stopping triggered.\")\n",
        "                break\n",
        "\n",
        "        # Load the best model for evaluation\n",
        "        model.load_state_dict(torch.load(f\"best_model_{target}.pt\"))\n",
        "\n",
        "        # Evaluation process\n",
        "        print(f\"Evaluating model for task: {target}\")\n",
        "        model.eval()\n",
        "        y_preds = []\n",
        "        y_true = []\n",
        "        with torch.no_grad():\n",
        "            for batch in tqdm(test_loader, desc=\"Evaluating\", total=len(test_loader), leave=True):\n",
        "                input_ids = batch['input_ids'].squeeze(1).to(device)\n",
        "                attention_mask = batch['attention_mask'].squeeze(1).to(device)\n",
        "                labels = batch['label'].to(device)\n",
        "                outputs = model(input_ids, attention_mask=attention_mask)\n",
        "                _, preds = torch.max(outputs.logits, dim=1)\n",
        "                y_preds.extend(preds.cpu().numpy())\n",
        "                y_true.extend(labels.cpu().numpy())\n",
        "\n",
        "        # Decode labels back to original categories using the label encoder\n",
        "        decoded_preds = label_encoders[target].inverse_transform(y_preds)\n",
        "        decoded_true = label_encoders[target].inverse_transform(y_true)\n",
        "\n",
        "        # Calculate F1 score for the task\n",
        "        f1 = f1_score(decoded_true, decoded_preds, average='weighted')\n",
        "        f1_scores.append(f1)\n",
        "        print(f\"F1-Score for {target}: {f1}\")\n",
        "\n",
        "        # Print classification report\n",
        "        print(f\"Classification Report for {target}:\\n\")\n",
        "        print(classification_report(decoded_true, decoded_preds, zero_division=0))\n",
        "\n",
        "    return f1_scores  # Return the list of F1 scores for plotting\n"
      ]
    },
    {
      "cell_type": "code",
      "execution_count": 37,
      "metadata": {
        "id": "OYEB0MQmVAWM",
        "colab": {
          "base_uri": "https://localhost:8080/"
        },
        "outputId": "6abef371-506f-4820-f9c5-e0ce2c97b200"
      },
      "outputs": [
        {
          "output_type": "stream",
          "name": "stdout",
          "text": [
            "\n",
            "Training and Evaluating for Title Tasks:\n",
            "\n",
            "Starting training for task: hazard-category\n"
          ]
        },
        {
          "output_type": "stream",
          "name": "stderr",
          "text": [
            "Some weights of BertForSequenceClassification were not initialized from the model checkpoint at dmis-lab/biobert-base-cased-v1.1 and are newly initialized: ['classifier.bias', 'classifier.weight']\n",
            "You should probably TRAIN this model on a down-stream task to be able to use it for predictions and inference.\n"
          ]
        },
        {
          "output_type": "stream",
          "name": "stdout",
          "text": [
            "Epoch 1/100 - Training: hazard-category\n"
          ]
        },
        {
          "output_type": "stream",
          "name": "stderr",
          "text": [
            "Training Epoch 1: 100%|██████████| 286/286 [01:24<00:00,  3.39it/s, loss=0.731]\n"
          ]
        },
        {
          "output_type": "stream",
          "name": "stdout",
          "text": [
            "Average Training Loss for Epoch 1: 0.8391710806481697\n",
            "Validation Loss after Epoch 1: 0.684822328388691\n",
            "Epoch 2/100 - Training: hazard-category\n"
          ]
        },
        {
          "output_type": "stream",
          "name": "stderr",
          "text": [
            "Training Epoch 2: 100%|██████████| 286/286 [01:23<00:00,  3.43it/s, loss=0.0742]\n"
          ]
        },
        {
          "output_type": "stream",
          "name": "stdout",
          "text": [
            "Average Training Loss for Epoch 2: 0.5030099867185304\n",
            "Validation Loss after Epoch 2: 0.5898981164209545\n",
            "Epoch 3/100 - Training: hazard-category\n"
          ]
        },
        {
          "output_type": "stream",
          "name": "stderr",
          "text": [
            "Training Epoch 3: 100%|██████████| 286/286 [01:23<00:00,  3.43it/s, loss=0.409]\n"
          ]
        },
        {
          "output_type": "stream",
          "name": "stdout",
          "text": [
            "Average Training Loss for Epoch 3: 0.3212648796412599\n",
            "Validation Loss after Epoch 3: 0.6839247900061309\n",
            "Early stopping counter: 1/6\n",
            "Epoch 4/100 - Training: hazard-category\n"
          ]
        },
        {
          "output_type": "stream",
          "name": "stderr",
          "text": [
            "Training Epoch 4: 100%|██████████| 286/286 [01:23<00:00,  3.44it/s, loss=0.0393]\n"
          ]
        },
        {
          "output_type": "stream",
          "name": "stdout",
          "text": [
            "Average Training Loss for Epoch 4: 0.212170943227056\n",
            "Validation Loss after Epoch 4: 0.7780294450931251\n",
            "Early stopping counter: 2/6\n",
            "Epoch 5/100 - Training: hazard-category\n"
          ]
        },
        {
          "output_type": "stream",
          "name": "stderr",
          "text": [
            "Training Epoch 5: 100%|██████████| 286/286 [01:23<00:00,  3.44it/s, loss=0.0884]\n"
          ]
        },
        {
          "output_type": "stream",
          "name": "stdout",
          "text": [
            "Average Training Loss for Epoch 5: 0.1455102684171675\n",
            "Validation Loss after Epoch 5: 0.7540938910096884\n",
            "Early stopping counter: 3/6\n",
            "Epoch 6/100 - Training: hazard-category\n"
          ]
        },
        {
          "output_type": "stream",
          "name": "stderr",
          "text": [
            "Training Epoch 6: 100%|██████████| 286/286 [01:23<00:00,  3.43it/s, loss=0.296]\n"
          ]
        },
        {
          "output_type": "stream",
          "name": "stdout",
          "text": [
            "Average Training Loss for Epoch 6: 0.1036541857561292\n",
            "Validation Loss after Epoch 6: 0.7857046816498041\n",
            "Early stopping counter: 4/6\n",
            "Epoch 7/100 - Training: hazard-category\n"
          ]
        },
        {
          "output_type": "stream",
          "name": "stderr",
          "text": [
            "Training Epoch 7: 100%|██████████| 286/286 [01:23<00:00,  3.44it/s, loss=0.104]\n"
          ]
        },
        {
          "output_type": "stream",
          "name": "stdout",
          "text": [
            "Average Training Loss for Epoch 7: 0.061231792153842696\n",
            "Validation Loss after Epoch 7: 0.7417516740970314\n",
            "Early stopping counter: 5/6\n",
            "Epoch 8/100 - Training: hazard-category\n"
          ]
        },
        {
          "output_type": "stream",
          "name": "stderr",
          "text": [
            "Training Epoch 8: 100%|██████████| 286/286 [01:23<00:00,  3.44it/s, loss=0.00567]\n"
          ]
        },
        {
          "output_type": "stream",
          "name": "stdout",
          "text": [
            "Average Training Loss for Epoch 8: 0.04181492382618175\n",
            "Validation Loss after Epoch 8: 0.7439211782766506\n",
            "Early stopping counter: 6/6\n",
            "Early stopping triggered.\n"
          ]
        },
        {
          "output_type": "stream",
          "name": "stderr",
          "text": [
            "<ipython-input-36-cb47ea6c2053>:92: FutureWarning: You are using `torch.load` with `weights_only=False` (the current default value), which uses the default pickle module implicitly. It is possible to construct malicious pickle data which will execute arbitrary code during unpickling (See https://github.com/pytorch/pytorch/blob/main/SECURITY.md#untrusted-models for more details). In a future release, the default value for `weights_only` will be flipped to `True`. This limits the functions that could be executed during unpickling. Arbitrary objects will no longer be allowed to be loaded via this mode unless they are explicitly allowlisted by the user via `torch.serialization.add_safe_globals`. We recommend you start setting `weights_only=True` for any use case where you don't have full control of the loaded file. Please open an issue on GitHub for any issues related to this experimental feature.\n",
            "  model.load_state_dict(torch.load(f\"best_model_{target}.pt\"))\n"
          ]
        },
        {
          "output_type": "stream",
          "name": "stdout",
          "text": [
            "Evaluating model for task: hazard-category\n"
          ]
        },
        {
          "output_type": "stream",
          "name": "stderr",
          "text": [
            "Evaluating: 100%|██████████| 32/32 [00:02<00:00, 11.03it/s]\n"
          ]
        },
        {
          "output_type": "stream",
          "name": "stdout",
          "text": [
            "F1-Score for hazard-category: 0.82792968672088\n",
            "Classification Report for hazard-category:\n",
            "\n",
            "              precision    recall  f1-score   support\n",
            "\n",
            "           0       0.88      0.93      0.90       188\n",
            "           1       0.85      0.93      0.89       171\n",
            "           2       0.81      0.60      0.69        35\n",
            "           3       0.00      0.00      0.00         5\n",
            "           4       0.77      0.84      0.80        58\n",
            "           5       0.78      0.64      0.71        28\n",
            "           6       0.00      0.00      0.00         1\n",
            "           7       0.00      0.00      0.00         3\n",
            "           8       0.89      0.53      0.67        15\n",
            "           9       0.00      0.00      0.00         5\n",
            "\n",
            "    accuracy                           0.84       509\n",
            "   macro avg       0.50      0.45      0.47       509\n",
            "weighted avg       0.82      0.84      0.83       509\n",
            "\n",
            "\n",
            "Starting training for task: product-category\n"
          ]
        },
        {
          "output_type": "stream",
          "name": "stderr",
          "text": [
            "Some weights of BertForSequenceClassification were not initialized from the model checkpoint at dmis-lab/biobert-base-cased-v1.1 and are newly initialized: ['classifier.bias', 'classifier.weight']\n",
            "You should probably TRAIN this model on a down-stream task to be able to use it for predictions and inference.\n"
          ]
        },
        {
          "output_type": "stream",
          "name": "stdout",
          "text": [
            "Epoch 1/100 - Training: product-category\n"
          ]
        },
        {
          "output_type": "stream",
          "name": "stderr",
          "text": [
            "Training Epoch 1: 100%|██████████| 286/286 [01:24<00:00,  3.38it/s, loss=1.09]\n"
          ]
        },
        {
          "output_type": "stream",
          "name": "stdout",
          "text": [
            "Average Training Loss for Epoch 1: 1.7992793848881354\n",
            "Validation Loss after Epoch 1: 1.149048862978816\n",
            "Epoch 2/100 - Training: product-category\n"
          ]
        },
        {
          "output_type": "stream",
          "name": "stderr",
          "text": [
            "Training Epoch 2: 100%|██████████| 286/286 [01:23<00:00,  3.44it/s, loss=0.705]\n"
          ]
        },
        {
          "output_type": "stream",
          "name": "stdout",
          "text": [
            "Average Training Loss for Epoch 2: 0.9122850159248272\n",
            "Validation Loss after Epoch 2: 0.9277553297579288\n",
            "Epoch 3/100 - Training: product-category\n"
          ]
        },
        {
          "output_type": "stream",
          "name": "stderr",
          "text": [
            "Training Epoch 3: 100%|██████████| 286/286 [01:23<00:00,  3.44it/s, loss=0.0575]\n"
          ]
        },
        {
          "output_type": "stream",
          "name": "stdout",
          "text": [
            "Average Training Loss for Epoch 3: 0.5123526228370366\n",
            "Validation Loss after Epoch 3: 0.9759407956153154\n",
            "Early stopping counter: 1/6\n",
            "Epoch 4/100 - Training: product-category\n"
          ]
        },
        {
          "output_type": "stream",
          "name": "stderr",
          "text": [
            "Training Epoch 4: 100%|██████████| 286/286 [01:23<00:00,  3.44it/s, loss=1.1]\n"
          ]
        },
        {
          "output_type": "stream",
          "name": "stdout",
          "text": [
            "Average Training Loss for Epoch 4: 0.28581313383798085\n",
            "Validation Loss after Epoch 4: 1.0119524272158742\n",
            "Early stopping counter: 2/6\n",
            "Epoch 5/100 - Training: product-category\n"
          ]
        },
        {
          "output_type": "stream",
          "name": "stderr",
          "text": [
            "Training Epoch 5: 100%|██████████| 286/286 [01:23<00:00,  3.44it/s, loss=0.0478]\n"
          ]
        },
        {
          "output_type": "stream",
          "name": "stdout",
          "text": [
            "Average Training Loss for Epoch 5: 0.16936148974679774\n",
            "Validation Loss after Epoch 5: 1.1206264458596706\n",
            "Early stopping counter: 3/6\n",
            "Epoch 6/100 - Training: product-category\n"
          ]
        },
        {
          "output_type": "stream",
          "name": "stderr",
          "text": [
            "Training Epoch 6: 100%|██████████| 286/286 [01:23<00:00,  3.44it/s, loss=0.0629]\n"
          ]
        },
        {
          "output_type": "stream",
          "name": "stdout",
          "text": [
            "Average Training Loss for Epoch 6: 0.11000564838336273\n",
            "Validation Loss after Epoch 6: 1.2314193919301033\n",
            "Early stopping counter: 4/6\n",
            "Epoch 7/100 - Training: product-category\n"
          ]
        },
        {
          "output_type": "stream",
          "name": "stderr",
          "text": [
            "Training Epoch 7: 100%|██████████| 286/286 [01:23<00:00,  3.44it/s, loss=0.0244]\n"
          ]
        },
        {
          "output_type": "stream",
          "name": "stdout",
          "text": [
            "Average Training Loss for Epoch 7: 0.05184709920932155\n",
            "Validation Loss after Epoch 7: 1.194928282406181\n",
            "Early stopping counter: 5/6\n",
            "Epoch 8/100 - Training: product-category\n"
          ]
        },
        {
          "output_type": "stream",
          "name": "stderr",
          "text": [
            "Training Epoch 8: 100%|██████████| 286/286 [01:23<00:00,  3.44it/s, loss=0.00747]\n"
          ]
        },
        {
          "output_type": "stream",
          "name": "stdout",
          "text": [
            "Average Training Loss for Epoch 8: 0.03526347557935942\n",
            "Validation Loss after Epoch 8: 1.2035068394616246\n",
            "Early stopping counter: 6/6\n",
            "Early stopping triggered.\n"
          ]
        },
        {
          "output_type": "stream",
          "name": "stderr",
          "text": [
            "<ipython-input-36-cb47ea6c2053>:92: FutureWarning: You are using `torch.load` with `weights_only=False` (the current default value), which uses the default pickle module implicitly. It is possible to construct malicious pickle data which will execute arbitrary code during unpickling (See https://github.com/pytorch/pytorch/blob/main/SECURITY.md#untrusted-models for more details). In a future release, the default value for `weights_only` will be flipped to `True`. This limits the functions that could be executed during unpickling. Arbitrary objects will no longer be allowed to be loaded via this mode unless they are explicitly allowlisted by the user via `torch.serialization.add_safe_globals`. We recommend you start setting `weights_only=True` for any use case where you don't have full control of the loaded file. Please open an issue on GitHub for any issues related to this experimental feature.\n",
            "  model.load_state_dict(torch.load(f\"best_model_{target}.pt\"))\n"
          ]
        },
        {
          "output_type": "stream",
          "name": "stdout",
          "text": [
            "Evaluating model for task: product-category\n"
          ]
        },
        {
          "output_type": "stream",
          "name": "stderr",
          "text": [
            "Evaluating: 100%|██████████| 32/32 [00:02<00:00, 11.04it/s]\n"
          ]
        },
        {
          "output_type": "stream",
          "name": "stdout",
          "text": [
            "F1-Score for product-category: 0.7263395818998133\n",
            "Classification Report for product-category:\n",
            "\n",
            "              precision    recall  f1-score   support\n",
            "\n",
            "           0       0.67      1.00      0.80         2\n",
            "           1       0.61      0.81      0.70        54\n",
            "           2       0.75      0.83      0.79        29\n",
            "           3       0.67      0.20      0.31        20\n",
            "           4       0.41      0.64      0.50        11\n",
            "           5       0.50      0.33      0.40         3\n",
            "           6       0.00      0.00      0.00         2\n",
            "           8       0.00      0.00      0.00         1\n",
            "           9       0.78      0.80      0.79        56\n",
            "          10       0.44      0.44      0.44         9\n",
            "          12       0.97      0.88      0.92        33\n",
            "          13       0.82      0.95      0.88       131\n",
            "          14       0.87      0.81      0.84        16\n",
            "          15       0.78      0.84      0.81        37\n",
            "          16       0.00      0.00      0.00         1\n",
            "          17       0.00      0.00      0.00         3\n",
            "          18       0.57      0.24      0.33        51\n",
            "          19       0.96      0.89      0.93        28\n",
            "          20       0.65      0.81      0.72        21\n",
            "          21       0.00      0.00      0.00         1\n",
            "\n",
            "    accuracy                           0.75       509\n",
            "   macro avg       0.52      0.52      0.51       509\n",
            "weighted avg       0.73      0.75      0.73       509\n",
            "\n",
            "\n",
            "Starting training for task: hazard\n"
          ]
        },
        {
          "output_type": "stream",
          "name": "stderr",
          "text": [
            "Some weights of BertForSequenceClassification were not initialized from the model checkpoint at dmis-lab/biobert-base-cased-v1.1 and are newly initialized: ['classifier.bias', 'classifier.weight']\n",
            "You should probably TRAIN this model on a down-stream task to be able to use it for predictions and inference.\n"
          ]
        },
        {
          "output_type": "stream",
          "name": "stdout",
          "text": [
            "Epoch 1/100 - Training: hazard\n"
          ]
        },
        {
          "output_type": "stream",
          "name": "stderr",
          "text": [
            "Training Epoch 1: 100%|██████████| 286/286 [01:24<00:00,  3.38it/s, loss=3.35]\n"
          ]
        },
        {
          "output_type": "stream",
          "name": "stdout",
          "text": [
            "Average Training Loss for Epoch 1: 2.8727127117710514\n",
            "Validation Loss after Epoch 1: 2.055177252739668\n",
            "Epoch 2/100 - Training: hazard\n"
          ]
        },
        {
          "output_type": "stream",
          "name": "stderr",
          "text": [
            "Training Epoch 2: 100%|██████████| 286/286 [01:23<00:00,  3.44it/s, loss=2.47]\n"
          ]
        },
        {
          "output_type": "stream",
          "name": "stdout",
          "text": [
            "Average Training Loss for Epoch 2: 1.8492886586622759\n",
            "Validation Loss after Epoch 2: 1.7318320292979479\n",
            "Epoch 3/100 - Training: hazard\n"
          ]
        },
        {
          "output_type": "stream",
          "name": "stderr",
          "text": [
            "Training Epoch 3: 100%|██████████| 286/286 [01:23<00:00,  3.43it/s, loss=0.893]\n"
          ]
        },
        {
          "output_type": "stream",
          "name": "stdout",
          "text": [
            "Average Training Loss for Epoch 3: 1.3893939102446282\n",
            "Validation Loss after Epoch 3: 1.6055078636854887\n",
            "Epoch 4/100 - Training: hazard\n"
          ]
        },
        {
          "output_type": "stream",
          "name": "stderr",
          "text": [
            "Training Epoch 4: 100%|██████████| 286/286 [01:23<00:00,  3.44it/s, loss=0.637]\n"
          ]
        },
        {
          "output_type": "stream",
          "name": "stdout",
          "text": [
            "Average Training Loss for Epoch 4: 1.0161088964530638\n",
            "Validation Loss after Epoch 4: 1.5895892567932606\n",
            "Epoch 5/100 - Training: hazard\n"
          ]
        },
        {
          "output_type": "stream",
          "name": "stderr",
          "text": [
            "Training Epoch 5: 100%|██████████| 286/286 [01:23<00:00,  3.44it/s, loss=1.46]\n"
          ]
        },
        {
          "output_type": "stream",
          "name": "stdout",
          "text": [
            "Average Training Loss for Epoch 5: 0.7316830027587973\n",
            "Validation Loss after Epoch 5: 1.6311842147260904\n",
            "Early stopping counter: 1/6\n",
            "Epoch 6/100 - Training: hazard\n"
          ]
        },
        {
          "output_type": "stream",
          "name": "stderr",
          "text": [
            "Training Epoch 6: 100%|██████████| 286/286 [01:23<00:00,  3.44it/s, loss=0.182]\n"
          ]
        },
        {
          "output_type": "stream",
          "name": "stdout",
          "text": [
            "Average Training Loss for Epoch 6: 0.536114669528666\n",
            "Validation Loss after Epoch 6: 1.5707994624972343\n",
            "Epoch 7/100 - Training: hazard\n"
          ]
        },
        {
          "output_type": "stream",
          "name": "stderr",
          "text": [
            "Training Epoch 7: 100%|██████████| 286/286 [01:23<00:00,  3.43it/s, loss=0.457]\n"
          ]
        },
        {
          "output_type": "stream",
          "name": "stdout",
          "text": [
            "Average Training Loss for Epoch 7: 0.3821847282897134\n",
            "Validation Loss after Epoch 7: 1.660772131755948\n",
            "Early stopping counter: 1/6\n",
            "Epoch 8/100 - Training: hazard\n"
          ]
        },
        {
          "output_type": "stream",
          "name": "stderr",
          "text": [
            "Training Epoch 8: 100%|██████████| 286/286 [01:23<00:00,  3.43it/s, loss=0.364]\n"
          ]
        },
        {
          "output_type": "stream",
          "name": "stdout",
          "text": [
            "Average Training Loss for Epoch 8: 0.2686733654993293\n",
            "Validation Loss after Epoch 8: 1.6875372752547264\n",
            "Early stopping counter: 2/6\n",
            "Epoch 9/100 - Training: hazard\n"
          ]
        },
        {
          "output_type": "stream",
          "name": "stderr",
          "text": [
            "Training Epoch 9: 100%|██████████| 286/286 [01:23<00:00,  3.44it/s, loss=0.119]\n"
          ]
        },
        {
          "output_type": "stream",
          "name": "stdout",
          "text": [
            "Average Training Loss for Epoch 9: 0.18680512819478248\n",
            "Validation Loss after Epoch 9: 1.6799706406891346\n",
            "Early stopping counter: 3/6\n",
            "Epoch 10/100 - Training: hazard\n"
          ]
        },
        {
          "output_type": "stream",
          "name": "stderr",
          "text": [
            "Training Epoch 10: 100%|██████████| 286/286 [01:23<00:00,  3.43it/s, loss=0.016]\n"
          ]
        },
        {
          "output_type": "stream",
          "name": "stdout",
          "text": [
            "Average Training Loss for Epoch 10: 0.14128560437397522\n",
            "Validation Loss after Epoch 10: 1.7588777542114258\n",
            "Early stopping counter: 4/6\n",
            "Epoch 11/100 - Training: hazard\n"
          ]
        },
        {
          "output_type": "stream",
          "name": "stderr",
          "text": [
            "Training Epoch 11: 100%|██████████| 286/286 [01:23<00:00,  3.44it/s, loss=0.0189]\n"
          ]
        },
        {
          "output_type": "stream",
          "name": "stdout",
          "text": [
            "Average Training Loss for Epoch 11: 0.09252552018611582\n",
            "Validation Loss after Epoch 11: 1.7114620264619589\n",
            "Early stopping counter: 5/6\n",
            "Epoch 12/100 - Training: hazard\n"
          ]
        },
        {
          "output_type": "stream",
          "name": "stderr",
          "text": [
            "Training Epoch 12: 100%|██████████| 286/286 [01:23<00:00,  3.43it/s, loss=0.0894]\n"
          ]
        },
        {
          "output_type": "stream",
          "name": "stdout",
          "text": [
            "Average Training Loss for Epoch 12: 0.07581622189829139\n",
            "Validation Loss after Epoch 12: 1.7032967396080494\n",
            "Early stopping counter: 6/6\n",
            "Early stopping triggered.\n"
          ]
        },
        {
          "output_type": "stream",
          "name": "stderr",
          "text": [
            "<ipython-input-36-cb47ea6c2053>:92: FutureWarning: You are using `torch.load` with `weights_only=False` (the current default value), which uses the default pickle module implicitly. It is possible to construct malicious pickle data which will execute arbitrary code during unpickling (See https://github.com/pytorch/pytorch/blob/main/SECURITY.md#untrusted-models for more details). In a future release, the default value for `weights_only` will be flipped to `True`. This limits the functions that could be executed during unpickling. Arbitrary objects will no longer be allowed to be loaded via this mode unless they are explicitly allowlisted by the user via `torch.serialization.add_safe_globals`. We recommend you start setting `weights_only=True` for any use case where you don't have full control of the loaded file. Please open an issue on GitHub for any issues related to this experimental feature.\n",
            "  model.load_state_dict(torch.load(f\"best_model_{target}.pt\"))\n"
          ]
        },
        {
          "output_type": "stream",
          "name": "stdout",
          "text": [
            "Evaluating model for task: hazard\n"
          ]
        },
        {
          "output_type": "stream",
          "name": "stderr",
          "text": [
            "Evaluating: 100%|██████████| 32/32 [00:02<00:00, 11.00it/s]\n"
          ]
        },
        {
          "output_type": "stream",
          "name": "stdout",
          "text": [
            "F1-Score for hazard: 0.6359264217601279\n",
            "Classification Report for hazard:\n",
            "\n",
            "              precision    recall  f1-score   support\n",
            "\n",
            "           0       1.00      0.50      0.67         2\n",
            "           3       0.00      0.00      0.00         2\n",
            "           4       0.00      0.00      0.00         3\n",
            "           5       0.30      0.75      0.43         4\n",
            "           7       0.00      0.00      0.00         1\n",
            "          10       0.00      0.00      0.00         1\n",
            "          11       0.00      0.00      0.00         1\n",
            "          12       0.00      0.00      0.00         1\n",
            "          13       0.00      0.00      0.00         2\n",
            "          14       0.40      0.40      0.40         5\n",
            "          15       0.00      0.00      0.00         1\n",
            "          17       0.48      0.59      0.53        17\n",
            "          18       0.00      0.00      0.00         1\n",
            "          19       0.00      0.00      0.00         1\n",
            "          22       1.00      1.00      1.00         3\n",
            "          23       0.00      0.00      0.00         1\n",
            "          25       0.00      0.00      0.00         1\n",
            "          27       0.33      1.00      0.50         1\n",
            "          28       0.50      1.00      0.67         1\n",
            "          33       0.67      1.00      0.80         2\n",
            "          34       0.61      0.69      0.65        16\n",
            "          36       0.63      0.75      0.69        16\n",
            "          38       1.00      0.40      0.57         5\n",
            "          39       0.50      0.50      0.50         2\n",
            "          40       0.67      0.20      0.31        10\n",
            "          42       0.67      1.00      0.80         2\n",
            "          43       0.20      0.25      0.22         4\n",
            "          45       0.50      1.00      0.67         1\n",
            "          47       0.00      0.00      0.00         2\n",
            "          48       0.00      0.00      0.00         1\n",
            "          49       0.00      0.00      0.00         1\n",
            "          50       1.00      1.00      1.00         4\n",
            "          52       0.78      1.00      0.88         7\n",
            "          54       0.25      0.33      0.29         3\n",
            "          55       0.76      0.88      0.81        75\n",
            "          56       0.00      0.00      0.00         1\n",
            "          57       0.43      0.62      0.51        16\n",
            "          58       0.00      0.00      0.00         2\n",
            "          59       0.75      0.85      0.79        59\n",
            "          61       0.00      0.00      0.00         1\n",
            "          64       1.00      1.00      1.00         1\n",
            "          65       1.00      1.00      1.00         5\n",
            "          68       1.00      1.00      1.00         2\n",
            "          70       0.00      0.00      0.00         2\n",
            "          73       0.48      0.71      0.57        14\n",
            "          75       0.33      0.33      0.33         3\n",
            "          77       0.00      0.00      0.00         1\n",
            "          78       1.00      0.33      0.50         3\n",
            "          79       0.00      0.00      0.00         1\n",
            "          80       0.00      0.00      0.00         2\n",
            "          82       0.00      0.00      0.00         1\n",
            "          83       0.00      0.00      0.00         1\n",
            "          85       0.73      0.79      0.76        24\n",
            "          86       1.00      1.00      1.00         3\n",
            "          89       0.00      0.00      0.00         2\n",
            "          90       0.54      0.52      0.53        25\n",
            "          91       1.00      1.00      1.00         1\n",
            "          92       0.00      0.00      0.00         1\n",
            "          93       0.00      0.00      0.00         2\n",
            "          94       0.67      0.50      0.57         4\n",
            "          95       0.00      0.00      0.00         1\n",
            "          97       1.00      0.33      0.50         3\n",
            "          98       0.79      0.79      0.79        66\n",
            "          99       0.75      0.60      0.67         5\n",
            "         100       0.80      0.24      0.36        17\n",
            "         101       0.00      0.00      0.00         1\n",
            "         102       0.00      0.00      0.00         1\n",
            "         104       1.00      1.00      1.00         1\n",
            "         107       0.00      0.00      0.00         2\n",
            "         108       1.00      0.33      0.50         3\n",
            "         109       0.71      0.91      0.80        11\n",
            "         110       0.00      0.00      0.00         2\n",
            "         111       0.00      0.00      0.00         1\n",
            "         113       0.50      1.00      0.67         1\n",
            "         114       0.80      0.80      0.80         5\n",
            "         116       0.00      0.00      0.00         0\n",
            "         119       1.00      1.00      1.00         8\n",
            "         121       0.25      1.00      0.40         1\n",
            "         126       0.50      0.67      0.57         3\n",
            "\n",
            "    accuracy                           0.67       509\n",
            "   macro avg       0.40      0.41      0.38       509\n",
            "weighted avg       0.64      0.67      0.64       509\n",
            "\n",
            "\n",
            "Starting training for task: product\n"
          ]
        },
        {
          "output_type": "stream",
          "name": "stderr",
          "text": [
            "Some weights of BertForSequenceClassification were not initialized from the model checkpoint at dmis-lab/biobert-base-cased-v1.1 and are newly initialized: ['classifier.bias', 'classifier.weight']\n",
            "You should probably TRAIN this model on a down-stream task to be able to use it for predictions and inference.\n"
          ]
        },
        {
          "output_type": "stream",
          "name": "stdout",
          "text": [
            "Epoch 1/100 - Training: product\n"
          ]
        },
        {
          "output_type": "stream",
          "name": "stderr",
          "text": [
            "Training Epoch 1: 100%|██████████| 286/286 [01:24<00:00,  3.37it/s, loss=6.16]\n"
          ]
        },
        {
          "output_type": "stream",
          "name": "stdout",
          "text": [
            "Average Training Loss for Epoch 1: 6.336150942982494\n",
            "Validation Loss after Epoch 1: 5.858946770429611\n",
            "Epoch 2/100 - Training: product\n"
          ]
        },
        {
          "output_type": "stream",
          "name": "stderr",
          "text": [
            "Training Epoch 2: 100%|██████████| 286/286 [01:23<00:00,  3.44it/s, loss=5.51]\n"
          ]
        },
        {
          "output_type": "stream",
          "name": "stdout",
          "text": [
            "Average Training Loss for Epoch 2: 5.31364850230984\n",
            "Validation Loss after Epoch 2: 5.0575438886880875\n",
            "Epoch 3/100 - Training: product\n"
          ]
        },
        {
          "output_type": "stream",
          "name": "stderr",
          "text": [
            "Training Epoch 3: 100%|██████████| 286/286 [01:23<00:00,  3.43it/s, loss=5.03]\n"
          ]
        },
        {
          "output_type": "stream",
          "name": "stdout",
          "text": [
            "Average Training Loss for Epoch 3: 4.367346717761113\n",
            "Validation Loss after Epoch 3: 4.550716556608677\n",
            "Epoch 4/100 - Training: product\n"
          ]
        },
        {
          "output_type": "stream",
          "name": "stderr",
          "text": [
            "Training Epoch 4: 100%|██████████| 286/286 [01:23<00:00,  3.43it/s, loss=3.08]\n"
          ]
        },
        {
          "output_type": "stream",
          "name": "stdout",
          "text": [
            "Average Training Loss for Epoch 4: 3.591390492199184\n",
            "Validation Loss after Epoch 4: 4.177453272044659\n",
            "Epoch 5/100 - Training: product\n"
          ]
        },
        {
          "output_type": "stream",
          "name": "stderr",
          "text": [
            "Training Epoch 5: 100%|██████████| 286/286 [01:23<00:00,  3.42it/s, loss=3.96]\n"
          ]
        },
        {
          "output_type": "stream",
          "name": "stdout",
          "text": [
            "Average Training Loss for Epoch 5: 2.926560097224229\n",
            "Validation Loss after Epoch 5: 3.9132177382707596\n",
            "Epoch 6/100 - Training: product\n"
          ]
        },
        {
          "output_type": "stream",
          "name": "stderr",
          "text": [
            "Training Epoch 6: 100%|██████████| 286/286 [01:23<00:00,  3.42it/s, loss=1.44]\n"
          ]
        },
        {
          "output_type": "stream",
          "name": "stdout",
          "text": [
            "Average Training Loss for Epoch 6: 2.351120855007972\n",
            "Validation Loss after Epoch 6: 3.729815222322941\n",
            "Epoch 7/100 - Training: product\n"
          ]
        },
        {
          "output_type": "stream",
          "name": "stderr",
          "text": [
            "Training Epoch 7: 100%|██████████| 286/286 [01:23<00:00,  3.43it/s, loss=2.1]\n"
          ]
        },
        {
          "output_type": "stream",
          "name": "stdout",
          "text": [
            "Average Training Loss for Epoch 7: 1.865076778651951\n",
            "Validation Loss after Epoch 7: 3.590485967695713\n",
            "Epoch 8/100 - Training: product\n"
          ]
        },
        {
          "output_type": "stream",
          "name": "stderr",
          "text": [
            "Training Epoch 8: 100%|██████████| 286/286 [01:23<00:00,  3.42it/s, loss=1.58]\n"
          ]
        },
        {
          "output_type": "stream",
          "name": "stdout",
          "text": [
            "Average Training Loss for Epoch 8: 1.4840326442585126\n",
            "Validation Loss after Epoch 8: 3.4700793847441673\n",
            "Epoch 9/100 - Training: product\n"
          ]
        },
        {
          "output_type": "stream",
          "name": "stderr",
          "text": [
            "Training Epoch 9: 100%|██████████| 286/286 [01:23<00:00,  3.43it/s, loss=1.04]\n"
          ]
        },
        {
          "output_type": "stream",
          "name": "stdout",
          "text": [
            "Average Training Loss for Epoch 9: 1.1671310571002793\n",
            "Validation Loss after Epoch 9: 3.4302622452378273\n",
            "Epoch 10/100 - Training: product\n"
          ]
        },
        {
          "output_type": "stream",
          "name": "stderr",
          "text": [
            "Training Epoch 10: 100%|██████████| 286/286 [01:23<00:00,  3.43it/s, loss=0.812]\n"
          ]
        },
        {
          "output_type": "stream",
          "name": "stdout",
          "text": [
            "Average Training Loss for Epoch 10: 0.9232274226166985\n",
            "Validation Loss after Epoch 10: 3.3886151015758514\n",
            "Epoch 11/100 - Training: product\n"
          ]
        },
        {
          "output_type": "stream",
          "name": "stderr",
          "text": [
            "Training Epoch 11: 100%|██████████| 286/286 [01:23<00:00,  3.42it/s, loss=0.457]\n"
          ]
        },
        {
          "output_type": "stream",
          "name": "stdout",
          "text": [
            "Average Training Loss for Epoch 11: 0.7360304694075684\n",
            "Validation Loss after Epoch 11: 3.367245577275753\n",
            "Epoch 12/100 - Training: product\n"
          ]
        },
        {
          "output_type": "stream",
          "name": "stderr",
          "text": [
            "Training Epoch 12: 100%|██████████| 286/286 [01:23<00:00,  3.43it/s, loss=0.387]\n"
          ]
        },
        {
          "output_type": "stream",
          "name": "stdout",
          "text": [
            "Average Training Loss for Epoch 12: 0.5815050220572865\n",
            "Validation Loss after Epoch 12: 3.325780987739563\n",
            "Epoch 13/100 - Training: product\n"
          ]
        },
        {
          "output_type": "stream",
          "name": "stderr",
          "text": [
            "Training Epoch 13: 100%|██████████| 286/286 [01:23<00:00,  3.43it/s, loss=0.764]\n"
          ]
        },
        {
          "output_type": "stream",
          "name": "stdout",
          "text": [
            "Average Training Loss for Epoch 13: 0.47527359827206683\n",
            "Validation Loss after Epoch 13: 3.366954382508993\n",
            "Early stopping counter: 1/6\n",
            "Epoch 14/100 - Training: product\n"
          ]
        },
        {
          "output_type": "stream",
          "name": "stderr",
          "text": [
            "Training Epoch 14: 100%|██████████| 286/286 [01:23<00:00,  3.43it/s, loss=0.524]\n"
          ]
        },
        {
          "output_type": "stream",
          "name": "stdout",
          "text": [
            "Average Training Loss for Epoch 14: 0.3809935844314474\n",
            "Validation Loss after Epoch 14: 3.3358466029167175\n",
            "Early stopping counter: 2/6\n",
            "Epoch 15/100 - Training: product\n"
          ]
        },
        {
          "output_type": "stream",
          "name": "stderr",
          "text": [
            "Training Epoch 15: 100%|██████████| 286/286 [01:23<00:00,  3.42it/s, loss=0.147]\n"
          ]
        },
        {
          "output_type": "stream",
          "name": "stdout",
          "text": [
            "Average Training Loss for Epoch 15: 0.30307016265090114\n",
            "Validation Loss after Epoch 15: 3.344312012195587\n",
            "Early stopping counter: 3/6\n",
            "Epoch 16/100 - Training: product\n"
          ]
        },
        {
          "output_type": "stream",
          "name": "stderr",
          "text": [
            "Training Epoch 16: 100%|██████████| 286/286 [01:23<00:00,  3.43it/s, loss=0.229]\n"
          ]
        },
        {
          "output_type": "stream",
          "name": "stdout",
          "text": [
            "Average Training Loss for Epoch 16: 0.23932039076006495\n",
            "Validation Loss after Epoch 16: 3.364182762801647\n",
            "Early stopping counter: 4/6\n",
            "Epoch 17/100 - Training: product\n"
          ]
        },
        {
          "output_type": "stream",
          "name": "stderr",
          "text": [
            "Training Epoch 17: 100%|██████████| 286/286 [01:23<00:00,  3.43it/s, loss=0.168]\n"
          ]
        },
        {
          "output_type": "stream",
          "name": "stdout",
          "text": [
            "Average Training Loss for Epoch 17: 0.18319651020130703\n",
            "Validation Loss after Epoch 17: 3.3618218451738358\n",
            "Early stopping counter: 5/6\n",
            "Epoch 18/100 - Training: product\n"
          ]
        },
        {
          "output_type": "stream",
          "name": "stderr",
          "text": [
            "Training Epoch 18: 100%|██████████| 286/286 [01:23<00:00,  3.43it/s, loss=0.179]\n"
          ]
        },
        {
          "output_type": "stream",
          "name": "stdout",
          "text": [
            "Average Training Loss for Epoch 18: 0.1685072622633168\n",
            "Validation Loss after Epoch 18: 3.36287335306406\n",
            "Early stopping counter: 6/6\n",
            "Early stopping triggered.\n"
          ]
        },
        {
          "output_type": "stream",
          "name": "stderr",
          "text": [
            "<ipython-input-36-cb47ea6c2053>:92: FutureWarning: You are using `torch.load` with `weights_only=False` (the current default value), which uses the default pickle module implicitly. It is possible to construct malicious pickle data which will execute arbitrary code during unpickling (See https://github.com/pytorch/pytorch/blob/main/SECURITY.md#untrusted-models for more details). In a future release, the default value for `weights_only` will be flipped to `True`. This limits the functions that could be executed during unpickling. Arbitrary objects will no longer be allowed to be loaded via this mode unless they are explicitly allowlisted by the user via `torch.serialization.add_safe_globals`. We recommend you start setting `weights_only=True` for any use case where you don't have full control of the loaded file. Please open an issue on GitHub for any issues related to this experimental feature.\n",
            "  model.load_state_dict(torch.load(f\"best_model_{target}.pt\"))\n"
          ]
        },
        {
          "output_type": "stream",
          "name": "stdout",
          "text": [
            "Evaluating model for task: product\n"
          ]
        },
        {
          "output_type": "stream",
          "name": "stderr",
          "text": [
            "Evaluating: 100%|██████████| 32/32 [00:02<00:00, 11.02it/s]"
          ]
        },
        {
          "output_type": "stream",
          "name": "stdout",
          "text": [
            "F1-Score for product: 0.4678291770016206\n",
            "Classification Report for product:\n",
            "\n",
            "              precision    recall  f1-score   support\n",
            "\n",
            "           0       1.00      0.67      0.80         3\n",
            "           2       1.00      0.60      0.75         5\n",
            "           4       0.00      0.00      0.00         1\n",
            "           6       0.00      0.00      0.00         1\n",
            "           8       0.00      0.00      0.00         0\n",
            "          10       0.00      0.00      0.00         1\n",
            "          13       0.75      1.00      0.86         3\n",
            "          19       1.00      1.00      1.00         2\n",
            "          20       0.50      1.00      0.67         1\n",
            "          22       1.00      1.00      1.00         1\n",
            "          24       0.00      0.00      0.00         1\n",
            "          27       0.00      0.00      0.00         1\n",
            "          28       0.00      0.00      0.00         0\n",
            "          30       0.00      0.00      0.00         0\n",
            "          31       0.00      0.00      0.00         1\n",
            "          35       0.00      0.00      0.00         1\n",
            "          38       1.00      1.00      1.00         2\n",
            "          41       0.00      0.00      0.00         1\n",
            "          42       0.00      0.00      0.00         1\n",
            "          45       0.00      0.00      0.00         1\n",
            "          46       0.00      0.00      0.00         0\n",
            "          49       0.50      1.00      0.67         1\n",
            "          51       0.50      1.00      0.67         1\n",
            "          55       0.00      0.00      0.00         1\n",
            "          58       0.33      0.33      0.33         3\n",
            "          61       0.50      0.50      0.50         2\n",
            "          62       0.00      0.00      0.00         1\n",
            "          67       0.33      1.00      0.50         1\n",
            "          69       0.00      0.00      0.00         0\n",
            "          73       0.00      0.00      0.00         2\n",
            "          74       1.00      1.00      1.00         1\n",
            "          76       0.00      0.00      0.00         0\n",
            "          80       0.00      0.00      0.00         0\n",
            "          84       0.00      0.00      0.00         1\n",
            "          87       0.00      0.00      0.00         2\n",
            "          88       0.00      0.00      0.00         0\n",
            "          91       0.00      0.00      0.00         1\n",
            "          92       0.00      0.00      0.00         2\n",
            "          93       0.00      0.00      0.00         2\n",
            "         102       0.00      0.00      0.00         0\n",
            "         108       0.00      0.00      0.00         0\n",
            "         111       0.00      0.00      0.00         1\n",
            "         117       0.78      0.78      0.78         9\n",
            "         119       0.40      0.67      0.50         3\n",
            "         122       0.00      0.00      0.00         1\n",
            "         127       0.00      0.00      0.00         1\n",
            "         128       0.00      0.00      0.00         1\n",
            "         130       0.00      0.00      0.00         0\n",
            "         135       0.00      0.00      0.00         1\n",
            "         138       0.50      1.00      0.67         1\n",
            "         141       0.00      0.00      0.00         1\n",
            "         142       0.00      0.00      0.00         0\n",
            "         143       0.00      0.00      0.00         1\n",
            "         149       0.00      0.00      0.00         0\n",
            "         150       0.40      0.57      0.47         7\n",
            "         154       0.00      0.00      0.00         1\n",
            "         157       0.00      0.00      0.00         1\n",
            "         164       1.00      1.00      1.00         2\n",
            "         165       0.00      0.00      0.00         3\n",
            "         167       0.45      0.45      0.45        11\n",
            "         168       0.00      0.00      0.00         0\n",
            "         169       0.00      0.00      0.00         1\n",
            "         170       0.00      0.00      0.00         1\n",
            "         173       0.00      0.00      0.00         1\n",
            "         174       0.00      0.00      0.00         0\n",
            "         177       0.14      0.33      0.20         3\n",
            "         186       0.00      0.00      0.00         1\n",
            "         196       0.00      0.00      0.00         4\n",
            "         201       0.00      0.00      0.00         1\n",
            "         203       0.00      0.00      0.00         0\n",
            "         207       1.00      0.33      0.50         6\n",
            "         209       0.00      0.00      0.00         2\n",
            "         210       0.00      0.00      0.00         1\n",
            "         212       0.67      0.50      0.57         4\n",
            "         213       0.00      0.00      0.00         0\n",
            "         214       0.00      0.00      0.00         0\n",
            "         219       1.00      1.00      1.00         2\n",
            "         224       0.40      0.67      0.50         3\n",
            "         226       0.00      0.00      0.00         1\n",
            "         229       1.00      1.00      1.00         1\n",
            "         230       0.00      0.00      0.00         0\n",
            "         231       1.00      0.67      0.80         3\n",
            "         240       0.50      1.00      0.67         1\n",
            "         241       0.00      0.00      0.00         1\n",
            "         245       0.67      1.00      0.80         2\n",
            "         248       0.00      0.00      0.00         1\n",
            "         252       0.00      0.00      0.00         0\n",
            "         255       0.25      1.00      0.40         1\n",
            "         260       0.57      0.80      0.67         5\n",
            "         261       0.00      0.00      0.00         0\n",
            "         262       0.00      0.00      0.00         0\n",
            "         263       0.50      0.67      0.57         3\n",
            "         264       0.00      0.00      0.00         1\n",
            "         267       0.00      0.00      0.00         1\n",
            "         268       0.00      0.00      0.00         1\n",
            "         273       0.00      0.00      0.00         1\n",
            "         278       0.00      0.00      0.00         1\n",
            "         279       1.00      1.00      1.00         1\n",
            "         284       0.00      0.00      0.00         1\n",
            "         285       0.00      0.00      0.00         0\n",
            "         286       0.00      0.00      0.00         1\n",
            "         295       0.60      1.00      0.75         3\n",
            "         296       1.00      1.00      1.00         1\n",
            "         298       1.00      0.50      0.67         2\n",
            "         301       0.25      0.50      0.33         2\n",
            "         302       0.00      0.00      0.00         1\n",
            "         303       0.33      0.50      0.40         2\n",
            "         304       0.00      0.00      0.00         1\n",
            "         305       0.00      0.00      0.00         1\n",
            "         309       0.00      0.00      0.00         1\n",
            "         310       0.00      0.00      0.00         1\n",
            "         311       1.00      1.00      1.00         3\n",
            "         313       1.00      1.00      1.00         6\n",
            "         316       1.00      1.00      1.00         1\n",
            "         317       0.00      0.00      0.00         1\n",
            "         319       1.00      1.00      1.00         1\n",
            "         338       0.00      0.00      0.00         1\n",
            "         339       0.50      1.00      0.67         1\n",
            "         340       0.00      0.00      0.00         1\n",
            "         341       0.00      0.00      0.00         0\n",
            "         346       0.80      1.00      0.89         4\n",
            "         347       0.00      0.00      0.00         1\n",
            "         349       0.00      0.00      0.00         0\n",
            "         350       0.00      0.00      0.00         0\n",
            "         353       0.00      0.00      0.00         2\n",
            "         354       1.00      1.00      1.00         1\n",
            "         361       0.00      0.00      0.00         0\n",
            "         367       0.00      0.00      0.00         1\n",
            "         368       0.00      0.00      0.00         1\n",
            "         372       1.00      0.50      0.67         2\n",
            "         373       0.00      0.00      0.00         1\n",
            "         374       0.00      0.00      0.00         0\n",
            "         378       0.00      0.00      0.00         1\n",
            "         381       0.00      0.00      0.00         0\n",
            "         386       0.33      1.00      0.50         1\n",
            "         387       0.00      0.00      0.00         1\n",
            "         393       0.00      0.00      0.00         1\n",
            "         394       0.00      0.00      0.00         1\n",
            "         396       0.00      0.00      0.00         2\n",
            "         397       0.00      0.00      0.00         0\n",
            "         404       0.00      0.00      0.00         1\n",
            "         405       0.00      0.00      0.00         1\n",
            "         406       0.00      0.00      0.00         1\n",
            "         407       0.00      0.00      0.00         1\n",
            "         415       0.00      0.00      0.00         0\n",
            "         419       0.00      0.00      0.00         1\n",
            "         427       0.00      0.00      0.00         0\n",
            "         428       0.00      0.00      0.00         1\n",
            "         430       1.00      0.50      0.67         2\n",
            "         438       0.00      0.00      0.00         1\n",
            "         439       0.00      0.00      0.00         1\n",
            "         442       0.00      0.00      0.00         1\n",
            "         453       0.00      0.00      0.00         1\n",
            "         455       0.00      0.00      0.00         1\n",
            "         458       0.00      0.00      0.00         2\n",
            "         460       0.00      0.00      0.00         0\n",
            "         461       0.00      0.00      0.00         0\n",
            "         462       1.00      1.00      1.00         1\n",
            "         463       0.00      0.00      0.00         0\n",
            "         466       0.00      0.00      0.00         0\n",
            "         468       0.00      0.00      0.00         1\n",
            "         476       1.00      1.00      1.00         1\n",
            "         485       0.00      0.00      0.00         1\n",
            "         486       1.00      1.00      1.00         1\n",
            "         492       0.50      1.00      0.67         1\n",
            "         494       0.00      0.00      0.00         0\n",
            "         500       0.00      0.00      0.00         1\n",
            "         501       0.00      0.00      0.00         1\n",
            "         502       0.38      0.83      0.53         6\n",
            "         503       0.00      0.00      0.00         1\n",
            "         504       0.00      0.00      0.00         1\n",
            "         508       1.00      1.00      1.00         1\n",
            "         509       0.00      0.00      0.00         1\n",
            "         510       0.50      0.50      0.50         2\n",
            "         512       0.00      0.00      0.00         0\n",
            "         520       1.00      0.33      0.50         3\n",
            "         524       1.00      1.00      1.00         1\n",
            "         530       1.00      0.97      0.98        31\n",
            "         535       1.00      1.00      1.00         2\n",
            "         536       0.00      0.00      0.00         1\n",
            "         537       0.00      0.00      0.00         1\n",
            "         539       0.00      0.00      0.00         0\n",
            "         540       0.67      0.67      0.67         3\n",
            "         541       1.00      1.00      1.00         3\n",
            "         543       0.00      0.00      0.00         0\n",
            "         544       0.00      0.00      0.00         0\n",
            "         545       1.00      1.00      1.00         1\n",
            "         548       1.00      1.00      1.00         1\n",
            "         550       0.00      0.00      0.00         1\n",
            "         554       1.00      1.00      1.00         1\n",
            "         557       1.00      1.00      1.00         1\n",
            "         558       0.00      0.00      0.00         1\n",
            "         566       0.00      0.00      0.00         1\n",
            "         567       0.00      0.00      0.00         0\n",
            "         568       1.00      1.00      1.00         1\n",
            "         569       1.00      0.50      0.67         2\n",
            "         571       0.00      0.00      0.00         1\n",
            "         573       0.00      0.00      0.00         1\n",
            "         575       0.00      0.00      0.00         1\n",
            "         576       0.25      1.00      0.40         1\n",
            "         577       0.00      0.00      0.00         0\n",
            "         578       0.00      0.00      0.00         1\n",
            "         580       0.00      0.00      0.00         1\n",
            "         582       0.00      0.00      0.00         1\n",
            "         583       0.00      0.00      0.00         1\n",
            "         588       0.00      0.00      0.00         1\n",
            "         591       0.40      1.00      0.57         2\n",
            "         593       1.00      1.00      1.00         2\n",
            "         594       0.00      0.00      0.00         1\n",
            "         596       0.00      0.00      0.00         0\n",
            "         597       0.00      0.00      0.00         1\n",
            "         601       0.00      0.00      0.00         1\n",
            "         608       0.75      1.00      0.86         3\n",
            "         609       0.00      0.00      0.00         1\n",
            "         613       0.00      0.00      0.00         1\n",
            "         614       0.00      0.00      0.00         1\n",
            "         616       1.00      1.00      1.00         1\n",
            "         617       0.75      1.00      0.86         3\n",
            "         621       0.00      0.00      0.00         1\n",
            "         622       0.00      0.00      0.00         0\n",
            "         623       1.00      1.00      1.00         1\n",
            "         627       0.00      0.00      0.00         1\n",
            "         628       0.00      0.00      0.00         1\n",
            "         631       0.00      0.00      0.00         1\n",
            "         638       0.00      0.00      0.00         1\n",
            "         641       0.00      0.00      0.00         1\n",
            "         647       1.00      1.00      1.00         1\n",
            "         648       1.00      1.00      1.00         2\n",
            "         649       0.60      1.00      0.75         3\n",
            "         652       0.00      0.00      0.00         1\n",
            "         653       0.00      0.00      0.00         1\n",
            "         654       0.00      0.00      0.00         1\n",
            "         662       0.00      0.00      0.00         2\n",
            "         665       0.25      0.67      0.36         3\n",
            "         666       0.50      0.50      0.50         2\n",
            "         667       0.00      0.00      0.00         1\n",
            "         669       1.00      1.00      1.00         3\n",
            "         670       1.00      1.00      1.00         1\n",
            "         672       1.00      0.50      0.67         2\n",
            "         677       0.00      0.00      0.00         0\n",
            "         680       0.00      0.00      0.00         0\n",
            "         685       0.00      0.00      0.00         1\n",
            "         686       0.33      0.50      0.40         2\n",
            "         690       1.00      0.86      0.92         7\n",
            "         691       0.00      0.00      0.00         1\n",
            "         698       0.00      0.00      0.00         1\n",
            "         700       0.75      1.00      0.86         3\n",
            "         706       1.00      1.00      1.00         1\n",
            "         707       0.00      0.00      0.00         1\n",
            "         709       0.25      1.00      0.40         1\n",
            "         710       0.00      0.00      0.00         1\n",
            "         711       1.00      1.00      1.00         5\n",
            "         712       0.50      1.00      0.67         1\n",
            "         713       1.00      1.00      1.00         1\n",
            "         714       0.00      0.00      0.00         1\n",
            "         717       0.00      0.00      0.00         0\n",
            "         726       0.00      0.00      0.00         1\n",
            "         728       0.67      1.00      0.80         2\n",
            "         731       1.00      0.50      0.67         2\n",
            "         734       0.67      1.00      0.80         2\n",
            "         742       0.67      1.00      0.80         2\n",
            "         743       0.00      0.00      0.00         0\n",
            "         744       0.00      0.00      0.00         0\n",
            "         748       0.00      0.00      0.00         0\n",
            "         749       0.00      0.00      0.00         3\n",
            "         755       0.00      0.00      0.00         1\n",
            "         756       0.00      0.00      0.00         1\n",
            "         758       0.00      0.00      0.00         1\n",
            "         759       0.00      0.00      0.00         1\n",
            "         761       0.00      0.00      0.00         0\n",
            "         762       0.00      0.00      0.00         1\n",
            "         764       1.00      1.00      1.00         1\n",
            "         770       1.00      1.00      1.00         2\n",
            "         772       0.00      0.00      0.00         1\n",
            "         774       0.00      0.00      0.00         1\n",
            "         775       1.00      1.00      1.00         1\n",
            "         776       1.00      0.33      0.50         3\n",
            "         778       0.00      0.00      0.00         1\n",
            "         781       0.00      0.00      0.00         1\n",
            "         782       0.08      0.10      0.09        10\n",
            "         786       0.00      0.00      0.00         1\n",
            "         788       0.00      0.00      0.00         1\n",
            "         789       0.00      0.00      0.00         1\n",
            "         796       0.00      0.00      0.00         1\n",
            "         798       0.00      0.00      0.00         0\n",
            "         809       0.00      0.00      0.00         1\n",
            "         810       0.50      0.67      0.57         6\n",
            "         811       1.00      0.50      0.67         2\n",
            "         814       0.75      0.75      0.75         4\n",
            "         815       0.00      0.00      0.00         1\n",
            "         816       0.00      0.00      0.00         0\n",
            "         820       0.83      0.83      0.83         6\n",
            "         822       0.00      0.00      0.00         1\n",
            "         825       0.25      0.20      0.22         5\n",
            "         826       0.00      0.00      0.00         0\n",
            "         829       0.00      0.00      0.00         1\n",
            "         831       0.00      0.00      0.00         0\n",
            "         832       0.00      0.00      0.00         1\n",
            "         833       0.33      1.00      0.50         1\n",
            "         835       0.00      0.00      0.00         1\n",
            "         837       0.00      0.00      0.00         1\n",
            "         846       0.00      0.00      0.00         0\n",
            "         847       0.00      0.00      0.00         0\n",
            "         848       0.00      0.00      0.00         1\n",
            "         849       0.50      1.00      0.67         1\n",
            "         854       0.67      1.00      0.80         2\n",
            "         858       0.00      0.00      0.00         1\n",
            "         860       1.00      1.00      1.00         1\n",
            "         861       0.50      0.25      0.33         4\n",
            "         863       0.00      0.00      0.00         2\n",
            "         870       0.50      1.00      0.67         3\n",
            "         873       0.00      0.00      0.00         1\n",
            "         885       0.00      0.00      0.00         0\n",
            "         887       0.00      0.00      0.00         1\n",
            "         892       0.00      0.00      0.00         0\n",
            "         894       0.00      0.00      0.00         0\n",
            "         895       1.00      1.00      1.00         1\n",
            "         898       1.00      1.00      1.00         2\n",
            "         899       0.00      0.00      0.00         1\n",
            "         903       0.00      0.00      0.00         0\n",
            "         908       1.00      1.00      1.00         1\n",
            "         912       0.67      0.80      0.73         5\n",
            "         916       0.00      0.00      0.00         1\n",
            "         921       0.00      0.00      0.00         1\n",
            "         922       0.75      0.60      0.67         5\n",
            "         923       0.00      0.00      0.00         1\n",
            "         928       0.00      0.00      0.00         0\n",
            "         929       0.00      0.00      0.00         1\n",
            "         930       0.00      0.00      0.00         1\n",
            "         932       0.33      0.50      0.40         2\n",
            "         933       0.40      1.00      0.57         2\n",
            "         945       0.00      0.00      0.00         0\n",
            "         946       1.00      1.00      1.00         3\n",
            "         950       0.00      0.00      0.00         1\n",
            "         951       0.00      0.00      0.00         2\n",
            "         952       0.00      0.00      0.00         0\n",
            "         955       0.00      0.00      0.00         1\n",
            "         964       0.00      0.00      0.00         1\n",
            "         971       0.00      0.00      0.00         1\n",
            "         973       0.00      0.00      0.00         0\n",
            "         982       0.00      0.00      0.00         1\n",
            "         992       0.00      0.00      0.00         1\n",
            "         998       1.00      1.00      1.00         2\n",
            "         999       1.00      1.00      1.00         1\n",
            "        1007       0.50      1.00      0.67         1\n",
            "        1013       0.00      0.00      0.00         1\n",
            "        1017       1.00      1.00      1.00         1\n",
            "        1018       0.00      0.00      0.00         2\n",
            "        1020       0.67      0.67      0.67         3\n",
            "\n",
            "    accuracy                           0.50       509\n",
            "   macro avg       0.26      0.29      0.27       509\n",
            "weighted avg       0.47      0.50      0.47       509\n",
            "\n"
          ]
        },
        {
          "output_type": "stream",
          "name": "stderr",
          "text": [
            "\n"
          ]
        }
      ],
      "source": [
        "# Train and evaluate for both title and text\n",
        "print(\"\\nTraining and Evaluating for Title Tasks:\")\n",
        "title_f1_scores = train_and_evaluate_nn(title_splits, subtask1 + subtask2, model_type='title')"
      ]
    },
    {
      "cell_type": "code",
      "execution_count": 38,
      "metadata": {
        "colab": {
          "base_uri": "https://localhost:8080/"
        },
        "id": "OsSoAzzgOyct",
        "outputId": "ede79e68-c0d3-4dfd-8cc3-74b7980e8aa8"
      },
      "outputs": [
        {
          "output_type": "stream",
          "name": "stdout",
          "text": [
            "\n",
            "Training and Evaluating for Text Tasks:\n",
            "\n",
            "Starting training for task: hazard-category\n"
          ]
        },
        {
          "output_type": "stream",
          "name": "stderr",
          "text": [
            "Some weights of BertForSequenceClassification were not initialized from the model checkpoint at dmis-lab/biobert-base-cased-v1.1 and are newly initialized: ['classifier.bias', 'classifier.weight']\n",
            "You should probably TRAIN this model on a down-stream task to be able to use it for predictions and inference.\n"
          ]
        },
        {
          "output_type": "stream",
          "name": "stdout",
          "text": [
            "Epoch 1/100 - Training: hazard-category\n"
          ]
        },
        {
          "output_type": "stream",
          "name": "stderr",
          "text": [
            "Training Epoch 1: 100%|██████████| 286/286 [01:36<00:00,  2.97it/s, loss=0.599]\n"
          ]
        },
        {
          "output_type": "stream",
          "name": "stdout",
          "text": [
            "Average Training Loss for Epoch 1: 0.6290615882880829\n",
            "Validation Loss after Epoch 1: 0.3245128197595477\n",
            "Epoch 2/100 - Training: hazard-category\n"
          ]
        },
        {
          "output_type": "stream",
          "name": "stderr",
          "text": [
            "Training Epoch 2: 100%|██████████| 286/286 [01:35<00:00,  3.00it/s, loss=0.186]\n"
          ]
        },
        {
          "output_type": "stream",
          "name": "stdout",
          "text": [
            "Average Training Loss for Epoch 2: 0.25798709008035126\n",
            "Validation Loss after Epoch 2: 0.2419404195388779\n",
            "Epoch 3/100 - Training: hazard-category\n"
          ]
        },
        {
          "output_type": "stream",
          "name": "stderr",
          "text": [
            "Training Epoch 3: 100%|██████████| 286/286 [01:35<00:00,  3.00it/s, loss=0.0574]\n"
          ]
        },
        {
          "output_type": "stream",
          "name": "stdout",
          "text": [
            "Average Training Loss for Epoch 3: 0.17730917175092012\n",
            "Validation Loss after Epoch 3: 0.22245623762137257\n",
            "Epoch 4/100 - Training: hazard-category\n"
          ]
        },
        {
          "output_type": "stream",
          "name": "stderr",
          "text": [
            "Training Epoch 4: 100%|██████████| 286/286 [01:35<00:00,  3.00it/s, loss=0.0288]\n"
          ]
        },
        {
          "output_type": "stream",
          "name": "stdout",
          "text": [
            "Average Training Loss for Epoch 4: 0.13641293596645648\n",
            "Validation Loss after Epoch 4: 0.21702212584204972\n",
            "Epoch 5/100 - Training: hazard-category\n"
          ]
        },
        {
          "output_type": "stream",
          "name": "stderr",
          "text": [
            "Training Epoch 5: 100%|██████████| 286/286 [01:35<00:00,  3.00it/s, loss=0.0429]\n"
          ]
        },
        {
          "output_type": "stream",
          "name": "stdout",
          "text": [
            "Average Training Loss for Epoch 5: 0.1009764209734862\n",
            "Validation Loss after Epoch 5: 0.23921011027414352\n",
            "Early stopping counter: 1/6\n",
            "Epoch 6/100 - Training: hazard-category\n"
          ]
        },
        {
          "output_type": "stream",
          "name": "stderr",
          "text": [
            "Training Epoch 6: 100%|██████████| 286/286 [01:34<00:00,  3.01it/s, loss=0.0262]\n"
          ]
        },
        {
          "output_type": "stream",
          "name": "stdout",
          "text": [
            "Average Training Loss for Epoch 6: 0.10650748891554043\n",
            "Validation Loss after Epoch 6: 0.2276633754663635\n",
            "Early stopping counter: 2/6\n",
            "Epoch 7/100 - Training: hazard-category\n"
          ]
        },
        {
          "output_type": "stream",
          "name": "stderr",
          "text": [
            "Training Epoch 7: 100%|██████████| 286/286 [01:35<00:00,  3.01it/s, loss=0.13]\n"
          ]
        },
        {
          "output_type": "stream",
          "name": "stdout",
          "text": [
            "Average Training Loss for Epoch 7: 0.11438136742453553\n",
            "Validation Loss after Epoch 7: 0.22027365372923668\n",
            "Early stopping counter: 3/6\n",
            "Epoch 8/100 - Training: hazard-category\n"
          ]
        },
        {
          "output_type": "stream",
          "name": "stderr",
          "text": [
            "Training Epoch 8: 100%|██████████| 286/286 [01:35<00:00,  3.01it/s, loss=0.0308]\n"
          ]
        },
        {
          "output_type": "stream",
          "name": "stdout",
          "text": [
            "Average Training Loss for Epoch 8: 0.08077404431923833\n",
            "Validation Loss after Epoch 8: 0.21204899798613042\n",
            "Epoch 9/100 - Training: hazard-category\n"
          ]
        },
        {
          "output_type": "stream",
          "name": "stderr",
          "text": [
            "Training Epoch 9: 100%|██████████| 286/286 [01:34<00:00,  3.01it/s, loss=0.00206]\n"
          ]
        },
        {
          "output_type": "stream",
          "name": "stdout",
          "text": [
            "Average Training Loss for Epoch 9: 0.047193714117523856\n",
            "Validation Loss after Epoch 9: 0.26783676442937576\n",
            "Early stopping counter: 1/6\n",
            "Epoch 10/100 - Training: hazard-category\n"
          ]
        },
        {
          "output_type": "stream",
          "name": "stderr",
          "text": [
            "Training Epoch 10: 100%|██████████| 286/286 [01:34<00:00,  3.02it/s, loss=0.00276]\n"
          ]
        },
        {
          "output_type": "stream",
          "name": "stdout",
          "text": [
            "Average Training Loss for Epoch 10: 0.03686159319741736\n",
            "Validation Loss after Epoch 10: 0.2671974256809335\n",
            "Early stopping counter: 2/6\n",
            "Epoch 11/100 - Training: hazard-category\n"
          ]
        },
        {
          "output_type": "stream",
          "name": "stderr",
          "text": [
            "Training Epoch 11: 100%|██████████| 286/286 [01:35<00:00,  3.01it/s, loss=0.00962]\n"
          ]
        },
        {
          "output_type": "stream",
          "name": "stdout",
          "text": [
            "Average Training Loss for Epoch 11: 0.03482082267548283\n",
            "Validation Loss after Epoch 11: 0.2514030852835276\n",
            "Early stopping counter: 3/6\n",
            "Epoch 12/100 - Training: hazard-category\n"
          ]
        },
        {
          "output_type": "stream",
          "name": "stderr",
          "text": [
            "Training Epoch 12: 100%|██████████| 286/286 [01:35<00:00,  3.00it/s, loss=0.00362]\n"
          ]
        },
        {
          "output_type": "stream",
          "name": "stdout",
          "text": [
            "Average Training Loss for Epoch 12: 0.038772959444693035\n",
            "Validation Loss after Epoch 12: 0.2742101990879746\n",
            "Early stopping counter: 4/6\n",
            "Epoch 13/100 - Training: hazard-category\n"
          ]
        },
        {
          "output_type": "stream",
          "name": "stderr",
          "text": [
            "Training Epoch 13: 100%|██████████| 286/286 [01:35<00:00,  3.00it/s, loss=0.00635]\n"
          ]
        },
        {
          "output_type": "stream",
          "name": "stdout",
          "text": [
            "Average Training Loss for Epoch 13: 0.01418877428542445\n",
            "Validation Loss after Epoch 13: 0.2723349534862791\n",
            "Early stopping counter: 5/6\n",
            "Epoch 14/100 - Training: hazard-category\n"
          ]
        },
        {
          "output_type": "stream",
          "name": "stderr",
          "text": [
            "Training Epoch 14: 100%|██████████| 286/286 [01:35<00:00,  3.01it/s, loss=0.00191]\n"
          ]
        },
        {
          "output_type": "stream",
          "name": "stdout",
          "text": [
            "Average Training Loss for Epoch 14: 0.01009624600703535\n",
            "Validation Loss after Epoch 14: 0.27530865275184624\n",
            "Early stopping counter: 6/6\n",
            "Early stopping triggered.\n"
          ]
        },
        {
          "output_type": "stream",
          "name": "stderr",
          "text": [
            "<ipython-input-36-cb47ea6c2053>:92: FutureWarning: You are using `torch.load` with `weights_only=False` (the current default value), which uses the default pickle module implicitly. It is possible to construct malicious pickle data which will execute arbitrary code during unpickling (See https://github.com/pytorch/pytorch/blob/main/SECURITY.md#untrusted-models for more details). In a future release, the default value for `weights_only` will be flipped to `True`. This limits the functions that could be executed during unpickling. Arbitrary objects will no longer be allowed to be loaded via this mode unless they are explicitly allowlisted by the user via `torch.serialization.add_safe_globals`. We recommend you start setting `weights_only=True` for any use case where you don't have full control of the loaded file. Please open an issue on GitHub for any issues related to this experimental feature.\n",
            "  model.load_state_dict(torch.load(f\"best_model_{target}.pt\"))\n"
          ]
        },
        {
          "output_type": "stream",
          "name": "stdout",
          "text": [
            "Evaluating model for task: hazard-category\n"
          ]
        },
        {
          "output_type": "stream",
          "name": "stderr",
          "text": [
            "Evaluating: 100%|██████████| 32/32 [00:03<00:00,  9.06it/s]\n"
          ]
        },
        {
          "output_type": "stream",
          "name": "stdout",
          "text": [
            "F1-Score for hazard-category: 0.9417192745216745\n",
            "Classification Report for hazard-category:\n",
            "\n",
            "              precision    recall  f1-score   support\n",
            "\n",
            "           0       0.96      0.96      0.96       188\n",
            "           1       0.98      0.99      0.99       171\n",
            "           2       0.92      1.00      0.96        35\n",
            "           3       0.50      0.20      0.29         5\n",
            "           4       0.98      1.00      0.99        58\n",
            "           5       0.69      0.79      0.73        28\n",
            "           6       0.00      0.00      0.00         1\n",
            "           7       0.60      1.00      0.75         3\n",
            "           8       0.90      0.60      0.72        15\n",
            "           9       1.00      0.60      0.75         5\n",
            "\n",
            "    accuracy                           0.94       509\n",
            "   macro avg       0.75      0.71      0.71       509\n",
            "weighted avg       0.94      0.94      0.94       509\n",
            "\n",
            "\n",
            "Starting training for task: product-category\n"
          ]
        },
        {
          "output_type": "stream",
          "name": "stderr",
          "text": [
            "Some weights of BertForSequenceClassification were not initialized from the model checkpoint at dmis-lab/biobert-base-cased-v1.1 and are newly initialized: ['classifier.bias', 'classifier.weight']\n",
            "You should probably TRAIN this model on a down-stream task to be able to use it for predictions and inference.\n"
          ]
        },
        {
          "output_type": "stream",
          "name": "stdout",
          "text": [
            "Epoch 1/100 - Training: product-category\n"
          ]
        },
        {
          "output_type": "stream",
          "name": "stderr",
          "text": [
            "Training Epoch 1: 100%|██████████| 286/286 [01:36<00:00,  2.98it/s, loss=2.05]\n"
          ]
        },
        {
          "output_type": "stream",
          "name": "stdout",
          "text": [
            "Average Training Loss for Epoch 1: 2.165630628595819\n",
            "Validation Loss after Epoch 1: 1.860517218708992\n",
            "Epoch 2/100 - Training: product-category\n"
          ]
        },
        {
          "output_type": "stream",
          "name": "stderr",
          "text": [
            "Training Epoch 2: 100%|██████████| 286/286 [01:34<00:00,  3.02it/s, loss=1.15]\n"
          ]
        },
        {
          "output_type": "stream",
          "name": "stdout",
          "text": [
            "Average Training Loss for Epoch 2: 1.3998593020064014\n",
            "Validation Loss after Epoch 2: 1.3338965829461813\n",
            "Epoch 3/100 - Training: product-category\n"
          ]
        },
        {
          "output_type": "stream",
          "name": "stderr",
          "text": [
            "Training Epoch 3: 100%|██████████| 286/286 [01:34<00:00,  3.01it/s, loss=1.86]\n"
          ]
        },
        {
          "output_type": "stream",
          "name": "stdout",
          "text": [
            "Average Training Loss for Epoch 3: 0.9339450276814975\n",
            "Validation Loss after Epoch 3: 1.0170307783409953\n",
            "Epoch 4/100 - Training: product-category\n"
          ]
        },
        {
          "output_type": "stream",
          "name": "stderr",
          "text": [
            "Training Epoch 4: 100%|██████████| 286/286 [01:34<00:00,  3.01it/s, loss=0.266]\n"
          ]
        },
        {
          "output_type": "stream",
          "name": "stdout",
          "text": [
            "Average Training Loss for Epoch 4: 0.626533744505027\n",
            "Validation Loss after Epoch 4: 0.9829536005854607\n",
            "Epoch 5/100 - Training: product-category\n"
          ]
        },
        {
          "output_type": "stream",
          "name": "stderr",
          "text": [
            "Training Epoch 5: 100%|██████████| 286/286 [01:34<00:00,  3.01it/s, loss=1.5]\n"
          ]
        },
        {
          "output_type": "stream",
          "name": "stdout",
          "text": [
            "Average Training Loss for Epoch 5: 0.43524510621816126\n",
            "Validation Loss after Epoch 5: 1.05213917279616\n",
            "Early stopping counter: 1/6\n",
            "Epoch 6/100 - Training: product-category\n"
          ]
        },
        {
          "output_type": "stream",
          "name": "stderr",
          "text": [
            "Training Epoch 6: 100%|██████████| 286/286 [01:34<00:00,  3.01it/s, loss=0.184]\n"
          ]
        },
        {
          "output_type": "stream",
          "name": "stdout",
          "text": [
            "Average Training Loss for Epoch 6: 0.30570460863124865\n",
            "Validation Loss after Epoch 6: 1.21366445440799\n",
            "Early stopping counter: 2/6\n",
            "Epoch 7/100 - Training: product-category\n"
          ]
        },
        {
          "output_type": "stream",
          "name": "stderr",
          "text": [
            "Training Epoch 7: 100%|██████████| 286/286 [01:34<00:00,  3.01it/s, loss=0.243]\n"
          ]
        },
        {
          "output_type": "stream",
          "name": "stdout",
          "text": [
            "Average Training Loss for Epoch 7: 0.21236594111521864\n",
            "Validation Loss after Epoch 7: 1.2107336707413197\n",
            "Early stopping counter: 3/6\n",
            "Epoch 8/100 - Training: product-category\n"
          ]
        },
        {
          "output_type": "stream",
          "name": "stderr",
          "text": [
            "Training Epoch 8: 100%|██████████| 286/286 [01:34<00:00,  3.01it/s, loss=0.0126]\n"
          ]
        },
        {
          "output_type": "stream",
          "name": "stdout",
          "text": [
            "Average Training Loss for Epoch 8: 0.14322448491568227\n",
            "Validation Loss after Epoch 8: 1.3553482294082642\n",
            "Early stopping counter: 4/6\n",
            "Epoch 9/100 - Training: product-category\n"
          ]
        },
        {
          "output_type": "stream",
          "name": "stderr",
          "text": [
            "Training Epoch 9: 100%|██████████| 286/286 [01:34<00:00,  3.01it/s, loss=0.00882]\n"
          ]
        },
        {
          "output_type": "stream",
          "name": "stdout",
          "text": [
            "Average Training Loss for Epoch 9: 0.09298340198779283\n",
            "Validation Loss after Epoch 9: 1.2641982247587293\n",
            "Early stopping counter: 5/6\n",
            "Epoch 10/100 - Training: product-category\n"
          ]
        },
        {
          "output_type": "stream",
          "name": "stderr",
          "text": [
            "Training Epoch 10: 100%|██████████| 286/286 [01:35<00:00,  3.01it/s, loss=0.0219]\n"
          ]
        },
        {
          "output_type": "stream",
          "name": "stdout",
          "text": [
            "Average Training Loss for Epoch 10: 0.06074646849452251\n",
            "Validation Loss after Epoch 10: 1.2643121511209756\n",
            "Early stopping counter: 6/6\n",
            "Early stopping triggered.\n"
          ]
        },
        {
          "output_type": "stream",
          "name": "stderr",
          "text": [
            "<ipython-input-36-cb47ea6c2053>:92: FutureWarning: You are using `torch.load` with `weights_only=False` (the current default value), which uses the default pickle module implicitly. It is possible to construct malicious pickle data which will execute arbitrary code during unpickling (See https://github.com/pytorch/pytorch/blob/main/SECURITY.md#untrusted-models for more details). In a future release, the default value for `weights_only` will be flipped to `True`. This limits the functions that could be executed during unpickling. Arbitrary objects will no longer be allowed to be loaded via this mode unless they are explicitly allowlisted by the user via `torch.serialization.add_safe_globals`. We recommend you start setting `weights_only=True` for any use case where you don't have full control of the loaded file. Please open an issue on GitHub for any issues related to this experimental feature.\n",
            "  model.load_state_dict(torch.load(f\"best_model_{target}.pt\"))\n"
          ]
        },
        {
          "output_type": "stream",
          "name": "stdout",
          "text": [
            "Evaluating model for task: product-category\n"
          ]
        },
        {
          "output_type": "stream",
          "name": "stderr",
          "text": [
            "Evaluating: 100%|██████████| 32/32 [00:03<00:00,  9.07it/s]\n"
          ]
        },
        {
          "output_type": "stream",
          "name": "stdout",
          "text": [
            "F1-Score for product-category: 0.7221893294931326\n",
            "Classification Report for product-category:\n",
            "\n",
            "              precision    recall  f1-score   support\n",
            "\n",
            "           0       1.00      1.00      1.00         2\n",
            "           1       0.73      0.67      0.70        54\n",
            "           2       0.69      0.76      0.72        29\n",
            "           3       0.35      0.40      0.37        20\n",
            "           4       0.88      0.64      0.74        11\n",
            "           5       1.00      0.33      0.50         3\n",
            "           6       0.00      0.00      0.00         2\n",
            "           8       0.00      0.00      0.00         1\n",
            "           9       0.79      0.79      0.79        56\n",
            "          10       0.30      0.67      0.41         9\n",
            "          12       0.97      0.91      0.94        33\n",
            "          13       0.86      0.88      0.87       131\n",
            "          14       1.00      0.81      0.90        16\n",
            "          15       0.74      0.54      0.62        37\n",
            "          16       0.00      0.00      0.00         1\n",
            "          17       0.75      1.00      0.86         3\n",
            "          18       0.45      0.49      0.47        51\n",
            "          19       0.90      0.64      0.75        28\n",
            "          20       0.47      0.76      0.58        21\n",
            "          21       0.00      0.00      0.00         1\n",
            "\n",
            "    accuracy                           0.72       509\n",
            "   macro avg       0.59      0.56      0.56       509\n",
            "weighted avg       0.74      0.72      0.72       509\n",
            "\n",
            "\n",
            "Starting training for task: hazard\n"
          ]
        },
        {
          "output_type": "stream",
          "name": "stderr",
          "text": [
            "Some weights of BertForSequenceClassification were not initialized from the model checkpoint at dmis-lab/biobert-base-cased-v1.1 and are newly initialized: ['classifier.bias', 'classifier.weight']\n",
            "You should probably TRAIN this model on a down-stream task to be able to use it for predictions and inference.\n"
          ]
        },
        {
          "output_type": "stream",
          "name": "stdout",
          "text": [
            "Epoch 1/100 - Training: hazard\n"
          ]
        },
        {
          "output_type": "stream",
          "name": "stderr",
          "text": [
            "Training Epoch 1: 100%|██████████| 286/286 [01:36<00:00,  2.97it/s, loss=1.14]\n"
          ]
        },
        {
          "output_type": "stream",
          "name": "stdout",
          "text": [
            "Average Training Loss for Epoch 1: 2.69183080419377\n",
            "Validation Loss after Epoch 1: 1.464539966545999\n",
            "Epoch 2/100 - Training: hazard\n"
          ]
        },
        {
          "output_type": "stream",
          "name": "stderr",
          "text": [
            "Training Epoch 2: 100%|██████████| 286/286 [01:35<00:00,  3.00it/s, loss=1.53]\n"
          ]
        },
        {
          "output_type": "stream",
          "name": "stdout",
          "text": [
            "Average Training Loss for Epoch 2: 1.2450363259840678\n",
            "Validation Loss after Epoch 2: 0.9808227133471519\n",
            "Epoch 3/100 - Training: hazard\n"
          ]
        },
        {
          "output_type": "stream",
          "name": "stderr",
          "text": [
            "Training Epoch 3: 100%|██████████| 286/286 [01:35<00:00,  3.00it/s, loss=0.737]\n"
          ]
        },
        {
          "output_type": "stream",
          "name": "stdout",
          "text": [
            "Average Training Loss for Epoch 3: 0.8678210198983446\n",
            "Validation Loss after Epoch 3: 0.7922879987163469\n",
            "Epoch 4/100 - Training: hazard\n"
          ]
        },
        {
          "output_type": "stream",
          "name": "stderr",
          "text": [
            "Training Epoch 4: 100%|██████████| 286/286 [01:35<00:00,  3.00it/s, loss=0.203]\n"
          ]
        },
        {
          "output_type": "stream",
          "name": "stdout",
          "text": [
            "Average Training Loss for Epoch 4: 0.6374109331388157\n",
            "Validation Loss after Epoch 4: 0.7032566380221397\n",
            "Epoch 5/100 - Training: hazard\n"
          ]
        },
        {
          "output_type": "stream",
          "name": "stderr",
          "text": [
            "Training Epoch 5: 100%|██████████| 286/286 [01:35<00:00,  3.01it/s, loss=0.518]\n"
          ]
        },
        {
          "output_type": "stream",
          "name": "stdout",
          "text": [
            "Average Training Loss for Epoch 5: 0.48657346523360356\n",
            "Validation Loss after Epoch 5: 0.7177542063873261\n",
            "Early stopping counter: 1/6\n",
            "Epoch 6/100 - Training: hazard\n"
          ]
        },
        {
          "output_type": "stream",
          "name": "stderr",
          "text": [
            "Training Epoch 6: 100%|██████████| 286/286 [01:35<00:00,  3.00it/s, loss=0.24]\n"
          ]
        },
        {
          "output_type": "stream",
          "name": "stdout",
          "text": [
            "Average Training Loss for Epoch 6: 0.38531388214730716\n",
            "Validation Loss after Epoch 6: 0.6464546208735555\n",
            "Epoch 7/100 - Training: hazard\n"
          ]
        },
        {
          "output_type": "stream",
          "name": "stderr",
          "text": [
            "Training Epoch 7: 100%|██████████| 286/286 [01:35<00:00,  3.00it/s, loss=0.332]\n"
          ]
        },
        {
          "output_type": "stream",
          "name": "stdout",
          "text": [
            "Average Training Loss for Epoch 7: 0.29670669366377633\n",
            "Validation Loss after Epoch 7: 0.6383900495711714\n",
            "Epoch 8/100 - Training: hazard\n"
          ]
        },
        {
          "output_type": "stream",
          "name": "stderr",
          "text": [
            "Training Epoch 8: 100%|██████████| 286/286 [01:35<00:00,  3.00it/s, loss=0.189]\n"
          ]
        },
        {
          "output_type": "stream",
          "name": "stdout",
          "text": [
            "Average Training Loss for Epoch 8: 0.22553408688416224\n",
            "Validation Loss after Epoch 8: 0.6486862966557965\n",
            "Early stopping counter: 1/6\n",
            "Epoch 9/100 - Training: hazard\n"
          ]
        },
        {
          "output_type": "stream",
          "name": "stderr",
          "text": [
            "Training Epoch 9: 100%|██████████| 286/286 [01:35<00:00,  3.00it/s, loss=0.0304]\n"
          ]
        },
        {
          "output_type": "stream",
          "name": "stdout",
          "text": [
            "Average Training Loss for Epoch 9: 0.1636092308778446\n",
            "Validation Loss after Epoch 9: 0.6387864230782725\n",
            "Early stopping counter: 2/6\n",
            "Epoch 10/100 - Training: hazard\n"
          ]
        },
        {
          "output_type": "stream",
          "name": "stderr",
          "text": [
            "Training Epoch 10: 100%|██████████| 286/286 [01:35<00:00,  3.00it/s, loss=0.0941]\n"
          ]
        },
        {
          "output_type": "stream",
          "name": "stdout",
          "text": [
            "Average Training Loss for Epoch 10: 0.11838461182542614\n",
            "Validation Loss after Epoch 10: 0.6703560353198554\n",
            "Early stopping counter: 3/6\n",
            "Epoch 11/100 - Training: hazard\n"
          ]
        },
        {
          "output_type": "stream",
          "name": "stderr",
          "text": [
            "Training Epoch 11: 100%|██████████| 286/286 [01:35<00:00,  3.01it/s, loss=0.301]\n"
          ]
        },
        {
          "output_type": "stream",
          "name": "stdout",
          "text": [
            "Average Training Loss for Epoch 11: 0.095334633106978\n",
            "Validation Loss after Epoch 11: 0.7027192693785764\n",
            "Early stopping counter: 4/6\n",
            "Epoch 12/100 - Training: hazard\n"
          ]
        },
        {
          "output_type": "stream",
          "name": "stderr",
          "text": [
            "Training Epoch 12: 100%|██████████| 286/286 [01:35<00:00,  3.00it/s, loss=0.0152]\n"
          ]
        },
        {
          "output_type": "stream",
          "name": "stdout",
          "text": [
            "Average Training Loss for Epoch 12: 0.06393971808183078\n",
            "Validation Loss after Epoch 12: 0.6931241928832605\n",
            "Early stopping counter: 5/6\n",
            "Epoch 13/100 - Training: hazard\n"
          ]
        },
        {
          "output_type": "stream",
          "name": "stderr",
          "text": [
            "Training Epoch 13: 100%|██████████| 286/286 [01:35<00:00,  3.01it/s, loss=0.0163]\n"
          ]
        },
        {
          "output_type": "stream",
          "name": "stdout",
          "text": [
            "Average Training Loss for Epoch 13: 0.04876733647327271\n",
            "Validation Loss after Epoch 13: 0.6935719783214154\n",
            "Early stopping counter: 6/6\n",
            "Early stopping triggered.\n"
          ]
        },
        {
          "output_type": "stream",
          "name": "stderr",
          "text": [
            "<ipython-input-36-cb47ea6c2053>:92: FutureWarning: You are using `torch.load` with `weights_only=False` (the current default value), which uses the default pickle module implicitly. It is possible to construct malicious pickle data which will execute arbitrary code during unpickling (See https://github.com/pytorch/pytorch/blob/main/SECURITY.md#untrusted-models for more details). In a future release, the default value for `weights_only` will be flipped to `True`. This limits the functions that could be executed during unpickling. Arbitrary objects will no longer be allowed to be loaded via this mode unless they are explicitly allowlisted by the user via `torch.serialization.add_safe_globals`. We recommend you start setting `weights_only=True` for any use case where you don't have full control of the loaded file. Please open an issue on GitHub for any issues related to this experimental feature.\n",
            "  model.load_state_dict(torch.load(f\"best_model_{target}.pt\"))\n"
          ]
        },
        {
          "output_type": "stream",
          "name": "stdout",
          "text": [
            "Evaluating model for task: hazard\n"
          ]
        },
        {
          "output_type": "stream",
          "name": "stderr",
          "text": [
            "Evaluating: 100%|██████████| 32/32 [00:03<00:00,  8.98it/s]\n"
          ]
        },
        {
          "output_type": "stream",
          "name": "stdout",
          "text": [
            "F1-Score for hazard: 0.8500440569622675\n",
            "Classification Report for hazard:\n",
            "\n",
            "              precision    recall  f1-score   support\n",
            "\n",
            "           0       1.00      1.00      1.00         2\n",
            "           3       0.00      0.00      0.00         2\n",
            "           4       0.00      0.00      0.00         3\n",
            "           5       0.80      1.00      0.89         4\n",
            "           7       0.00      0.00      0.00         1\n",
            "          10       0.00      0.00      0.00         1\n",
            "          11       1.00      1.00      1.00         1\n",
            "          12       0.00      0.00      0.00         1\n",
            "          13       1.00      0.50      0.67         2\n",
            "          14       1.00      0.80      0.89         5\n",
            "          15       0.00      0.00      0.00         1\n",
            "          17       0.77      1.00      0.87        17\n",
            "          18       0.00      0.00      0.00         1\n",
            "          19       0.50      1.00      0.67         1\n",
            "          22       1.00      1.00      1.00         3\n",
            "          23       0.00      0.00      0.00         1\n",
            "          25       0.00      0.00      0.00         1\n",
            "          27       0.00      0.00      0.00         1\n",
            "          28       1.00      1.00      1.00         1\n",
            "          33       1.00      0.50      0.67         2\n",
            "          34       0.93      0.88      0.90        16\n",
            "          36       1.00      1.00      1.00        16\n",
            "          38       1.00      1.00      1.00         5\n",
            "          39       0.50      0.50      0.50         2\n",
            "          40       0.91      1.00      0.95        10\n",
            "          42       1.00      1.00      1.00         2\n",
            "          43       0.80      1.00      0.89         4\n",
            "          45       0.00      0.00      0.00         1\n",
            "          47       0.00      0.00      0.00         2\n",
            "          48       0.00      0.00      0.00         1\n",
            "          49       0.00      0.00      0.00         1\n",
            "          50       1.00      1.00      1.00         4\n",
            "          52       0.70      1.00      0.82         7\n",
            "          53       0.00      0.00      0.00         0\n",
            "          54       0.29      0.67      0.40         3\n",
            "          55       0.97      1.00      0.99        75\n",
            "          56       0.00      0.00      0.00         1\n",
            "          57       0.94      0.94      0.94        16\n",
            "          58       0.50      0.50      0.50         2\n",
            "          59       0.95      0.97      0.96        59\n",
            "          61       0.00      0.00      0.00         1\n",
            "          64       0.50      1.00      0.67         1\n",
            "          65       1.00      1.00      1.00         5\n",
            "          68       1.00      1.00      1.00         2\n",
            "          69       0.00      0.00      0.00         0\n",
            "          70       0.17      0.50      0.25         2\n",
            "          73       0.47      0.50      0.48        14\n",
            "          75       0.50      0.67      0.57         3\n",
            "          77       0.00      0.00      0.00         1\n",
            "          78       1.00      0.67      0.80         3\n",
            "          79       0.00      0.00      0.00         1\n",
            "          80       0.00      0.00      0.00         2\n",
            "          82       0.00      0.00      0.00         1\n",
            "          83       0.00      0.00      0.00         1\n",
            "          85       0.88      0.92      0.90        24\n",
            "          86       1.00      1.00      1.00         3\n",
            "          89       1.00      0.50      0.67         2\n",
            "          90       0.96      0.96      0.96        25\n",
            "          91       1.00      1.00      1.00         1\n",
            "          92       0.00      0.00      0.00         1\n",
            "          93       1.00      0.50      0.67         2\n",
            "          94       0.67      1.00      0.80         4\n",
            "          95       0.00      0.00      0.00         1\n",
            "          97       0.67      0.67      0.67         3\n",
            "          98       0.98      0.95      0.97        66\n",
            "          99       1.00      1.00      1.00         5\n",
            "         100       0.94      0.88      0.91        17\n",
            "         101       0.00      0.00      0.00         1\n",
            "         102       0.33      1.00      0.50         1\n",
            "         104       1.00      1.00      1.00         1\n",
            "         105       0.00      0.00      0.00         0\n",
            "         107       0.00      0.00      0.00         2\n",
            "         108       1.00      0.67      0.80         3\n",
            "         109       0.73      1.00      0.85        11\n",
            "         110       0.00      0.00      0.00         2\n",
            "         111       0.00      0.00      0.00         1\n",
            "         113       1.00      1.00      1.00         1\n",
            "         114       1.00      1.00      1.00         5\n",
            "         118       0.00      0.00      0.00         0\n",
            "         119       1.00      1.00      1.00         8\n",
            "         120       0.00      0.00      0.00         0\n",
            "         121       0.00      0.00      0.00         1\n",
            "         126       1.00      0.67      0.80         3\n",
            "         127       0.00      0.00      0.00         0\n",
            "\n",
            "    accuracy                           0.86       509\n",
            "   macro avg       0.50      0.52      0.50       509\n",
            "weighted avg       0.85      0.86      0.85       509\n",
            "\n",
            "\n",
            "Starting training for task: product\n"
          ]
        },
        {
          "output_type": "stream",
          "name": "stderr",
          "text": [
            "Some weights of BertForSequenceClassification were not initialized from the model checkpoint at dmis-lab/biobert-base-cased-v1.1 and are newly initialized: ['classifier.bias', 'classifier.weight']\n",
            "You should probably TRAIN this model on a down-stream task to be able to use it for predictions and inference.\n"
          ]
        },
        {
          "output_type": "stream",
          "name": "stdout",
          "text": [
            "Epoch 1/100 - Training: product\n"
          ]
        },
        {
          "output_type": "stream",
          "name": "stderr",
          "text": [
            "Training Epoch 1: 100%|██████████| 286/286 [01:36<00:00,  2.98it/s, loss=6.37]\n"
          ]
        },
        {
          "output_type": "stream",
          "name": "stdout",
          "text": [
            "Average Training Loss for Epoch 1: 6.341293988527951\n",
            "Validation Loss after Epoch 1: 5.876046866178513\n",
            "Epoch 2/100 - Training: product\n"
          ]
        },
        {
          "output_type": "stream",
          "name": "stderr",
          "text": [
            "Training Epoch 2: 100%|██████████| 286/286 [01:35<00:00,  3.00it/s, loss=3.99]\n"
          ]
        },
        {
          "output_type": "stream",
          "name": "stdout",
          "text": [
            "Average Training Loss for Epoch 2: 5.338552538331572\n",
            "Validation Loss after Epoch 2: 5.083326235413551\n",
            "Epoch 3/100 - Training: product\n"
          ]
        },
        {
          "output_type": "stream",
          "name": "stderr",
          "text": [
            "Training Epoch 3: 100%|██████████| 286/286 [01:35<00:00,  3.00it/s, loss=4.71]\n"
          ]
        },
        {
          "output_type": "stream",
          "name": "stdout",
          "text": [
            "Average Training Loss for Epoch 3: 4.426661391358276\n",
            "Validation Loss after Epoch 3: 4.601574383676052\n",
            "Epoch 4/100 - Training: product\n"
          ]
        },
        {
          "output_type": "stream",
          "name": "stderr",
          "text": [
            "Training Epoch 4: 100%|██████████| 286/286 [01:35<00:00,  3.00it/s, loss=4.21]\n"
          ]
        },
        {
          "output_type": "stream",
          "name": "stdout",
          "text": [
            "Average Training Loss for Epoch 4: 3.6530434526763598\n",
            "Validation Loss after Epoch 4: 4.230145379900932\n",
            "Epoch 5/100 - Training: product\n"
          ]
        },
        {
          "output_type": "stream",
          "name": "stderr",
          "text": [
            "Training Epoch 5: 100%|██████████| 286/286 [01:35<00:00,  3.00it/s, loss=3.14]\n"
          ]
        },
        {
          "output_type": "stream",
          "name": "stdout",
          "text": [
            "Average Training Loss for Epoch 5: 2.97862971120781\n",
            "Validation Loss after Epoch 5: 3.8918039351701736\n",
            "Epoch 6/100 - Training: product\n"
          ]
        },
        {
          "output_type": "stream",
          "name": "stderr",
          "text": [
            "Training Epoch 6: 100%|██████████| 286/286 [01:35<00:00,  3.00it/s, loss=2.43]\n"
          ]
        },
        {
          "output_type": "stream",
          "name": "stdout",
          "text": [
            "Average Training Loss for Epoch 6: 2.4054010093628944\n",
            "Validation Loss after Epoch 6: 3.7032704800367355\n",
            "Epoch 7/100 - Training: product\n"
          ]
        },
        {
          "output_type": "stream",
          "name": "stderr",
          "text": [
            "Training Epoch 7: 100%|██████████| 286/286 [01:35<00:00,  3.01it/s, loss=1.12]\n"
          ]
        },
        {
          "output_type": "stream",
          "name": "stdout",
          "text": [
            "Average Training Loss for Epoch 7: 1.906824576062756\n",
            "Validation Loss after Epoch 7: 3.569550931453705\n",
            "Epoch 8/100 - Training: product\n"
          ]
        },
        {
          "output_type": "stream",
          "name": "stderr",
          "text": [
            "Training Epoch 8: 100%|██████████| 286/286 [01:35<00:00,  3.00it/s, loss=1.92]\n"
          ]
        },
        {
          "output_type": "stream",
          "name": "stdout",
          "text": [
            "Average Training Loss for Epoch 8: 1.5080041301834\n",
            "Validation Loss after Epoch 8: 3.499046929180622\n",
            "Epoch 9/100 - Training: product\n"
          ]
        },
        {
          "output_type": "stream",
          "name": "stderr",
          "text": [
            "Training Epoch 9: 100%|██████████| 286/286 [01:35<00:00,  3.00it/s, loss=0.943]\n"
          ]
        },
        {
          "output_type": "stream",
          "name": "stdout",
          "text": [
            "Average Training Loss for Epoch 9: 1.1763537681915543\n",
            "Validation Loss after Epoch 9: 3.4084729105234146\n",
            "Epoch 10/100 - Training: product\n"
          ]
        },
        {
          "output_type": "stream",
          "name": "stderr",
          "text": [
            "Training Epoch 10: 100%|██████████| 286/286 [01:35<00:00,  3.00it/s, loss=0.78]\n"
          ]
        },
        {
          "output_type": "stream",
          "name": "stdout",
          "text": [
            "Average Training Loss for Epoch 10: 0.9211796951460671\n",
            "Validation Loss after Epoch 10: 3.3559048399329185\n",
            "Epoch 11/100 - Training: product\n"
          ]
        },
        {
          "output_type": "stream",
          "name": "stderr",
          "text": [
            "Training Epoch 11: 100%|██████████| 286/286 [01:35<00:00,  3.00it/s, loss=0.627]\n"
          ]
        },
        {
          "output_type": "stream",
          "name": "stdout",
          "text": [
            "Average Training Loss for Epoch 11: 0.7241443922886481\n",
            "Validation Loss after Epoch 11: 3.333665654063225\n",
            "Epoch 12/100 - Training: product\n"
          ]
        },
        {
          "output_type": "stream",
          "name": "stderr",
          "text": [
            "Training Epoch 12: 100%|██████████| 286/286 [01:35<00:00,  3.00it/s, loss=1.17]\n"
          ]
        },
        {
          "output_type": "stream",
          "name": "stdout",
          "text": [
            "Average Training Loss for Epoch 12: 0.5708555967084594\n",
            "Validation Loss after Epoch 12: 3.324141375720501\n",
            "Epoch 13/100 - Training: product\n"
          ]
        },
        {
          "output_type": "stream",
          "name": "stderr",
          "text": [
            "Training Epoch 13: 100%|██████████| 286/286 [01:35<00:00,  3.00it/s, loss=0.164]\n"
          ]
        },
        {
          "output_type": "stream",
          "name": "stdout",
          "text": [
            "Average Training Loss for Epoch 13: 0.45136316975096724\n",
            "Validation Loss after Epoch 13: 3.3047217205166817\n",
            "Epoch 14/100 - Training: product\n"
          ]
        },
        {
          "output_type": "stream",
          "name": "stderr",
          "text": [
            "Training Epoch 14: 100%|██████████| 286/286 [01:35<00:00,  3.00it/s, loss=0.277]\n"
          ]
        },
        {
          "output_type": "stream",
          "name": "stdout",
          "text": [
            "Average Training Loss for Epoch 14: 0.35751560227489554\n",
            "Validation Loss after Epoch 14: 3.35725224763155\n",
            "Early stopping counter: 1/6\n",
            "Epoch 15/100 - Training: product\n"
          ]
        },
        {
          "output_type": "stream",
          "name": "stderr",
          "text": [
            "Training Epoch 15: 100%|██████████| 286/286 [01:35<00:00,  3.00it/s, loss=0.574]\n"
          ]
        },
        {
          "output_type": "stream",
          "name": "stdout",
          "text": [
            "Average Training Loss for Epoch 15: 0.2825933822228775\n",
            "Validation Loss after Epoch 15: 3.3241336792707443\n",
            "Early stopping counter: 2/6\n",
            "Epoch 16/100 - Training: product\n"
          ]
        },
        {
          "output_type": "stream",
          "name": "stderr",
          "text": [
            "Training Epoch 16: 100%|██████████| 286/286 [01:35<00:00,  3.00it/s, loss=0.303]\n"
          ]
        },
        {
          "output_type": "stream",
          "name": "stdout",
          "text": [
            "Average Training Loss for Epoch 16: 0.22404296279370367\n",
            "Validation Loss after Epoch 16: 3.3500266522169113\n",
            "Early stopping counter: 3/6\n",
            "Epoch 17/100 - Training: product\n"
          ]
        },
        {
          "output_type": "stream",
          "name": "stderr",
          "text": [
            "Training Epoch 17: 100%|██████████| 286/286 [01:35<00:00,  3.00it/s, loss=0.0301]\n"
          ]
        },
        {
          "output_type": "stream",
          "name": "stdout",
          "text": [
            "Average Training Loss for Epoch 17: 0.17322348949818553\n",
            "Validation Loss after Epoch 17: 3.3947231397032738\n",
            "Early stopping counter: 4/6\n",
            "Epoch 18/100 - Training: product\n"
          ]
        },
        {
          "output_type": "stream",
          "name": "stderr",
          "text": [
            "Training Epoch 18: 100%|██████████| 286/286 [01:35<00:00,  2.99it/s, loss=0.12]\n"
          ]
        },
        {
          "output_type": "stream",
          "name": "stdout",
          "text": [
            "Average Training Loss for Epoch 18: 0.13276964594069476\n",
            "Validation Loss after Epoch 18: 3.3838233798742294\n",
            "Early stopping counter: 5/6\n",
            "Epoch 19/100 - Training: product\n"
          ]
        },
        {
          "output_type": "stream",
          "name": "stderr",
          "text": [
            "Training Epoch 19: 100%|██████████| 286/286 [01:35<00:00,  2.99it/s, loss=0.0709]\n"
          ]
        },
        {
          "output_type": "stream",
          "name": "stdout",
          "text": [
            "Average Training Loss for Epoch 19: 0.12142692039349487\n",
            "Validation Loss after Epoch 19: 3.3809075579047203\n",
            "Early stopping counter: 6/6\n",
            "Early stopping triggered.\n"
          ]
        },
        {
          "output_type": "stream",
          "name": "stderr",
          "text": [
            "<ipython-input-36-cb47ea6c2053>:92: FutureWarning: You are using `torch.load` with `weights_only=False` (the current default value), which uses the default pickle module implicitly. It is possible to construct malicious pickle data which will execute arbitrary code during unpickling (See https://github.com/pytorch/pytorch/blob/main/SECURITY.md#untrusted-models for more details). In a future release, the default value for `weights_only` will be flipped to `True`. This limits the functions that could be executed during unpickling. Arbitrary objects will no longer be allowed to be loaded via this mode unless they are explicitly allowlisted by the user via `torch.serialization.add_safe_globals`. We recommend you start setting `weights_only=True` for any use case where you don't have full control of the loaded file. Please open an issue on GitHub for any issues related to this experimental feature.\n",
            "  model.load_state_dict(torch.load(f\"best_model_{target}.pt\"))\n"
          ]
        },
        {
          "output_type": "stream",
          "name": "stdout",
          "text": [
            "Evaluating model for task: product\n"
          ]
        },
        {
          "output_type": "stream",
          "name": "stderr",
          "text": [
            "Evaluating: 100%|██████████| 32/32 [00:03<00:00,  9.01it/s]\n"
          ]
        },
        {
          "output_type": "stream",
          "name": "stdout",
          "text": [
            "F1-Score for product: 0.4647634090165141\n",
            "Classification Report for product:\n",
            "\n",
            "              precision    recall  f1-score   support\n",
            "\n",
            "           0       1.00      1.00      1.00         3\n",
            "           2       0.75      0.60      0.67         5\n",
            "           4       0.00      0.00      0.00         1\n",
            "           6       0.00      0.00      0.00         1\n",
            "          10       0.00      0.00      0.00         1\n",
            "          13       1.00      0.67      0.80         3\n",
            "          19       0.67      1.00      0.80         2\n",
            "          20       0.33      1.00      0.50         1\n",
            "          22       0.00      0.00      0.00         1\n",
            "          24       0.00      0.00      0.00         1\n",
            "          27       0.00      0.00      0.00         1\n",
            "          31       0.00      0.00      0.00         1\n",
            "          35       0.00      0.00      0.00         1\n",
            "          38       1.00      1.00      1.00         2\n",
            "          41       0.00      0.00      0.00         1\n",
            "          42       0.00      0.00      0.00         1\n",
            "          45       0.00      0.00      0.00         1\n",
            "          46       0.00      0.00      0.00         0\n",
            "          49       1.00      1.00      1.00         1\n",
            "          51       0.50      1.00      0.67         1\n",
            "          53       0.00      0.00      0.00         0\n",
            "          55       0.00      0.00      0.00         1\n",
            "          58       0.50      0.33      0.40         3\n",
            "          61       0.33      0.50      0.40         2\n",
            "          62       0.00      0.00      0.00         1\n",
            "          67       0.50      1.00      0.67         1\n",
            "          69       0.00      0.00      0.00         0\n",
            "          73       0.00      0.00      0.00         2\n",
            "          74       0.50      1.00      0.67         1\n",
            "          76       0.00      0.00      0.00         0\n",
            "          80       0.00      0.00      0.00         0\n",
            "          84       0.00      0.00      0.00         1\n",
            "          87       0.00      0.00      0.00         2\n",
            "          88       0.00      0.00      0.00         0\n",
            "          91       1.00      1.00      1.00         1\n",
            "          92       0.00      0.00      0.00         2\n",
            "          93       0.00      0.00      0.00         2\n",
            "          96       0.00      0.00      0.00         0\n",
            "         102       0.00      0.00      0.00         0\n",
            "         108       0.00      0.00      0.00         0\n",
            "         111       0.00      0.00      0.00         1\n",
            "         117       0.55      0.67      0.60         9\n",
            "         119       0.25      0.33      0.29         3\n",
            "         122       0.00      0.00      0.00         1\n",
            "         127       0.00      0.00      0.00         1\n",
            "         128       0.00      0.00      0.00         1\n",
            "         130       0.00      0.00      0.00         0\n",
            "         135       0.00      0.00      0.00         1\n",
            "         136       0.00      0.00      0.00         0\n",
            "         138       1.00      1.00      1.00         1\n",
            "         141       0.00      0.00      0.00         1\n",
            "         142       0.00      0.00      0.00         0\n",
            "         143       0.00      0.00      0.00         1\n",
            "         144       0.00      0.00      0.00         0\n",
            "         149       0.00      0.00      0.00         0\n",
            "         150       0.56      0.71      0.62         7\n",
            "         154       0.00      0.00      0.00         1\n",
            "         157       0.00      0.00      0.00         1\n",
            "         164       1.00      1.00      1.00         2\n",
            "         165       0.00      0.00      0.00         3\n",
            "         167       0.57      0.73      0.64        11\n",
            "         168       0.00      0.00      0.00         0\n",
            "         169       0.00      0.00      0.00         1\n",
            "         170       0.00      0.00      0.00         1\n",
            "         173       0.00      0.00      0.00         1\n",
            "         176       0.00      0.00      0.00         0\n",
            "         177       0.20      0.33      0.25         3\n",
            "         178       0.00      0.00      0.00         0\n",
            "         186       0.00      0.00      0.00         1\n",
            "         196       0.00      0.00      0.00         4\n",
            "         201       0.00      0.00      0.00         1\n",
            "         203       0.00      0.00      0.00         0\n",
            "         204       0.00      0.00      0.00         0\n",
            "         207       0.33      0.17      0.22         6\n",
            "         209       0.00      0.00      0.00         2\n",
            "         210       1.00      1.00      1.00         1\n",
            "         212       0.50      0.75      0.60         4\n",
            "         213       0.00      0.00      0.00         0\n",
            "         219       0.50      0.50      0.50         2\n",
            "         224       0.67      0.67      0.67         3\n",
            "         226       0.00      0.00      0.00         1\n",
            "         229       1.00      1.00      1.00         1\n",
            "         230       0.00      0.00      0.00         0\n",
            "         231       1.00      0.67      0.80         3\n",
            "         240       1.00      1.00      1.00         1\n",
            "         241       0.00      0.00      0.00         1\n",
            "         243       0.00      0.00      0.00         0\n",
            "         245       1.00      1.00      1.00         2\n",
            "         248       0.00      0.00      0.00         1\n",
            "         252       0.00      0.00      0.00         0\n",
            "         253       0.00      0.00      0.00         0\n",
            "         255       1.00      1.00      1.00         1\n",
            "         260       0.80      0.80      0.80         5\n",
            "         263       0.40      0.67      0.50         3\n",
            "         264       0.00      0.00      0.00         1\n",
            "         267       0.00      0.00      0.00         1\n",
            "         268       0.00      0.00      0.00         1\n",
            "         269       0.00      0.00      0.00         0\n",
            "         273       0.00      0.00      0.00         1\n",
            "         278       0.00      0.00      0.00         1\n",
            "         279       0.00      0.00      0.00         1\n",
            "         284       0.00      0.00      0.00         1\n",
            "         286       0.00      0.00      0.00         1\n",
            "         294       0.00      0.00      0.00         0\n",
            "         295       0.50      1.00      0.67         3\n",
            "         296       1.00      1.00      1.00         1\n",
            "         298       0.50      0.50      0.50         2\n",
            "         301       0.14      0.50      0.22         2\n",
            "         302       0.00      0.00      0.00         1\n",
            "         303       0.50      0.50      0.50         2\n",
            "         304       0.00      0.00      0.00         1\n",
            "         305       0.00      0.00      0.00         1\n",
            "         309       0.00      0.00      0.00         1\n",
            "         310       0.00      0.00      0.00         1\n",
            "         311       0.75      1.00      0.86         3\n",
            "         313       0.86      1.00      0.92         6\n",
            "         316       1.00      1.00      1.00         1\n",
            "         317       0.00      0.00      0.00         1\n",
            "         319       1.00      1.00      1.00         1\n",
            "         327       0.00      0.00      0.00         0\n",
            "         329       0.00      0.00      0.00         0\n",
            "         338       0.00      0.00      0.00         1\n",
            "         339       0.50      1.00      0.67         1\n",
            "         340       0.00      0.00      0.00         1\n",
            "         346       0.80      1.00      0.89         4\n",
            "         347       0.00      0.00      0.00         1\n",
            "         353       0.00      0.00      0.00         2\n",
            "         354       1.00      1.00      1.00         1\n",
            "         361       0.00      0.00      0.00         0\n",
            "         367       0.00      0.00      0.00         1\n",
            "         368       0.00      0.00      0.00         1\n",
            "         372       0.50      0.50      0.50         2\n",
            "         373       0.00      0.00      0.00         1\n",
            "         374       0.00      0.00      0.00         0\n",
            "         378       0.00      0.00      0.00         1\n",
            "         386       0.50      1.00      0.67         1\n",
            "         387       0.00      0.00      0.00         1\n",
            "         393       0.00      0.00      0.00         1\n",
            "         394       0.00      0.00      0.00         1\n",
            "         396       1.00      0.50      0.67         2\n",
            "         404       0.00      0.00      0.00         1\n",
            "         405       0.00      0.00      0.00         1\n",
            "         406       0.00      0.00      0.00         1\n",
            "         407       0.00      0.00      0.00         1\n",
            "         419       0.00      0.00      0.00         1\n",
            "         427       0.00      0.00      0.00         0\n",
            "         428       0.00      0.00      0.00         1\n",
            "         430       0.00      0.00      0.00         2\n",
            "         432       0.00      0.00      0.00         0\n",
            "         438       0.00      0.00      0.00         1\n",
            "         439       0.00      0.00      0.00         1\n",
            "         442       0.00      0.00      0.00         1\n",
            "         450       0.00      0.00      0.00         0\n",
            "         453       1.00      1.00      1.00         1\n",
            "         455       0.00      0.00      0.00         1\n",
            "         458       1.00      0.50      0.67         2\n",
            "         460       0.00      0.00      0.00         0\n",
            "         461       0.00      0.00      0.00         0\n",
            "         462       1.00      1.00      1.00         1\n",
            "         466       0.00      0.00      0.00         0\n",
            "         468       1.00      1.00      1.00         1\n",
            "         476       0.50      1.00      0.67         1\n",
            "         485       0.00      0.00      0.00         1\n",
            "         486       1.00      1.00      1.00         1\n",
            "         491       0.00      0.00      0.00         0\n",
            "         492       0.00      0.00      0.00         1\n",
            "         494       0.00      0.00      0.00         0\n",
            "         500       0.00      0.00      0.00         1\n",
            "         501       0.00      0.00      0.00         1\n",
            "         502       0.75      1.00      0.86         6\n",
            "         503       0.00      0.00      0.00         1\n",
            "         504       0.00      0.00      0.00         1\n",
            "         508       1.00      1.00      1.00         1\n",
            "         509       0.00      0.00      0.00         1\n",
            "         510       0.33      0.50      0.40         2\n",
            "         512       0.00      0.00      0.00         0\n",
            "         513       0.00      0.00      0.00         0\n",
            "         520       0.00      0.00      0.00         3\n",
            "         522       0.00      0.00      0.00         0\n",
            "         524       1.00      1.00      1.00         1\n",
            "         530       1.00      0.90      0.95        31\n",
            "         535       1.00      1.00      1.00         2\n",
            "         536       0.00      0.00      0.00         1\n",
            "         537       0.00      0.00      0.00         1\n",
            "         540       0.67      0.67      0.67         3\n",
            "         541       0.75      1.00      0.86         3\n",
            "         543       0.00      0.00      0.00         0\n",
            "         545       1.00      1.00      1.00         1\n",
            "         547       0.00      0.00      0.00         0\n",
            "         548       1.00      1.00      1.00         1\n",
            "         550       0.00      0.00      0.00         1\n",
            "         554       1.00      1.00      1.00         1\n",
            "         557       1.00      1.00      1.00         1\n",
            "         558       0.00      0.00      0.00         1\n",
            "         566       0.00      0.00      0.00         1\n",
            "         568       0.33      1.00      0.50         1\n",
            "         569       1.00      0.50      0.67         2\n",
            "         571       0.00      0.00      0.00         1\n",
            "         573       0.00      0.00      0.00         1\n",
            "         575       0.00      0.00      0.00         1\n",
            "         576       0.50      1.00      0.67         1\n",
            "         577       0.00      0.00      0.00         0\n",
            "         578       0.00      0.00      0.00         1\n",
            "         580       0.00      0.00      0.00         1\n",
            "         582       0.00      0.00      0.00         1\n",
            "         583       0.00      0.00      0.00         1\n",
            "         588       0.00      0.00      0.00         1\n",
            "         591       0.40      1.00      0.57         2\n",
            "         593       1.00      1.00      1.00         2\n",
            "         594       0.00      0.00      0.00         1\n",
            "         596       0.00      0.00      0.00         0\n",
            "         597       0.00      0.00      0.00         1\n",
            "         598       0.00      0.00      0.00         0\n",
            "         601       1.00      1.00      1.00         1\n",
            "         608       1.00      0.67      0.80         3\n",
            "         609       0.00      0.00      0.00         1\n",
            "         613       0.00      0.00      0.00         1\n",
            "         614       0.00      0.00      0.00         1\n",
            "         615       0.00      0.00      0.00         0\n",
            "         616       0.00      0.00      0.00         1\n",
            "         617       1.00      0.67      0.80         3\n",
            "         618       0.00      0.00      0.00         0\n",
            "         621       0.00      0.00      0.00         1\n",
            "         622       0.00      0.00      0.00         0\n",
            "         623       1.00      1.00      1.00         1\n",
            "         627       0.00      0.00      0.00         1\n",
            "         628       0.00      0.00      0.00         1\n",
            "         631       0.00      0.00      0.00         1\n",
            "         638       0.00      0.00      0.00         1\n",
            "         641       0.00      0.00      0.00         1\n",
            "         647       0.50      1.00      0.67         1\n",
            "         648       1.00      1.00      1.00         2\n",
            "         649       0.67      0.67      0.67         3\n",
            "         652       0.00      0.00      0.00         1\n",
            "         653       0.00      0.00      0.00         1\n",
            "         654       0.00      0.00      0.00         1\n",
            "         662       0.00      0.00      0.00         2\n",
            "         665       0.17      0.33      0.22         3\n",
            "         666       0.50      0.50      0.50         2\n",
            "         667       1.00      1.00      1.00         1\n",
            "         669       1.00      1.00      1.00         3\n",
            "         670       1.00      1.00      1.00         1\n",
            "         672       1.00      0.50      0.67         2\n",
            "         679       0.00      0.00      0.00         0\n",
            "         685       0.00      0.00      0.00         1\n",
            "         686       0.25      0.50      0.33         2\n",
            "         690       0.83      0.71      0.77         7\n",
            "         691       0.00      0.00      0.00         1\n",
            "         698       0.00      0.00      0.00         1\n",
            "         700       0.75      1.00      0.86         3\n",
            "         706       1.00      1.00      1.00         1\n",
            "         707       0.00      0.00      0.00         1\n",
            "         709       0.00      0.00      0.00         1\n",
            "         710       0.00      0.00      0.00         1\n",
            "         711       1.00      1.00      1.00         5\n",
            "         712       0.00      0.00      0.00         1\n",
            "         713       0.33      1.00      0.50         1\n",
            "         714       0.00      0.00      0.00         1\n",
            "         726       0.00      0.00      0.00         1\n",
            "         727       0.00      0.00      0.00         0\n",
            "         728       0.67      1.00      0.80         2\n",
            "         731       0.00      0.00      0.00         2\n",
            "         734       0.50      1.00      0.67         2\n",
            "         742       1.00      0.50      0.67         2\n",
            "         749       0.00      0.00      0.00         3\n",
            "         755       0.00      0.00      0.00         1\n",
            "         756       0.00      0.00      0.00         1\n",
            "         758       0.00      0.00      0.00         1\n",
            "         759       0.00      0.00      0.00         1\n",
            "         761       0.00      0.00      0.00         0\n",
            "         762       0.00      0.00      0.00         1\n",
            "         764       0.00      0.00      0.00         1\n",
            "         770       1.00      1.00      1.00         2\n",
            "         772       0.00      0.00      0.00         1\n",
            "         774       0.00      0.00      0.00         1\n",
            "         775       1.00      1.00      1.00         1\n",
            "         776       0.00      0.00      0.00         3\n",
            "         778       0.00      0.00      0.00         1\n",
            "         781       0.00      0.00      0.00         1\n",
            "         782       0.33      0.40      0.36        10\n",
            "         786       0.00      0.00      0.00         1\n",
            "         788       0.00      0.00      0.00         1\n",
            "         789       1.00      1.00      1.00         1\n",
            "         791       0.00      0.00      0.00         0\n",
            "         793       0.00      0.00      0.00         0\n",
            "         796       0.00      0.00      0.00         1\n",
            "         798       0.00      0.00      0.00         0\n",
            "         809       0.00      0.00      0.00         1\n",
            "         810       0.57      0.67      0.62         6\n",
            "         811       1.00      1.00      1.00         2\n",
            "         814       1.00      0.75      0.86         4\n",
            "         815       0.00      0.00      0.00         1\n",
            "         820       1.00      0.83      0.91         6\n",
            "         822       0.00      0.00      0.00         1\n",
            "         825       0.00      0.00      0.00         5\n",
            "         826       0.00      0.00      0.00         0\n",
            "         829       0.00      0.00      0.00         1\n",
            "         831       0.00      0.00      0.00         0\n",
            "         832       0.00      0.00      0.00         1\n",
            "         833       0.50      1.00      0.67         1\n",
            "         835       0.00      0.00      0.00         1\n",
            "         837       0.00      0.00      0.00         1\n",
            "         844       0.00      0.00      0.00         0\n",
            "         847       0.00      0.00      0.00         0\n",
            "         848       0.00      0.00      0.00         1\n",
            "         849       0.50      1.00      0.67         1\n",
            "         854       0.67      1.00      0.80         2\n",
            "         858       0.50      1.00      0.67         1\n",
            "         860       0.00      0.00      0.00         1\n",
            "         861       1.00      0.25      0.40         4\n",
            "         863       0.00      0.00      0.00         2\n",
            "         870       0.38      1.00      0.55         3\n",
            "         873       0.00      0.00      0.00         1\n",
            "         885       0.00      0.00      0.00         0\n",
            "         887       0.00      0.00      0.00         1\n",
            "         895       1.00      1.00      1.00         1\n",
            "         898       0.50      1.00      0.67         2\n",
            "         899       0.00      0.00      0.00         1\n",
            "         903       0.00      0.00      0.00         0\n",
            "         908       0.50      1.00      0.67         1\n",
            "         912       0.67      0.80      0.73         5\n",
            "         916       0.00      0.00      0.00         1\n",
            "         921       0.00      0.00      0.00         1\n",
            "         922       1.00      0.80      0.89         5\n",
            "         923       0.00      0.00      0.00         1\n",
            "         928       0.00      0.00      0.00         0\n",
            "         929       0.00      0.00      0.00         1\n",
            "         930       0.00      0.00      0.00         1\n",
            "         932       0.00      0.00      0.00         2\n",
            "         933       0.67      1.00      0.80         2\n",
            "         945       0.00      0.00      0.00         0\n",
            "         946       1.00      0.67      0.80         3\n",
            "         950       0.33      1.00      0.50         1\n",
            "         951       0.00      0.00      0.00         2\n",
            "         952       0.00      0.00      0.00         0\n",
            "         955       0.00      0.00      0.00         1\n",
            "         964       0.00      0.00      0.00         1\n",
            "         966       0.00      0.00      0.00         0\n",
            "         971       0.00      0.00      0.00         1\n",
            "         973       0.00      0.00      0.00         0\n",
            "         978       0.00      0.00      0.00         0\n",
            "         982       0.00      0.00      0.00         1\n",
            "         987       0.00      0.00      0.00         0\n",
            "         992       0.00      0.00      0.00         1\n",
            "         996       0.00      0.00      0.00         0\n",
            "         997       0.00      0.00      0.00         0\n",
            "         998       1.00      1.00      1.00         2\n",
            "         999       1.00      1.00      1.00         1\n",
            "        1007       0.33      1.00      0.50         1\n",
            "        1013       1.00      1.00      1.00         1\n",
            "        1017       1.00      1.00      1.00         1\n",
            "        1018       1.00      0.50      0.67         2\n",
            "        1020       0.67      0.67      0.67         3\n",
            "\n",
            "    accuracy                           0.49       509\n",
            "   macro avg       0.26      0.29      0.26       509\n",
            "weighted avg       0.47      0.49      0.46       509\n",
            "\n"
          ]
        }
      ],
      "source": [
        "print(\"\\nTraining and Evaluating for Text Tasks:\")\n",
        "text_f1_scores = train_and_evaluate_nn(text_splits, subtask1 + subtask2, model_type='text')\n"
      ]
    },
    {
      "cell_type": "code",
      "source": [
        "# Create DataFrames for F1 scores for title and text\n",
        "f1_scores_title_df = pd.DataFrame({\n",
        "    'Task': subtask1 + subtask2,\n",
        "    'F1-Score': title_f1_scores\n",
        "})\n",
        "\n",
        "f1_scores_text_df = pd.DataFrame({\n",
        "    'Task': subtask1 + subtask2,\n",
        "    'F1-Score': text_f1_scores\n",
        "})"
      ],
      "metadata": {
        "id": "KKCtxbm4T319"
      },
      "execution_count": 40,
      "outputs": []
    },
    {
      "cell_type": "code",
      "execution_count": 39,
      "metadata": {
        "colab": {
          "base_uri": "https://localhost:8080/",
          "height": 850
        },
        "id": "wwYyYDcAjBWh",
        "outputId": "7665b767-abe7-4553-f1ea-61602b3e3d40"
      },
      "outputs": [
        {
          "output_type": "stream",
          "name": "stdout",
          "text": [
            "\n",
            "Collected F1-Scores for Title-Focused Classification:\n",
            "               Task  F1-Score\n",
            "0   hazard-category  0.827930\n",
            "1  product-category  0.726340\n",
            "2            hazard  0.635926\n",
            "3           product  0.467829\n",
            "\n",
            "Collected F1-Scores for Text-Focused Classification:\n",
            "               Task  F1-Score\n",
            "0   hazard-category  0.941719\n",
            "1  product-category  0.722189\n",
            "2            hazard  0.850044\n",
            "3           product  0.464763\n"
          ]
        },
        {
          "output_type": "display_data",
          "data": {
            "text/plain": [
              "<Figure size 1000x600 with 1 Axes>"
            ],
            "image/png": "[encoded data removed]"
          },
          "metadata": {}
        }
      ],
      "source": [
        "# Create DataFrames for F1 scores for title and text\n",
        "f1_scores_title_df = pd.DataFrame({\n",
        "    'Task': subtask1 + subtask2,\n",
        "    'F1-Score': title_f1_scores\n",
        "})\n",
        "\n",
        "f1_scores_text_df = pd.DataFrame({\n",
        "    'Task': subtask1 + subtask2,\n",
        "    'F1-Score': text_f1_scores\n",
        "})\n",
        "\n",
        "# Print the collected F1-scores for title\n",
        "print(\"\\nCollected F1-Scores for Title-Focused Classification:\")\n",
        "print(f1_scores_title_df)\n",
        "\n",
        "# Print the collected F1-scores for text\n",
        "print(\"\\nCollected F1-Scores for Text-Focused Classification:\")\n",
        "print(f1_scores_text_df)\n",
        "\n",
        "# Plot F1-scores for visual comparison\n",
        "plt.figure(figsize=(10, 6))\n",
        "plt.bar(f1_scores_title_df['Task'], f1_scores_title_df['F1-Score'], alpha=0.7, label='Title-Focused')\n",
        "plt.bar(f1_scores_text_df['Task'], f1_scores_text_df['F1-Score'], alpha=0.7, label='Text-Focused')\n",
        "plt.ylabel(\"F1-Score\")\n",
        "plt.title(\"F1-Score Comparison Between Title and Text Tasks\")\n",
        "plt.xticks(rotation=45, ha='right')\n",
        "plt.legend()\n",
        "plt.tight_layout()\n",
        "plt.show()\n"
      ]
    }
  ],
  "metadata": {
    "accelerator": "GPU",
    "colab": {
      "gpuType": "L4",
      "machine_shape": "hm",
      "provenance": [],
      "authorship_tag": "ABX9TyPzl/4wdhDTw1kMMOywlcGD",
      "include_colab_link": true
    },
    "kernelspec": {
      "display_name": "Python 3",
      "name": "python3"
    },
    "language_info": {
      "name": "python"
    }
  },
  "nbformat": 4,
  "nbformat_minor": 0
}