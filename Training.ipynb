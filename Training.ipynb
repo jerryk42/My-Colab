{
  "nbformat": 4,
  "nbformat_minor": 0,
  "metadata": {
    "colab": {
      "provenance": [],
      "machine_shape": "hm",
      "gpuType": "L4",
      "authorship_tag": "ABX9TyM5zWssq1fS28c0BLX3G1Vo",
      "include_colab_link": true
    },
    "kernelspec": {
      "name": "python3",
      "display_name": "Python 3"
    },
    "language_info": {
      "name": "python"
    },
    "accelerator": "GPU",
    "widgets": {
      "application/vnd.jupyter.widget-state+json": {
        "535aa6ba1bd440e39c44e66c4a71cfe8": {
          "model_module": "@jupyter-widgets/controls",
          "model_name": "HBoxModel",
          "model_module_version": "1.5.0",
          "state": {
            "_dom_classes": [],
            "_model_module": "@jupyter-widgets/controls",
            "_model_module_version": "1.5.0",
            "_model_name": "HBoxModel",
            "_view_count": null,
            "_view_module": "@jupyter-widgets/controls",
            "_view_module_version": "1.5.0",
            "_view_name": "HBoxView",
            "box_style": "",
            "children": [
              "IPY_MODEL_7083ee499e044f5cb6de305062d01e86",
              "IPY_MODEL_031b7056779242a0bae36ea67afe990b",
              "IPY_MODEL_fd8132700854496d821ef66c0a9ff99c"
            ],
            "layout": "IPY_MODEL_a1f01163ee044de8baddf67e33c6c10e"
          }
        },
        "7083ee499e044f5cb6de305062d01e86": {
          "model_module": "@jupyter-widgets/controls",
          "model_name": "HTMLModel",
          "model_module_version": "1.5.0",
          "state": {
            "_dom_classes": [],
            "_model_module": "@jupyter-widgets/controls",
            "_model_module_version": "1.5.0",
            "_model_name": "HTMLModel",
            "_view_count": null,
            "_view_module": "@jupyter-widgets/controls",
            "_view_module_version": "1.5.0",
            "_view_name": "HTMLView",
            "description": "",
            "description_tooltip": null,
            "layout": "IPY_MODEL_b214eaeb71ce4de6b61561f23fc66d99",
            "placeholder": "​",
            "style": "IPY_MODEL_3a8e934858ee4d6f95ba9d05f2fc0fcf",
            "value": "config.json: 100%"
          }
        },
        "031b7056779242a0bae36ea67afe990b": {
          "model_module": "@jupyter-widgets/controls",
          "model_name": "FloatProgressModel",
          "model_module_version": "1.5.0",
          "state": {
            "_dom_classes": [],
            "_model_module": "@jupyter-widgets/controls",
            "_model_module_version": "1.5.0",
            "_model_name": "FloatProgressModel",
            "_view_count": null,
            "_view_module": "@jupyter-widgets/controls",
            "_view_module_version": "1.5.0",
            "_view_name": "ProgressView",
            "bar_style": "success",
            "description": "",
            "description_tooltip": null,
            "layout": "IPY_MODEL_053283fa3c824e898c3cb17b92123b9d",
            "max": 313,
            "min": 0,
            "orientation": "horizontal",
            "style": "IPY_MODEL_f8925de23ea94d4d83dd0193a774bb8a",
            "value": 313
          }
        },
        "fd8132700854496d821ef66c0a9ff99c": {
          "model_module": "@jupyter-widgets/controls",
          "model_name": "HTMLModel",
          "model_module_version": "1.5.0",
          "state": {
            "_dom_classes": [],
            "_model_module": "@jupyter-widgets/controls",
            "_model_module_version": "1.5.0",
            "_model_name": "HTMLModel",
            "_view_count": null,
            "_view_module": "@jupyter-widgets/controls",
            "_view_module_version": "1.5.0",
            "_view_name": "HTMLView",
            "description": "",
            "description_tooltip": null,
            "layout": "IPY_MODEL_c4bd4df18e3e4c138f6dda61adb6cc87",
            "placeholder": "​",
            "style": "IPY_MODEL_aea81d735a514fc4b59d9c6150d7858c",
            "value": " 313/313 [00:00&lt;00:00, 26.0kB/s]"
          }
        },
        "a1f01163ee044de8baddf67e33c6c10e": {
          "model_module": "@jupyter-widgets/base",
          "model_name": "LayoutModel",
          "model_module_version": "1.2.0",
          "state": {
            "_model_module": "@jupyter-widgets/base",
            "_model_module_version": "1.2.0",
            "_model_name": "LayoutModel",
            "_view_count": null,
            "_view_module": "@jupyter-widgets/base",
            "_view_module_version": "1.2.0",
            "_view_name": "LayoutView",
            "align_content": null,
            "align_items": null,
            "align_self": null,
            "border": null,
            "bottom": null,
            "display": null,
            "flex": null,
            "flex_flow": null,
            "grid_area": null,
            "grid_auto_columns": null,
            "grid_auto_flow": null,
            "grid_auto_rows": null,
            "grid_column": null,
            "grid_gap": null,
            "grid_row": null,
            "grid_template_areas": null,
            "grid_template_columns": null,
            "grid_template_rows": null,
            "height": null,
            "justify_content": null,
            "justify_items": null,
            "left": null,
            "margin": null,
            "max_height": null,
            "max_width": null,
            "min_height": null,
            "min_width": null,
            "object_fit": null,
            "object_position": null,
            "order": null,
            "overflow": null,
            "overflow_x": null,
            "overflow_y": null,
            "padding": null,
            "right": null,
            "top": null,
            "visibility": null,
            "width": null
          }
        },
        "b214eaeb71ce4de6b61561f23fc66d99": {
          "model_module": "@jupyter-widgets/base",
          "model_name": "LayoutModel",
          "model_module_version": "1.2.0",
          "state": {
            "_model_module": "@jupyter-widgets/base",
            "_model_module_version": "1.2.0",
            "_model_name": "LayoutModel",
            "_view_count": null,
            "_view_module": "@jupyter-widgets/base",
            "_view_module_version": "1.2.0",
            "_view_name": "LayoutView",
            "align_content": null,
            "align_items": null,
            "align_self": null,
            "border": null,
            "bottom": null,
            "display": null,
            "flex": null,
            "flex_flow": null,
            "grid_area": null,
            "grid_auto_columns": null,
            "grid_auto_flow": null,
            "grid_auto_rows": null,
            "grid_column": null,
            "grid_gap": null,
            "grid_row": null,
            "grid_template_areas": null,
            "grid_template_columns": null,
            "grid_template_rows": null,
            "height": null,
            "justify_content": null,
            "justify_items": null,
            "left": null,
            "margin": null,
            "max_height": null,
            "max_width": null,
            "min_height": null,
            "min_width": null,
            "object_fit": null,
            "object_position": null,
            "order": null,
            "overflow": null,
            "overflow_x": null,
            "overflow_y": null,
            "padding": null,
            "right": null,
            "top": null,
            "visibility": null,
            "width": null
          }
        },
        "3a8e934858ee4d6f95ba9d05f2fc0fcf": {
          "model_module": "@jupyter-widgets/controls",
          "model_name": "DescriptionStyleModel",
          "model_module_version": "1.5.0",
          "state": {
            "_model_module": "@jupyter-widgets/controls",
            "_model_module_version": "1.5.0",
            "_model_name": "DescriptionStyleModel",
            "_view_count": null,
            "_view_module": "@jupyter-widgets/base",
            "_view_module_version": "1.2.0",
            "_view_name": "StyleView",
            "description_width": ""
          }
        },
        "053283fa3c824e898c3cb17b92123b9d": {
          "model_module": "@jupyter-widgets/base",
          "model_name": "LayoutModel",
          "model_module_version": "1.2.0",
          "state": {
            "_model_module": "@jupyter-widgets/base",
            "_model_module_version": "1.2.0",
            "_model_name": "LayoutModel",
            "_view_count": null,
            "_view_module": "@jupyter-widgets/base",
            "_view_module_version": "1.2.0",
            "_view_name": "LayoutView",
            "align_content": null,
            "align_items": null,
            "align_self": null,
            "border": null,
            "bottom": null,
            "display": null,
            "flex": null,
            "flex_flow": null,
            "grid_area": null,
            "grid_auto_columns": null,
            "grid_auto_flow": null,
            "grid_auto_rows": null,
            "grid_column": null,
            "grid_gap": null,
            "grid_row": null,
            "grid_template_areas": null,
            "grid_template_columns": null,
            "grid_template_rows": null,
            "height": null,
            "justify_content": null,
            "justify_items": null,
            "left": null,
            "margin": null,
            "max_height": null,
            "max_width": null,
            "min_height": null,
            "min_width": null,
            "object_fit": null,
            "object_position": null,
            "order": null,
            "overflow": null,
            "overflow_x": null,
            "overflow_y": null,
            "padding": null,
            "right": null,
            "top": null,
            "visibility": null,
            "width": null
          }
        },
        "f8925de23ea94d4d83dd0193a774bb8a": {
          "model_module": "@jupyter-widgets/controls",
          "model_name": "ProgressStyleModel",
          "model_module_version": "1.5.0",
          "state": {
            "_model_module": "@jupyter-widgets/controls",
            "_model_module_version": "1.5.0",
            "_model_name": "ProgressStyleModel",
            "_view_count": null,
            "_view_module": "@jupyter-widgets/base",
            "_view_module_version": "1.2.0",
            "_view_name": "StyleView",
            "bar_color": null,
            "description_width": ""
          }
        },
        "c4bd4df18e3e4c138f6dda61adb6cc87": {
          "model_module": "@jupyter-widgets/base",
          "model_name": "LayoutModel",
          "model_module_version": "1.2.0",
          "state": {
            "_model_module": "@jupyter-widgets/base",
            "_model_module_version": "1.2.0",
            "_model_name": "LayoutModel",
            "_view_count": null,
            "_view_module": "@jupyter-widgets/base",
            "_view_module_version": "1.2.0",
            "_view_name": "LayoutView",
            "align_content": null,
            "align_items": null,
            "align_self": null,
            "border": null,
            "bottom": null,
            "display": null,
            "flex": null,
            "flex_flow": null,
            "grid_area": null,
            "grid_auto_columns": null,
            "grid_auto_flow": null,
            "grid_auto_rows": null,
            "grid_column": null,
            "grid_gap": null,
            "grid_row": null,
            "grid_template_areas": null,
            "grid_template_columns": null,
            "grid_template_rows": null,
            "height": null,
            "justify_content": null,
            "justify_items": null,
            "left": null,
            "margin": null,
            "max_height": null,
            "max_width": null,
            "min_height": null,
            "min_width": null,
            "object_fit": null,
            "object_position": null,
            "order": null,
            "overflow": null,
            "overflow_x": null,
            "overflow_y": null,
            "padding": null,
            "right": null,
            "top": null,
            "visibility": null,
            "width": null
          }
        },
        "aea81d735a514fc4b59d9c6150d7858c": {
          "model_module": "@jupyter-widgets/controls",
          "model_name": "DescriptionStyleModel",
          "model_module_version": "1.5.0",
          "state": {
            "_model_module": "@jupyter-widgets/controls",
            "_model_module_version": "1.5.0",
            "_model_name": "DescriptionStyleModel",
            "_view_count": null,
            "_view_module": "@jupyter-widgets/base",
            "_view_module_version": "1.2.0",
            "_view_name": "StyleView",
            "description_width": ""
          }
        },
        "d4ea814a450f475bbcc045365c61480a": {
          "model_module": "@jupyter-widgets/controls",
          "model_name": "HBoxModel",
          "model_module_version": "1.5.0",
          "state": {
            "_dom_classes": [],
            "_model_module": "@jupyter-widgets/controls",
            "_model_module_version": "1.5.0",
            "_model_name": "HBoxModel",
            "_view_count": null,
            "_view_module": "@jupyter-widgets/controls",
            "_view_module_version": "1.5.0",
            "_view_name": "HBoxView",
            "box_style": "",
            "children": [
              "IPY_MODEL_6a8283388f634396b407ad1c5e4ea671",
              "IPY_MODEL_752ea3bd1a21430d912f1ce4b349b384",
              "IPY_MODEL_18793bd1749e4efb941ccb7360a4be0a"
            ],
            "layout": "IPY_MODEL_dadc3e8514494d3b80d14a43f5638f57"
          }
        },
        "6a8283388f634396b407ad1c5e4ea671": {
          "model_module": "@jupyter-widgets/controls",
          "model_name": "HTMLModel",
          "model_module_version": "1.5.0",
          "state": {
            "_dom_classes": [],
            "_model_module": "@jupyter-widgets/controls",
            "_model_module_version": "1.5.0",
            "_model_name": "HTMLModel",
            "_view_count": null,
            "_view_module": "@jupyter-widgets/controls",
            "_view_module_version": "1.5.0",
            "_view_name": "HTMLView",
            "description": "",
            "description_tooltip": null,
            "layout": "IPY_MODEL_efbdba437e5c4d40aef528eae19e24a3",
            "placeholder": "​",
            "style": "IPY_MODEL_b003297a46084469bb8fd5bce1add18c",
            "value": "vocab.txt: 100%"
          }
        },
        "752ea3bd1a21430d912f1ce4b349b384": {
          "model_module": "@jupyter-widgets/controls",
          "model_name": "FloatProgressModel",
          "model_module_version": "1.5.0",
          "state": {
            "_dom_classes": [],
            "_model_module": "@jupyter-widgets/controls",
            "_model_module_version": "1.5.0",
            "_model_name": "FloatProgressModel",
            "_view_count": null,
            "_view_module": "@jupyter-widgets/controls",
            "_view_module_version": "1.5.0",
            "_view_name": "ProgressView",
            "bar_style": "success",
            "description": "",
            "description_tooltip": null,
            "layout": "IPY_MODEL_01e0a094557d4bf683651494eed7cd25",
            "max": 213450,
            "min": 0,
            "orientation": "horizontal",
            "style": "IPY_MODEL_788e560d1fc44e76a2f0dcfd34e70340",
            "value": 213450
          }
        },
        "18793bd1749e4efb941ccb7360a4be0a": {
          "model_module": "@jupyter-widgets/controls",
          "model_name": "HTMLModel",
          "model_module_version": "1.5.0",
          "state": {
            "_dom_classes": [],
            "_model_module": "@jupyter-widgets/controls",
            "_model_module_version": "1.5.0",
            "_model_name": "HTMLModel",
            "_view_count": null,
            "_view_module": "@jupyter-widgets/controls",
            "_view_module_version": "1.5.0",
            "_view_name": "HTMLView",
            "description": "",
            "description_tooltip": null,
            "layout": "IPY_MODEL_5ef38f1928624417a561cb02206578ea",
            "placeholder": "​",
            "style": "IPY_MODEL_667ab5a8877e43ffaf8dad9d789d9cba",
            "value": " 213k/213k [00:00&lt;00:00, 6.25MB/s]"
          }
        },
        "dadc3e8514494d3b80d14a43f5638f57": {
          "model_module": "@jupyter-widgets/base",
          "model_name": "LayoutModel",
          "model_module_version": "1.2.0",
          "state": {
            "_model_module": "@jupyter-widgets/base",
            "_model_module_version": "1.2.0",
            "_model_name": "LayoutModel",
            "_view_count": null,
            "_view_module": "@jupyter-widgets/base",
            "_view_module_version": "1.2.0",
            "_view_name": "LayoutView",
            "align_content": null,
            "align_items": null,
            "align_self": null,
            "border": null,
            "bottom": null,
            "display": null,
            "flex": null,
            "flex_flow": null,
            "grid_area": null,
            "grid_auto_columns": null,
            "grid_auto_flow": null,
            "grid_auto_rows": null,
            "grid_column": null,
            "grid_gap": null,
            "grid_row": null,
            "grid_template_areas": null,
            "grid_template_columns": null,
            "grid_template_rows": null,
            "height": null,
            "justify_content": null,
            "justify_items": null,
            "left": null,
            "margin": null,
            "max_height": null,
            "max_width": null,
            "min_height": null,
            "min_width": null,
            "object_fit": null,
            "object_position": null,
            "order": null,
            "overflow": null,
            "overflow_x": null,
            "overflow_y": null,
            "padding": null,
            "right": null,
            "top": null,
            "visibility": null,
            "width": null
          }
        },
        "efbdba437e5c4d40aef528eae19e24a3": {
          "model_module": "@jupyter-widgets/base",
          "model_name": "LayoutModel",
          "model_module_version": "1.2.0",
          "state": {
            "_model_module": "@jupyter-widgets/base",
            "_model_module_version": "1.2.0",
            "_model_name": "LayoutModel",
            "_view_count": null,
            "_view_module": "@jupyter-widgets/base",
            "_view_module_version": "1.2.0",
            "_view_name": "LayoutView",
            "align_content": null,
            "align_items": null,
            "align_self": null,
            "border": null,
            "bottom": null,
            "display": null,
            "flex": null,
            "flex_flow": null,
            "grid_area": null,
            "grid_auto_columns": null,
            "grid_auto_flow": null,
            "grid_auto_rows": null,
            "grid_column": null,
            "grid_gap": null,
            "grid_row": null,
            "grid_template_areas": null,
            "grid_template_columns": null,
            "grid_template_rows": null,
            "height": null,
            "justify_content": null,
            "justify_items": null,
            "left": null,
            "margin": null,
            "max_height": null,
            "max_width": null,
            "min_height": null,
            "min_width": null,
            "object_fit": null,
            "object_position": null,
            "order": null,
            "overflow": null,
            "overflow_x": null,
            "overflow_y": null,
            "padding": null,
            "right": null,
            "top": null,
            "visibility": null,
            "width": null
          }
        },
        "b003297a46084469bb8fd5bce1add18c": {
          "model_module": "@jupyter-widgets/controls",
          "model_name": "DescriptionStyleModel",
          "model_module_version": "1.5.0",
          "state": {
            "_model_module": "@jupyter-widgets/controls",
            "_model_module_version": "1.5.0",
            "_model_name": "DescriptionStyleModel",
            "_view_count": null,
            "_view_module": "@jupyter-widgets/base",
            "_view_module_version": "1.2.0",
            "_view_name": "StyleView",
            "description_width": ""
          }
        },
        "01e0a094557d4bf683651494eed7cd25": {
          "model_module": "@jupyter-widgets/base",
          "model_name": "LayoutModel",
          "model_module_version": "1.2.0",
          "state": {
            "_model_module": "@jupyter-widgets/base",
            "_model_module_version": "1.2.0",
            "_model_name": "LayoutModel",
            "_view_count": null,
            "_view_module": "@jupyter-widgets/base",
            "_view_module_version": "1.2.0",
            "_view_name": "LayoutView",
            "align_content": null,
            "align_items": null,
            "align_self": null,
            "border": null,
            "bottom": null,
            "display": null,
            "flex": null,
            "flex_flow": null,
            "grid_area": null,
            "grid_auto_columns": null,
            "grid_auto_flow": null,
            "grid_auto_rows": null,
            "grid_column": null,
            "grid_gap": null,
            "grid_row": null,
            "grid_template_areas": null,
            "grid_template_columns": null,
            "grid_template_rows": null,
            "height": null,
            "justify_content": null,
            "justify_items": null,
            "left": null,
            "margin": null,
            "max_height": null,
            "max_width": null,
            "min_height": null,
            "min_width": null,
            "object_fit": null,
            "object_position": null,
            "order": null,
            "overflow": null,
            "overflow_x": null,
            "overflow_y": null,
            "padding": null,
            "right": null,
            "top": null,
            "visibility": null,
            "width": null
          }
        },
        "788e560d1fc44e76a2f0dcfd34e70340": {
          "model_module": "@jupyter-widgets/controls",
          "model_name": "ProgressStyleModel",
          "model_module_version": "1.5.0",
          "state": {
            "_model_module": "@jupyter-widgets/controls",
            "_model_module_version": "1.5.0",
            "_model_name": "ProgressStyleModel",
            "_view_count": null,
            "_view_module": "@jupyter-widgets/base",
            "_view_module_version": "1.2.0",
            "_view_name": "StyleView",
            "bar_color": null,
            "description_width": ""
          }
        },
        "5ef38f1928624417a561cb02206578ea": {
          "model_module": "@jupyter-widgets/base",
          "model_name": "LayoutModel",
          "model_module_version": "1.2.0",
          "state": {
            "_model_module": "@jupyter-widgets/base",
            "_model_module_version": "1.2.0",
            "_model_name": "LayoutModel",
            "_view_count": null,
            "_view_module": "@jupyter-widgets/base",
            "_view_module_version": "1.2.0",
            "_view_name": "LayoutView",
            "align_content": null,
            "align_items": null,
            "align_self": null,
            "border": null,
            "bottom": null,
            "display": null,
            "flex": null,
            "flex_flow": null,
            "grid_area": null,
            "grid_auto_columns": null,
            "grid_auto_flow": null,
            "grid_auto_rows": null,
            "grid_column": null,
            "grid_gap": null,
            "grid_row": null,
            "grid_template_areas": null,
            "grid_template_columns": null,
            "grid_template_rows": null,
            "height": null,
            "justify_content": null,
            "justify_items": null,
            "left": null,
            "margin": null,
            "max_height": null,
            "max_width": null,
            "min_height": null,
            "min_width": null,
            "object_fit": null,
            "object_position": null,
            "order": null,
            "overflow": null,
            "overflow_x": null,
            "overflow_y": null,
            "padding": null,
            "right": null,
            "top": null,
            "visibility": null,
            "width": null
          }
        },
        "667ab5a8877e43ffaf8dad9d789d9cba": {
          "model_module": "@jupyter-widgets/controls",
          "model_name": "DescriptionStyleModel",
          "model_module_version": "1.5.0",
          "state": {
            "_model_module": "@jupyter-widgets/controls",
            "_model_module_version": "1.5.0",
            "_model_name": "DescriptionStyleModel",
            "_view_count": null,
            "_view_module": "@jupyter-widgets/base",
            "_view_module_version": "1.2.0",
            "_view_name": "StyleView",
            "description_width": ""
          }
        }
      }
    }
  },
  "cells": [
    {
      "cell_type": "markdown",
      "metadata": {
        "id": "view-in-github",
        "colab_type": "text"
      },
      "source": [
        "<a href=\"https://colab.research.google.com/github/jerryk42/SemEval-Food-Hazard-Detection-Challenge/blob/main/Training.ipynb\" target=\"_parent\"><img src=\"https://colab.research.google.com/assets/colab-badge.svg\" alt=\"Open In Colab\"/></a>"
      ]
    },
    {
      "cell_type": "code",
      "execution_count": 4,
      "metadata": {
        "id": "-Uk4Hr3o6UHO",
        "colab": {
          "base_uri": "https://localhost:8080/"
        },
        "outputId": "2d26d0a4-8ff4-4580-cd82-8761d22fde27"
      },
      "outputs": [
        {
          "output_type": "stream",
          "name": "stdout",
          "text": [
            "Drive already mounted at /content/drive; to attempt to forcibly remount, call drive.mount(\"/content/drive\", force_remount=True).\n",
            "Cloning into 'My-Colab'...\n",
            "warning: You appear to have cloned an empty repository.\n"
          ]
        }
      ],
      "source": [
        "from google.colab import drive\n",
        "drive.mount('/content/drive')"
      ]
    },
    {
      "cell_type": "code",
      "execution_count": 14,
      "metadata": {
        "id": "_tnUGj2aOD40"
      },
      "outputs": [],
      "source": [
        "import pandas as pd\n",
        "import re\n",
        "from sklearn.model_selection import train_test_split\n",
        "from sklearn.metrics import f1_score, classification_report\n",
        "import torch\n",
        "from transformers import AutoTokenizer, AutoModelForSequenceClassification\n",
        "from torch.utils.data import DataLoader, Dataset\n",
        "import torch.nn as nn\n",
        "import torch.optim as optim\n",
        "from sklearn.preprocessing import LabelEncoder\n",
        "from tqdm import tqdm  # Import tqdm for progress bars\n",
        "import matplotlib.pyplot as plt  # Import matplotlib for plotting\n"
      ]
    },
    {
      "cell_type": "code",
      "execution_count": 15,
      "metadata": {
        "id": "mRqpDhY5OF0r"
      },
      "outputs": [],
      "source": [
        "config = {\n",
        "    'max_len': 256,\n",
        "    'batch_size': 16,\n",
        "    'learning_rate': 0.00005,\n",
        "    'epochs': 100,\n",
        "    'model_name': \"dmis-lab/biobert-base-cased-v1.1\"  # BioBERT model name\n",
        "}\n"
      ]
    },
    {
      "cell_type": "code",
      "source": [
        "# Set device for training\n",
        "device = torch.device('cuda' if torch.cuda.is_available() else 'cpu')\n",
        "print(f\"Using device: {device}\")\n"
      ],
      "metadata": {
        "id": "F8Z5Prdp5Xrb",
        "colab": {
          "base_uri": "https://localhost:8080/"
        },
        "outputId": "ebe12f5d-0621-4137-bc59-e31c3b25e2d5"
      },
      "execution_count": 16,
      "outputs": [
        {
          "output_type": "stream",
          "name": "stdout",
          "text": [
            "Using device: cuda\n"
          ]
        }
      ]
    },
    {
      "cell_type": "code",
      "execution_count": 17,
      "metadata": {
        "colab": {
          "base_uri": "https://localhost:8080/"
        },
        "id": "YaxolIHS5SBH",
        "outputId": "27c28842-9cf4-4d78-dd0e-ca906e35972d",
        "collapsed": true
      },
      "outputs": [
        {
          "output_type": "stream",
          "name": "stdout",
          "text": [
            "   Unnamed: 0  year  month  day country                             title  \\\n",
            "0           0  1994      1    7      us  Recall Notification: FSIS-024-94   \n",
            "1           1  1994      3   10      us  Recall Notification: FSIS-033-94   \n",
            "2           2  1994      3   28      us  Recall Notification: FSIS-014-94   \n",
            "3           3  1994      4    3      us  Recall Notification: FSIS-009-94   \n",
            "4           4  1994      7    1      us  Recall Notification: FSIS-001-94   \n",
            "\n",
            "                                                text hazard-category  \\\n",
            "0  Case Number: 024-94   \\n            Date Opene...      biological   \n",
            "1  Case Number: 033-94   \\n            Date Opene...      biological   \n",
            "2  Case Number: 014-94   \\n            Date Opene...      biological   \n",
            "3  Case Number: 009-94   \\n            Date Opene...  foreign bodies   \n",
            "4  Case Number: 001-94   \\n            Date Opene...  foreign bodies   \n",
            "\n",
            "               product-category                  hazard  \\\n",
            "0  meat, egg and dairy products  listeria monocytogenes   \n",
            "1  meat, egg and dairy products            listeria spp   \n",
            "2  meat, egg and dairy products  listeria monocytogenes   \n",
            "3  meat, egg and dairy products        plastic fragment   \n",
            "4  meat, egg and dairy products        plastic fragment   \n",
            "\n",
            "                       product  \n",
            "0               smoked sausage  \n",
            "1                      sausage  \n",
            "2                   ham slices  \n",
            "3  thermal processed pork meat  \n",
            "4               chicken breast  \n"
          ]
        }
      ],
      "source": [
        "import pandas as pd\n",
        "\n",
        "# URL of the raw file\n",
        "url = \"https://raw.githubusercontent.com/food-hazard-detection-semeval-2025/food-hazard-detection-semeval-2025.github.io/refs/heads/main/data/incidents_train.csv\"\n",
        "\n",
        "# Read the CSV file into a DataFrame\n",
        "df = pd.read_csv(url)\n",
        "\n",
        "# Display the first few rows of the DataFrame\n",
        "print(df.head())\n"
      ]
    },
    {
      "cell_type": "code",
      "source": [
        "# Drop the first column\n",
        "df = df.drop(df.columns[0], axis=1)"
      ],
      "metadata": {
        "id": "Z6l4Gt-Y6EIH"
      },
      "execution_count": 18,
      "outputs": []
    },
    {
      "cell_type": "code",
      "source": [
        "# Check the structure of the DataFrame\n",
        "print(df.info())"
      ],
      "metadata": {
        "colab": {
          "base_uri": "https://localhost:8080/"
        },
        "id": "IsoRrUZg5Xw6",
        "outputId": "da389048-e7f3-4fc0-84ba-5c83e5c90c69",
        "collapsed": true
      },
      "execution_count": 19,
      "outputs": [
        {
          "output_type": "stream",
          "name": "stdout",
          "text": [
            "<class 'pandas.core.frame.DataFrame'>\n",
            "RangeIndex: 5082 entries, 0 to 5081\n",
            "Data columns (total 10 columns):\n",
            " #   Column            Non-Null Count  Dtype \n",
            "---  ------            --------------  ----- \n",
            " 0   year              5082 non-null   int64 \n",
            " 1   month             5082 non-null   int64 \n",
            " 2   day               5082 non-null   int64 \n",
            " 3   country           5082 non-null   object\n",
            " 4   title             5082 non-null   object\n",
            " 5   text              5082 non-null   object\n",
            " 6   hazard-category   5082 non-null   object\n",
            " 7   product-category  5082 non-null   object\n",
            " 8   hazard            5082 non-null   object\n",
            " 9   product           5082 non-null   object\n",
            "dtypes: int64(3), object(7)\n",
            "memory usage: 397.2+ KB\n",
            "None\n"
          ]
        }
      ]
    },
    {
      "cell_type": "code",
      "execution_count": 20,
      "metadata": {
        "id": "WbqvZzJgOMmA"
      },
      "outputs": [],
      "source": [
        "# Custom Dataset for Text Data\n",
        "class TextDataset(Dataset):\n",
        "    def __init__(self, texts, labels, tokenizer, max_len):\n",
        "        self.texts = texts\n",
        "        self.labels = labels\n",
        "        self.tokenizer = tokenizer\n",
        "        self.max_len = max_len\n",
        "\n",
        "    def __len__(self):\n",
        "        return len(self.texts)\n",
        "\n",
        "    def __getitem__(self, item):\n",
        "        text = str(self.texts[item])\n",
        "        label = self.labels[item]\n",
        "        encoding = self.tokenizer.encode_plus(\n",
        "            text,\n",
        "            add_special_tokens=True,\n",
        "            max_length=self.max_len,\n",
        "            padding='max_length',\n",
        "            truncation=True,\n",
        "            return_tensors='pt'\n",
        "        )\n",
        "        return {\n",
        "            'input_ids': encoding['input_ids'].flatten(),\n",
        "            'attention_mask': encoding['attention_mask'].flatten(),\n",
        "            'label': torch.tensor(label, dtype=torch.long)\n",
        "        }\n"
      ]
    },
    {
      "cell_type": "code",
      "execution_count": 21,
      "metadata": {
        "id": "KlHfuLKlOQmI"
      },
      "outputs": [],
      "source": [
        "# Function to clean text (title or text) and remove stopwords\n",
        "def clean_text(text):\n",
        "    text = re.sub(r'[^a-zA-Z0-9\\s]', '', text)\n",
        "    text = text.lower()\n",
        "    text = ' '.join(text.split())\n",
        "    return text\n"
      ]
    },
    {
      "cell_type": "code",
      "execution_count": 22,
      "metadata": {
        "colab": {
          "base_uri": "https://localhost:8080/",
          "height": 185,
          "referenced_widgets": [
            "535aa6ba1bd440e39c44e66c4a71cfe8",
            "7083ee499e044f5cb6de305062d01e86",
            "031b7056779242a0bae36ea67afe990b",
            "fd8132700854496d821ef66c0a9ff99c",
            "a1f01163ee044de8baddf67e33c6c10e",
            "b214eaeb71ce4de6b61561f23fc66d99",
            "3a8e934858ee4d6f95ba9d05f2fc0fcf",
            "053283fa3c824e898c3cb17b92123b9d",
            "f8925de23ea94d4d83dd0193a774bb8a",
            "c4bd4df18e3e4c138f6dda61adb6cc87",
            "aea81d735a514fc4b59d9c6150d7858c",
            "d4ea814a450f475bbcc045365c61480a",
            "6a8283388f634396b407ad1c5e4ea671",
            "752ea3bd1a21430d912f1ce4b349b384",
            "18793bd1749e4efb941ccb7360a4be0a",
            "dadc3e8514494d3b80d14a43f5638f57",
            "efbdba437e5c4d40aef528eae19e24a3",
            "b003297a46084469bb8fd5bce1add18c",
            "01e0a094557d4bf683651494eed7cd25",
            "788e560d1fc44e76a2f0dcfd34e70340",
            "5ef38f1928624417a561cb02206578ea",
            "667ab5a8877e43ffaf8dad9d789d9cba"
          ]
        },
        "id": "J5f2YpcNOVs5",
        "outputId": "23c1cbfe-5003-4577-f2a5-16679cbece77"
      },
      "outputs": [
        {
          "output_type": "stream",
          "name": "stderr",
          "text": [
            "/usr/local/lib/python3.10/dist-packages/huggingface_hub/utils/_auth.py:94: UserWarning: \n",
            "The secret `HF_TOKEN` does not exist in your Colab secrets.\n",
            "To authenticate with the Hugging Face Hub, create a token in your settings tab (https://huggingface.co/settings/tokens), set it as secret in your Google Colab and restart your session.\n",
            "You will be able to reuse this secret in all of your notebooks.\n",
            "Please note that authentication is recommended but still optional to access public models or datasets.\n",
            "  warnings.warn(\n"
          ]
        },
        {
          "output_type": "display_data",
          "data": {
            "text/plain": [
              "config.json:   0%|          | 0.00/313 [00:00<?, ?B/s]"
            ],
            "application/vnd.jupyter.widget-view+json": {
              "version_major": 2,
              "version_minor": 0,
              "model_id": "535aa6ba1bd440e39c44e66c4a71cfe8"
            }
          },
          "metadata": {}
        },
        {
          "output_type": "display_data",
          "data": {
            "text/plain": [
              "vocab.txt:   0%|          | 0.00/213k [00:00<?, ?B/s]"
            ],
            "application/vnd.jupyter.widget-view+json": {
              "version_major": 2,
              "version_minor": 0,
              "model_id": "d4ea814a450f475bbcc045365c61480a"
            }
          },
          "metadata": {}
        }
      ],
      "source": [
        "# Load tokenizer for Microsoft PubMedBERT model\n",
        "tokenizer = AutoTokenizer.from_pretrained(config['model_name'])\n",
        "\n",
        "# Assuming df is your DataFrame\n",
        "df['title'] = df['title'].apply(clean_text)\n",
        "df['text'] = df['text'].apply(clean_text)\n"
      ]
    },
    {
      "cell_type": "code",
      "execution_count": 23,
      "metadata": {
        "id": "xe4fnbojOY-v"
      },
      "outputs": [],
      "source": [
        "# Define relevant features and targets\n",
        "features = ['year', 'month', 'day', 'country']\n",
        "targets_subtask1 = ['hazard-category','product-category']\n",
        "targets_subtask2 = ['hazard','product']\n"
      ]
    },
    {
      "cell_type": "code",
      "execution_count": 24,
      "metadata": {
        "id": "b7B8EhUdOer2"
      },
      "outputs": [],
      "source": [
        "# Encode target labels to numeric values\n",
        "label_encoders = {}\n",
        "for target in targets_subtask1 + targets_subtask2:\n",
        "    le = LabelEncoder()\n",
        "    df[target] = le.fit_transform(df[target])\n",
        "    label_encoders[target] = le\n"
      ]
    },
    {
      "cell_type": "code",
      "execution_count": 25,
      "metadata": {
        "id": "8a9dTrQ9Oh7Q"
      },
      "outputs": [],
      "source": [
        "# Prepare data for both title and text\n",
        "def prepare_data(text_column):\n",
        "    X = df[features + [text_column]]\n",
        "    y_subtask1 = df[targets_subtask1]\n",
        "    y_subtask2 = df[targets_subtask2]\n",
        "\n",
        "    data_splits = {}\n",
        "    for target in targets_subtask1 + targets_subtask2:\n",
        "        X_train, X_test, y_train, y_test = train_test_split(\n",
        "            X, df[target], test_size=0.1, random_state=42\n",
        "        )\n",
        "\n",
        "        # Reset indices to ensure matching\n",
        "        X_train = X_train.reset_index(drop=True)\n",
        "        y_train = y_train.reset_index(drop=True)\n",
        "        X_test = X_test.reset_index(drop=True)\n",
        "        y_test = y_test.reset_index(drop=True)\n",
        "\n",
        "        data_splits[target] = (X_train, X_test, y_train, y_test)\n",
        "\n",
        "    return data_splits\n"
      ]
    },
    {
      "cell_type": "code",
      "execution_count": 26,
      "metadata": {
        "id": "Ffx_UagwOlb2"
      },
      "outputs": [],
      "source": [
        "# Prepare data for title and text\n",
        "title_splits = prepare_data('title')\n",
        "text_splits = prepare_data('text')\n"
      ]
    },
    {
      "cell_type": "code",
      "execution_count": 27,
      "metadata": {
        "id": "RQYXs45FOoPz"
      },
      "outputs": [],
      "source": [
        "def train_and_evaluate_nn(data_splits, targets, model_type='title', early_stopping_patience=6, lr_reduce_factor=0.1):\n",
        "    f1_scores = []  # List to store F1 scores for each task\n",
        "\n",
        "    for target in targets:\n",
        "        print(f\"\\nStarting training for task: {target}\")  # Print task message\n",
        "\n",
        "        X_train, X_test, y_train, y_test = data_splits[target]\n",
        "\n",
        "        # Prepare text data using the tokenizer\n",
        "        if model_type == 'title':\n",
        "            texts_train = X_train['title'].values\n",
        "            texts_test = X_test['title'].values\n",
        "        else:\n",
        "            texts_train = X_train['text'].values\n",
        "            texts_test = X_test['text'].values\n",
        "\n",
        "        # Create DataLoader for training and testing\n",
        "        train_dataset = TextDataset(texts_train, y_train, tokenizer, config['max_len'])\n",
        "        test_dataset = TextDataset(texts_test, y_test, tokenizer, config['max_len'])\n",
        "\n",
        "        train_loader = DataLoader(train_dataset, batch_size=config['batch_size'], shuffle=True)\n",
        "        test_loader = DataLoader(test_dataset, batch_size=config['batch_size'], shuffle=False)\n",
        "\n",
        "        # Model setup\n",
        "        num_labels = len(label_encoders[target].classes_)\n",
        "        model = AutoModelForSequenceClassification.from_pretrained(config['model_name'], num_labels=num_labels).to(device)\n",
        "\n",
        "        optimizer = optim.Adam(model.parameters(), lr=config['learning_rate'])\n",
        "        scheduler = torch.optim.lr_scheduler.ReduceLROnPlateau(optimizer, mode='min', factor=lr_reduce_factor, patience=3, verbose=True)\n",
        "        criterion = nn.CrossEntropyLoss()\n",
        "\n",
        "        # Training process\n",
        "        model.train()\n",
        "        best_loss = float('inf')\n",
        "        early_stop_counter = 0\n",
        "\n",
        "        for epoch in range(config['epochs']):\n",
        "            print(f\"Epoch {epoch+1}/{config['epochs']} - Training: {target}\")\n",
        "            progress_bar = tqdm(train_loader, desc=f\"Training Epoch {epoch+1}\", total=len(train_loader), leave=True)\n",
        "            epoch_loss = 0.0\n",
        "\n",
        "            for batch in progress_bar:\n",
        "                optimizer.zero_grad()\n",
        "                input_ids = batch['input_ids'].squeeze(1).to(device)\n",
        "                attention_mask = batch['attention_mask'].squeeze(1).to(device)\n",
        "                labels = batch['label'].to(device)\n",
        "\n",
        "                outputs = model(input_ids, attention_mask=attention_mask)\n",
        "                loss = criterion(outputs.logits, labels)\n",
        "                loss.backward()\n",
        "                optimizer.step()\n",
        "                epoch_loss += loss.item()\n",
        "                progress_bar.set_postfix(loss=loss.item())\n",
        "\n",
        "            # Average loss for the epoch\n",
        "            avg_epoch_loss = epoch_loss / len(train_loader)\n",
        "            print(f\"Average Training Loss for Epoch {epoch+1}: {avg_epoch_loss}\")\n",
        "\n",
        "            # Evaluate on the test set to compute validation loss\n",
        "            val_loss = 0.0\n",
        "            model.eval()\n",
        "            with torch.no_grad():\n",
        "                for batch in test_loader:\n",
        "                    input_ids = batch['input_ids'].squeeze(1).to(device)\n",
        "                    attention_mask = batch['attention_mask'].squeeze(1).to(device)\n",
        "                    labels = batch['label'].to(device)\n",
        "\n",
        "                    outputs = model(input_ids, attention_mask=attention_mask)\n",
        "                    loss = criterion(outputs.logits, labels)\n",
        "                    val_loss += loss.item()\n",
        "\n",
        "            avg_val_loss = val_loss / len(test_loader)\n",
        "            print(f\"Validation Loss after Epoch {epoch+1}: {avg_val_loss}\")\n",
        "\n",
        "            # Step the scheduler with the validation loss\n",
        "            scheduler.step(avg_val_loss)\n",
        "\n",
        "            # Early stopping check\n",
        "            if avg_val_loss < best_loss:\n",
        "                best_loss = avg_val_loss\n",
        "                early_stop_counter = 0\n",
        "                torch.save(model.state_dict(), f\"best_model_{target}.pt\")  # Save the best model\n",
        "            else:\n",
        "                early_stop_counter += 1\n",
        "                print(f\"Early stopping counter: {early_stop_counter}/{early_stopping_patience}\")\n",
        "\n",
        "            if early_stop_counter >= early_stopping_patience:\n",
        "                print(\"Early stopping triggered.\")\n",
        "                break\n",
        "\n",
        "        # Load the best model for evaluation\n",
        "        model.load_state_dict(torch.load(f\"best_model_{target}.pt\"))\n",
        "\n",
        "        # Evaluation process\n",
        "        print(f\"Evaluating model for task: {target}\")\n",
        "        model.eval()\n",
        "        y_preds = []\n",
        "        y_true = []\n",
        "        with torch.no_grad():\n",
        "            for batch in tqdm(test_loader, desc=\"Evaluating\", total=len(test_loader), leave=True):\n",
        "                input_ids = batch['input_ids'].squeeze(1).to(device)\n",
        "                attention_mask = batch['attention_mask'].squeeze(1).to(device)\n",
        "                labels = batch['label'].to(device)\n",
        "                outputs = model(input_ids, attention_mask=attention_mask)\n",
        "                _, preds = torch.max(outputs.logits, dim=1)\n",
        "                y_preds.extend(preds.cpu().numpy())\n",
        "                y_true.extend(labels.cpu().numpy())\n",
        "\n",
        "        # Decode labels back to original categories using the label encoder\n",
        "        decoded_preds = label_encoders[target].inverse_transform(y_preds)\n",
        "        decoded_true = label_encoders[target].inverse_transform(y_true)\n",
        "\n",
        "        # Calculate F1 score for the task\n",
        "        f1 = f1_score(decoded_true, decoded_preds, average='weighted')\n",
        "        f1_scores.append(f1)\n",
        "        print(f\"F1-Score for {target}: {f1}\")\n",
        "\n",
        "        # Print classification report\n",
        "        print(f\"Classification Report for {target}:\\n\")\n",
        "        print(classification_report(decoded_true, decoded_preds, zero_division=0))\n",
        "\n",
        "    return f1_scores  # Return the list of F1 scores for plotting\n"
      ]
    },
    {
      "cell_type": "code",
      "source": [
        "# Train and evaluate for both title and text\n",
        "print(\"\\nTraining and Evaluating for Title Tasks:\")\n",
        "title_f1_scores = train_and_evaluate_nn(title_splits, targets_subtask1 + targets_subtask2, model_type='title')"
      ],
      "metadata": {
        "id": "OYEB0MQmVAWM"
      },
      "execution_count": null,
      "outputs": []
    },
    {
      "cell_type": "code",
      "execution_count": 30,
      "metadata": {
        "colab": {
          "base_uri": "https://localhost:8080/"
        },
        "id": "OsSoAzzgOyct",
        "outputId": "10d37973-e60b-443a-802e-6d45d8c9cfea"
      },
      "outputs": [
        {
          "output_type": "stream",
          "name": "stdout",
          "text": [
            "\n",
            "Training and Evaluating for Text Tasks:\n",
            "\n",
            "Starting training for task: hazard-category\n"
          ]
        },
        {
          "output_type": "stream",
          "name": "stderr",
          "text": [
            "Some weights of BertForSequenceClassification were not initialized from the model checkpoint at dmis-lab/biobert-base-cased-v1.1 and are newly initialized: ['classifier.bias', 'classifier.weight']\n",
            "You should probably TRAIN this model on a down-stream task to be able to use it for predictions and inference.\n"
          ]
        },
        {
          "output_type": "stream",
          "name": "stdout",
          "text": [
            "Epoch 1/100 - Training: hazard-category\n"
          ]
        },
        {
          "output_type": "stream",
          "name": "stderr",
          "text": [
            "Training Epoch 1: 100%|██████████| 255/255 [01:23<00:00,  3.06it/s, loss=2.59]\n"
          ]
        },
        {
          "output_type": "stream",
          "name": "stdout",
          "text": [
            "Average Training Loss for Epoch 1: 0.6798259653589305\n",
            "Validation Loss after Epoch 1: 0.33254388661589473\n",
            "Epoch 2/100 - Training: hazard-category\n"
          ]
        },
        {
          "output_type": "stream",
          "name": "stderr",
          "text": [
            "Training Epoch 2: 100%|██████████| 255/255 [01:22<00:00,  3.09it/s, loss=0.0155]\n"
          ]
        },
        {
          "output_type": "stream",
          "name": "stdout",
          "text": [
            "Average Training Loss for Epoch 2: 0.27947679690140137\n",
            "Validation Loss after Epoch 2: 0.25995737037737854\n",
            "Epoch 3/100 - Training: hazard-category\n"
          ]
        },
        {
          "output_type": "stream",
          "name": "stderr",
          "text": [
            "Training Epoch 3: 100%|██████████| 255/255 [01:22<00:00,  3.10it/s, loss=0.00392]\n"
          ]
        },
        {
          "output_type": "stream",
          "name": "stdout",
          "text": [
            "Average Training Loss for Epoch 3: 0.17962386618897902\n",
            "Validation Loss after Epoch 3: 0.2506352998316288\n",
            "Epoch 4/100 - Training: hazard-category\n"
          ]
        },
        {
          "output_type": "stream",
          "name": "stderr",
          "text": [
            "Training Epoch 4: 100%|██████████| 255/255 [01:22<00:00,  3.10it/s, loss=0.0217]\n"
          ]
        },
        {
          "output_type": "stream",
          "name": "stdout",
          "text": [
            "Average Training Loss for Epoch 4: 0.13146512895165122\n",
            "Validation Loss after Epoch 4: 0.2559465115045896\n",
            "Early stopping counter: 1/9\n",
            "Epoch 5/100 - Training: hazard-category\n"
          ]
        },
        {
          "output_type": "stream",
          "name": "stderr",
          "text": [
            "Training Epoch 5: 100%|██████████| 255/255 [01:22<00:00,  3.10it/s, loss=0.00293]\n"
          ]
        },
        {
          "output_type": "stream",
          "name": "stdout",
          "text": [
            "Average Training Loss for Epoch 5: 0.10796547501494048\n",
            "Validation Loss after Epoch 5: 0.22673909986770013\n",
            "Epoch 6/100 - Training: hazard-category\n"
          ]
        },
        {
          "output_type": "stream",
          "name": "stderr",
          "text": [
            "Training Epoch 6: 100%|██████████| 255/255 [01:22<00:00,  3.10it/s, loss=0.00293]\n"
          ]
        },
        {
          "output_type": "stream",
          "name": "stdout",
          "text": [
            "Average Training Loss for Epoch 6: 0.08250430733440262\n",
            "Validation Loss after Epoch 6: 0.2552821682402282\n",
            "Early stopping counter: 1/9\n",
            "Epoch 7/100 - Training: hazard-category\n"
          ]
        },
        {
          "output_type": "stream",
          "name": "stderr",
          "text": [
            "Training Epoch 7: 100%|██████████| 255/255 [01:22<00:00,  3.10it/s, loss=0.00261]\n"
          ]
        },
        {
          "output_type": "stream",
          "name": "stdout",
          "text": [
            "Average Training Loss for Epoch 7: 0.06817066462107879\n",
            "Validation Loss after Epoch 7: 0.2755258594661427\n",
            "Early stopping counter: 2/9\n",
            "Epoch 8/100 - Training: hazard-category\n"
          ]
        },
        {
          "output_type": "stream",
          "name": "stderr",
          "text": [
            "Training Epoch 8: 100%|██████████| 255/255 [01:22<00:00,  3.10it/s, loss=0.713]\n"
          ]
        },
        {
          "output_type": "stream",
          "name": "stdout",
          "text": [
            "Average Training Loss for Epoch 8: 0.05193269004104842\n",
            "Validation Loss after Epoch 8: 0.26822977215852006\n",
            "Early stopping counter: 3/9\n",
            "Epoch 9/100 - Training: hazard-category\n"
          ]
        },
        {
          "output_type": "stream",
          "name": "stderr",
          "text": [
            "Training Epoch 9: 100%|██████████| 255/255 [01:22<00:00,  3.10it/s, loss=0.00152]\n"
          ]
        },
        {
          "output_type": "stream",
          "name": "stdout",
          "text": [
            "Average Training Loss for Epoch 9: 0.0782761278804209\n",
            "Validation Loss after Epoch 9: 0.26615375583060086\n",
            "Early stopping counter: 4/9\n",
            "Epoch 10/100 - Training: hazard-category\n"
          ]
        },
        {
          "output_type": "stream",
          "name": "stderr",
          "text": [
            "Training Epoch 10: 100%|██████████| 255/255 [01:22<00:00,  3.10it/s, loss=0.00901]\n"
          ]
        },
        {
          "output_type": "stream",
          "name": "stdout",
          "text": [
            "Average Training Loss for Epoch 10: 0.032497320988891173\n",
            "Validation Loss after Epoch 10: 0.26557707077881787\n",
            "Early stopping counter: 5/9\n",
            "Epoch 11/100 - Training: hazard-category\n"
          ]
        },
        {
          "output_type": "stream",
          "name": "stderr",
          "text": [
            "Training Epoch 11: 100%|██████████| 255/255 [01:22<00:00,  3.09it/s, loss=0.000774]\n"
          ]
        },
        {
          "output_type": "stream",
          "name": "stdout",
          "text": [
            "Average Training Loss for Epoch 11: 0.01998385538954251\n",
            "Validation Loss after Epoch 11: 0.27503021656593774\n",
            "Early stopping counter: 6/9\n",
            "Epoch 12/100 - Training: hazard-category\n"
          ]
        },
        {
          "output_type": "stream",
          "name": "stderr",
          "text": [
            "Training Epoch 12: 100%|██████████| 255/255 [01:22<00:00,  3.09it/s, loss=0.000895]\n"
          ]
        },
        {
          "output_type": "stream",
          "name": "stdout",
          "text": [
            "Average Training Loss for Epoch 12: 0.014619499716369033\n",
            "Validation Loss after Epoch 12: 0.2888569576643931\n",
            "Early stopping counter: 7/9\n",
            "Epoch 13/100 - Training: hazard-category\n"
          ]
        },
        {
          "output_type": "stream",
          "name": "stderr",
          "text": [
            "Training Epoch 13: 100%|██████████| 255/255 [01:22<00:00,  3.09it/s, loss=0.00098]\n"
          ]
        },
        {
          "output_type": "stream",
          "name": "stdout",
          "text": [
            "Average Training Loss for Epoch 13: 0.010073064479922109\n",
            "Validation Loss after Epoch 13: 0.30030168795019563\n",
            "Early stopping counter: 8/9\n",
            "Epoch 14/100 - Training: hazard-category\n"
          ]
        },
        {
          "output_type": "stream",
          "name": "stderr",
          "text": [
            "Training Epoch 14: 100%|██████████| 255/255 [01:22<00:00,  3.09it/s, loss=0.00237]\n"
          ]
        },
        {
          "output_type": "stream",
          "name": "stdout",
          "text": [
            "Average Training Loss for Epoch 14: 0.007186391522797445\n",
            "Validation Loss after Epoch 14: 0.3008114660260617\n",
            "Early stopping counter: 9/9\n",
            "Early stopping triggered.\n"
          ]
        },
        {
          "output_type": "stream",
          "name": "stderr",
          "text": [
            "<ipython-input-27-15f9697b865f>:92: FutureWarning: You are using `torch.load` with `weights_only=False` (the current default value), which uses the default pickle module implicitly. It is possible to construct malicious pickle data which will execute arbitrary code during unpickling (See https://github.com/pytorch/pytorch/blob/main/SECURITY.md#untrusted-models for more details). In a future release, the default value for `weights_only` will be flipped to `True`. This limits the functions that could be executed during unpickling. Arbitrary objects will no longer be allowed to be loaded via this mode unless they are explicitly allowlisted by the user via `torch.serialization.add_safe_globals`. We recommend you start setting `weights_only=True` for any use case where you don't have full control of the loaded file. Please open an issue on GitHub for any issues related to this experimental feature.\n",
            "  model.load_state_dict(torch.load(f\"best_model_{target}.pt\"))\n"
          ]
        },
        {
          "output_type": "stream",
          "name": "stdout",
          "text": [
            "Evaluating model for task: hazard-category\n"
          ]
        },
        {
          "output_type": "stream",
          "name": "stderr",
          "text": [
            "Evaluating: 100%|██████████| 64/64 [00:06<00:00,  9.43it/s]\n"
          ]
        },
        {
          "output_type": "stream",
          "name": "stdout",
          "text": [
            "F1-Score for hazard-category: 0.9433545110826577\n",
            "Classification Report for hazard-category:\n",
            "\n",
            "                                precision    recall  f1-score   support\n",
            "\n",
            "                     allergens       0.95      0.98      0.97       377\n",
            "                    biological       0.99      0.98      0.99       339\n",
            "                      chemical       0.93      0.96      0.94        68\n",
            "food additives and flavourings       0.30      0.60      0.40         5\n",
            "                foreign bodies       0.96      0.99      0.97       111\n",
            "                         fraud       0.82      0.72      0.77        68\n",
            "                     migration       0.00      0.00      0.00         1\n",
            "          organoleptic aspects       0.64      0.70      0.67        10\n",
            "                  other hazard       0.82      0.67      0.73        27\n",
            "              packaging defect       1.00      0.64      0.78        11\n",
            "\n",
            "                      accuracy                           0.94      1017\n",
            "                     macro avg       0.74      0.72      0.72      1017\n",
            "                  weighted avg       0.95      0.94      0.94      1017\n",
            "\n",
            "\n",
            "Starting training for task: product-category\n"
          ]
        },
        {
          "output_type": "stream",
          "name": "stderr",
          "text": [
            "Some weights of BertForSequenceClassification were not initialized from the model checkpoint at dmis-lab/biobert-base-cased-v1.1 and are newly initialized: ['classifier.bias', 'classifier.weight']\n",
            "You should probably TRAIN this model on a down-stream task to be able to use it for predictions and inference.\n"
          ]
        },
        {
          "output_type": "stream",
          "name": "stdout",
          "text": [
            "Epoch 1/100 - Training: product-category\n"
          ]
        },
        {
          "output_type": "stream",
          "name": "stderr",
          "text": [
            "Training Epoch 1: 100%|██████████| 255/255 [01:23<00:00,  3.05it/s, loss=0.664]\n"
          ]
        },
        {
          "output_type": "stream",
          "name": "stdout",
          "text": [
            "Average Training Loss for Epoch 1: 1.860068087718066\n",
            "Validation Loss after Epoch 1: 1.254404972307384\n",
            "Epoch 2/100 - Training: product-category\n"
          ]
        },
        {
          "output_type": "stream",
          "name": "stderr",
          "text": [
            "Training Epoch 2: 100%|██████████| 255/255 [01:22<00:00,  3.09it/s, loss=0.929]\n"
          ]
        },
        {
          "output_type": "stream",
          "name": "stdout",
          "text": [
            "Average Training Loss for Epoch 2: 1.040272042739625\n",
            "Validation Loss after Epoch 2: 0.9498994033783674\n",
            "Epoch 3/100 - Training: product-category\n"
          ]
        },
        {
          "output_type": "stream",
          "name": "stderr",
          "text": [
            "Training Epoch 3: 100%|██████████| 255/255 [01:22<00:00,  3.09it/s, loss=0.0185]\n"
          ]
        },
        {
          "output_type": "stream",
          "name": "stdout",
          "text": [
            "Average Training Loss for Epoch 3: 0.6437753416378709\n",
            "Validation Loss after Epoch 3: 0.9160427339375019\n",
            "Epoch 4/100 - Training: product-category\n"
          ]
        },
        {
          "output_type": "stream",
          "name": "stderr",
          "text": [
            "Training Epoch 4: 100%|██████████| 255/255 [01:22<00:00,  3.09it/s, loss=0.0336]\n"
          ]
        },
        {
          "output_type": "stream",
          "name": "stdout",
          "text": [
            "Average Training Loss for Epoch 4: 0.3833046844776939\n",
            "Validation Loss after Epoch 4: 0.9890541359782219\n",
            "Early stopping counter: 1/9\n",
            "Epoch 5/100 - Training: product-category\n"
          ]
        },
        {
          "output_type": "stream",
          "name": "stderr",
          "text": [
            "Training Epoch 5: 100%|██████████| 255/255 [01:22<00:00,  3.09it/s, loss=0.00402]\n"
          ]
        },
        {
          "output_type": "stream",
          "name": "stdout",
          "text": [
            "Average Training Loss for Epoch 5: 0.24658244466226475\n",
            "Validation Loss after Epoch 5: 0.9926937860436738\n",
            "Early stopping counter: 2/9\n",
            "Epoch 6/100 - Training: product-category\n"
          ]
        },
        {
          "output_type": "stream",
          "name": "stderr",
          "text": [
            "Training Epoch 6: 100%|██████████| 255/255 [01:22<00:00,  3.09it/s, loss=0.0252]\n"
          ]
        },
        {
          "output_type": "stream",
          "name": "stdout",
          "text": [
            "Average Training Loss for Epoch 6: 0.1438320073792163\n",
            "Validation Loss after Epoch 6: 1.0674756047083065\n",
            "Early stopping counter: 3/9\n",
            "Epoch 7/100 - Training: product-category\n"
          ]
        },
        {
          "output_type": "stream",
          "name": "stderr",
          "text": [
            "Training Epoch 7: 100%|██████████| 255/255 [01:22<00:00,  3.09it/s, loss=0.0351]\n"
          ]
        },
        {
          "output_type": "stream",
          "name": "stdout",
          "text": [
            "Average Training Loss for Epoch 7: 0.08668091528336791\n",
            "Validation Loss after Epoch 7: 1.1298464983701706\n",
            "Early stopping counter: 4/9\n",
            "Epoch 8/100 - Training: product-category\n"
          ]
        },
        {
          "output_type": "stream",
          "name": "stderr",
          "text": [
            "Training Epoch 8: 100%|██████████| 255/255 [01:22<00:00,  3.10it/s, loss=0.00417]\n"
          ]
        },
        {
          "output_type": "stream",
          "name": "stdout",
          "text": [
            "Average Training Loss for Epoch 8: 0.04252996213515015\n",
            "Validation Loss after Epoch 8: 1.0658981469459832\n",
            "Early stopping counter: 5/9\n",
            "Epoch 9/100 - Training: product-category\n"
          ]
        },
        {
          "output_type": "stream",
          "name": "stderr",
          "text": [
            "Training Epoch 9: 100%|██████████| 255/255 [01:22<00:00,  3.09it/s, loss=0.00183]\n"
          ]
        },
        {
          "output_type": "stream",
          "name": "stdout",
          "text": [
            "Average Training Loss for Epoch 9: 0.02400453854580501\n",
            "Validation Loss after Epoch 9: 1.0747963403118774\n",
            "Early stopping counter: 6/9\n",
            "Epoch 10/100 - Training: product-category\n"
          ]
        },
        {
          "output_type": "stream",
          "name": "stderr",
          "text": [
            "Training Epoch 10: 100%|██████████| 255/255 [01:22<00:00,  3.09it/s, loss=0.0033]\n"
          ]
        },
        {
          "output_type": "stream",
          "name": "stdout",
          "text": [
            "Average Training Loss for Epoch 10: 0.018851797365784354\n",
            "Validation Loss after Epoch 10: 1.0872080671833828\n",
            "Early stopping counter: 7/9\n",
            "Epoch 11/100 - Training: product-category\n"
          ]
        },
        {
          "output_type": "stream",
          "name": "stderr",
          "text": [
            "Training Epoch 11: 100%|██████████| 255/255 [01:22<00:00,  3.09it/s, loss=0.0418]\n"
          ]
        },
        {
          "output_type": "stream",
          "name": "stdout",
          "text": [
            "Average Training Loss for Epoch 11: 0.016374234013332455\n",
            "Validation Loss after Epoch 11: 1.0988473910838366\n",
            "Early stopping counter: 8/9\n",
            "Epoch 12/100 - Training: product-category\n"
          ]
        },
        {
          "output_type": "stream",
          "name": "stderr",
          "text": [
            "Training Epoch 12: 100%|██████████| 255/255 [01:22<00:00,  3.09it/s, loss=0.00163]\n"
          ]
        },
        {
          "output_type": "stream",
          "name": "stdout",
          "text": [
            "Average Training Loss for Epoch 12: 0.014261760258608881\n",
            "Validation Loss after Epoch 12: 1.100366580300033\n",
            "Early stopping counter: 9/9\n",
            "Early stopping triggered.\n"
          ]
        },
        {
          "output_type": "stream",
          "name": "stderr",
          "text": [
            "<ipython-input-27-15f9697b865f>:92: FutureWarning: You are using `torch.load` with `weights_only=False` (the current default value), which uses the default pickle module implicitly. It is possible to construct malicious pickle data which will execute arbitrary code during unpickling (See https://github.com/pytorch/pytorch/blob/main/SECURITY.md#untrusted-models for more details). In a future release, the default value for `weights_only` will be flipped to `True`. This limits the functions that could be executed during unpickling. Arbitrary objects will no longer be allowed to be loaded via this mode unless they are explicitly allowlisted by the user via `torch.serialization.add_safe_globals`. We recommend you start setting `weights_only=True` for any use case where you don't have full control of the loaded file. Please open an issue on GitHub for any issues related to this experimental feature.\n",
            "  model.load_state_dict(torch.load(f\"best_model_{target}.pt\"))\n"
          ]
        },
        {
          "output_type": "stream",
          "name": "stdout",
          "text": [
            "Evaluating model for task: product-category\n"
          ]
        },
        {
          "output_type": "stream",
          "name": "stderr",
          "text": [
            "Evaluating: 100%|██████████| 64/64 [00:06<00:00,  9.38it/s]\n"
          ]
        },
        {
          "output_type": "stream",
          "name": "stdout",
          "text": [
            "F1-Score for product-category: 0.7327494946372082\n",
            "Classification Report for product-category:\n",
            "\n",
            "                                                   precision    recall  f1-score   support\n",
            "\n",
            "                              alcoholic beverages       1.00      0.57      0.73         7\n",
            "                      cereals and bakery products       0.75      0.69      0.72       123\n",
            "     cocoa and cocoa preparations, coffee and tea       0.70      0.80      0.74        49\n",
            "                                    confectionery       0.53      0.45      0.49        40\n",
            "dietetic foods, food supplements, fortified foods       0.64      0.75      0.69        24\n",
            "                                    fats and oils       1.00      0.50      0.67         4\n",
            "                                   feed materials       0.00      0.00      0.00         3\n",
            "                           food contact materials       0.00      0.00      0.00         1\n",
            "                            fruits and vegetables       0.84      0.68      0.75       112\n",
            "                                 herbs and spices       0.33      0.19      0.24        16\n",
            "                            honey and royal jelly       0.00      0.00      0.00         1\n",
            "                                ices and desserts       0.92      0.86      0.89        56\n",
            "                     meat, egg and dairy products       0.85      0.93      0.89       282\n",
            "                          non-alcoholic beverages       0.86      0.77      0.81        31\n",
            "                     nuts, nut products and seeds       0.68      0.79      0.73        63\n",
            "                       other food product / mixed       0.00      0.00      0.00         9\n",
            "                                         pet feed       1.00      0.67      0.80         6\n",
            "                       prepared dishes and snacks       0.45      0.49      0.47        90\n",
            "                                          seafood       0.87      0.86      0.86        56\n",
            "             soups, broths, sauces and condiments       0.44      0.60      0.51        43\n",
            "                                sugars and syrups       0.00      0.00      0.00         1\n",
            "\n",
            "                                         accuracy                           0.74      1017\n",
            "                                        macro avg       0.56      0.50      0.52      1017\n",
            "                                     weighted avg       0.73      0.74      0.73      1017\n",
            "\n",
            "\n",
            "Starting training for task: hazard\n"
          ]
        },
        {
          "output_type": "stream",
          "name": "stderr",
          "text": [
            "Some weights of BertForSequenceClassification were not initialized from the model checkpoint at dmis-lab/biobert-base-cased-v1.1 and are newly initialized: ['classifier.bias', 'classifier.weight']\n",
            "You should probably TRAIN this model on a down-stream task to be able to use it for predictions and inference.\n"
          ]
        },
        {
          "output_type": "stream",
          "name": "stdout",
          "text": [
            "Epoch 1/100 - Training: hazard\n"
          ]
        },
        {
          "output_type": "stream",
          "name": "stderr",
          "text": [
            "Training Epoch 1: 100%|██████████| 255/255 [01:23<00:00,  3.05it/s, loss=3.17]\n"
          ]
        },
        {
          "output_type": "stream",
          "name": "stdout",
          "text": [
            "Average Training Loss for Epoch 1: 2.56149242438522\n",
            "Validation Loss after Epoch 1: 1.4875082005746663\n",
            "Epoch 2/100 - Training: hazard\n"
          ]
        },
        {
          "output_type": "stream",
          "name": "stderr",
          "text": [
            "Training Epoch 2: 100%|██████████| 255/255 [01:22<00:00,  3.09it/s, loss=0.0122]\n"
          ]
        },
        {
          "output_type": "stream",
          "name": "stdout",
          "text": [
            "Average Training Loss for Epoch 2: 1.210525272666093\n",
            "Validation Loss after Epoch 2: 1.1105729159899056\n",
            "Epoch 3/100 - Training: hazard\n"
          ]
        },
        {
          "output_type": "stream",
          "name": "stderr",
          "text": [
            "Training Epoch 3: 100%|██████████| 255/255 [01:22<00:00,  3.09it/s, loss=5.5]\n"
          ]
        },
        {
          "output_type": "stream",
          "name": "stdout",
          "text": [
            "Average Training Loss for Epoch 3: 0.866402884850315\n",
            "Validation Loss after Epoch 3: 0.9031850447645411\n",
            "Epoch 4/100 - Training: hazard\n"
          ]
        },
        {
          "output_type": "stream",
          "name": "stderr",
          "text": [
            "Training Epoch 4: 100%|██████████| 255/255 [01:22<00:00,  3.09it/s, loss=0.0206]\n"
          ]
        },
        {
          "output_type": "stream",
          "name": "stdout",
          "text": [
            "Average Training Loss for Epoch 4: 0.6304155398963713\n",
            "Validation Loss after Epoch 4: 0.8385995001299307\n",
            "Epoch 5/100 - Training: hazard\n"
          ]
        },
        {
          "output_type": "stream",
          "name": "stderr",
          "text": [
            "Training Epoch 5: 100%|██████████| 255/255 [01:22<00:00,  3.09it/s, loss=0.0136]\n"
          ]
        },
        {
          "output_type": "stream",
          "name": "stdout",
          "text": [
            "Average Training Loss for Epoch 5: 0.4661100546409394\n",
            "Validation Loss after Epoch 5: 0.7624372491845861\n",
            "Epoch 6/100 - Training: hazard\n"
          ]
        },
        {
          "output_type": "stream",
          "name": "stderr",
          "text": [
            "Training Epoch 6: 100%|██████████| 255/255 [01:22<00:00,  3.09it/s, loss=0.103]\n"
          ]
        },
        {
          "output_type": "stream",
          "name": "stdout",
          "text": [
            "Average Training Loss for Epoch 6: 0.3352111782221233\n",
            "Validation Loss after Epoch 6: 0.7656751431350131\n",
            "Early stopping counter: 1/9\n",
            "Epoch 7/100 - Training: hazard\n"
          ]
        },
        {
          "output_type": "stream",
          "name": "stderr",
          "text": [
            "Training Epoch 7: 100%|██████████| 255/255 [01:22<00:00,  3.09it/s, loss=0.0265]\n"
          ]
        },
        {
          "output_type": "stream",
          "name": "stdout",
          "text": [
            "Average Training Loss for Epoch 7: 0.2542060794783573\n",
            "Validation Loss after Epoch 7: 0.7850925178208854\n",
            "Early stopping counter: 2/9\n",
            "Epoch 8/100 - Training: hazard\n"
          ]
        },
        {
          "output_type": "stream",
          "name": "stderr",
          "text": [
            "Training Epoch 8: 100%|██████████| 255/255 [01:22<00:00,  3.10it/s, loss=0.00573]\n"
          ]
        },
        {
          "output_type": "stream",
          "name": "stdout",
          "text": [
            "Average Training Loss for Epoch 8: 0.1944229768497833\n",
            "Validation Loss after Epoch 8: 0.774550450121751\n",
            "Early stopping counter: 3/9\n",
            "Epoch 9/100 - Training: hazard\n"
          ]
        },
        {
          "output_type": "stream",
          "name": "stderr",
          "text": [
            "Training Epoch 9: 100%|██████████| 255/255 [01:22<00:00,  3.09it/s, loss=0.0276]\n"
          ]
        },
        {
          "output_type": "stream",
          "name": "stdout",
          "text": [
            "Average Training Loss for Epoch 9: 0.15537802213985547\n",
            "Validation Loss after Epoch 9: 0.7779683887347346\n",
            "Early stopping counter: 4/9\n",
            "Epoch 10/100 - Training: hazard\n"
          ]
        },
        {
          "output_type": "stream",
          "name": "stderr",
          "text": [
            "Training Epoch 10: 100%|██████████| 255/255 [01:22<00:00,  3.09it/s, loss=0.00507]\n"
          ]
        },
        {
          "output_type": "stream",
          "name": "stdout",
          "text": [
            "Average Training Loss for Epoch 10: 0.10635463304306363\n",
            "Validation Loss after Epoch 10: 0.7947975320566911\n",
            "Early stopping counter: 5/9\n",
            "Epoch 11/100 - Training: hazard\n"
          ]
        },
        {
          "output_type": "stream",
          "name": "stderr",
          "text": [
            "Training Epoch 11: 100%|██████████| 255/255 [01:22<00:00,  3.10it/s, loss=0.206]\n"
          ]
        },
        {
          "output_type": "stream",
          "name": "stdout",
          "text": [
            "Average Training Loss for Epoch 11: 0.0792879583387106\n",
            "Validation Loss after Epoch 11: 0.7890628517925506\n",
            "Early stopping counter: 6/9\n",
            "Epoch 12/100 - Training: hazard\n"
          ]
        },
        {
          "output_type": "stream",
          "name": "stderr",
          "text": [
            "Training Epoch 12: 100%|██████████| 255/255 [01:22<00:00,  3.09it/s, loss=0.0441]\n"
          ]
        },
        {
          "output_type": "stream",
          "name": "stdout",
          "text": [
            "Average Training Loss for Epoch 12: 0.06803843196043197\n",
            "Validation Loss after Epoch 12: 0.7960599010402802\n",
            "Early stopping counter: 7/9\n",
            "Epoch 13/100 - Training: hazard\n"
          ]
        },
        {
          "output_type": "stream",
          "name": "stderr",
          "text": [
            "Training Epoch 13: 100%|██████████| 255/255 [01:22<00:00,  3.09it/s, loss=0.0222]\n"
          ]
        },
        {
          "output_type": "stream",
          "name": "stdout",
          "text": [
            "Average Training Loss for Epoch 13: 0.05999292516898291\n",
            "Validation Loss after Epoch 13: 0.7953772420005407\n",
            "Early stopping counter: 8/9\n",
            "Epoch 14/100 - Training: hazard\n"
          ]
        },
        {
          "output_type": "stream",
          "name": "stderr",
          "text": [
            "Training Epoch 14: 100%|██████████| 255/255 [01:22<00:00,  3.09it/s, loss=0.252]\n"
          ]
        },
        {
          "output_type": "stream",
          "name": "stdout",
          "text": [
            "Average Training Loss for Epoch 14: 0.05462691542491609\n",
            "Validation Loss after Epoch 14: 0.7962887064059032\n",
            "Early stopping counter: 9/9\n",
            "Early stopping triggered.\n"
          ]
        },
        {
          "output_type": "stream",
          "name": "stderr",
          "text": [
            "<ipython-input-27-15f9697b865f>:92: FutureWarning: You are using `torch.load` with `weights_only=False` (the current default value), which uses the default pickle module implicitly. It is possible to construct malicious pickle data which will execute arbitrary code during unpickling (See https://github.com/pytorch/pytorch/blob/main/SECURITY.md#untrusted-models for more details). In a future release, the default value for `weights_only` will be flipped to `True`. This limits the functions that could be executed during unpickling. Arbitrary objects will no longer be allowed to be loaded via this mode unless they are explicitly allowlisted by the user via `torch.serialization.add_safe_globals`. We recommend you start setting `weights_only=True` for any use case where you don't have full control of the loaded file. Please open an issue on GitHub for any issues related to this experimental feature.\n",
            "  model.load_state_dict(torch.load(f\"best_model_{target}.pt\"))\n"
          ]
        },
        {
          "output_type": "stream",
          "name": "stdout",
          "text": [
            "Evaluating model for task: hazard\n"
          ]
        },
        {
          "output_type": "stream",
          "name": "stderr",
          "text": [
            "Evaluating: 100%|██████████| 64/64 [00:06<00:00,  9.37it/s]\n"
          ]
        },
        {
          "output_type": "stream",
          "name": "stdout",
          "text": [
            "F1-Score for hazard: 0.8221973906841757\n",
            "Classification Report for hazard:\n",
            "\n",
            "                                                   precision    recall  f1-score   support\n",
            "\n",
            "                                        Aflatoxin       1.00      1.00      1.00         4\n",
            "                                  alcohol content       0.00      0.00      0.00         1\n",
            "                                        alkaloids       0.00      0.00      0.00         2\n",
            "                                        allergens       0.00      0.00      0.00         4\n",
            "                                           almond       0.93      0.93      0.93        14\n",
            "             altered organoleptic characteristics       0.00      0.00      0.00         2\n",
            "                                        amygdalin       0.00      0.00      0.00         2\n",
            "                           antibiotics, vet drugs       1.00      1.00      1.00         1\n",
            "                                    bacillus spp.       1.00      1.00      1.00         1\n",
            "                             bad smell / off odor       0.00      0.00      0.00         1\n",
            "                                    bone fragment       1.00      1.00      1.00         1\n",
            "                                       brazil nut       0.00      0.00      0.00         1\n",
            "                                bulging packaging       0.12      0.25      0.17         4\n",
            "                                           cashew       0.89      1.00      0.94         8\n",
            "                      celery and products thereof       0.00      0.00      0.00         3\n",
            "                                          cereals       0.00      0.00      0.00         1\n",
            "   cereals containing gluten and products thereof       0.75      0.91      0.82        43\n",
            "                                         chemical       0.00      0.00      0.00         2\n",
            "                 chemical compound (high content)       1.00      0.33      0.50         3\n",
            "                 chemical compound (unauthorised)       1.00      1.00      1.00         3\n",
            "                            clostridium botulinum       0.50      1.00      0.67         4\n",
            "                                          coconut       0.00      0.00      0.00         1\n",
            "                                        coliforms       0.00      0.00      0.00         1\n",
            "                          compositional deviation       0.00      0.00      0.00         1\n",
            "                                  cronobacter spp       0.67      1.00      0.80         2\n",
            "                 crustaceans and products thereof       1.00      1.00      1.00         3\n",
            "                                       cyclospora       0.50      1.00      0.67         1\n",
            "                                   dairy products       0.00      0.00      0.00         1\n",
            "                                          dioxins       1.00      1.00      1.00         1\n",
            "                      e 425 - konjac unauthorised       1.00      0.50      0.67         2\n",
            "                        eggs and products thereof       0.84      0.86      0.85        42\n",
            "                                    enteroviruses       1.00      1.00      1.00         1\n",
            "                                 escherichia coli       0.98      0.98      0.98        47\n",
            "                        fish and products thereof       1.00      0.88      0.93         8\n",
            "                                   foreign bodies       0.17      0.33      0.22         3\n",
            "                                   glass fragment       1.00      0.95      0.98        21\n",
            "                                         hazelnut       1.00      1.00      1.00         3\n",
            "                                     heavy metals       0.58      1.00      0.74         7\n",
            "                           high content of copper       1.00      1.00      1.00         1\n",
            "                          high content of cyanide       0.25      1.00      0.40         1\n",
            "                         high content of vitamins       1.00      1.00      1.00         1\n",
            "                              improper conditions       0.00      0.00      0.00         3\n",
            "                               improper packaging       0.00      0.00      0.00         2\n",
            "                               incorrect labeling       0.00      0.00      0.00         4\n",
            "                           incorrect use by dates       0.88      1.00      0.93         7\n",
            "                                          insects       1.00      1.00      1.00         2\n",
            "                                inspection issues       0.83      0.94      0.88        16\n",
            "             insufficient labelling/documentation       0.00      0.00      0.00         1\n",
            "                         labelling/misdescription       0.83      0.50      0.62        10\n",
            "                           listeria monocytogenes       0.95      1.00      0.97       139\n",
            "                                     listeria spp       0.00      0.00      0.00         2\n",
            "                                   metal fragment       0.91      0.86      0.89        36\n",
            "                    microbiological contamination       0.33      0.50      0.40         2\n",
            "                        milk and products thereof       0.92      0.96      0.94       108\n",
            "                                      misbranding       0.00      0.00      0.00         1\n",
            "                                   misdescription       0.00      0.00      0.00         3\n",
            "                                      mislabelled       0.00      0.00      0.00         1\n",
            "                    molluscs and products thereof       0.00      0.00      0.00         1\n",
            "                                           moulds       1.00      1.00      1.00         2\n",
            "                     mustard and products thereof       0.73      0.89      0.80         9\n",
            "                                         nitrogen       0.00      0.00      0.00         1\n",
            "                        non compliance with HACCP       0.00      0.00      0.00         1\n",
            "                                        norovirus       1.00      1.00      1.00         5\n",
            "                                             nuts       0.33      0.50      0.40         6\n",
            "                                       ochratoxin       1.00      1.00      1.00         1\n",
            "                                   organochlorine       1.00      1.00      1.00         1\n",
            "                                            other       0.36      0.43      0.39        23\n",
            "                         other misbranding issues       0.00      0.00      0.00         1\n",
            "                             other not classified       0.33      0.40      0.36         5\n",
            "          other not classified biological hazards       1.00      0.50      0.67         2\n",
            "            other not classified chemical hazards       0.67      1.00      0.80         6\n",
            "  other not classified hazards for foreign bodies       0.00      0.00      0.00         2\n",
            "                                 packaging defect       0.40      0.40      0.40         5\n",
            "       paralytic shellfish poisoning (psp) toxins       0.00      0.00      0.00         1\n",
            "                              pathogenic bacteria       0.00      0.00      0.00         2\n",
            "                                          patulin       1.00      1.00      1.00         2\n",
            "                     peanuts and products thereof       0.93      0.96      0.95        45\n",
            "                                        pecan nut       0.83      0.83      0.83         6\n",
            "                                   pieces of wood       1.00      1.00      1.00         2\n",
            "                                    pistachio nut       1.00      0.67      0.80         3\n",
            "                                 plastic fragment       0.87      0.87      0.87        39\n",
            "                 polycyclic aromatic hydrocarbons       1.00      1.00      1.00         1\n",
            "                              poor hygienic state       0.00      0.00      0.00         1\n",
            "                    poor or insufficient controls       0.00      0.00      0.00         4\n",
            "                                       processing       0.83      0.83      0.83         6\n",
            "                 product category/characteristics       0.00      0.00      0.00         1\n",
            "                                 rubber fragments       0.50      0.75      0.60         4\n",
            "                                       salmonella       1.00      0.94      0.97       121\n",
            "                sesame seeds and products thereof       1.00      1.00      1.00        10\n",
            "                    soybeans and products thereof       0.81      0.88      0.85        34\n",
            "                    specified risk material (srm)       0.00      0.00      0.00         4\n",
            "                                         spoilage       0.57      1.00      0.73         4\n",
            "                                   staphylococcus       1.00      1.00      1.00         3\n",
            "                                           stones       0.00      0.00      0.00         0\n",
            "                              sulphates/sulphites       0.00      0.00      0.00         3\n",
            "                                  sulphur dioxide       0.80      0.80      0.80         5\n",
            "                    sulphur dioxide and sulphites       0.72      1.00      0.84        18\n",
            "                                        tampering       0.00      0.00      0.00         2\n",
            "                                taste disturbance       0.00      0.00      0.00         3\n",
            "too high content of fluorinated organic chemicals       0.00      0.00      0.00         2\n",
            "   too high content of tetrahydrocannabinol (THC)       0.00      0.00      0.00         2\n",
            "                                            toxin       1.00      1.00      1.00         8\n",
            "                              unauthorised import       0.50      1.00      0.67         1\n",
            "               unauthorised placing on the market       0.00      0.00      0.00         1\n",
            "            unauthorised substance ethylene oxide       1.00      1.00      1.00         9\n",
            "                unauthorised substance sildenafil       0.00      0.00      0.00         0\n",
            "                              undeclared additive       0.33      0.50      0.40         2\n",
            "                           undeclared constituent       0.00      0.00      0.00         1\n",
            "                                            virus       1.00      1.00      1.00         1\n",
            "                                           walnut       0.75      0.60      0.67         5\n",
            "                                           yeasts       0.00      0.00      0.00         0\n",
            "\n",
            "                                         accuracy                           0.84      1017\n",
            "                                        macro avg       0.50      0.53      0.50      1017\n",
            "                                     weighted avg       0.81      0.84      0.82      1017\n",
            "\n",
            "\n",
            "Starting training for task: product\n"
          ]
        },
        {
          "output_type": "stream",
          "name": "stderr",
          "text": [
            "Some weights of BertForSequenceClassification were not initialized from the model checkpoint at dmis-lab/biobert-base-cased-v1.1 and are newly initialized: ['classifier.bias', 'classifier.weight']\n",
            "You should probably TRAIN this model on a down-stream task to be able to use it for predictions and inference.\n"
          ]
        },
        {
          "output_type": "stream",
          "name": "stdout",
          "text": [
            "Epoch 1/100 - Training: product\n"
          ]
        },
        {
          "output_type": "stream",
          "name": "stderr",
          "text": [
            "Training Epoch 1: 100%|██████████| 255/255 [01:23<00:00,  3.05it/s, loss=6.05]\n"
          ]
        },
        {
          "output_type": "stream",
          "name": "stdout",
          "text": [
            "Average Training Loss for Epoch 1: 6.430973843967213\n",
            "Validation Loss after Epoch 1: 6.279362641274929\n",
            "Epoch 2/100 - Training: product\n"
          ]
        },
        {
          "output_type": "stream",
          "name": "stderr",
          "text": [
            "Training Epoch 2: 100%|██████████| 255/255 [01:22<00:00,  3.10it/s, loss=3.4]\n"
          ]
        },
        {
          "output_type": "stream",
          "name": "stdout",
          "text": [
            "Average Training Loss for Epoch 2: 5.873840578864603\n",
            "Validation Loss after Epoch 2: 5.775948576629162\n",
            "Epoch 3/100 - Training: product\n"
          ]
        },
        {
          "output_type": "stream",
          "name": "stderr",
          "text": [
            "Training Epoch 3: 100%|██████████| 255/255 [01:22<00:00,  3.10it/s, loss=2.99]\n"
          ]
        },
        {
          "output_type": "stream",
          "name": "stdout",
          "text": [
            "Average Training Loss for Epoch 3: 4.985759925842285\n",
            "Validation Loss after Epoch 3: 5.043755181133747\n",
            "Epoch 4/100 - Training: product\n"
          ]
        },
        {
          "output_type": "stream",
          "name": "stderr",
          "text": [
            "Training Epoch 4: 100%|██████████| 255/255 [01:22<00:00,  3.09it/s, loss=5.12]\n"
          ]
        },
        {
          "output_type": "stream",
          "name": "stdout",
          "text": [
            "Average Training Loss for Epoch 4: 4.144231489592907\n",
            "Validation Loss after Epoch 4: 4.64018539339304\n",
            "Epoch 5/100 - Training: product\n"
          ]
        },
        {
          "output_type": "stream",
          "name": "stderr",
          "text": [
            "Training Epoch 5: 100%|██████████| 255/255 [01:22<00:00,  3.09it/s, loss=4.64]\n"
          ]
        },
        {
          "output_type": "stream",
          "name": "stdout",
          "text": [
            "Average Training Loss for Epoch 5: 3.4366704753800934\n",
            "Validation Loss after Epoch 5: 4.2881148904562\n",
            "Epoch 6/100 - Training: product\n"
          ]
        },
        {
          "output_type": "stream",
          "name": "stderr",
          "text": [
            "Training Epoch 6: 100%|██████████| 255/255 [01:22<00:00,  3.09it/s, loss=4.41]\n"
          ]
        },
        {
          "output_type": "stream",
          "name": "stdout",
          "text": [
            "Average Training Loss for Epoch 6: 2.8240125081118417\n",
            "Validation Loss after Epoch 6: 4.066495042294264\n",
            "Epoch 7/100 - Training: product\n"
          ]
        },
        {
          "output_type": "stream",
          "name": "stderr",
          "text": [
            "Training Epoch 7: 100%|██████████| 255/255 [01:22<00:00,  3.09it/s, loss=0.679]\n"
          ]
        },
        {
          "output_type": "stream",
          "name": "stdout",
          "text": [
            "Average Training Loss for Epoch 7: 2.288476370830162\n",
            "Validation Loss after Epoch 7: 3.841326478868723\n",
            "Epoch 8/100 - Training: product\n"
          ]
        },
        {
          "output_type": "stream",
          "name": "stderr",
          "text": [
            "Training Epoch 8: 100%|██████████| 255/255 [01:22<00:00,  3.09it/s, loss=0.204]\n"
          ]
        },
        {
          "output_type": "stream",
          "name": "stdout",
          "text": [
            "Average Training Loss for Epoch 8: 1.8376911141124426\n",
            "Validation Loss after Epoch 8: 3.7146271392703056\n",
            "Epoch 9/100 - Training: product\n"
          ]
        },
        {
          "output_type": "stream",
          "name": "stderr",
          "text": [
            "Training Epoch 9: 100%|██████████| 255/255 [01:22<00:00,  3.09it/s, loss=3.97]\n"
          ]
        },
        {
          "output_type": "stream",
          "name": "stdout",
          "text": [
            "Average Training Loss for Epoch 9: 1.4633474535801831\n",
            "Validation Loss after Epoch 9: 3.6377406418323517\n",
            "Epoch 10/100 - Training: product\n"
          ]
        },
        {
          "output_type": "stream",
          "name": "stderr",
          "text": [
            "Training Epoch 10: 100%|██████████| 255/255 [01:22<00:00,  3.09it/s, loss=3.64]\n"
          ]
        },
        {
          "output_type": "stream",
          "name": "stdout",
          "text": [
            "Average Training Loss for Epoch 10: 1.1793136149644852\n",
            "Validation Loss after Epoch 10: 3.569000944495201\n",
            "Epoch 11/100 - Training: product\n"
          ]
        },
        {
          "output_type": "stream",
          "name": "stderr",
          "text": [
            "Training Epoch 11: 100%|██████████| 255/255 [01:22<00:00,  3.09it/s, loss=0.0886]\n"
          ]
        },
        {
          "output_type": "stream",
          "name": "stdout",
          "text": [
            "Average Training Loss for Epoch 11: 0.9222025815470546\n",
            "Validation Loss after Epoch 11: 3.551720470190048\n",
            "Epoch 12/100 - Training: product\n"
          ]
        },
        {
          "output_type": "stream",
          "name": "stderr",
          "text": [
            "Training Epoch 12: 100%|██████████| 255/255 [01:22<00:00,  3.09it/s, loss=0.5]\n"
          ]
        },
        {
          "output_type": "stream",
          "name": "stdout",
          "text": [
            "Average Training Loss for Epoch 12: 0.7322027014166701\n",
            "Validation Loss after Epoch 12: 3.49192688241601\n",
            "Epoch 13/100 - Training: product\n"
          ]
        },
        {
          "output_type": "stream",
          "name": "stderr",
          "text": [
            "Training Epoch 13: 100%|██████████| 255/255 [01:22<00:00,  3.09it/s, loss=0.0622]\n"
          ]
        },
        {
          "output_type": "stream",
          "name": "stdout",
          "text": [
            "Average Training Loss for Epoch 13: 0.5790062916045096\n",
            "Validation Loss after Epoch 13: 3.495384454727173\n",
            "Early stopping counter: 1/9\n",
            "Epoch 14/100 - Training: product\n"
          ]
        },
        {
          "output_type": "stream",
          "name": "stderr",
          "text": [
            "Training Epoch 14: 100%|██████████| 255/255 [01:22<00:00,  3.09it/s, loss=0.0537]\n"
          ]
        },
        {
          "output_type": "stream",
          "name": "stdout",
          "text": [
            "Average Training Loss for Epoch 14: 0.4576020341731754\n",
            "Validation Loss after Epoch 14: 3.5044474937021732\n",
            "Early stopping counter: 2/9\n",
            "Epoch 15/100 - Training: product\n"
          ]
        },
        {
          "output_type": "stream",
          "name": "stderr",
          "text": [
            "Training Epoch 15: 100%|██████████| 255/255 [01:22<00:00,  3.10it/s, loss=0.0526]\n"
          ]
        },
        {
          "output_type": "stream",
          "name": "stdout",
          "text": [
            "Average Training Loss for Epoch 15: 0.3676407421774724\n",
            "Validation Loss after Epoch 15: 3.483444821089506\n",
            "Epoch 16/100 - Training: product\n"
          ]
        },
        {
          "output_type": "stream",
          "name": "stderr",
          "text": [
            "Training Epoch 16: 100%|██████████| 255/255 [01:22<00:00,  3.09it/s, loss=0.0855]\n"
          ]
        },
        {
          "output_type": "stream",
          "name": "stdout",
          "text": [
            "Average Training Loss for Epoch 16: 0.29396467586504477\n",
            "Validation Loss after Epoch 16: 3.4846994262188673\n",
            "Early stopping counter: 1/9\n",
            "Epoch 17/100 - Training: product\n"
          ]
        },
        {
          "output_type": "stream",
          "name": "stderr",
          "text": [
            "Training Epoch 17: 100%|██████████| 255/255 [01:22<00:00,  3.10it/s, loss=0.275]\n"
          ]
        },
        {
          "output_type": "stream",
          "name": "stdout",
          "text": [
            "Average Training Loss for Epoch 17: 0.23235210139377444\n",
            "Validation Loss after Epoch 17: 3.508937168866396\n",
            "Early stopping counter: 2/9\n",
            "Epoch 18/100 - Training: product\n"
          ]
        },
        {
          "output_type": "stream",
          "name": "stderr",
          "text": [
            "Training Epoch 18: 100%|██████████| 255/255 [01:22<00:00,  3.09it/s, loss=0.0238]\n"
          ]
        },
        {
          "output_type": "stream",
          "name": "stdout",
          "text": [
            "Average Training Loss for Epoch 18: 0.191148871490184\n",
            "Validation Loss after Epoch 18: 3.5136890467256308\n",
            "Early stopping counter: 3/9\n",
            "Epoch 19/100 - Training: product\n"
          ]
        },
        {
          "output_type": "stream",
          "name": "stderr",
          "text": [
            "Training Epoch 19: 100%|██████████| 255/255 [01:22<00:00,  3.10it/s, loss=0.0397]\n"
          ]
        },
        {
          "output_type": "stream",
          "name": "stdout",
          "text": [
            "Average Training Loss for Epoch 19: 0.15074771335896323\n",
            "Validation Loss after Epoch 19: 3.5524194538593292\n",
            "Early stopping counter: 4/9\n",
            "Epoch 20/100 - Training: product\n"
          ]
        },
        {
          "output_type": "stream",
          "name": "stderr",
          "text": [
            "Training Epoch 20: 100%|██████████| 255/255 [01:22<00:00,  3.09it/s, loss=0.00333]\n"
          ]
        },
        {
          "output_type": "stream",
          "name": "stdout",
          "text": [
            "Average Training Loss for Epoch 20: 0.11106671730659026\n",
            "Validation Loss after Epoch 20: 3.5382126942276955\n",
            "Early stopping counter: 5/9\n",
            "Epoch 21/100 - Training: product\n"
          ]
        },
        {
          "output_type": "stream",
          "name": "stderr",
          "text": [
            "Training Epoch 21: 100%|██████████| 255/255 [01:22<00:00,  3.09it/s, loss=0.0509]\n"
          ]
        },
        {
          "output_type": "stream",
          "name": "stdout",
          "text": [
            "Average Training Loss for Epoch 21: 0.09880056541193934\n",
            "Validation Loss after Epoch 21: 3.5408432744443417\n",
            "Early stopping counter: 6/9\n",
            "Epoch 22/100 - Training: product\n"
          ]
        },
        {
          "output_type": "stream",
          "name": "stderr",
          "text": [
            "Training Epoch 22: 100%|██████████| 255/255 [01:22<00:00,  3.09it/s, loss=0.044]\n"
          ]
        },
        {
          "output_type": "stream",
          "name": "stdout",
          "text": [
            "Average Training Loss for Epoch 22: 0.09195403958506444\n",
            "Validation Loss after Epoch 22: 3.545782368630171\n",
            "Early stopping counter: 7/9\n",
            "Epoch 23/100 - Training: product\n"
          ]
        },
        {
          "output_type": "stream",
          "name": "stderr",
          "text": [
            "Training Epoch 23: 100%|██████████| 255/255 [01:22<00:00,  3.09it/s, loss=0.0699]\n"
          ]
        },
        {
          "output_type": "stream",
          "name": "stdout",
          "text": [
            "Average Training Loss for Epoch 23: 0.08702425911438232\n",
            "Validation Loss after Epoch 23: 3.5480423625558615\n",
            "Early stopping counter: 8/9\n",
            "Epoch 24/100 - Training: product\n"
          ]
        },
        {
          "output_type": "stream",
          "name": "stderr",
          "text": [
            "Training Epoch 24: 100%|██████████| 255/255 [01:22<00:00,  3.10it/s, loss=0.00883]\n"
          ]
        },
        {
          "output_type": "stream",
          "name": "stdout",
          "text": [
            "Average Training Loss for Epoch 24: 0.08267992053034844\n",
            "Validation Loss after Epoch 24: 3.548329433426261\n",
            "Early stopping counter: 9/9\n",
            "Early stopping triggered.\n"
          ]
        },
        {
          "output_type": "stream",
          "name": "stderr",
          "text": [
            "<ipython-input-27-15f9697b865f>:92: FutureWarning: You are using `torch.load` with `weights_only=False` (the current default value), which uses the default pickle module implicitly. It is possible to construct malicious pickle data which will execute arbitrary code during unpickling (See https://github.com/pytorch/pytorch/blob/main/SECURITY.md#untrusted-models for more details). In a future release, the default value for `weights_only` will be flipped to `True`. This limits the functions that could be executed during unpickling. Arbitrary objects will no longer be allowed to be loaded via this mode unless they are explicitly allowlisted by the user via `torch.serialization.add_safe_globals`. We recommend you start setting `weights_only=True` for any use case where you don't have full control of the loaded file. Please open an issue on GitHub for any issues related to this experimental feature.\n",
            "  model.load_state_dict(torch.load(f\"best_model_{target}.pt\"))\n"
          ]
        },
        {
          "output_type": "stream",
          "name": "stdout",
          "text": [
            "Evaluating model for task: product\n"
          ]
        },
        {
          "output_type": "stream",
          "name": "stderr",
          "text": [
            "Evaluating: 100%|██████████| 64/64 [00:06<00:00,  9.43it/s]\n"
          ]
        },
        {
          "output_type": "stream",
          "name": "stdout",
          "text": [
            "F1-Score for product: 0.46133704490940275\n",
            "Classification Report for product:\n",
            "\n",
            "                                                   precision    recall  f1-score   support\n",
            "\n",
            "                           Catfishes (freshwater)       0.83      1.00      0.91         5\n",
            "                                  Dried pork meat       0.00      0.00      0.00         0\n",
            "                            Fishes not identified       0.43      0.50      0.46         6\n",
            "                         Not classified pork meat       0.00      0.00      0.00         3\n",
            "                       Pangas catfishes (generic)       0.00      0.00      0.00         1\n",
            "              Precooked cooked pork meat products       0.00      0.00      0.00         1\n",
            "                                    Veggie Burger       0.50      0.50      0.50         2\n",
            "                               after dinner mints       0.00      0.00      0.00         1\n",
            "                                  alfalfa sprouts       0.00      0.00      0.00         0\n",
            "                                            algae       1.00      0.67      0.80         3\n",
            "                            all purpose seasoning       1.00      1.00      1.00         1\n",
            "                                   almond kernels       0.00      0.00      0.00         1\n",
            "                                  almond products       1.00      1.00      1.00         3\n",
            "                                          almonds       0.33      1.00      0.50         3\n",
            "                                 anchovies in oil       0.00      0.00      0.00         1\n",
            "                                    anchovy paste       0.00      0.00      0.00         1\n",
            "                                       angus beef       0.00      0.00      0.00         2\n",
            "                               animal by-products       0.00      0.00      0.00         1\n",
            "                                       apple cake       0.00      0.00      0.00         1\n",
            "                                      apple juice       0.33      1.00      0.50         1\n",
            "                                  apricot kernels       1.00      1.00      1.00         2\n",
            "                                         apricots       0.00      0.00      0.00         1\n",
            "                    assorted bread roll selection       0.00      0.00      0.00         1\n",
            "                                        baby food       0.50      0.50      0.50         2\n",
            "                                     baby spinach       0.50      1.00      0.67         2\n",
            "                                           bagels       1.00      1.00      1.00         1\n",
            "                                        baguettes       0.00      0.00      0.00         0\n",
            "                                  bakery products       0.00      0.00      0.00         1\n",
            "                                       baking mix       0.00      0.00      0.00         1\n",
            "                                           bamboo       0.00      0.00      0.00         1\n",
            "                                    bamboo shoots       0.00      0.00      0.00         0\n",
            "                                   barbecue sauce       0.00      0.00      0.00         2\n",
            "                                             bars       1.00      1.00      1.00         2\n",
            "                                            basil       0.00      0.00      0.00         0\n",
            "                                basil pesto sauce       1.00      1.00      1.00         1\n",
            "                                       bean paste       0.00      0.00      0.00         0\n",
            "                                       bean snack       0.00      0.00      0.00         1\n",
            "                                     bean sprouts       0.00      0.00      0.00         1\n",
            "                                            beans       0.00      0.00      0.00         0\n",
            "                                             beef       0.00      0.00      0.00         7\n",
            "                                        beef meat       0.00      0.00      0.00         2\n",
            "                                    beef products       0.50      0.50      0.50         6\n",
            "                                      beef stewed       0.00      0.00      0.00         1\n",
            "                                      beef tallow       0.00      0.00      0.00         1\n",
            "                                      beef tongue       0.00      0.00      0.00         1\n",
            "                                   beef trimmings       0.00      0.00      0.00         0\n",
            "                                             beer       0.80      1.00      0.89         4\n",
            "                                        beetroots       0.00      0.00      0.00         0\n",
            "                                         beverage       0.00      0.00      0.00         1\n",
            "        beverage base of non-fruit origin, liquid       0.00      0.00      0.00         1\n",
            "                                         biscuits       0.27      0.50      0.35         6\n",
            "                           bitter apricot kernels       1.00      1.00      1.00         1\n",
            "                                     black pepper       0.00      0.00      0.00         0\n",
            "                                     blackberries       0.00      0.00      0.00         1\n",
            "                   blackcurrant drink concentrate       0.00      0.00      0.00         1\n",
            "                                      blue cheese       0.00      0.00      0.00         0\n",
            "                                 blue poppy seeds       0.00      0.00      0.00         1\n",
            "                                      blueberries       0.00      0.00      0.00         0\n",
            "              boletus mushrooms, stems and pieces       0.00      0.00      0.00         1\n",
            "                            bottled mineral water       0.00      0.00      0.00         2\n",
            "                                    bottled water       0.00      0.00      0.00         0\n",
            "                                      brazil nuts       0.33      0.50      0.40         2\n",
            "                                            bread       0.43      0.38      0.40         8\n",
            "                      bread and products therefor       0.00      0.00      0.00         3\n",
            "                                      bread crumb       0.00      0.00      0.00         0\n",
            "                                breakfast cereals       0.00      0.00      0.00         1\n",
            "                     breakfast cereals for babies       0.00      0.00      0.00         1\n",
            "                                      brie cheese       0.00      0.00      0.00         1\n",
            "                                         broccoli       0.00      0.00      0.00         1\n",
            "                                         brownies       0.00      0.00      0.00         0\n",
            "                                             buns       0.20      0.50      0.29         2\n",
            "                                          burrata       1.00      1.00      1.00         1\n",
            "                           burrito (ready to eat)       1.00      1.00      1.00         1\n",
            "                                           butter       0.50      1.00      0.67         1\n",
            "                                            cakes       0.81      0.76      0.79        17\n",
            "                                          candies       0.67      0.44      0.53         9\n",
            "                                   canned chicken       0.00      0.00      0.00         1\n",
            "                                   canned mussels       0.00      0.00      0.00         1\n",
            "                                   canned spinach       0.00      0.00      0.00         1\n",
            "                                    caramel bites       0.00      0.00      0.00         0\n",
            "                              carbonated beverage       0.00      0.00      0.00         0\n",
            "                                   cardamom seeds       0.00      0.00      0.00         1\n",
            "                                   cardamon seeds       0.00      0.00      0.00         0\n",
            "                                           cashew       0.00      0.00      0.00         1\n",
            "                                      cauliflower       1.00      0.50      0.67         2\n",
            "                                          cbd oil       1.00      1.00      1.00         1\n",
            "                                     cbd products       0.00      0.00      0.00         1\n",
            "                                           cereal       0.00      0.00      0.00         2\n",
            "                                      cereal bars       0.00      0.00      0.00         0\n",
            "                                   cheddar cheese       0.50      0.50      0.50         2\n",
            "                                           cheese       0.50      0.70      0.58        10\n",
            "                                   cheese burgers       0.00      0.00      0.00         1\n",
            "                                       cheese dip       1.00      1.00      1.00         1\n",
            "                                  cheese products       0.00      0.00      0.00         1\n",
            "                                    cheese spread       0.00      0.00      0.00         0\n",
            "                                         cherries       0.00      0.00      0.00         1\n",
            "                                       chia seeds       0.67      0.50      0.57         4\n",
            "                                          chicken       0.22      0.25      0.24         8\n",
            "                           chicken based products       0.45      0.61      0.52        23\n",
            "                                   chicken breast       0.25      1.00      0.40         1\n",
            "                                    chicken broth       0.00      0.00      0.00         1\n",
            "                                  chicken dippers       0.00      0.00      0.00         1\n",
            "                                chicken meat meal       0.00      0.00      0.00         1\n",
            "                            chicken meat products       0.00      0.00      0.00         1\n",
            "                              chicken noodle soup       1.00      1.00      1.00         1\n",
            "                                      chicken pie       0.00      0.00      0.00         0\n",
            "                             chicken preparations       0.18      0.33      0.24         6\n",
            "                        chicken products - frozen       0.33      0.50      0.40         2\n",
            "                                        chickpeas       0.00      0.00      0.00         1\n",
            "                                  chilled chicken       0.00      0.00      0.00         1\n",
            "                            chilled chicken parts       1.00      1.00      1.00         1\n",
            "                                   chilled salads       0.00      0.00      0.00         5\n",
            "                                     chilli paste       0.00      0.00      0.00         1\n",
            "                                    chilli pickle       0.00      0.00      0.00         0\n",
            "                                     chilli sauce       1.00      1.00      1.00         1\n",
            "                                        chocolate       0.00      0.00      0.00         8\n",
            "                 chocolate and chocolate products       0.00      0.00      0.00         1\n",
            "                    chocolate and hazelnut spread       0.00      0.00      0.00         2\n",
            "                  chocolate and products therefor       0.00      0.00      0.00         1\n",
            "                                   chocolate bars       0.44      0.80      0.57         5\n",
            "                                   chocolate eggs       0.75      1.00      0.86         3\n",
            "                               chocolate products       0.60      0.67      0.63         9\n",
            "                                 chocolate spread       0.00      0.00      0.00         1\n",
            "                  chocolate spread with hazelnuts       0.00      0.00      0.00         1\n",
            "                                 chocolate wafers       0.50      1.00      0.67         1\n",
            "                                       chocolates       0.00      0.00      0.00         0\n",
            "                                          chorizo       1.00      1.00      1.00         4\n",
            "                                   cinnamon rolls       0.00      0.00      0.00         1\n",
            "                                            clams       0.00      0.00      0.00         1\n",
            "                                   clams (canned)       0.00      0.00      0.00         0\n",
            "                                    coconut juice       0.67      1.00      0.80         2\n",
            "                                     coconut milk       0.00      0.00      0.00         2\n",
            "                               coconut milk drink       0.00      0.00      0.00         1\n",
            "                                         coconuts       0.67      1.00      0.80         4\n",
            "                                     coffee beans       0.33      0.50      0.40         2\n",
            "                                     coffee drink       0.00      0.00      0.00         1\n",
            "                              concentrated apples       0.00      0.00      0.00         1\n",
            "                                    confectionery       0.00      0.00      0.00         1\n",
            "                                   cooked chicken       0.33      0.33      0.33         3\n",
            "                            cooked chicken skewer       0.00      0.00      0.00         1\n",
            "                                       cooked ham       0.00      0.00      0.00         1\n",
            "                                  cooked sausages       0.00      0.00      0.00         1\n",
            "                                          cookies       0.73      0.85      0.79        13\n",
            "                                        coriander       0.00      0.00      0.00         1\n",
            "                                             corn       0.20      0.20      0.20         5\n",
            "                                   cottage cheese       0.00      0.00      0.00         1\n",
            "                                        cous cous       0.00      0.00      0.00         1\n",
            "                                  cow milk cheese       0.00      0.00      0.00         1\n",
            "                                         crackers       0.33      0.50      0.40         2\n",
            "                                     cream cheese       1.00      0.50      0.67         2\n",
            "                              cream chocolate pie       0.00      0.00      0.00         1\n",
            "                               crisp cheese snack       0.00      0.00      0.00         0\n",
            "                                           crisps       0.00      0.00      0.00         1\n",
            "                                       croissants       1.00      1.00      1.00         1\n",
            "                 crustaceans and products thereof       0.00      0.00      0.00         1\n",
            "                                         cupcakes       0.33      0.50      0.40         2\n",
            "                                       cured loin       0.00      0.00      0.00         1\n",
            "                                            curry       1.00      1.00      1.00         1\n",
            "                                          custard       0.00      0.00      0.00         1\n",
            "                    dark chocolate coated almonds       0.00      0.00      0.00         0\n",
            "                                  dark chocolates       0.57      0.57      0.57         7\n",
            "                                            dates       1.00      1.00      1.00         2\n",
            "                                         desserts       0.75      0.75      0.75         4\n",
            "                               dietary supplement       0.33      0.25      0.29         4\n",
            "dietetic foods, food supplements, fortified foods       0.00      0.00      0.00         2\n",
            "                                        dip-sauce       0.50      0.25      0.33         4\n",
            "                                    dipping sauce       0.00      0.00      0.00         1\n",
            "                                           donuts       1.00      0.50      0.67         2\n",
            "                                         dressing       0.00      0.00      0.00         1\n",
            "                                  dried anchovies       0.00      0.00      0.00         1\n",
            "                                     dried apples       0.00      0.00      0.00         1\n",
            "                                   dried apricots       0.67      1.00      0.80         4\n",
            "                                  dried beef meat       0.88      1.00      0.93         7\n",
            "                                    dried coconut       1.00      1.00      1.00         1\n",
            "                                dried cranberries       0.00      0.00      0.00         1\n",
            "                                       dried figs       1.00      1.00      1.00         2\n",
            "                                  dried fruit mix       0.00      0.00      0.00         1\n",
            "                                     dried fruits       0.00      0.00      0.00         1\n",
            "                      dried fruits with chocolate       0.00      0.00      0.00         2\n",
            "                                  dried mushrooms       1.00      1.00      1.00         2\n",
            "                                      dried plums       1.00      1.00      1.00         2\n",
            "                                    dried sausage       0.00      0.00      0.00         1\n",
            "                               dried strawberries       0.00      0.00      0.00         1\n",
            "                                      dry sausage       0.00      0.00      0.00         1\n",
            "                                             duck       0.25      0.50      0.33         2\n",
            "                                        dumplings       0.33      0.67      0.44         3\n",
            "                                      edam cheese       0.00      0.00      0.00         1\n",
            "                                             eggs       0.88      1.00      0.93         7\n",
            "                            eggs and egg products       0.00      0.00      0.00         1\n",
            "                          energy and protein bars       0.00      0.00      0.00         1\n",
            "                                   feed materials       0.00      0.00      0.00         3\n",
            "                                     fennel seeds       0.50      1.00      0.67         1\n",
            "                                      feta cheese       1.00      0.20      0.33         5\n",
            "                                    fish products       0.00      0.00      0.00         2\n",
            "                                         fish roe       0.00      0.00      0.00         0\n",
            "         flavoured fresh and creamy cheese spread       0.00      0.00      0.00         1\n",
            "                             flavoured soft drink       0.00      0.00      0.00         1\n",
            "              flavoured whey protein preparations       0.00      0.00      0.00         2\n",
            "                                            flour       1.00      0.75      0.86         4\n",
            "                                        foie gras       0.00      0.00      0.00         1\n",
            "                                  food supplement       0.00      0.00      0.00         1\n",
            "                                       fresh beef       0.00      0.00      0.00         1\n",
            "                                  fresh beef meat       0.00      0.00      0.00         1\n",
            "                                  fresh mushrooms       0.80      1.00      0.89         4\n",
            "                                    fresh parsley       0.00      0.00      0.00         1\n",
            "                                       fresh pork       1.00      1.00      1.00         1\n",
            "               fresh processed beef meat products       1.00      0.50      0.67         2\n",
            "                                 fresh vegetables       0.50      0.50      0.50         2\n",
            "                                      frozen beef       0.00      0.00      0.00         1\n",
            "                              frozen beef patties       0.33      0.50      0.40         2\n",
            "                             frozen beef products       0.00      0.00      0.00         1\n",
            "                               frozen beef tongue       0.00      0.00      0.00         0\n",
            "                            frozen breaded turkey       0.00      0.00      0.00         0\n",
            "                                  frozen broccoli       0.00      0.00      0.00         1\n",
            "                               frozen burger buns       0.00      0.00      0.00         1\n",
            "                                   frozen burgers       0.00      0.00      0.00         1\n",
            "                                   frozen chicken       0.00      0.00      0.00         1\n",
            "                              frozen fish fillets       1.00      1.00      1.00         1\n",
            "                               frozen green beans       0.00      0.00      0.00         1\n",
            "                                frozen hamburgers       0.00      0.00      0.00         1\n",
            "                               frozen hash browns       0.00      0.00      0.00         1\n",
            "                                   frozen lobster       1.00      1.00      1.00         1\n",
            "                         frozen marinated chicken       0.00      0.00      0.00         0\n",
            "                                  frozen pancakes       0.00      0.00      0.00         1\n",
            "                                      frozen peas       0.33      1.00      0.50         1\n",
            "                                   frozen peppers       0.00      0.00      0.00         1\n",
            "                                       frozen pie       0.00      0.00      0.00         1\n",
            "                                     frozen pizza       0.00      0.00      0.00         3\n",
            "                         frozen pork preparations       0.00      0.00      0.00         1\n",
            "                                   frozen poultry       0.00      0.00      0.00         1\n",
            "                      frozen poultry preparations       0.00      0.00      0.00         1\n",
            "                          frozen poultry products       0.00      0.00      0.00         2\n",
            "                     frozen ready to cook chicken       0.00      0.00      0.00         1\n",
            "                                frozen vegetables       0.17      1.00      0.29         1\n",
            "                         frozen vegetarian cutlet       0.00      0.00      0.00         1\n",
            "                                frozen whole fish       0.00      0.00      0.00         1\n",
            "                                       fruit bars       0.00      0.00      0.00         0\n",
            "                                      fruit juice       0.33      0.33      0.33         3\n",
            "                                        fruit mix       0.00      0.00      0.00         0\n",
            "                                      fruit punch       1.00      1.00      1.00         1\n",
            "                            fruits and vegetables       0.00      0.00      0.00         1\n",
            "                                    garlic pickle       0.00      0.00      0.00         0\n",
            "                                    garlic powder       1.00      1.00      1.00         1\n",
            "                                      goat cheese       1.00      1.00      1.00         1\n",
            "                          golden raisins/sultanas       0.00      0.00      0.00         0\n",
            "                                            gouda       0.00      0.00      0.00         1\n",
            "                                     gouda cheese       0.00      0.00      0.00         1\n",
            "                                          granola       0.50      1.00      0.67         2\n",
            "                                   grated coconut       0.67      1.00      0.80         2\n",
            "                                        gravy mix       0.50      1.00      0.67         1\n",
            "                                       green bean       0.00      0.00      0.00         0\n",
            "                                      green pesto       0.00      0.00      0.00         0\n",
            "                             grissini breadsticks       0.00      0.00      0.00         1\n",
            "                                   ground almonds       0.00      0.00      0.00         1\n",
            "                                      ground beef       0.64      1.00      0.78         9\n",
            "                                 ground beef meat       0.00      0.00      0.00         1\n",
            "                              ground black pepper       0.00      0.00      0.00         1\n",
            "                                  halloumi cheese       1.00      0.25      0.40         4\n",
            "                                            halva       1.00      1.00      1.00         1\n",
            "                                              ham       0.60      0.75      0.67         8\n",
            "                                        hazelnuts       0.00      0.00      0.00         0\n",
            "                                          herring       1.00      0.75      0.86         4\n",
            "                                            honey       0.50      1.00      0.67         1\n",
            "                              horseradish in jars       0.00      0.00      0.00         1\n",
            "                                 hot dog sausages       0.00      0.00      0.00         0\n",
            "                                         hot dogs       1.00      1.00      1.00         1\n",
            "                                        ice cream       0.92      0.90      0.91        50\n",
            "                                   infant formula       1.00      1.00      1.00         3\n",
            "                                   instant cereal       0.00      0.00      0.00         1\n",
            "                                   instant coffee       0.00      0.00      0.00         1\n",
            "                                              jam       1.00      0.60      0.75         5\n",
            "                                          jellies       1.00      0.75      0.86         4\n",
            "                                      juice drink       0.00      0.00      0.00         0\n",
            "                                           juices       0.00      0.00      0.00         0\n",
            "                                             kale       1.00      1.00      1.00         2\n",
            "                                          ketchup       0.00      0.00      0.00         1\n",
            "                                             lamb       0.00      0.00      0.00         0\n",
            "                                          lasagne       1.00      1.00      1.00         3\n",
            "                            lemonade (lemon soda)       0.00      0.00      0.00         1\n",
            "                                          lentils       1.00      1.00      1.00         1\n",
            "                                          lettuce       1.00      1.00      1.00         1\n",
            "                                 liquid egg white       0.50      1.00      0.67         1\n",
            "                           liquid food supplement       0.00      0.00      0.00         1\n",
            "                                        liquorice       0.00      0.00      0.00         0\n",
            "                                           lokoum       0.00      0.00      0.00         1\n",
            "                                        lollipops       0.00      0.00      0.00         1\n",
            "                                  long grain rice       0.00      0.00      0.00         1\n",
            "                                    luncheon meat       0.00      0.00      0.00         1\n",
            "                                      lupin seeds       0.00      0.00      0.00         1\n",
            "                                   macadamia nuts       1.00      1.00      1.00         1\n",
            "                                         mackerel       0.00      0.00      0.00         2\n",
            "                                            maize       1.00      0.50      0.67         2\n",
            "                                            mango       0.00      0.00      0.00         0\n",
            "                                        margarine       0.00      0.00      0.00         1\n",
            "                           marinated chicken meat       0.00      0.00      0.00         1\n",
            "                                      marshmalows       0.00      0.00      0.00         1\n",
            "                                 masala spice mix       0.00      0.00      0.00         1\n",
            "                        mashed chickpeas (hummus)       0.75      1.00      0.86         3\n",
            "                            massala spice mixture       0.00      0.00      0.00         0\n",
            "                                       mayonnaise       0.00      0.00      0.00         1\n",
            "      meat and meat products (other than poultry)       0.00      0.00      0.00         2\n",
            "                                        meat loaf       0.00      0.00      0.00         1\n",
            "                                meat preparations       0.00      0.00      0.00         1\n",
            "                     meat, egg and dairy products       0.00      0.00      0.00         1\n",
            "                                         meatloaf       0.00      0.00      0.00         0\n",
            "              mechanically separated chicken meat       0.00      0.00      0.00         1\n",
            "                                             milk       0.46      0.86      0.60         7\n",
            "                   milk chocolate covered raisins       0.60      1.00      0.75         3\n",
            "                                  milk chocolates       0.33      0.67      0.44         3\n",
            "                                    milk products       0.00      0.00      0.00         2\n",
            "                                      minced beef       0.50      0.50      0.50         2\n",
            "                                   minced chicken       0.00      0.00      0.00         1\n",
            "                                      minced pork       0.00      0.00      0.00         0\n",
            "                                    mineral water       0.00      0.00      0.00         0\n",
            "                      mitragyna speciosa (kratom)       1.00      0.67      0.80         3\n",
            "                                      mix of nuts       0.00      0.00      0.00         1\n",
            "                                      mixed salad       0.00      0.00      0.00         1\n",
            "                                 mixed vegetables       0.00      0.00      0.00         2\n",
            "                                         moussaka       0.00      0.00      0.00         1\n",
            "                                       mozzarella       0.00      0.00      0.00         0\n",
            "                                mozzarella cheese       0.00      0.00      0.00         1\n",
            "                                           muesli       1.00      0.50      0.67         6\n",
            "                                          muffins       1.00      1.00      1.00         2\n",
            "                                        mushrooms       0.00      0.00      0.00         1\n",
            "                                          mussels       0.00      0.00      0.00         0\n",
            "                                          mustard       1.00      1.00      1.00         2\n",
            "                               non-alcoholic beer       0.00      0.00      0.00         1\n",
            "                          non-alcoholic beverages       0.00      0.00      0.00         1\n",
            "                                           noodle       0.00      0.00      0.00         0\n",
            "                                      noodle soup       0.00      0.00      0.00         1\n",
            "                                          noodles       0.50      0.33      0.40         3\n",
            "                                           nougat       0.00      0.00      0.00         1\n",
            "                                          nut mix       0.00      0.00      0.00         1\n",
            "                               nut-almond mixture       0.00      0.00      0.00         1\n",
            "                                  nutrition shake       0.00      0.00      0.00         1\n",
            "                                             nuts       0.00      0.00      0.00         2\n",
            "                                             oats       1.00      1.00      1.00         1\n",
            "                                        olive oil       1.00      1.00      1.00         1\n",
            "                                           olives       1.00      1.00      1.00         2\n",
            "                                           onions       0.40      0.67      0.50         3\n",
            "                                     orange juice       0.00      0.00      0.00         1\n",
            "                               orange sugar paste       0.00      0.00      0.00         1\n",
            "                                          oregano       0.00      0.00      0.00         1\n",
            "                           organic chilled hummus       0.00      0.00      0.00         1\n",
            "                             other dairy products       0.00      0.00      0.00         2\n",
            "               other not classified meat products       0.14      0.25      0.18         4\n",
            "                              other types of meat       0.40      0.33      0.36         6\n",
            "                         other water-based drinks       0.00      0.00      0.00         3\n",
            "                                          oysters       1.00      1.00      1.00         5\n",
            "                                           paella       1.00      1.00      1.00         1\n",
            "                                         palm oil       1.00      1.00      1.00         1\n",
            "                                         pancakes       0.50      0.50      0.50         2\n",
            "                                           papaya       1.00      1.00      1.00         1\n",
            "                                          parsley       0.50      1.00      0.67         1\n",
            "                                            pasta       0.00      0.00      0.00         2\n",
            "                                   pasta products       0.00      0.00      0.00         0\n",
            "                                      pasta sauce       0.00      0.00      0.00         0\n",
            "                                 pasteurized milk       0.00      0.00      0.00         1\n",
            "                                           pastry       0.00      0.00      0.00         1\n",
            "                                  pastry products       0.43      0.60      0.50         5\n",
            "                                          peanuts       0.67      0.55      0.60        11\n",
            "                                       pear juice       0.00      0.00      0.00         1\n",
            "                                            pesto       0.00      0.00      0.00         1\n",
            "                                         pet feed       0.75      1.00      0.86         6\n",
            "                                 pickled beetroot       0.00      0.00      0.00         1\n",
            "                             pickled grape leaves       1.00      1.00      1.00         1\n",
            "                                  pickled peppers       0.00      0.00      0.00         1\n",
            "                                  pig meat - pork       1.00      0.50      0.67         2\n",
            "                                        pine nuts       0.00      0.00      0.00         1\n",
            "                                   pistachio nuts       0.88      0.88      0.88         8\n",
            "                                            pizza       0.20      1.00      0.33         1\n",
            "                                         plastics       0.00      0.00      0.00         1\n",
            "                  plum bread &amp; butter pudding       0.00      0.00      0.00         1\n",
            "                                         pop corn       0.00      0.00      0.00         0\n",
            "                                            poppy       0.00      0.00      0.00         0\n",
            "                                       pork belly       0.00      0.00      0.00         0\n",
            "                                         pork pie       0.00      0.00      0.00         1\n",
            "                                 pork preparation       0.00      0.00      0.00         2\n",
            "                                     pork sausage       0.40      0.67      0.50         3\n",
            "                                     potato chips       0.33      0.50      0.40         4\n",
            "                                potato croquettes       1.00      1.00      1.00         1\n",
            "                                     potato salad       1.00      1.00      1.00         1\n",
            "                                         potatoes       0.60      1.00      0.75         3\n",
            "                                          poultry       0.00      0.00      0.00         1\n",
            "                                     poultry meat       0.00      0.00      0.00         1\n",
            "                                   prawn crackers       0.00      0.00      0.00         1\n",
            "                                           prawns       0.50      1.00      0.67         1\n",
            "              precooked cooked beef meat products       0.50      0.40      0.44         5\n",
            "                                  prepacked salad       0.00      0.00      0.00         2\n",
            "                                    prepared dish       0.00      0.00      0.00         1\n",
            "                  prepared dish containing prawns       0.00      0.00      0.00         1\n",
            "                       prepared dishes and snacks       0.00      0.00      0.00         0\n",
            "                                  prepared salads       0.00      0.00      0.00         4\n",
            "                                         pretzels       1.00      1.00      1.00         1\n",
            "                                    protein balls       0.00      0.00      0.00         2\n",
            "                                      protein bar       0.50      0.50      0.50         2\n",
            "                                     protein bars       0.00      0.00      0.00         1\n",
            "                                    protein drink       0.00      0.00      0.00         1\n",
            "                                   protein powder       0.60      1.00      0.75         3\n",
            "                                          pudding       0.00      0.00      0.00         1\n",
            "                                      puffed rice       0.00      0.00      0.00         1\n",
            "                                    pumpkin seeds       0.00      0.00      0.00         0\n",
            "                                             pâté       0.00      0.00      0.00         2\n",
            "                                quorn preparation       0.00      0.00      0.00         1\n",
            "                                          raisins       0.00      0.00      0.00         1\n",
            "                                      raspberries       1.00      0.67      0.80         3\n",
            "                                          ravioli       0.00      0.00      0.00         0\n",
            "                                    raw beef meat       0.71      0.71      0.71         7\n",
            "                            raw cow's milk cheese       0.00      0.00      0.00         1\n",
            "                             raw goat milk cheese       1.00      1.00      1.00         1\n",
            "                                         raw milk       1.00      0.25      0.40         4\n",
            "                        raw milk cheese reblochon       0.00      0.00      0.00         1\n",
            "         ready cooked sliced chicken tikka breast       0.00      0.00      0.00         1\n",
            "                        ready to eat - cook meals       0.19      0.21      0.20        14\n",
            "                      ready-to-eat seafood sticks       0.00      0.00      0.00         1\n",
            "                                       red chilli       0.00      0.00      0.00         1\n",
            "                                     refreshments       0.00      0.00      0.00         1\n",
            "                                             rice       0.00      0.00      0.00         2\n",
            "                                       rice cakes       0.00      0.00      0.00         1\n",
            "                                    rice crackers       0.50      1.00      0.67         1\n",
            "                                        rice meal       0.00      0.00      0.00         1\n",
            "                                       rice snack       0.00      0.00      0.00         2\n",
            "                                  rice vermicelli       0.00      0.00      0.00         0\n",
            "                                   ricotta cheese       0.50      1.00      0.67         1\n",
            "                                     roasted nuts       0.00      0.00      0.00         0\n",
            "                                   salad dressing       0.00      0.00      0.00         2\n",
            "                                           salads       0.58      0.58      0.58        12\n",
            "                                           salami       1.00      1.00      1.00         4\n",
            "                                    salami sticks       0.00      0.00      0.00         0\n",
            "                                           salmon       0.78      0.78      0.78         9\n",
            "                                             salt       0.00      0.00      0.00         2\n",
            "                                 salted anchovies       0.00      0.00      0.00         0\n",
            "                                 sandwich filling       0.00      0.00      0.00         1\n",
            "                                       sandwiches       0.80      0.89      0.84         9\n",
            "                                            sauce       0.22      0.40      0.29         5\n",
            "                                           sauces       0.20      0.50      0.29         2\n",
            "                                          sausage       0.30      0.43      0.35         7\n",
            "                                 sausage products       0.00      0.00      0.00         1\n",
            "                                          seafood       0.00      0.00      0.00         1\n",
            "                                 seafood cocktail       0.00      0.00      0.00         0\n",
            "                                 seafood products       0.00      0.00      0.00         0\n",
            "                                 seasoned chicken       0.00      0.00      0.00         1\n",
            "                                        seasoning       0.50      0.50      0.50         2\n",
            "                                  seasoning sauce       0.00      0.00      0.00         1\n",
            "                                       seasonings       0.00      0.00      0.00         1\n",
            "                             seaweed preparations       0.00      0.00      0.00         1\n",
            "                                        seed mixe       0.00      0.00      0.00         1\n",
            "                                 semi-soft cheese       0.00      0.00      0.00         0\n",
            "                                       sesame oil       0.00      0.00      0.00         0\n",
            "                                     sesame paste       1.00      0.50      0.67         2\n",
            "                                  sesame seed oil       0.00      0.00      0.00         1\n",
            "                                     sesame seeds       1.00      1.00      1.00         1\n",
            "                                          shrimps       0.71      1.00      0.83         5\n",
            "                                       sliced ham       0.67      1.00      0.80         2\n",
            "                                   smoked sausage       0.75      0.75      0.75         4\n",
            "                                   snack crackers       0.00      0.00      0.00         1\n",
            "                                        snack mix       0.83      0.71      0.77         7\n",
            "                                 snacks (various)       0.50      0.33      0.40         3\n",
            "                                       soda drink       0.00      0.00      0.00         1\n",
            "                                      soft cheese       0.00      0.00      0.00         0\n",
            "                                      soft drinks       0.00      0.00      0.00         1\n",
            "                                             soup       0.55      1.00      0.71         6\n",
            "                                   soy bean paste       0.00      0.00      0.00         1\n",
            "                                 soy milk product       0.00      0.00      0.00         1\n",
            "                                        soy sauce       0.50      1.00      0.67         1\n",
            "                       soya and products therefor       0.00      0.00      0.00         1\n",
            "                                       soya drink       1.00      1.00      1.00         1\n",
            "                                        spice mix       0.00      0.00      0.00         1\n",
            "                                           spices       0.00      0.00      0.00         1\n",
            "                                   spinach leaves       0.00      0.00      0.00         1\n",
            "                                      sport drink       1.00      1.00      1.00         1\n",
            "                                           spread       0.00      0.00      0.00         0\n",
            "                                     spring rolls       0.33      1.00      0.50         2\n",
            "                                     spring water       1.00      1.00      1.00         1\n",
            "                                          sprouts       1.00      1.00      1.00         1\n",
            "                                            squid       0.00      0.00      0.00         0\n",
            "                                   stuffed pastry       0.00      0.00      0.00         1\n",
            "                                            sugar       1.00      1.00      1.00         1\n",
            "                                   sunflower seed       0.75      0.86      0.80         7\n",
            "                                           sweets       0.00      0.00      0.00         1\n",
            "                                      swiss rolls       1.00      1.00      1.00         1\n",
            "                                       taco sauce       0.00      0.00      0.00         1\n",
            "                                           tahini       0.71      0.71      0.71         7\n",
            "                            tahini (sesame paste)       0.00      0.00      0.00         1\n",
            "                                              tea       0.33      1.00      0.50         1\n",
            "                                         tea bags       0.00      0.00      0.00         1\n",
            "                                        tea drink       0.00      0.00      0.00         1\n",
            "                      thermal processed beef meat       0.17      0.33      0.22         3\n",
            "                      thermal processed pork meat       0.40      0.57      0.47         7\n",
            "                                       tiger nuts       0.00      0.00      0.00         0\n",
            "                                             tofu       1.00      0.50      0.67         2\n",
            "                                     tomato sauce       0.00      0.00      0.00         0\n",
            "                                   tortilla chips       0.67      0.67      0.67         3\n",
            "                            tortilla chips cheese       0.00      0.00      0.00         1\n",
            "                                           trouts       0.00      0.00      0.00         0\n",
            "                                             tuna       1.00      0.60      0.75         5\n",
            "                                           turkey       0.00      0.00      0.00         0\n",
            "                   turkey and turkey preparations       0.60      0.60      0.60         5\n",
            "                            turkey based products       0.00      0.00      0.00         3\n",
            "                                  turkey sandwich       0.00      0.00      0.00         0\n",
            "                                   tzatziki sauce       0.00      0.00      0.00         1\n",
            "                          various bakery products       0.00      0.00      0.00         2\n",
            "                                  various cheeses       0.00      0.00      0.00         1\n",
            "                    various chicken meat products       0.00      0.00      0.00         1\n",
            "                           various pasta products       0.00      0.00      0.00         1\n",
            "                          various prepared dishes       0.00      0.00      0.00         0\n",
            "                                             veal       0.00      0.00      0.00         0\n",
            "                                   vegan sausages       0.00      0.00      0.00         1\n",
            "                         vegetable based products       0.00      0.00      0.00         1\n",
            "                                    vegetable mix       0.00      0.00      0.00         2\n",
            "                            vegetable preparation       0.00      0.00      0.00         1\n",
            "                     vegetable ready to eat meals       0.00      0.00      0.00         1\n",
            "                                vegetable samosas       1.00      1.00      1.00         1\n",
            "                                       vegetables       0.00      0.00      0.00         1\n",
            "                              vitamins supplement       0.00      0.00      0.00         1\n",
            "                                           wafers       0.00      0.00      0.00         1\n",
            "                                          waffles       0.00      0.00      0.00         2\n",
            "                                          walnuts       1.00      0.50      0.67         2\n",
            "                      water for human consumption       0.00      0.00      0.00         0\n",
            "                               weight loss coffee       0.00      0.00      0.00         0\n",
            "                                      wheat snack       0.00      0.00      0.00         1\n",
            "                                     whey protein       0.33      1.00      0.50         1\n",
            "                                           whisky       0.00      0.00      0.00         1\n",
            "                              white lasagna sauce       1.00      1.00      1.00         1\n",
            "                                             wine       0.50      0.50      0.50         2\n",
            "                                            wraps       0.60      0.75      0.67         4\n",
            "                                          yoghurt       0.71      1.00      0.83         5\n",
            "\n",
            "                                         accuracy                           0.49      1017\n",
            "                                        macro avg       0.26      0.29      0.26      1017\n",
            "                                     weighted avg       0.46      0.49      0.46      1017\n",
            "\n"
          ]
        }
      ],
      "source": [
        "print(\"\\nTraining and Evaluating for Text Tasks:\")\n",
        "text_f1_scores = train_and_evaluate_nn(text_splits, targets_subtask1 + targets_subtask2, model_type='text')\n"
      ]
    },
    {
      "cell_type": "code",
      "source": [
        "# Create DataFrames for F1 scores for title and text\n",
        "f1_scores_title_df = pd.DataFrame({\n",
        "    'Task': targets_subtask1 + targets_subtask2,\n",
        "    'F1-Score': title_f1_scores\n",
        "})\n",
        "\n",
        "f1_scores_text_df = pd.DataFrame({\n",
        "    'Task': targets_subtask1 + targets_subtask2,\n",
        "    'F1-Score': text_f1_scores\n",
        "})\n",
        "\n",
        "# Print the collected F1-scores for title\n",
        "print(\"\\nCollected F1-Scores for Title-Focused Classification (BioBert):\")\n",
        "print(f1_scores_title_df)\n",
        "\n",
        "# Print the collected F1-scores for text\n",
        "print(\"\\nCollected F1-Scores for Text-Focused Classification (BioBert):\")\n",
        "print(f1_scores_text_df)\n",
        "\n",
        "# Plot F1-scores for visual comparison\n",
        "plt.figure(figsize=(10, 6))\n",
        "plt.bar(f1_scores_title_df['Task'], f1_scores_title_df['F1-Score'], alpha=0.7, label='Title-Focused')\n",
        "plt.bar(f1_scores_text_df['Task'], f1_scores_text_df['F1-Score'], alpha=0.7, label='Text-Focused')\n",
        "plt.ylabel(\"F1-Score\")\n",
        "plt.title(\"F1-Score Comparison Between Title and Text Tasks (BioBert)\")\n",
        "plt.xticks(rotation=45, ha='right')\n",
        "plt.legend()\n",
        "plt.tight_layout()\n",
        "plt.show()\n"
      ],
      "metadata": {
        "colab": {
          "base_uri": "https://localhost:8080/",
          "height": 211
        },
        "id": "wwYyYDcAjBWh",
        "outputId": "d29e9b85-e4ac-45b0-b026-f97be356c998"
      },
      "execution_count": 31,
      "outputs": [
        {
          "output_type": "error",
          "ename": "NameError",
          "evalue": "name 'title_f1_scores' is not defined",
          "traceback": [
            "\u001b[0;31m---------------------------------------------------------------------------\u001b[0m",
            "\u001b[0;31mNameError\u001b[0m                                 Traceback (most recent call last)",
            "\u001b[0;32m<ipython-input-31-43843b11ad01>\u001b[0m in \u001b[0;36m<cell line: 2>\u001b[0;34m()\u001b[0m\n\u001b[1;32m      2\u001b[0m f1_scores_title_df = pd.DataFrame({\n\u001b[1;32m      3\u001b[0m     \u001b[0;34m'Task'\u001b[0m\u001b[0;34m:\u001b[0m \u001b[0mtargets_subtask1\u001b[0m \u001b[0;34m+\u001b[0m \u001b[0mtargets_subtask2\u001b[0m\u001b[0;34m,\u001b[0m\u001b[0;34m\u001b[0m\u001b[0;34m\u001b[0m\u001b[0m\n\u001b[0;32m----> 4\u001b[0;31m     \u001b[0;34m'F1-Score'\u001b[0m\u001b[0;34m:\u001b[0m \u001b[0mtitle_f1_scores\u001b[0m\u001b[0;34m\u001b[0m\u001b[0;34m\u001b[0m\u001b[0m\n\u001b[0m\u001b[1;32m      5\u001b[0m })\n\u001b[1;32m      6\u001b[0m \u001b[0;34m\u001b[0m\u001b[0m\n",
            "\u001b[0;31mNameError\u001b[0m: name 'title_f1_scores' is not defined"
          ]
        }
      ]
    },
    {
      "cell_type": "code",
      "source": [
        "f1_scores_text_df = pd.DataFrame({\n",
        "    'Task': targets_subtask1 + targets_subtask2,\n",
        "    'F1-Score': text_f1_scores\n",
        "})\n",
        "\n",
        "# Print the collected F1-scores for text\n",
        "print(\"\\nCollected F1-Scores for Text-Focused Classification (BioBert):\")\n",
        "print(f1_scores_text_df)"
      ],
      "metadata": {
        "id": "5ursYh_G9fqi",
        "colab": {
          "base_uri": "https://localhost:8080/"
        },
        "outputId": "94045a16-ffb8-4530-8105-f973ef1b5a19"
      },
      "execution_count": 33,
      "outputs": [
        {
          "output_type": "stream",
          "name": "stdout",
          "text": [
            "\n",
            "Collected F1-Scores for Text-Focused Classification (BioBert):\n",
            "               Task  F1-Score\n",
            "0   hazard-category  0.943355\n",
            "1  product-category  0.732749\n",
            "2            hazard  0.822197\n",
            "3           product  0.461337\n"
          ]
        }
      ]
    },
    {
      "cell_type": "code",
      "source": [],
      "metadata": {
        "id": "CWmiYaAurKou"
      },
      "execution_count": null,
      "outputs": []
    }
  ]
}